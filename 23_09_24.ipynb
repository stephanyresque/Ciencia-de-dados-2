{
  "nbformat": 4,
  "nbformat_minor": 0,
  "metadata": {
    "colab": {
      "provenance": [],
      "authorship_tag": "ABX9TyMergi/sFrRIRCECm+a8uaZ",
      "include_colab_link": true
    },
    "kernelspec": {
      "name": "python3",
      "display_name": "Python 3"
    },
    "language_info": {
      "name": "python"
    }
  },
  "cells": [
    {
      "cell_type": "markdown",
      "metadata": {
        "id": "view-in-github",
        "colab_type": "text"
      },
      "source": [
        "<a href=\"https://colab.research.google.com/github/stephanyresque/Ciencia-de-dados-2/blob/main/23_09_24.ipynb\" target=\"_parent\"><img src=\"https://colab.research.google.com/assets/colab-badge.svg\" alt=\"Open In Colab\"/></a>"
      ]
    },
    {
      "cell_type": "markdown",
      "source": [
        "# Numpy\n"
      ],
      "metadata": {
        "id": "qXydWQXKuABn"
      }
    },
    {
      "cell_type": "code",
      "source": [
        "import numpy as np"
      ],
      "metadata": {
        "id": "4kXDsrycu-Ln"
      },
      "execution_count": 1,
      "outputs": []
    },
    {
      "cell_type": "code",
      "source": [
        "#Arrays em Numpy -> estrutura básica\n",
        "#devem ser do mesmo tipo -> vetor\n",
        "\n",
        "a = np.array([1,2,3])\n",
        "print(a)"
      ],
      "metadata": {
        "colab": {
          "base_uri": "https://localhost:8080/"
        },
        "id": "BqvqbiS_vDFL",
        "outputId": "78ef3fca-bc7a-4b7b-cfc9-819eb5791a44"
      },
      "execution_count": 3,
      "outputs": [
        {
          "output_type": "stream",
          "name": "stdout",
          "text": [
            "[1 2 3]\n"
          ]
        }
      ]
    },
    {
      "cell_type": "code",
      "source": [
        "#array é diferente de lista!\n",
        "\n",
        "lista = [1,'a', 4.5, 'aaa']\n",
        "print(lista)"
      ],
      "metadata": {
        "colab": {
          "base_uri": "https://localhost:8080/"
        },
        "id": "AwnvB_84vYfG",
        "outputId": "d72c4de0-265c-4c4c-ad12-1ec8f69415b3"
      },
      "execution_count": 4,
      "outputs": [
        {
          "output_type": "stream",
          "name": "stdout",
          "text": [
            "[1, 'a', 4.5, 'aaa']\n"
          ]
        }
      ]
    },
    {
      "cell_type": "code",
      "source": [
        "for elemento in lista:\n",
        "  print(type(elemento))"
      ],
      "metadata": {
        "colab": {
          "base_uri": "https://localhost:8080/"
        },
        "id": "fHceWfQ3vvVj",
        "outputId": "7b9d645d-7809-43d3-c781-ebea1f682af1"
      },
      "execution_count": 5,
      "outputs": [
        {
          "output_type": "stream",
          "name": "stdout",
          "text": [
            "<class 'int'>\n",
            "<class 'str'>\n",
            "<class 'float'>\n",
            "<class 'str'>\n"
          ]
        }
      ]
    },
    {
      "cell_type": "code",
      "source": [
        "print(type(a))"
      ],
      "metadata": {
        "colab": {
          "base_uri": "https://localhost:8080/"
        },
        "id": "4v1qig1Sv08N",
        "outputId": "4b5db479-8ff6-48b3-b2a5-2481c102ec60"
      },
      "execution_count": 6,
      "outputs": [
        {
          "output_type": "stream",
          "name": "stdout",
          "text": [
            "<class 'numpy.ndarray'>\n"
          ]
        }
      ]
    },
    {
      "cell_type": "code",
      "source": [
        "a = np.array(lista)\n",
        "print(a) #converteu tudo pra string -> sempre fará isso se tivermos dados de diferentes tipos no array"
      ],
      "metadata": {
        "colab": {
          "base_uri": "https://localhost:8080/"
        },
        "id": "qved2yINv8Sm",
        "outputId": "dd40577c-48a5-4f29-fcd6-a01efc355406"
      },
      "execution_count": 7,
      "outputs": [
        {
          "output_type": "stream",
          "name": "stdout",
          "text": [
            "['1' 'a' '4.5' 'aaa']\n"
          ]
        }
      ]
    },
    {
      "cell_type": "code",
      "source": [
        "for elemento in a:\n",
        "  print(type(elemento))"
      ],
      "metadata": {
        "colab": {
          "base_uri": "https://localhost:8080/"
        },
        "id": "lGcTt-QDwLlu",
        "outputId": "6f926f78-1442-474c-a7ce-6e01b1324d71"
      },
      "execution_count": 8,
      "outputs": [
        {
          "output_type": "stream",
          "name": "stdout",
          "text": [
            "<class 'numpy.str_'>\n",
            "<class 'numpy.str_'>\n",
            "<class 'numpy.str_'>\n",
            "<class 'numpy.str_'>\n"
          ]
        }
      ]
    },
    {
      "cell_type": "code",
      "source": [
        "print(a.dtype) #dtype -> data type"
      ],
      "metadata": {
        "colab": {
          "base_uri": "https://localhost:8080/"
        },
        "id": "4VizU56EwT4z",
        "outputId": "080cfe17-af5e-4d0c-cde1-0e81d047ea96"
      },
      "execution_count": 9,
      "outputs": [
        {
          "output_type": "stream",
          "name": "stdout",
          "text": [
            "<U32\n"
          ]
        }
      ]
    },
    {
      "cell_type": "markdown",
      "source": [
        "## Operações matemáticas"
      ],
      "metadata": {
        "id": "xkc1P8GDwv8d"
      }
    },
    {
      "cell_type": "code",
      "source": [
        "lista = [1,2,3,4,5]\n",
        "# nova_lista = lista + 1\n",
        "# print(nova_lista) -> dá erro"
      ],
      "metadata": {
        "id": "7zBQttrPwynl"
      },
      "execution_count": 11,
      "outputs": []
    },
    {
      "cell_type": "code",
      "source": [
        "#podemos fazer isso com numpy!\n",
        "\n",
        "a = np.array(lista)\n",
        "novo_array = a + 1 #isso adicionará 1 a todos os elementos\n",
        "print(novo_array)"
      ],
      "metadata": {
        "colab": {
          "base_uri": "https://localhost:8080/"
        },
        "id": "hHTS_Lcuw_I2",
        "outputId": "1bb7588b-1812-4c92-c1d1-0d43882e04b9"
      },
      "execution_count": 12,
      "outputs": [
        {
          "output_type": "stream",
          "name": "stdout",
          "text": [
            "[2 3 4 5 6]\n"
          ]
        }
      ]
    },
    {
      "cell_type": "code",
      "source": [
        "novo_array = a * 10\n",
        "print(novo_array)"
      ],
      "metadata": {
        "colab": {
          "base_uri": "https://localhost:8080/"
        },
        "id": "ny9rrSkTxs_1",
        "outputId": "ae62bca8-b9d9-48dd-915a-ce83bfad084f"
      },
      "execution_count": 13,
      "outputs": [
        {
          "output_type": "stream",
          "name": "stdout",
          "text": [
            "[10 20 30 40 50]\n"
          ]
        }
      ]
    },
    {
      "cell_type": "code",
      "source": [
        "novo_array = a **2\n",
        "print(novo_array)"
      ],
      "metadata": {
        "colab": {
          "base_uri": "https://localhost:8080/"
        },
        "id": "QTOgPbp_x0V9",
        "outputId": "629d7424-fde7-4b95-f362-5cadd24a4335"
      },
      "execution_count": 14,
      "outputs": [
        {
          "output_type": "stream",
          "name": "stdout",
          "text": [
            "[ 1  4  9 16 25]\n"
          ]
        }
      ]
    },
    {
      "cell_type": "code",
      "source": [
        "\n",
        "a = np.array(range(1,10_000_001))\n",
        "soma = np.sum(a)\n",
        "print(soma)"
      ],
      "metadata": {
        "colab": {
          "base_uri": "https://localhost:8080/"
        },
        "id": "bd8lfatHyx8V",
        "outputId": "80f4331b-b958-4f19-d760-0e985fd2a741"
      },
      "execution_count": 16,
      "outputs": [
        {
          "output_type": "stream",
          "name": "stdout",
          "text": [
            "50000005000000\n"
          ]
        }
      ]
    },
    {
      "cell_type": "markdown",
      "source": [
        "## Arrays"
      ],
      "metadata": {
        "id": "yZkpBrh2zs1X"
      }
    },
    {
      "cell_type": "code",
      "source": [
        "a = np.array([1,2,3,4,5])\n",
        "\n",
        "print(a)"
      ],
      "metadata": {
        "colab": {
          "base_uri": "https://localhost:8080/"
        },
        "id": "HSH1gVulzxnR",
        "outputId": "712e44ae-ebba-43db-9d98-50e0f0da3a15"
      },
      "execution_count": 17,
      "outputs": [
        {
          "output_type": "stream",
          "name": "stdout",
          "text": [
            "[1 2 3 4 5]\n"
          ]
        }
      ]
    },
    {
      "cell_type": "code",
      "source": [
        "#indexação e slice\n",
        "\n",
        "print(a[0])"
      ],
      "metadata": {
        "colab": {
          "base_uri": "https://localhost:8080/"
        },
        "id": "zO2zZcwXz_WY",
        "outputId": "777d55a1-3189-40ce-9d15-10730b176511"
      },
      "execution_count": 18,
      "outputs": [
        {
          "output_type": "stream",
          "name": "stdout",
          "text": [
            "1\n"
          ]
        }
      ]
    },
    {
      "cell_type": "code",
      "source": [
        "print(a[1:4])"
      ],
      "metadata": {
        "colab": {
          "base_uri": "https://localhost:8080/"
        },
        "id": "Mph-9EDM0F_K",
        "outputId": "6104aa73-8a26-4dfd-d428-83b9ce1b1fe3"
      },
      "execution_count": 19,
      "outputs": [
        {
          "output_type": "stream",
          "name": "stdout",
          "text": [
            "[2 3 4]\n"
          ]
        }
      ]
    },
    {
      "cell_type": "code",
      "source": [
        "print(a[0:-1])"
      ],
      "metadata": {
        "colab": {
          "base_uri": "https://localhost:8080/"
        },
        "id": "m2nORBYF0NEv",
        "outputId": "9ee57463-7bbf-4cfe-bb03-171d5b22caac"
      },
      "execution_count": 20,
      "outputs": [
        {
          "output_type": "stream",
          "name": "stdout",
          "text": [
            "[1 2 3 4]\n"
          ]
        }
      ]
    },
    {
      "cell_type": "code",
      "source": [
        "print(a[0:-1:2])"
      ],
      "metadata": {
        "colab": {
          "base_uri": "https://localhost:8080/"
        },
        "id": "p_Hhtz8C0Sl5",
        "outputId": "0bba49e7-490e-4adf-bfb0-43d949930ae2"
      },
      "execution_count": 21,
      "outputs": [
        {
          "output_type": "stream",
          "name": "stdout",
          "text": [
            "[1 3]\n"
          ]
        }
      ]
    },
    {
      "cell_type": "code",
      "source": [
        "print(a[0::2])"
      ],
      "metadata": {
        "colab": {
          "base_uri": "https://localhost:8080/"
        },
        "id": "sjd8okRz0Zfk",
        "outputId": "def31158-96fb-42f2-98c8-37739b6b4a12"
      },
      "execution_count": 22,
      "outputs": [
        {
          "output_type": "stream",
          "name": "stdout",
          "text": [
            "[1 3 5]\n"
          ]
        }
      ]
    },
    {
      "cell_type": "code",
      "source": [
        "print(a[::2])"
      ],
      "metadata": {
        "colab": {
          "base_uri": "https://localhost:8080/"
        },
        "id": "VubV9X3y0j1u",
        "outputId": "b71953eb-89a2-4e22-f236-ecbd352f2f1e"
      },
      "execution_count": 23,
      "outputs": [
        {
          "output_type": "stream",
          "name": "stdout",
          "text": [
            "[1 3 5]\n"
          ]
        }
      ]
    },
    {
      "cell_type": "code",
      "source": [
        "print(a[::])"
      ],
      "metadata": {
        "colab": {
          "base_uri": "https://localhost:8080/"
        },
        "id": "ckwbHjhL1Agp",
        "outputId": "873d5612-97d2-443d-dadf-841718ca4475"
      },
      "execution_count": 24,
      "outputs": [
        {
          "output_type": "stream",
          "name": "stdout",
          "text": [
            "[1 2 3 4 5]\n"
          ]
        }
      ]
    },
    {
      "cell_type": "code",
      "source": [
        "print(a[::-1])"
      ],
      "metadata": {
        "colab": {
          "base_uri": "https://localhost:8080/"
        },
        "id": "46tLdE6H1Cqn",
        "outputId": "525a0917-38a3-45ce-d9e5-6de0f8091848"
      },
      "execution_count": 25,
      "outputs": [
        {
          "output_type": "stream",
          "name": "stdout",
          "text": [
            "[5 4 3 2 1]\n"
          ]
        }
      ]
    },
    {
      "cell_type": "markdown",
      "source": [
        "## funções básicas"
      ],
      "metadata": {
        "id": "w_pACsRh2Mzp"
      }
    },
    {
      "cell_type": "code",
      "source": [
        "precos = np.array([10, 13, 15, 30, 45, 50])\n",
        "\n",
        "#atualizar valores!\n",
        "precos = precos * 1.1\n",
        "print(precos)"
      ],
      "metadata": {
        "colab": {
          "base_uri": "https://localhost:8080/"
        },
        "id": "T-lIrf1c2O-N",
        "outputId": "ab377082-9dc1-49a4-c40a-10332ceed542"
      },
      "execution_count": 26,
      "outputs": [
        {
          "output_type": "stream",
          "name": "stdout",
          "text": [
            "[11.  14.3 16.5 33.  49.5 55. ]\n"
          ]
        }
      ]
    },
    {
      "cell_type": "code",
      "source": [
        "#saber uma soma\n",
        "vendas = np.array([300, 120, 380, 50, 15, 8])\n",
        "total_vendas = np.sum(vendas)\n",
        "print(total_vendas)"
      ],
      "metadata": {
        "colab": {
          "base_uri": "https://localhost:8080/"
        },
        "id": "rKjuMgej2jOj",
        "outputId": "3096ffd8-7b0f-44f5-d8ab-384977ea5696"
      },
      "execution_count": 27,
      "outputs": [
        {
          "output_type": "stream",
          "name": "stdout",
          "text": [
            "873\n"
          ]
        }
      ]
    },
    {
      "cell_type": "code",
      "source": [
        "media_vendas = np.mean(vendas)\n",
        "print(media_vendas)"
      ],
      "metadata": {
        "colab": {
          "base_uri": "https://localhost:8080/"
        },
        "id": "ehEIpZuG2r8w",
        "outputId": "0884a32b-3ecf-4ea0-c703-100028adc448"
      },
      "execution_count": 28,
      "outputs": [
        {
          "output_type": "stream",
          "name": "stdout",
          "text": [
            "145.5\n"
          ]
        }
      ]
    },
    {
      "cell_type": "code",
      "source": [
        "#máximos e mínimos\n",
        "print(np.max(vendas))\n",
        "print(np.min(vendas))"
      ],
      "metadata": {
        "colab": {
          "base_uri": "https://localhost:8080/"
        },
        "id": "ZYSVKME721u7",
        "outputId": "c418d2e1-d3ce-4052-db26-a8d3835234df"
      },
      "execution_count": 29,
      "outputs": [
        {
          "output_type": "stream",
          "name": "stdout",
          "text": [
            "380\n",
            "8\n"
          ]
        }
      ]
    },
    {
      "cell_type": "code",
      "source": [
        "#a função sort serve para ordenar elementos\n",
        "vendas_ordenadas = np.sort(vendas)\n",
        "print(vendas_ordenadas)\n"
      ],
      "metadata": {
        "colab": {
          "base_uri": "https://localhost:8080/"
        },
        "id": "-g-fvwpf3FYt",
        "outputId": "bdccc644-17b6-4d47-9d88-f1f478707f9e"
      },
      "execution_count": 31,
      "outputs": [
        {
          "output_type": "stream",
          "name": "stdout",
          "text": [
            "[  8  15  50 120 300 380]\n"
          ]
        }
      ]
    },
    {
      "cell_type": "code",
      "source": [
        "#a função dot serve para calcular o produto escalar de dois arrays\n",
        "\n",
        "quantidade = np.array([30, 50, 10, 20, 10, 5])\n",
        "total = np.dot(precos, quantidade)\n",
        "print(total)"
      ],
      "metadata": {
        "colab": {
          "base_uri": "https://localhost:8080/"
        },
        "id": "E_4aN8Zd3j3g",
        "outputId": "3f8de590-aa07-49f0-81cb-981a3d297474"
      },
      "execution_count": 32,
      "outputs": [
        {
          "output_type": "stream",
          "name": "stdout",
          "text": [
            "2640.0\n"
          ]
        }
      ]
    },
    {
      "cell_type": "code",
      "source": [
        "print(quantidade * precos)"
      ],
      "metadata": {
        "colab": {
          "base_uri": "https://localhost:8080/"
        },
        "id": "t_0IYFUp4Q3o",
        "outputId": "3cc307d8-dd43-4417-928e-9b9084c5ff0c"
      },
      "execution_count": 33,
      "outputs": [
        {
          "output_type": "stream",
          "name": "stdout",
          "text": [
            "[330. 715. 165. 660. 495. 275.]\n"
          ]
        }
      ]
    },
    {
      "cell_type": "code",
      "source": [
        "print(np.sum(quantidade * precos))\n"
      ],
      "metadata": {
        "colab": {
          "base_uri": "https://localhost:8080/"
        },
        "id": "Fz4jQ52u4XpL",
        "outputId": "7e6afcb9-0bff-4186-d89c-b3130fb285b2"
      },
      "execution_count": 34,
      "outputs": [
        {
          "output_type": "stream",
          "name": "stdout",
          "text": [
            "2640.0\n"
          ]
        }
      ]
    },
    {
      "cell_type": "markdown",
      "source": [
        "## exercícios"
      ],
      "metadata": {
        "id": "0F2T9Xpf46hO"
      }
    },
    {
      "cell_type": "code",
      "source": [
        "#exe1\n",
        "\n",
        "dados = [127, 90, 201, 150, 210, 220, 115]\n",
        "\n",
        "media_vendas = np.mean(dados)\n",
        "print(f\"Média de vendas: R${media_vendas:.2f}\")"
      ],
      "metadata": {
        "colab": {
          "base_uri": "https://localhost:8080/"
        },
        "id": "ehageaPO48R-",
        "outputId": "2abf8263-c35b-4d0b-efee-8fce982aa3df"
      },
      "execution_count": 36,
      "outputs": [
        {
          "output_type": "stream",
          "name": "stdout",
          "text": [
            "Média de vendas: R$159.00\n"
          ]
        }
      ]
    },
    {
      "cell_type": "code",
      "source": [
        "#exe 2\n",
        "\n",
        "precos = np.array([31.40, 31.25, 30.95, 31.20, 31.60, 31.50])\n",
        "\n",
        "preco_max = np.max(precos)\n",
        "preco_min = np.min(precos)\n",
        "print(f\"Preço máximo: R${preco_max:.2f}\")\n",
        "print(f\"Preço mínimo: R${preco_min:.2f}\")"
      ],
      "metadata": {
        "colab": {
          "base_uri": "https://localhost:8080/"
        },
        "id": "5_-4vuUS5gye",
        "outputId": "24030a26-bd84-4c1b-a59f-eea6dc18f1fe"
      },
      "execution_count": 37,
      "outputs": [
        {
          "output_type": "stream",
          "name": "stdout",
          "text": [
            "Preço máximo: R$31.60\n",
            "Preço mínimo: R$30.95\n"
          ]
        }
      ]
    },
    {
      "cell_type": "code",
      "source": [
        "#variação\n",
        "\n",
        "variacao = preco_max - preco_min\n",
        "print(f\"Variação: R${variacao:.2f}\")\n"
      ],
      "metadata": {
        "colab": {
          "base_uri": "https://localhost:8080/"
        },
        "id": "A-L6rkAg5wkc",
        "outputId": "fb7d1114-cfeb-4957-ae86-aa293a499541"
      },
      "execution_count": 40,
      "outputs": [
        {
          "output_type": "stream",
          "name": "stdout",
          "text": [
            "Variação: R$0.65\n"
          ]
        }
      ]
    },
    {
      "cell_type": "code",
      "source": [
        "#exe 2\n",
        "\n",
        "quantidades = np.array([5, 3, 2])\n",
        "precos = np.array([100, 200, 50])\n",
        "\n",
        "total = np.dot(quantidades, precos)\n",
        "print(f\"Total: R${total:.2f}\")"
      ],
      "metadata": {
        "colab": {
          "base_uri": "https://localhost:8080/"
        },
        "id": "bC6pdVLg6BiV",
        "outputId": "1cb175f3-d01c-4807-afdb-d4d4e4cc3ab3"
      },
      "execution_count": 39,
      "outputs": [
        {
          "output_type": "stream",
          "name": "stdout",
          "text": [
            "Total: R$1200.00\n"
          ]
        }
      ]
    },
    {
      "cell_type": "markdown",
      "source": [
        "## Aleatórios e estatística"
      ],
      "metadata": {
        "id": "JwG88kKg8EY_"
      }
    },
    {
      "cell_type": "code",
      "source": [
        "#gerando números aleatórios com numpy!\n",
        "\n",
        "#criar um objeto gerador -> padrão\n",
        "rng = np.random.default_rng()\n",
        "print(rng)"
      ],
      "metadata": {
        "colab": {
          "base_uri": "https://localhost:8080/"
        },
        "id": "YG6BYBGw8iLg",
        "outputId": "df32e0c5-e204-4643-97b8-41722159c556"
      },
      "execution_count": 42,
      "outputs": [
        {
          "output_type": "stream",
          "name": "stdout",
          "text": [
            "Generator(PCG64)\n"
          ]
        }
      ]
    },
    {
      "cell_type": "code",
      "source": [
        "numero_aleatorio = rng.random()\n",
        "print(numero_aleatorio) #sempre entre 0 e 1"
      ],
      "metadata": {
        "colab": {
          "base_uri": "https://localhost:8080/"
        },
        "id": "p5hy3eLw85uZ",
        "outputId": "071062a7-d770-44fa-d421-6f4374c40fbe"
      },
      "execution_count": 45,
      "outputs": [
        {
          "output_type": "stream",
          "name": "stdout",
          "text": [
            "0.20210215525170583\n"
          ]
        }
      ]
    },
    {
      "cell_type": "code",
      "source": [
        "array_aleatorio = np.array(rng.random(5))\n",
        "print(array_aleatorio)"
      ],
      "metadata": {
        "colab": {
          "base_uri": "https://localhost:8080/"
        },
        "id": "pGl0fYPF9U7y",
        "outputId": "022d017b-851f-4e45-d7e3-66d47ac0bec2"
      },
      "execution_count": 46,
      "outputs": [
        {
          "output_type": "stream",
          "name": "stdout",
          "text": [
            "[0.62592569 0.53230308 0.61663581 0.31692426 0.73303876]\n"
          ]
        }
      ]
    },
    {
      "cell_type": "code",
      "source": [
        "rng = np.random.default_rng(seed=27) #crio uma semente ->mantenho os mesmos valores mesmo rodando dnv\n",
        "dados_vendas = rng.integers(low=50, high = 200, size=30)\n",
        "print(dados_vendas)\n",
        "\n",
        "#agr eu tenho 30 valores aleatórios de inteiros de 50 a 200"
      ],
      "metadata": {
        "colab": {
          "base_uri": "https://localhost:8080/"
        },
        "id": "QKCD37AZ9mY6",
        "outputId": "09aeb517-5d7b-49f4-cae3-bcddcd47513a"
      },
      "execution_count": 52,
      "outputs": [
        {
          "output_type": "stream",
          "name": "stdout",
          "text": [
            "[ 50 154  82  97 197  68 139  98 115 189  79 168 161  51 185  79  97  93\n",
            " 197 191  94 110 146  77 109 179  51 186  69  95]\n"
          ]
        }
      ]
    },
    {
      "cell_type": "code",
      "source": [
        "np.max(dados_vendas)"
      ],
      "metadata": {
        "colab": {
          "base_uri": "https://localhost:8080/"
        },
        "id": "Hx84SqGH-Nln",
        "outputId": "bfefcba2-a92e-4794-809a-a2cb9db6d906"
      },
      "execution_count": 53,
      "outputs": [
        {
          "output_type": "execute_result",
          "data": {
            "text/plain": [
              "197"
            ]
          },
          "metadata": {},
          "execution_count": 53
        }
      ]
    },
    {
      "cell_type": "code",
      "source": [
        "#dia de venda mais alto\n",
        "np.argmax(dados_vendas) #retorna a posição"
      ],
      "metadata": {
        "colab": {
          "base_uri": "https://localhost:8080/"
        },
        "id": "6Y69t4i5-x2P",
        "outputId": "e6173216-3396-4a12-fa14-ff1575a04e80"
      },
      "execution_count": 55,
      "outputs": [
        {
          "output_type": "execute_result",
          "data": {
            "text/plain": [
              "4"
            ]
          },
          "metadata": {},
          "execution_count": 55
        }
      ]
    },
    {
      "cell_type": "code",
      "source": [
        "#dia de venda mais baixo\n",
        "np.argmin(dados_vendas)"
      ],
      "metadata": {
        "colab": {
          "base_uri": "https://localhost:8080/"
        },
        "id": "SgU24d3y-_Ju",
        "outputId": "98f5047a-129f-4275-9b2d-be2d043cd401"
      },
      "execution_count": 56,
      "outputs": [
        {
          "output_type": "execute_result",
          "data": {
            "text/plain": [
              "0"
            ]
          },
          "metadata": {},
          "execution_count": 56
        }
      ]
    },
    {
      "cell_type": "code",
      "source": [
        "np.median(dados_vendas)"
      ],
      "metadata": {
        "colab": {
          "base_uri": "https://localhost:8080/"
        },
        "id": "LX1RkFJw_P6X",
        "outputId": "9298bfe1-c215-4791-b09e-00a7afde72a5"
      },
      "execution_count": 57,
      "outputs": [
        {
          "output_type": "execute_result",
          "data": {
            "text/plain": [
              "103.5"
            ]
          },
          "metadata": {},
          "execution_count": 57
        }
      ]
    },
    {
      "cell_type": "code",
      "source": [
        "np.percentile(dados_vendas, 25), np.percentile(dados_vendas, 50), np.percentile(dados_vendas, 75)"
      ],
      "metadata": {
        "colab": {
          "base_uri": "https://localhost:8080/"
        },
        "id": "LETXqeim_Un3",
        "outputId": "1ad91419-52e7-4774-fd6c-64d9ac2e5be2"
      },
      "execution_count": 60,
      "outputs": [
        {
          "output_type": "execute_result",
          "data": {
            "text/plain": [
              "(79.75, 103.5, 166.25)"
            ]
          },
          "metadata": {},
          "execution_count": 60
        }
      ]
    },
    {
      "cell_type": "code",
      "source": [
        "np.std(dados_vendas)"
      ],
      "metadata": {
        "colab": {
          "base_uri": "https://localhost:8080/"
        },
        "id": "-U0uPhmZ_iBW",
        "outputId": "b83d16f9-0854-45e8-eaa6-dd33d04796e1"
      },
      "execution_count": 61,
      "outputs": [
        {
          "output_type": "execute_result",
          "data": {
            "text/plain": [
              "48.338666372446255"
            ]
          },
          "metadata": {},
          "execution_count": 61
        }
      ]
    },
    {
      "cell_type": "code",
      "source": [
        "np.var(dados_vendas)"
      ],
      "metadata": {
        "colab": {
          "base_uri": "https://localhost:8080/"
        },
        "id": "Iu14YITA_lLx",
        "outputId": "a9ba40fa-8890-4c3e-9796-bc4b66083918"
      },
      "execution_count": 62,
      "outputs": [
        {
          "output_type": "execute_result",
          "data": {
            "text/plain": [
              "2336.6266666666666"
            ]
          },
          "metadata": {},
          "execution_count": 62
        }
      ]
    }
  ]
}