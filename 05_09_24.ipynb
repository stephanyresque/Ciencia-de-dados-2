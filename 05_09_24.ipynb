{
  "nbformat": 4,
  "nbformat_minor": 0,
  "metadata": {
    "colab": {
      "provenance": [],
      "authorship_tag": "ABX9TyPfgR8DnXbsYW3NQnk/pCJC",
      "include_colab_link": true
    },
    "kernelspec": {
      "name": "python3",
      "display_name": "Python 3"
    },
    "language_info": {
      "name": "python"
    }
  },
  "cells": [
    {
      "cell_type": "markdown",
      "metadata": {
        "id": "view-in-github",
        "colab_type": "text"
      },
      "source": [
        "<a href=\"https://colab.research.google.com/github/stephanyresque/Ciencia-de-dados-2/blob/main/05_09_24.ipynb\" target=\"_parent\"><img src=\"https://colab.research.google.com/assets/colab-badge.svg\" alt=\"Open In Colab\"/></a>"
      ]
    },
    {
      "cell_type": "code",
      "execution_count": 1,
      "metadata": {
        "id": "tjFeBXEALWXy"
      },
      "outputs": [],
      "source": [
        "vendas = (120, 130, 150, 140, 135)"
      ]
    },
    {
      "cell_type": "code",
      "source": [
        "venda_total = vendas[1] + vendas[2]\n",
        "venda_total"
      ],
      "metadata": {
        "colab": {
          "base_uri": "https://localhost:8080/"
        },
        "id": "1mmXoQTBL0TA",
        "outputId": "5851ea5b-c44a-4d6d-a9c8-bf7695c7342a"
      },
      "execution_count": 2,
      "outputs": [
        {
          "output_type": "execute_result",
          "data": {
            "text/plain": [
              "280"
            ]
          },
          "metadata": {},
          "execution_count": 2
        }
      ]
    },
    {
      "cell_type": "code",
      "source": [
        "funcionarios = [\"Ana\", \"Marcos\", \"Felipe\", \"José\", \"Mariana\"]\n",
        "funcionarios_escolhidos = funcionarios[1:4]\n",
        "funcionarios_escolhidos\n",
        "#"
      ],
      "metadata": {
        "colab": {
          "base_uri": "https://localhost:8080/"
        },
        "id": "fBiEZfbyL9eb",
        "outputId": "746d3ac0-7886-471b-faad-9f1ceca57def"
      },
      "execution_count": 3,
      "outputs": [
        {
          "output_type": "execute_result",
          "data": {
            "text/plain": [
              "['Marcos', 'Felipe', 'José']"
            ]
          },
          "metadata": {},
          "execution_count": 3
        }
      ]
    },
    {
      "cell_type": "code",
      "source": [
        "pares = [(\"Ana\", \"Vendas\"), (\"Luís\", \"TI\"), (\"Clara\", \"RH\")]\n",
        "dicionario = dict(pares)\n",
        "dicionario"
      ],
      "metadata": {
        "colab": {
          "base_uri": "https://localhost:8080/"
        },
        "id": "Sm6OzluyMX2e",
        "outputId": "1e0c618d-184e-48e3-9453-fe4d35d2b049"
      },
      "execution_count": 4,
      "outputs": [
        {
          "output_type": "execute_result",
          "data": {
            "text/plain": [
              "{'Ana': 'Vendas', 'Luís': 'TI', 'Clara': 'RH'}"
            ]
          },
          "metadata": {},
          "execution_count": 4
        }
      ]
    },
    {
      "cell_type": "code",
      "source": [
        "emails = [\"contato1@empresa.com\", \"contato2@empresa.com\"]"
      ],
      "metadata": {
        "id": "uAmfa_4zMmA_"
      },
      "execution_count": 5,
      "outputs": []
    },
    {
      "cell_type": "code",
      "source": [
        "emails.append('novo.contato@empresa.com')\n",
        "emails"
      ],
      "metadata": {
        "colab": {
          "base_uri": "https://localhost:8080/"
        },
        "id": "8jbYl0f4MySn",
        "outputId": "947004c0-a646-4fd8-b13f-b56323e609db"
      },
      "execution_count": 6,
      "outputs": [
        {
          "output_type": "execute_result",
          "data": {
            "text/plain": [
              "['contato1@empresa.com', 'contato2@empresa.com', 'novo.contato@empresa.com']"
            ]
          },
          "metadata": {},
          "execution_count": 6
        }
      ]
    },
    {
      "cell_type": "code",
      "source": [
        "emails.remove('contato2@empresa.com')\n",
        "emails"
      ],
      "metadata": {
        "colab": {
          "base_uri": "https://localhost:8080/"
        },
        "id": "SlM3zkaBM8cb",
        "outputId": "437e52d1-6add-466d-96f7-525c4e1b1103"
      },
      "execution_count": 7,
      "outputs": [
        {
          "output_type": "execute_result",
          "data": {
            "text/plain": [
              "['contato1@empresa.com', 'novo.contato@empresa.com']"
            ]
          },
          "metadata": {},
          "execution_count": 7
        }
      ]
    },
    {
      "cell_type": "code",
      "source": [
        "itens_vendidos = [\"caneta\", \"lápis\", \"caneta\", \"borracha\", \"lápis\", \"caneta\"]"
      ],
      "metadata": {
        "id": "-UouIwSCNLJE"
      },
      "execution_count": 8,
      "outputs": []
    },
    {
      "cell_type": "code",
      "source": [
        "itens_vendidos.count('caneta'), itens_vendidos.count('lápis'), itens_vendidos.count('borracha')"
      ],
      "metadata": {
        "colab": {
          "base_uri": "https://localhost:8080/"
        },
        "id": "WEwW48p8NMJw",
        "outputId": "d21271f6-8b99-450c-c39a-601674a06369"
      },
      "execution_count": 13,
      "outputs": [
        {
          "output_type": "execute_result",
          "data": {
            "text/plain": [
              "(3, 2, 1)"
            ]
          },
          "metadata": {},
          "execution_count": 13
        }
      ]
    },
    {
      "cell_type": "code",
      "source": [
        "dic = {\n",
        "    'caneta': itens_vendidos.count('caneta'),\n",
        "    'lápis': itens_vendidos.count('lápis'),\n",
        "    'borracha': itens_vendidos.count('borracha')\n",
        "}\n",
        "\n",
        "dic"
      ],
      "metadata": {
        "colab": {
          "base_uri": "https://localhost:8080/"
        },
        "id": "re8hI-O1NriI",
        "outputId": "acc9bbb6-9c26-443c-e169-16800e1b5dd3"
      },
      "execution_count": 15,
      "outputs": [
        {
          "output_type": "execute_result",
          "data": {
            "text/plain": [
              "{'caneta': 3, 'lápis': 2, 'borracha': 1}"
            ]
          },
          "metadata": {},
          "execution_count": 15
        }
      ]
    },
    {
      "cell_type": "code",
      "source": [
        "dados = [\"Ana\", 25, \"Luís\", 30, \"Clara\", 28]"
      ],
      "metadata": {
        "id": "8_irsY8YQILx"
      },
      "execution_count": 16,
      "outputs": []
    },
    {
      "cell_type": "code",
      "source": [
        "dados_nomes = dados[::2]\n",
        "dados_idades = dados[1::2]\n",
        "#dados_nomes, dados_idades\n",
        "\n",
        "combinacao = zip(dados_nomes, dados_idades)\n",
        "print(list(combinacao))"
      ],
      "metadata": {
        "colab": {
          "base_uri": "https://localhost:8080/"
        },
        "id": "3ONQisB_QSTC",
        "outputId": "390107ac-6e8f-48c2-ccc3-51bbfad3c52f"
      },
      "execution_count": 19,
      "outputs": [
        {
          "output_type": "stream",
          "name": "stdout",
          "text": [
            "[('Ana', 25), ('Luís', 30), ('Clara', 28)]\n"
          ]
        }
      ]
    },
    {
      "cell_type": "code",
      "source": [
        "departamento_a = [\"Ana\", \"Luís\", \"Clara\"]\n",
        "departamento_b = [\"Marcos\", \"Jonas\", \"Mariana\", \"Ana\"]"
      ],
      "metadata": {
        "id": "cSry9q5ARfup"
      },
      "execution_count": 20,
      "outputs": []
    },
    {
      "cell_type": "code",
      "source": [
        "funcionarios_departametos = departamento_a + departamento_b\n",
        "funcionarios_departametos"
      ],
      "metadata": {
        "colab": {
          "base_uri": "https://localhost:8080/"
        },
        "id": "wrVeI9L9Rwv6",
        "outputId": "b12c9854-bfdf-4a7f-fce5-0654164dd864"
      },
      "execution_count": 21,
      "outputs": [
        {
          "output_type": "execute_result",
          "data": {
            "text/plain": [
              "['Ana', 'Luís', 'Clara', 'Marcos', 'Jonas', 'Mariana', 'Ana']"
            ]
          },
          "metadata": {},
          "execution_count": 21
        }
      ]
    },
    {
      "cell_type": "code",
      "source": [
        "funcionarios_departametos = set(funcionarios_departametos)\n",
        "funcionarios_departametos"
      ],
      "metadata": {
        "colab": {
          "base_uri": "https://localhost:8080/"
        },
        "id": "pUyD7ntnSJqn",
        "outputId": "1e7fd255-2d24-4ab9-adb2-3eafcb6bef73"
      },
      "execution_count": 22,
      "outputs": [
        {
          "output_type": "execute_result",
          "data": {
            "text/plain": [
              "{'Ana', 'Clara', 'Jonas', 'Luís', 'Marcos', 'Mariana'}"
            ]
          },
          "metadata": {},
          "execution_count": 22
        }
      ]
    },
    {
      "cell_type": "markdown",
      "source": [
        "# Formatação de Strings"
      ],
      "metadata": {
        "id": "WmuDDJwTUZKJ"
      }
    },
    {
      "cell_type": "markdown",
      "source": [
        "## Marcador de posição"
      ],
      "metadata": {
        "id": "TI0fyn0EU0qx"
      }
    },
    {
      "cell_type": "code",
      "source": [
        "'Um texto será colocado %s' % 'aqui'"
      ],
      "metadata": {
        "colab": {
          "base_uri": "https://localhost:8080/",
          "height": 36
        },
        "id": "SLcBsXHrU3cQ",
        "outputId": "821d3444-c603-4906-b30c-39b12d48fa4c"
      },
      "execution_count": 23,
      "outputs": [
        {
          "output_type": "execute_result",
          "data": {
            "text/plain": [
              "'Um texto será colocado aqui'"
            ],
            "application/vnd.google.colaboratory.intrinsic+json": {
              "type": "string"
            }
          },
          "metadata": {},
          "execution_count": 23
        }
      ]
    },
    {
      "cell_type": "code",
      "source": [
        "print('Um texto será colocado %s' % 'aqui')"
      ],
      "metadata": {
        "colab": {
          "base_uri": "https://localhost:8080/"
        },
        "id": "0H7RshHpVAyI",
        "outputId": "39b059e6-ce23-4559-c85e-ff42cb041618"
      },
      "execution_count": 24,
      "outputs": [
        {
          "output_type": "stream",
          "name": "stdout",
          "text": [
            "Um texto será colocado aqui\n"
          ]
        }
      ]
    },
    {
      "cell_type": "code",
      "source": [
        "'Um texto será colocado %s e %s' % ('aqui', 'mais aqui')"
      ],
      "metadata": {
        "colab": {
          "base_uri": "https://localhost:8080/",
          "height": 36
        },
        "id": "sWAqXWI4VDKv",
        "outputId": "aa5452a1-86c4-42d4-d853-67c3b56ea91a"
      },
      "execution_count": 26,
      "outputs": [
        {
          "output_type": "execute_result",
          "data": {
            "text/plain": [
              "'Um texto será colocado aqui e mais aqui'"
            ],
            "application/vnd.google.colaboratory.intrinsic+json": {
              "type": "string"
            }
          },
          "metadata": {},
          "execution_count": 26
        }
      ]
    },
    {
      "cell_type": "markdown",
      "source": [
        "## Números"
      ],
      "metadata": {
        "id": "Q1w7W5h6Va3w"
      }
    },
    {
      "cell_type": "code",
      "source": [
        "num = 13.74\n",
        "\n",
        "print('Números como %s são convertidos para string' % num)"
      ],
      "metadata": {
        "colab": {
          "base_uri": "https://localhost:8080/"
        },
        "id": "9dx9v3YtVdfA",
        "outputId": "2a82b0f1-71e0-4116-c3eb-cd5de59ba78e"
      },
      "execution_count": 27,
      "outputs": [
        {
          "output_type": "stream",
          "name": "stdout",
          "text": [
            "Números como 13.74 são convertidos para string\n"
          ]
        }
      ]
    },
    {
      "cell_type": "code",
      "source": [
        "print('Também podem ser representados como inteiros: %d; repare que sem arredondar' % num)"
      ],
      "metadata": {
        "colab": {
          "base_uri": "https://localhost:8080/"
        },
        "id": "S3ScAfgiVtTl",
        "outputId": "b8d46ae8-f2a1-4170-8bcf-0a841f5d4ab1"
      },
      "execution_count": 29,
      "outputs": [
        {
          "output_type": "stream",
          "name": "stdout",
          "text": [
            "Também podem ser representados como inteiros: 13; repare que sem arredondar\n"
          ]
        }
      ]
    },
    {
      "cell_type": "code",
      "source": [
        "print('Mostrando o sinal em inteiros: %+d' % num)"
      ],
      "metadata": {
        "colab": {
          "base_uri": "https://localhost:8080/"
        },
        "id": "QeaDnLjZV5qL",
        "outputId": "8b4bd423-8413-4df2-a67e-555f67073d30"
      },
      "execution_count": 30,
      "outputs": [
        {
          "output_type": "stream",
          "name": "stdout",
          "text": [
            "Mostrando o sinal em inteiros: +13\n"
          ]
        }
      ]
    },
    {
      "cell_type": "code",
      "source": [
        "print('Mostrando o sinal em float: %+f' % num)"
      ],
      "metadata": {
        "colab": {
          "base_uri": "https://localhost:8080/"
        },
        "id": "AIjB1lUHWPvC",
        "outputId": "c91e5693-2d75-4554-b7d4-e13dc413beb5"
      },
      "execution_count": 31,
      "outputs": [
        {
          "output_type": "stream",
          "name": "stdout",
          "text": [
            "Mostrando o sinal em float: +13.740000\n"
          ]
        }
      ]
    },
    {
      "cell_type": "code",
      "source": [
        "print('Mínimo de 7 caracteres com 2 casas decimais %7.2f' % num)"
      ],
      "metadata": {
        "colab": {
          "base_uri": "https://localhost:8080/"
        },
        "id": "Q01V_9QYWY5I",
        "outputId": "34b0f237-ae44-45bd-ebab-0c93d28886b0"
      },
      "execution_count": 32,
      "outputs": [
        {
          "output_type": "stream",
          "name": "stdout",
          "text": [
            "Mínimo de 7 caracteres com 2 casas decimais   13.74\n"
          ]
        }
      ]
    },
    {
      "cell_type": "code",
      "source": [
        "print('Mínimo de 1 caracter com 0 casas decimais %1.0f' % num)"
      ],
      "metadata": {
        "colab": {
          "base_uri": "https://localhost:8080/"
        },
        "id": "YKi2YMIRW1Kl",
        "outputId": "aeec355c-e73f-4a98-9915-fcc374df975f"
      },
      "execution_count": 33,
      "outputs": [
        {
          "output_type": "stream",
          "name": "stdout",
          "text": [
            "Mínimo de 1 caracter com 0 casas decimais 14\n"
          ]
        }
      ]
    },
    {
      "cell_type": "markdown",
      "source": [
        "observe o arredondamento"
      ],
      "metadata": {
        "id": "8n4S32BaXGRZ"
      }
    },
    {
      "cell_type": "code",
      "source": [
        "print('Mínimo de 1 caracter com 5 casas decimais %1.5f' % num)\n",
        "print('Mínimo de 10 caracter com 2 casas decimais %10.2f' % num)\n",
        "print('Mínimo de 10 caracter com 2 casas decimais com sinal %+10.2f' % num)"
      ],
      "metadata": {
        "colab": {
          "base_uri": "https://localhost:8080/"
        },
        "id": "6w1XKpJTW_09",
        "outputId": "2ccbcd2b-e346-4c90-8670-ad62f709b933"
      },
      "execution_count": 39,
      "outputs": [
        {
          "output_type": "stream",
          "name": "stdout",
          "text": [
            "Mínimo de 1 caracter com 5 casas decimais 13.74000\n",
            "Mínimo de 10 caracter com 2 casas decimais      13.74\n",
            "Mínimo de 10 caracter com 2 casas decimais com sinal     +13.74\n"
          ]
        }
      ]
    },
    {
      "cell_type": "markdown",
      "source": [
        "## Método format"
      ],
      "metadata": {
        "id": "_889yAXfXk7R"
      }
    },
    {
      "cell_type": "code",
      "source": [
        "'Vai entrar um texto {}'.format('aqui')"
      ],
      "metadata": {
        "colab": {
          "base_uri": "https://localhost:8080/",
          "height": 36
        },
        "id": "CYDqhKDqXo1B",
        "outputId": "a52ee0d7-618d-421a-96f0-76190ec209f8"
      },
      "execution_count": 40,
      "outputs": [
        {
          "output_type": "execute_result",
          "data": {
            "text/plain": [
              "'Vai entrar um texto aqui'"
            ],
            "application/vnd.google.colaboratory.intrinsic+json": {
              "type": "string"
            }
          },
          "metadata": {},
          "execution_count": 40
        }
      ]
    },
    {
      "cell_type": "code",
      "source": [
        "'Vai entrar um texto {} e {}'.format('aqui', 'mais qui')"
      ],
      "metadata": {
        "colab": {
          "base_uri": "https://localhost:8080/",
          "height": 36
        },
        "id": "TsGo2dVBYBZZ",
        "outputId": "b8bb35f7-a46e-4794-eb0b-5e1da39d673e"
      },
      "execution_count": 41,
      "outputs": [
        {
          "output_type": "execute_result",
          "data": {
            "text/plain": [
              "'Vai entrar um texto aqui e mais qui'"
            ],
            "application/vnd.google.colaboratory.intrinsic+json": {
              "type": "string"
            }
          },
          "metadata": {},
          "execution_count": 41
        }
      ]
    },
    {
      "cell_type": "code",
      "source": [
        "'Controlando {2} {1} {0}'.format('!', 'ordem', 'a')"
      ],
      "metadata": {
        "colab": {
          "base_uri": "https://localhost:8080/",
          "height": 36
        },
        "id": "SbxTYZ7WYIdQ",
        "outputId": "b2b92afc-a846-423c-8c5c-8e0be45e777f"
      },
      "execution_count": 43,
      "outputs": [
        {
          "output_type": "execute_result",
          "data": {
            "text/plain": [
              "'Controlando a ordem !'"
            ],
            "application/vnd.google.colaboratory.intrinsic+json": {
              "type": "string"
            }
          },
          "metadata": {},
          "execution_count": 43
        }
      ]
    },
    {
      "cell_type": "code",
      "source": [
        "print('Primeiro: {a}, segundo: {b}, terceiro: {c}'.format(a=1,b='str2',c=12.6))"
      ],
      "metadata": {
        "colab": {
          "base_uri": "https://localhost:8080/"
        },
        "id": "6MUFvq5SYdlQ",
        "outputId": "bfbd2a7a-58b6-4165-862d-9d7caa64c840"
      },
      "execution_count": 44,
      "outputs": [
        {
          "output_type": "stream",
          "name": "stdout",
          "text": [
            "Primeiro: 1, segundo: str2, terceiro: 12.6\n"
          ]
        }
      ]
    },
    {
      "cell_type": "code",
      "source": [
        "print('A variável {p} pode ser reutilizada: {p}'.format(p='p!'))\n",
        ""
      ],
      "metadata": {
        "colab": {
          "base_uri": "https://localhost:8080/"
        },
        "id": "ykI047O5Ys4r",
        "outputId": "fe746266-ee04-48b2-d184-61fe68513983"
      },
      "execution_count": 45,
      "outputs": [
        {
          "output_type": "stream",
          "name": "stdout",
          "text": [
            "A variável p! pode ser reutilizada: p!\n"
          ]
        }
      ]
    },
    {
      "cell_type": "code",
      "source": [
        "tupla = (1,2,3)\n",
        "print('Primeiro: {}, segundo: {}, terceiro: {}'.format(*tupla)) #unpacking"
      ],
      "metadata": {
        "colab": {
          "base_uri": "https://localhost:8080/"
        },
        "id": "KT31A06VZZ3b",
        "outputId": "9b9b972c-a297-4463-d01d-7106d3027023"
      },
      "execution_count": 46,
      "outputs": [
        {
          "output_type": "stream",
          "name": "stdout",
          "text": [
            "Primeiro: 1, segundo: 2, terceiro: 3\n"
          ]
        }
      ]
    },
    {
      "cell_type": "code",
      "source": [
        "pessoa = {\n",
        "    'nome':'Stephany',\n",
        "    'área':'TI'\n",
        "}\n",
        "print('Olá, {nome}. Você é da área de {área}'.format(**pessoa))"
      ],
      "metadata": {
        "colab": {
          "base_uri": "https://localhost:8080/"
        },
        "id": "CrtZKkJnZy7L",
        "outputId": "f4056cd7-aa6c-4e7a-cb9c-1615245659f6"
      },
      "execution_count": 48,
      "outputs": [
        {
          "output_type": "stream",
          "name": "stdout",
          "text": [
            "Olá, Stephany. Você é da área de TI\n"
          ]
        }
      ]
    },
    {
      "cell_type": "code",
      "source": [
        "print(\"{0:16} | {1:20}\".format('nome', 'especialidade'))\n",
        "print(\"{0:16} | {1:20}\".format('Stephany', 'Ciência de Dados'))\n",
        "print(\"{0:16} | {1:20}\".format('Nathália', 'Branding'))\n"
      ],
      "metadata": {
        "colab": {
          "base_uri": "https://localhost:8080/"
        },
        "id": "BE9xDLtdaNh4",
        "outputId": "fa046899-bf8e-42bb-eec9-48cc3708661c"
      },
      "execution_count": 52,
      "outputs": [
        {
          "output_type": "stream",
          "name": "stdout",
          "text": [
            "nome             | especialidade       \n",
            "Stephany         | Ciência de Dados    \n",
            "Nathália         | Branding            \n"
          ]
        }
      ]
    },
    {
      "cell_type": "code",
      "source": [
        "print('{0:<8} | {1:^8} | {2:>8}'.format('Esquerda', 'Centro', 'Direita'))\n",
        "print('{0:<8} | {1:^8} | {2:>8}'.format(11, 22, 33))\n"
      ],
      "metadata": {
        "colab": {
          "base_uri": "https://localhost:8080/"
        },
        "id": "roqoDhPdbBHx",
        "outputId": "2e4d246e-422b-478a-ad7d-adedd6a52e11"
      },
      "execution_count": 56,
      "outputs": [
        {
          "output_type": "stream",
          "name": "stdout",
          "text": [
            "Esquerda |  Centro  |  Direita\n",
            "11       |    22    |       33\n"
          ]
        }
      ]
    },
    {
      "cell_type": "code",
      "source": [
        "print('{0:=<8} | {1:-^8} | {2:.>8}'.format('Esquerda', 'Centro', 'Direita'))\n",
        "print('{0:=<8} | {1:-^8} | {2:.>8}'.format(11, 22, 33))"
      ],
      "metadata": {
        "colab": {
          "base_uri": "https://localhost:8080/"
        },
        "id": "kbXF_92db0U4",
        "outputId": "576f04e3-76aa-4a89-87bb-68dbb3389a09"
      },
      "execution_count": 57,
      "outputs": [
        {
          "output_type": "stream",
          "name": "stdout",
          "text": [
            "Esquerda | -Centro- | .Direita\n",
            "11====== | ---22--- | ......33\n"
          ]
        }
      ]
    },
    {
      "cell_type": "code",
      "source": [
        "print('\"{:{align}{width}}\"'.format('teste', align='^', width='10'))"
      ],
      "metadata": {
        "colab": {
          "base_uri": "https://localhost:8080/"
        },
        "id": "WH3-8MPBcKMa",
        "outputId": "da1fb5e7-4488-43c7-9044-3a92a9dc97ba"
      },
      "execution_count": 59,
      "outputs": [
        {
          "output_type": "stream",
          "name": "stdout",
          "text": [
            "\"  teste   \"\n"
          ]
        }
      ]
    },
    {
      "cell_type": "code",
      "source": [
        "print('10 caracteres e 2 casas decimais: {:10.2f}'.format(13.579))"
      ],
      "metadata": {
        "colab": {
          "base_uri": "https://localhost:8080/"
        },
        "id": "9W2zFSm5eQjS",
        "outputId": "d140a6bc-4209-4728-e047-dd27541af6a2"
      },
      "execution_count": 60,
      "outputs": [
        {
          "output_type": "stream",
          "name": "stdout",
          "text": [
            "10 caracteres e 2 casas decimais:      13.58\n"
          ]
        }
      ]
    },
    {
      "cell_type": "code",
      "source": [
        "print('10 caracteres e 2 casas decimais: {:{sign}{width}.{prec}f}'.format(13.579, width=10, prec=2, sign='+'))"
      ],
      "metadata": {
        "colab": {
          "base_uri": "https://localhost:8080/"
        },
        "id": "Va2UGhYgepTx",
        "outputId": "95ebf7bf-480e-4791-d2ef-bedcfe18c0ca"
      },
      "execution_count": 61,
      "outputs": [
        {
          "output_type": "stream",
          "name": "stdout",
          "text": [
            "10 caracteres e 2 casas decimais:     +13.58\n"
          ]
        }
      ]
    }
  ]
}