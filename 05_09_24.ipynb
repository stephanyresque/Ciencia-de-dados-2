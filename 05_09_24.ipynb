{
  "nbformat": 4,
  "nbformat_minor": 0,
  "metadata": {
    "colab": {
      "provenance": [],
      "authorship_tag": "ABX9TyPKgeQA8fZS2CeTRBHLHFKW",
      "include_colab_link": true
    },
    "kernelspec": {
      "name": "python3",
      "display_name": "Python 3"
    },
    "language_info": {
      "name": "python"
    }
  },
  "cells": [
    {
      "cell_type": "markdown",
      "metadata": {
        "id": "view-in-github",
        "colab_type": "text"
      },
      "source": [
        "<a href=\"https://colab.research.google.com/github/stephanyresque/Ciencia-de-dados-2/blob/main/05_09_24.ipynb\" target=\"_parent\"><img src=\"https://colab.research.google.com/assets/colab-badge.svg\" alt=\"Open In Colab\"/></a>"
      ]
    },
    {
      "cell_type": "code",
      "execution_count": 1,
      "metadata": {
        "id": "tjFeBXEALWXy"
      },
      "outputs": [],
      "source": [
        "vendas = (120, 130, 150, 140, 135)"
      ]
    },
    {
      "cell_type": "code",
      "source": [
        "venda_total = vendas[1] + vendas[2]\n",
        "venda_total"
      ],
      "metadata": {
        "colab": {
          "base_uri": "https://localhost:8080/"
        },
        "id": "1mmXoQTBL0TA",
        "outputId": "5851ea5b-c44a-4d6d-a9c8-bf7695c7342a"
      },
      "execution_count": 2,
      "outputs": [
        {
          "output_type": "execute_result",
          "data": {
            "text/plain": [
              "280"
            ]
          },
          "metadata": {},
          "execution_count": 2
        }
      ]
    },
    {
      "cell_type": "code",
      "source": [
        "funcionarios = [\"Ana\", \"Marcos\", \"Felipe\", \"José\", \"Mariana\"]\n",
        "funcionarios_escolhidos = funcionarios[1:4]\n",
        "funcionarios_escolhidos\n",
        "#"
      ],
      "metadata": {
        "colab": {
          "base_uri": "https://localhost:8080/"
        },
        "id": "fBiEZfbyL9eb",
        "outputId": "746d3ac0-7886-471b-faad-9f1ceca57def"
      },
      "execution_count": 3,
      "outputs": [
        {
          "output_type": "execute_result",
          "data": {
            "text/plain": [
              "['Marcos', 'Felipe', 'José']"
            ]
          },
          "metadata": {},
          "execution_count": 3
        }
      ]
    },
    {
      "cell_type": "code",
      "source": [
        "pares = [(\"Ana\", \"Vendas\"), (\"Luís\", \"TI\"), (\"Clara\", \"RH\")]\n",
        "dicionario = dict(pares)\n",
        "dicionario"
      ],
      "metadata": {
        "colab": {
          "base_uri": "https://localhost:8080/"
        },
        "id": "Sm6OzluyMX2e",
        "outputId": "1e0c618d-184e-48e3-9453-fe4d35d2b049"
      },
      "execution_count": 4,
      "outputs": [
        {
          "output_type": "execute_result",
          "data": {
            "text/plain": [
              "{'Ana': 'Vendas', 'Luís': 'TI', 'Clara': 'RH'}"
            ]
          },
          "metadata": {},
          "execution_count": 4
        }
      ]
    },
    {
      "cell_type": "code",
      "source": [
        "emails = [\"contato1@empresa.com\", \"contato2@empresa.com\"]"
      ],
      "metadata": {
        "id": "uAmfa_4zMmA_"
      },
      "execution_count": 5,
      "outputs": []
    },
    {
      "cell_type": "code",
      "source": [
        "emails.append('novo.contato@empresa.com')\n",
        "emails"
      ],
      "metadata": {
        "colab": {
          "base_uri": "https://localhost:8080/"
        },
        "id": "8jbYl0f4MySn",
        "outputId": "947004c0-a646-4fd8-b13f-b56323e609db"
      },
      "execution_count": 6,
      "outputs": [
        {
          "output_type": "execute_result",
          "data": {
            "text/plain": [
              "['contato1@empresa.com', 'contato2@empresa.com', 'novo.contato@empresa.com']"
            ]
          },
          "metadata": {},
          "execution_count": 6
        }
      ]
    },
    {
      "cell_type": "code",
      "source": [
        "emails.remove('contato2@empresa.com')\n",
        "emails"
      ],
      "metadata": {
        "colab": {
          "base_uri": "https://localhost:8080/"
        },
        "id": "SlM3zkaBM8cb",
        "outputId": "437e52d1-6add-466d-96f7-525c4e1b1103"
      },
      "execution_count": 7,
      "outputs": [
        {
          "output_type": "execute_result",
          "data": {
            "text/plain": [
              "['contato1@empresa.com', 'novo.contato@empresa.com']"
            ]
          },
          "metadata": {},
          "execution_count": 7
        }
      ]
    },
    {
      "cell_type": "code",
      "source": [
        "itens_vendidos = [\"caneta\", \"lápis\", \"caneta\", \"borracha\", \"lápis\", \"caneta\"]"
      ],
      "metadata": {
        "id": "-UouIwSCNLJE"
      },
      "execution_count": 8,
      "outputs": []
    },
    {
      "cell_type": "code",
      "source": [
        "itens_vendidos.count('caneta'), itens_vendidos.count('lápis'), itens_vendidos.count('borracha')"
      ],
      "metadata": {
        "colab": {
          "base_uri": "https://localhost:8080/"
        },
        "id": "WEwW48p8NMJw",
        "outputId": "d21271f6-8b99-450c-c39a-601674a06369"
      },
      "execution_count": 13,
      "outputs": [
        {
          "output_type": "execute_result",
          "data": {
            "text/plain": [
              "(3, 2, 1)"
            ]
          },
          "metadata": {},
          "execution_count": 13
        }
      ]
    },
    {
      "cell_type": "code",
      "source": [
        "dic = {\n",
        "    'caneta': itens_vendidos.count('caneta'),\n",
        "    'lápis': itens_vendidos.count('lápis'),\n",
        "    'borracha': itens_vendidos.count('borracha')\n",
        "}\n",
        "\n",
        "dic"
      ],
      "metadata": {
        "colab": {
          "base_uri": "https://localhost:8080/"
        },
        "id": "re8hI-O1NriI",
        "outputId": "acc9bbb6-9c26-443c-e169-16800e1b5dd3"
      },
      "execution_count": 15,
      "outputs": [
        {
          "output_type": "execute_result",
          "data": {
            "text/plain": [
              "{'caneta': 3, 'lápis': 2, 'borracha': 1}"
            ]
          },
          "metadata": {},
          "execution_count": 15
        }
      ]
    },
    {
      "cell_type": "code",
      "source": [
        "dados = [\"Ana\", 25, \"Luís\", 30, \"Clara\", 28]"
      ],
      "metadata": {
        "id": "8_irsY8YQILx"
      },
      "execution_count": 16,
      "outputs": []
    },
    {
      "cell_type": "code",
      "source": [
        "dados_nomes = dados[::2]\n",
        "dados_idades = dados[1::2]\n",
        "#dados_nomes, dados_idades\n",
        "\n",
        "combinacao = zip(dados_nomes, dados_idades)\n",
        "print(list(combinacao))"
      ],
      "metadata": {
        "colab": {
          "base_uri": "https://localhost:8080/"
        },
        "id": "3ONQisB_QSTC",
        "outputId": "390107ac-6e8f-48c2-ccc3-51bbfad3c52f"
      },
      "execution_count": 19,
      "outputs": [
        {
          "output_type": "stream",
          "name": "stdout",
          "text": [
            "[('Ana', 25), ('Luís', 30), ('Clara', 28)]\n"
          ]
        }
      ]
    },
    {
      "cell_type": "code",
      "source": [
        "departamento_a = [\"Ana\", \"Luís\", \"Clara\"]\n",
        "departamento_b = [\"Marcos\", \"Jonas\", \"Mariana\", \"Ana\"]"
      ],
      "metadata": {
        "id": "cSry9q5ARfup"
      },
      "execution_count": 20,
      "outputs": []
    },
    {
      "cell_type": "code",
      "source": [
        "funcionarios_departametos = departamento_a + departamento_b\n",
        "funcionarios_departametos"
      ],
      "metadata": {
        "colab": {
          "base_uri": "https://localhost:8080/"
        },
        "id": "wrVeI9L9Rwv6",
        "outputId": "b12c9854-bfdf-4a7f-fce5-0654164dd864"
      },
      "execution_count": 21,
      "outputs": [
        {
          "output_type": "execute_result",
          "data": {
            "text/plain": [
              "['Ana', 'Luís', 'Clara', 'Marcos', 'Jonas', 'Mariana', 'Ana']"
            ]
          },
          "metadata": {},
          "execution_count": 21
        }
      ]
    },
    {
      "cell_type": "code",
      "source": [
        "funcionarios_departametos = set(funcionarios_departametos)\n",
        "funcionarios_departametos"
      ],
      "metadata": {
        "colab": {
          "base_uri": "https://localhost:8080/"
        },
        "id": "pUyD7ntnSJqn",
        "outputId": "1e7fd255-2d24-4ab9-adb2-3eafcb6bef73"
      },
      "execution_count": 22,
      "outputs": [
        {
          "output_type": "execute_result",
          "data": {
            "text/plain": [
              "{'Ana', 'Clara', 'Jonas', 'Luís', 'Marcos', 'Mariana'}"
            ]
          },
          "metadata": {},
          "execution_count": 22
        }
      ]
    }
  ]
}