{
  "nbformat": 4,
  "nbformat_minor": 0,
  "metadata": {
    "colab": {
      "provenance": [],
      "authorship_tag": "ABX9TyNrmTJYmunpHZ5CpxihdvVD",
      "include_colab_link": true
    },
    "kernelspec": {
      "name": "python3",
      "display_name": "Python 3"
    },
    "language_info": {
      "name": "python"
    }
  },
  "cells": [
    {
      "cell_type": "markdown",
      "metadata": {
        "id": "view-in-github",
        "colab_type": "text"
      },
      "source": [
        "<a href=\"https://colab.research.google.com/github/stephanyresque/Ciencia-de-dados-2/blob/main/06_09_24.ipynb\" target=\"_parent\"><img src=\"https://colab.research.google.com/assets/colab-badge.svg\" alt=\"Open In Colab\"/></a>"
      ]
    },
    {
      "cell_type": "markdown",
      "source": [
        "# Formatação de Strings\n"
      ],
      "metadata": {
        "id": "H-socqqqId8i"
      }
    },
    {
      "cell_type": "markdown",
      "source": [
        "## f-strings"
      ],
      "metadata": {
        "id": "l1WvI_tuIimR"
      }
    },
    {
      "cell_type": "code",
      "source": [
        "nome = 'Stephany'\n",
        "f\"meu nome é {nome}\""
      ],
      "metadata": {
        "colab": {
          "base_uri": "https://localhost:8080/",
          "height": 36
        },
        "id": "cjAM3cRkT-4W",
        "outputId": "ce985965-eb6d-413d-e28b-84c57321b1b0"
      },
      "execution_count": 1,
      "outputs": [
        {
          "output_type": "execute_result",
          "data": {
            "text/plain": [
              "'meu nome é Stephany'"
            ],
            "application/vnd.google.colaboratory.intrinsic+json": {
              "type": "string"
            }
          },
          "metadata": {},
          "execution_count": 1
        }
      ]
    },
    {
      "cell_type": "code",
      "source": [
        "print(f\"Seu nome é {nome}\")"
      ],
      "metadata": {
        "colab": {
          "base_uri": "https://localhost:8080/"
        },
        "id": "MGKVc9kgULrZ",
        "outputId": "60040b17-5b28-4cbc-cdda-605670c5997d"
      },
      "execution_count": 2,
      "outputs": [
        {
          "output_type": "stream",
          "name": "stdout",
          "text": [
            "Seu nome é Stephany\n"
          ]
        }
      ]
    },
    {
      "cell_type": "code",
      "source": [
        "print(f'Conta: {2*2}')"
      ],
      "metadata": {
        "colab": {
          "base_uri": "https://localhost:8080/"
        },
        "id": "HbTE_4tSUU_h",
        "outputId": "28b2b229-292e-4579-ebd9-c7060fed1655"
      },
      "execution_count": 3,
      "outputs": [
        {
          "output_type": "stream",
          "name": "stdout",
          "text": [
            "Conta: 4\n"
          ]
        }
      ]
    },
    {
      "cell_type": "code",
      "source": [
        "num = 23.45\n",
        "print('10 caracteres 3 e 4 casas decimais: {:10.4f}'.format(num))"
      ],
      "metadata": {
        "colab": {
          "base_uri": "https://localhost:8080/"
        },
        "id": "bi2h6-t2UaI9",
        "outputId": "b5998771-5b40-4840-e282-8f675099c965"
      },
      "execution_count": 4,
      "outputs": [
        {
          "output_type": "stream",
          "name": "stdout",
          "text": [
            "10 caracteres 3 e 4 casas decimais:    23.4500\n"
          ]
        }
      ]
    },
    {
      "cell_type": "code",
      "source": [
        "print(f'10 caracteres 3 e 4 casas decimais: {num:10.4f}')"
      ],
      "metadata": {
        "colab": {
          "base_uri": "https://localhost:8080/"
        },
        "id": "OSmbGvUmU6jZ",
        "outputId": "5bf2d6d2-921b-4997-d55c-0bbbb3209a4f"
      },
      "execution_count": 5,
      "outputs": [
        {
          "output_type": "stream",
          "name": "stdout",
          "text": [
            "10 caracteres 3 e 4 casas decimais:    23.4500\n"
          ]
        }
      ]
    },
    {
      "cell_type": "code",
      "source": [
        "print(f'Veja {2.5678:.2f}')"
      ],
      "metadata": {
        "colab": {
          "base_uri": "https://localhost:8080/"
        },
        "id": "K4gkXFXiVFkj",
        "outputId": "4d2452dd-d399-4a7a-8e75-41188716763f"
      },
      "execution_count": 6,
      "outputs": [
        {
          "output_type": "stream",
          "name": "stdout",
          "text": [
            "Veja 2.57\n"
          ]
        }
      ]
    },
    {
      "cell_type": "code",
      "source": [
        "pessoas = {\n",
        "    \"bill\": {\"nome\": \"Bill Gates\", \"idade\": 68, \"empresa\": \"Microsoft\"},\n",
        "    \"elon\": {\"nome\": \"Elon Musk\", \"idade\": 52, \"empresa\": \"X\"},\n",
        "    \"mark\": {\"nome\": \"Mark Zuckerberg\", \"idade\": 39, \"empresa\": \"Facebook\"},\n",
        "}"
      ],
      "metadata": {
        "id": "KCQQk1NnVPGC"
      },
      "execution_count": 7,
      "outputs": []
    },
    {
      "cell_type": "code",
      "source": [
        "print(f\"{'Nome':^16} | {'Idade':^5} | {'Empresa':^16}\")\n",
        "print(f\"{'-'*43}\")\n",
        "print(f\"{pessoas['bill']['nome']:^16} | {pessoas['bill']['idade']:^5} | {pessoas['bill']['empresa']:^16}\")\n",
        "print(f\"{pessoas['elon']['nome']:^16} | {pessoas['elon']['idade']:^5} | {pessoas['elon']['empresa']:^16}\")\n",
        "print(f\"{pessoas['mark']['nome']:^16} | {pessoas['mark']['idade']:^5} | {pessoas['mark']['empresa']:^16}\")\n"
      ],
      "metadata": {
        "colab": {
          "base_uri": "https://localhost:8080/"
        },
        "id": "u9_a3IwMVkEm",
        "outputId": "d65524e5-5967-4265-90d1-09b6da968ebd"
      },
      "execution_count": 16,
      "outputs": [
        {
          "output_type": "stream",
          "name": "stdout",
          "text": [
            "      Nome       | Idade |     Empresa     \n",
            "-------------------------------------------\n",
            "   Bill Gates    |  68   |    Microsoft    \n",
            "   Elon Musk     |  52   |        X        \n",
            "Mark Zuckerberg  |  39   |     Facebook    \n"
          ]
        }
      ]
    },
    {
      "cell_type": "markdown",
      "source": [
        "# Métodos de String"
      ],
      "metadata": {
        "id": "x3Mu0WSMY4Fg"
      }
    }
  ]
}