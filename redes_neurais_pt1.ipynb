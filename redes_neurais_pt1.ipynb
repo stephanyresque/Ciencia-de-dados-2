{
  "nbformat": 4,
  "nbformat_minor": 0,
  "metadata": {
    "colab": {
      "provenance": [],
      "gpuType": "T4",
      "authorship_tag": "ABX9TyOM/sGbq4mXgxPULf2hks7m",
      "include_colab_link": true
    },
    "kernelspec": {
      "name": "python3",
      "display_name": "Python 3"
    },
    "language_info": {
      "name": "python"
    },
    "accelerator": "GPU"
  },
  "cells": [
    {
      "cell_type": "markdown",
      "metadata": {
        "id": "view-in-github",
        "colab_type": "text"
      },
      "source": [
        "<a href=\"https://colab.research.google.com/github/stephanyresque/Ciencia-de-dados-2/blob/main/redes_neurais_pt1.ipynb\" target=\"_parent\"><img src=\"https://colab.research.google.com/assets/colab-badge.svg\" alt=\"Open In Colab\"/></a>"
      ]
    },
    {
      "cell_type": "code",
      "execution_count": 1,
      "metadata": {
        "id": "pH2AiTOTMJZA"
      },
      "outputs": [],
      "source": [
        "import torch"
      ]
    },
    {
      "cell_type": "code",
      "source": [
        "print(torch.__version__)"
      ],
      "metadata": {
        "colab": {
          "base_uri": "https://localhost:8080/"
        },
        "id": "nVT2knrCMWzi",
        "outputId": "3cf6190a-cb31-49c2-8b92-03f3e7c95072"
      },
      "execution_count": 2,
      "outputs": [
        {
          "output_type": "stream",
          "name": "stdout",
          "text": [
            "2.5.0+cu121\n"
          ]
        }
      ]
    },
    {
      "cell_type": "code",
      "source": [
        "# Criando um tensor 2x2\n",
        "tensor = torch.tensor([[1.0, 2.0], [3.0, 4.0]])\n",
        "print(\"Tensor:\\n\", tensor)"
      ],
      "metadata": {
        "colab": {
          "base_uri": "https://localhost:8080/"
        },
        "id": "HXXIaHBMNgfd",
        "outputId": "a5819d03-4b5c-4bda-ebf8-080eeff3e92f"
      },
      "execution_count": 3,
      "outputs": [
        {
          "output_type": "stream",
          "name": "stdout",
          "text": [
            "Tensor:\n",
            " tensor([[1., 2.],\n",
            "        [3., 4.]])\n"
          ]
        }
      ]
    },
    {
      "cell_type": "code",
      "source": [
        "# Somando 10 a cada elemento do tensor\n",
        "tensor_add = tensor + 10\n",
        "print(\"Tensor após adição:\\n\", tensor_add)"
      ],
      "metadata": {
        "colab": {
          "base_uri": "https://localhost:8080/"
        },
        "id": "spWTHl_0OC3U",
        "outputId": "5eeba2b3-284f-4405-a916-db4086341476"
      },
      "execution_count": 4,
      "outputs": [
        {
          "output_type": "stream",
          "name": "stdout",
          "text": [
            "Tensor após adição:\n",
            " tensor([[11., 12.],\n",
            "        [13., 14.]])\n"
          ]
        }
      ]
    },
    {
      "cell_type": "code",
      "source": [
        "# Verificar se há GPU disponível\n",
        "device = \"cuda\" if torch.cuda.is_available() else \"cpu\"\n",
        "print(\"Dispositivo disponível para PyTorch:\", device)\n",
        "\n",
        "# Mover o tensor para GPU (se disponível)\n",
        "tensor = tensor.to(device)"
      ],
      "metadata": {
        "colab": {
          "base_uri": "https://localhost:8080/"
        },
        "id": "GQejCkSFON7E",
        "outputId": "8f7011d5-b89c-45a0-93d7-da41f75a59a5"
      },
      "execution_count": 5,
      "outputs": [
        {
          "output_type": "stream",
          "name": "stdout",
          "text": [
            "Dispositivo disponível para PyTorch: cuda\n"
          ]
        }
      ]
    },
    {
      "cell_type": "code",
      "source": [
        "# Criar um tensor 3x3 com valores aleatórios\n",
        "random_tensor = torch.rand(3, 3)\n",
        "print(\"Tensor Aleatório:\\n\", random_tensor)"
      ],
      "metadata": {
        "colab": {
          "base_uri": "https://localhost:8080/"
        },
        "id": "lUKapf7Zyvht",
        "outputId": "730b8b75-8cf2-4871-ce0a-868b95c1831b"
      },
      "execution_count": 6,
      "outputs": [
        {
          "output_type": "stream",
          "name": "stdout",
          "text": [
            "Tensor Aleatório:\n",
            " tensor([[0.2335, 0.5822, 0.7357],\n",
            "        [0.3779, 0.2542, 0.6975],\n",
            "        [0.2300, 0.0719, 0.6850]])\n"
          ]
        }
      ]
    },
    {
      "cell_type": "code",
      "source": [
        "# Soma, Subtração e Multiplicação\n",
        "tensor_a = torch.tensor([1.0, 2.0, 3.0])\n",
        "tensor_b = torch.tensor([4.0, 5.0, 6.0])\n",
        "\n",
        "soma = tensor_a + tensor_b\n",
        "produto = tensor_a * tensor_b\n",
        "print(\"Soma:\", soma)\n",
        "print(\"Produto Elemento a Elemento:\", produto)"
      ],
      "metadata": {
        "colab": {
          "base_uri": "https://localhost:8080/"
        },
        "id": "RuhQVa4Hyzpt",
        "outputId": "3ab125fe-b589-48d5-ed2a-2034a50c1ee0"
      },
      "execution_count": 7,
      "outputs": [
        {
          "output_type": "stream",
          "name": "stdout",
          "text": [
            "Soma: tensor([5., 7., 9.])\n",
            "Produto Elemento a Elemento: tensor([ 4., 10., 18.])\n"
          ]
        }
      ]
    },
    {
      "cell_type": "code",
      "source": [
        "from torch import nn\n",
        "\n",
        "# Criar uma camada com 3 neurônios de entrada e 2 de saída\n",
        "camada = nn.Linear(3, 2)\n",
        "\n",
        "# Dados de entrada (1 amostra com 3 características)\n",
        "entrada = torch.tensor([[1.0, 2.0, 3.0]])\n",
        "\n",
        "# Passar pela camada linear\n",
        "saida = camada(entrada)\n",
        "print(\"Saída da Camada Linear:\", saida)\n"
      ],
      "metadata": {
        "colab": {
          "base_uri": "https://localhost:8080/"
        },
        "id": "yZsQufBty4RL",
        "outputId": "d2925c19-aced-4561-99d4-7897c4dfe9d2"
      },
      "execution_count": 8,
      "outputs": [
        {
          "output_type": "stream",
          "name": "stdout",
          "text": [
            "Saída da Camada Linear: tensor([[-0.2301, -1.0940]], grad_fn=<AddmmBackward0>)\n"
          ]
        }
      ]
    },
    {
      "cell_type": "code",
      "source": [
        "# Criar uma função de ativação ReLU\n",
        "relu = nn.ReLU()\n",
        "\n",
        "# Aplicar ReLU na saída da camada\n",
        "saida_relu = relu(saida)\n",
        "print(\"Saída com ReLU aplicada:\", saida_relu)\n"
      ],
      "metadata": {
        "colab": {
          "base_uri": "https://localhost:8080/"
        },
        "id": "ouqsKaiJ0sVW",
        "outputId": "c7944582-d2a0-4d8d-dfa1-3c4cd4aa6a9d"
      },
      "execution_count": 9,
      "outputs": [
        {
          "output_type": "stream",
          "name": "stdout",
          "text": [
            "Saída com ReLU aplicada: tensor([[0., 0.]], grad_fn=<ReluBackward0>)\n"
          ]
        }
      ]
    },
    {
      "cell_type": "code",
      "source": [
        "sigmoid = nn.Sigmoid()\n",
        "saida_sigmoid = sigmoid(saida)\n",
        "print(\"Saída com Sigmoid aplicada:\", saida_sigmoid)"
      ],
      "metadata": {
        "colab": {
          "base_uri": "https://localhost:8080/"
        },
        "id": "XRwuiCqB0w5F",
        "outputId": "b96b6a78-f9d7-40ea-cc8b-1b8eda7b2a84"
      },
      "execution_count": 11,
      "outputs": [
        {
          "output_type": "stream",
          "name": "stdout",
          "text": [
            "Saída com Sigmoid aplicada: tensor([[0.4427, 0.2509]], grad_fn=<SigmoidBackward0>)\n"
          ]
        }
      ]
    },
    {
      "cell_type": "code",
      "source": [
        "tanh = nn.Tanh()\n",
        "saida_tanh = tanh(saida)\n",
        "print(\"Saída com Tanh aplicada:\", saida_tanh)"
      ],
      "metadata": {
        "colab": {
          "base_uri": "https://localhost:8080/"
        },
        "id": "xgk06l2n04pU",
        "outputId": "511cab7b-0acc-4e38-93c2-36feed8f4b62"
      },
      "execution_count": 12,
      "outputs": [
        {
          "output_type": "stream",
          "name": "stdout",
          "text": [
            "Saída com Tanh aplicada: tensor([[-0.2261, -0.7983]], grad_fn=<TanhBackward0>)\n"
          ]
        }
      ]
    },
    {
      "cell_type": "code",
      "source": [
        "class RedeNeural(nn.Module):\n",
        "    def __init__(self):\n",
        "        super(RedeNeural, self).__init__()\n",
        "        # Definir as camadas\n",
        "        self.camada1 = nn.Linear(3, 4)  # 3 entradas, 4 saídas\n",
        "        self.camada2 = nn.Linear(4, 1)  # 4 entradas da camada anterior, 1 saída final\n",
        "\n",
        "    def forward(self, x):\n",
        "        # Passar os dados pela primeira camada e aplicar ReLU\n",
        "        x = self.camada1(x)\n",
        "        x = nn.ReLU()(x)\n",
        "\n",
        "        # Passar pela segunda camada (sem função de ativação na saída)\n",
        "        x = self.camada2(x)\n",
        "        return x"
      ],
      "metadata": {
        "id": "BnxrEooo13tM"
      },
      "execution_count": 13,
      "outputs": []
    },
    {
      "cell_type": "code",
      "source": [
        "# Criar uma instância da rede\n",
        "modelo = RedeNeural()\n",
        "\n",
        "# Dados de entrada (1 amostra com 3 características)\n",
        "entrada = torch.tensor([[1.0, 2.0, 3.0]])\n",
        "\n",
        "# Obter a saída da rede\n",
        "saida_modelo = modelo(entrada)\n",
        "print(\"Saída da Rede:\", saida_modelo)"
      ],
      "metadata": {
        "colab": {
          "base_uri": "https://localhost:8080/"
        },
        "id": "jfdvTN0_15Nt",
        "outputId": "59ad6e32-9c88-47de-885d-8777b971eca2"
      },
      "execution_count": 14,
      "outputs": [
        {
          "output_type": "stream",
          "name": "stdout",
          "text": [
            "Saída da Rede: tensor([[0.2304]], grad_fn=<AddmmBackward0>)\n"
          ]
        }
      ]
    },
    {
      "cell_type": "code",
      "source": [
        "# Definir a função de perda como MSELoss\n",
        "criterio = nn.MSELoss()"
      ],
      "metadata": {
        "id": "pRKoWNWs3w3u"
      },
      "execution_count": 15,
      "outputs": []
    },
    {
      "cell_type": "code",
      "source": [
        "import torch.optim as optim\n",
        "\n",
        "# Usando o Adam como otimizador, com uma taxa de aprendizado de 0.01\n",
        "otimizador = optim.Adam(modelo.parameters(), lr=0.01)"
      ],
      "metadata": {
        "id": "uAVOjdax31t-"
      },
      "execution_count": 16,
      "outputs": []
    },
    {
      "cell_type": "code",
      "source": [
        "# Dados de entrada e saída esperada\n",
        "entrada = torch.tensor([[1.0, 2.0, 3.0]])  # Exemplo de uma entrada\n",
        "saida_esperada = torch.tensor([[0.5]])     # Exemplo de uma saída esperada\n",
        "\n",
        "# Loop de treinamento\n",
        "for epoca in range(100):  # 100 épocas\n",
        "    otimizador.zero_grad()     # 1. Zerar gradientes acumulados\n",
        "    saida = modelo(entrada)    # 2. Forward pass (previsão)\n",
        "    perda = criterio(saida, saida_esperada)  # 3. Calcular a perda\n",
        "    perda.backward()           # 4. Retropropagação (calcula gradientes)\n",
        "    otimizador.step()          # 5. Atualizar os pesos\n",
        "\n",
        "    # Exibir a perda a cada 10 épocas\n",
        "    if epoca % 10 == 0:\n",
        "        print(f\"Época {epoca+1}, Perda: {perda.item()}\")"
      ],
      "metadata": {
        "colab": {
          "base_uri": "https://localhost:8080/"
        },
        "id": "OFUhmTPF35LN",
        "outputId": "dfe9d897-e85e-4781-ed4b-b288a99bc32d"
      },
      "execution_count": 17,
      "outputs": [
        {
          "output_type": "stream",
          "name": "stdout",
          "text": [
            "Época 1, Perda: 0.07266701757907867\n",
            "Época 11, Perda: 0.029309136793017387\n",
            "Época 21, Perda: 0.006975783966481686\n",
            "Época 31, Perda: 0.00036303431261330843\n",
            "Época 41, Perda: 0.00020083088020328432\n",
            "Época 51, Perda: 0.00040021384484134614\n",
            "Época 61, Perda: 0.00013371820386964828\n",
            "Época 71, Perda: 3.127274567304994e-06\n",
            "Época 81, Perda: 8.671479918120895e-06\n",
            "Época 91, Perda: 7.616245966346469e-06\n"
          ]
        }
      ]
    }
  ]
}