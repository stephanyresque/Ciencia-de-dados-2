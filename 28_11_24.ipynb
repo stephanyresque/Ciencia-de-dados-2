{
 "cells": [
  {
   "cell_type": "markdown",
   "metadata": {
    "colab_type": "text",
    "id": "view-in-github"
   },
   "source": [
    "<a href=\"https://colab.research.google.com/github/stephanyresque/Ciencia-de-dados-2/blob/main/28_11_24.ipynb\" target=\"_parent\"><img src=\"https://colab.research.google.com/assets/colab-badge.svg\" alt=\"Open In Colab\"/></a>"
   ]
  },
  {
   "cell_type": "code",
   "execution_count": 1,
   "metadata": {
    "colab": {
     "base_uri": "https://localhost:8080/",
     "height": 206
    },
    "id": "I5McfXvDzmz1",
    "outputId": "88bc8627-dce7-4bbc-a8e2-237f8d995ea5"
   },
   "outputs": [
    {
     "data": {
      "text/html": [
       "<div>\n",
       "<style scoped>\n",
       "    .dataframe tbody tr th:only-of-type {\n",
       "        vertical-align: middle;\n",
       "    }\n",
       "\n",
       "    .dataframe tbody tr th {\n",
       "        vertical-align: top;\n",
       "    }\n",
       "\n",
       "    .dataframe thead th {\n",
       "        text-align: right;\n",
       "    }\n",
       "</style>\n",
       "<table border=\"1\" class=\"dataframe\">\n",
       "  <thead>\n",
       "    <tr style=\"text-align: right;\">\n",
       "      <th></th>\n",
       "      <th>donor_id</th>\n",
       "      <th>blood_type</th>\n",
       "    </tr>\n",
       "  </thead>\n",
       "  <tbody>\n",
       "    <tr>\n",
       "      <th>0</th>\n",
       "      <td>1</td>\n",
       "      <td>a+</td>\n",
       "    </tr>\n",
       "    <tr>\n",
       "      <th>1</th>\n",
       "      <td>2</td>\n",
       "      <td>a+</td>\n",
       "    </tr>\n",
       "    <tr>\n",
       "      <th>2</th>\n",
       "      <td>3</td>\n",
       "      <td>a+</td>\n",
       "    </tr>\n",
       "    <tr>\n",
       "      <th>3</th>\n",
       "      <td>4</td>\n",
       "      <td>a+</td>\n",
       "    </tr>\n",
       "    <tr>\n",
       "      <th>4</th>\n",
       "      <td>5</td>\n",
       "      <td>a+</td>\n",
       "    </tr>\n",
       "  </tbody>\n",
       "</table>\n",
       "</div>"
      ],
      "text/plain": [
       "   donor_id blood_type\n",
       "0         1         a+\n",
       "1         2         a+\n",
       "2         3         a+\n",
       "3         4         a+\n",
       "4         5         a+"
      ]
     },
     "execution_count": 1,
     "metadata": {},
     "output_type": "execute_result"
    }
   ],
   "source": [
    "import pandas as pd\n",
    "\n",
    "DATA = 'C:\\\\Users\\\\steph\\\\OneDrive\\\\Documentos\\\\MeusProjetos\\\\Ciencia-de-dados\\\\dados_hash\\\\blood_donors.csv'\n",
    "\n",
    "df = pd.read_csv(DATA)\n",
    "df.head()"
   ]
  },
  {
   "cell_type": "code",
   "execution_count": 2,
   "metadata": {
    "colab": {
     "base_uri": "https://localhost:8080/"
    },
    "id": "PLVR2hJ60gGJ",
    "outputId": "51a7e8b8-466c-4956-8a89-40edc4186a01"
   },
   "outputs": [
    {
     "name": "stdout",
     "output_type": "stream",
     "text": [
      "<class 'pandas.core.frame.DataFrame'>\n",
      "RangeIndex: 60 entries, 0 to 59\n",
      "Data columns (total 2 columns):\n",
      " #   Column      Non-Null Count  Dtype \n",
      "---  ------      --------------  ----- \n",
      " 0   donor_id    60 non-null     int64 \n",
      " 1   blood_type  60 non-null     object\n",
      "dtypes: int64(1), object(1)\n",
      "memory usage: 1.1+ KB\n"
     ]
    }
   ],
   "source": [
    "df.info()"
   ]
  },
  {
   "cell_type": "code",
   "execution_count": 3,
   "metadata": {
    "colab": {
     "base_uri": "https://localhost:8080/",
     "height": 206
    },
    "id": "cvPypCIL0m-S",
    "outputId": "0774c615-4d1f-4dbe-fbba-e8f327db2b87"
   },
   "outputs": [
    {
     "data": {
      "text/html": [
       "<div>\n",
       "<style scoped>\n",
       "    .dataframe tbody tr th:only-of-type {\n",
       "        vertical-align: middle;\n",
       "    }\n",
       "\n",
       "    .dataframe tbody tr th {\n",
       "        vertical-align: top;\n",
       "    }\n",
       "\n",
       "    .dataframe thead th {\n",
       "        text-align: right;\n",
       "    }\n",
       "</style>\n",
       "<table border=\"1\" class=\"dataframe\">\n",
       "  <thead>\n",
       "    <tr style=\"text-align: right;\">\n",
       "      <th></th>\n",
       "      <th>donor_id</th>\n",
       "      <th>blood_type</th>\n",
       "    </tr>\n",
       "  </thead>\n",
       "  <tbody>\n",
       "    <tr>\n",
       "      <th>55</th>\n",
       "      <td>56</td>\n",
       "      <td>o+</td>\n",
       "    </tr>\n",
       "    <tr>\n",
       "      <th>56</th>\n",
       "      <td>57</td>\n",
       "      <td>o+</td>\n",
       "    </tr>\n",
       "    <tr>\n",
       "      <th>57</th>\n",
       "      <td>58</td>\n",
       "      <td>o+</td>\n",
       "    </tr>\n",
       "    <tr>\n",
       "      <th>58</th>\n",
       "      <td>59</td>\n",
       "      <td>o-</td>\n",
       "    </tr>\n",
       "    <tr>\n",
       "      <th>59</th>\n",
       "      <td>60</td>\n",
       "      <td>o-</td>\n",
       "    </tr>\n",
       "  </tbody>\n",
       "</table>\n",
       "</div>"
      ],
      "text/plain": [
       "    donor_id blood_type\n",
       "55        56         o+\n",
       "56        57         o+\n",
       "57        58         o+\n",
       "58        59         o-\n",
       "59        60         o-"
      ]
     },
     "execution_count": 3,
     "metadata": {},
     "output_type": "execute_result"
    }
   ],
   "source": [
    "df.tail()"
   ]
  },
  {
   "cell_type": "code",
   "execution_count": 4,
   "metadata": {
    "colab": {
     "base_uri": "https://localhost:8080/",
     "height": 175
    },
    "id": "40x0Z9UM01ee",
    "outputId": "c830ea08-fa11-415a-93eb-69dd733ae215"
   },
   "outputs": [
    {
     "data": {
      "text/html": [
       "<div>\n",
       "<style scoped>\n",
       "    .dataframe tbody tr th:only-of-type {\n",
       "        vertical-align: middle;\n",
       "    }\n",
       "\n",
       "    .dataframe tbody tr th {\n",
       "        vertical-align: top;\n",
       "    }\n",
       "\n",
       "    .dataframe thead th {\n",
       "        text-align: right;\n",
       "    }\n",
       "</style>\n",
       "<table border=\"1\" class=\"dataframe\">\n",
       "  <thead>\n",
       "    <tr style=\"text-align: right;\">\n",
       "      <th></th>\n",
       "      <th>blood_type</th>\n",
       "    </tr>\n",
       "  </thead>\n",
       "  <tbody>\n",
       "    <tr>\n",
       "      <th>count</th>\n",
       "      <td>60</td>\n",
       "    </tr>\n",
       "    <tr>\n",
       "      <th>unique</th>\n",
       "      <td>8</td>\n",
       "    </tr>\n",
       "    <tr>\n",
       "      <th>top</th>\n",
       "      <td>o+</td>\n",
       "    </tr>\n",
       "    <tr>\n",
       "      <th>freq</th>\n",
       "      <td>32</td>\n",
       "    </tr>\n",
       "  </tbody>\n",
       "</table>\n",
       "</div>"
      ],
      "text/plain": [
       "       blood_type\n",
       "count          60\n",
       "unique          8\n",
       "top            o+\n",
       "freq           32"
      ]
     },
     "execution_count": 4,
     "metadata": {},
     "output_type": "execute_result"
    }
   ],
   "source": [
    "df.describe(exclude = 'number')"
   ]
  },
  {
   "cell_type": "code",
   "execution_count": 5,
   "metadata": {
    "colab": {
     "base_uri": "https://localhost:8080/",
     "height": 366
    },
    "id": "UUWukzqe1HrG",
    "outputId": "d7c51103-6a90-465a-eea4-b689be179296"
   },
   "outputs": [
    {
     "data": {
      "text/plain": [
       "blood_type\n",
       "o+     32\n",
       "a+     15\n",
       "b+      6\n",
       "a-      2\n",
       "o-      2\n",
       "b-      1\n",
       "ab+     1\n",
       "ab-     1\n",
       "Name: count, dtype: int64"
      ]
     },
     "execution_count": 5,
     "metadata": {},
     "output_type": "execute_result"
    }
   ],
   "source": [
    "df['blood_type'].value_counts()"
   ]
  },
  {
   "cell_type": "code",
   "execution_count": 6,
   "metadata": {
    "colab": {
     "base_uri": "https://localhost:8080/",
     "height": 366
    },
    "id": "AogKakt3131p",
    "outputId": "878dbb14-116b-4a8b-adba-903f5b82f1f7"
   },
   "outputs": [
    {
     "data": {
      "text/plain": [
       "blood_type\n",
       "a+     15\n",
       "a-      2\n",
       "ab+     1\n",
       "ab-     1\n",
       "b+      6\n",
       "b-      1\n",
       "o+     32\n",
       "o-      2\n",
       "Name: count, dtype: int64"
      ]
     },
     "execution_count": 6,
     "metadata": {},
     "output_type": "execute_result"
    }
   ],
   "source": [
    "df['blood_type'].value_counts().sort_index()"
   ]
  },
  {
   "cell_type": "code",
   "execution_count": 7,
   "metadata": {
    "colab": {
     "base_uri": "https://localhost:8080/",
     "height": 331
    },
    "id": "pVtqO1FF1OP6",
    "outputId": "167090de-ca8b-42af-b608-46c8610ca346"
   },
   "outputs": [
    {
     "data": {
      "text/html": [
       "<div>\n",
       "<style scoped>\n",
       "    .dataframe tbody tr th:only-of-type {\n",
       "        vertical-align: middle;\n",
       "    }\n",
       "\n",
       "    .dataframe tbody tr th {\n",
       "        vertical-align: top;\n",
       "    }\n",
       "\n",
       "    .dataframe thead th {\n",
       "        text-align: right;\n",
       "    }\n",
       "</style>\n",
       "<table border=\"1\" class=\"dataframe\">\n",
       "  <thead>\n",
       "    <tr style=\"text-align: right;\">\n",
       "      <th></th>\n",
       "      <th>frequencia</th>\n",
       "      <th>frequencia_relativa</th>\n",
       "      <th>frequencia_acumulada</th>\n",
       "      <th>frequencia_relativa_acumulada</th>\n",
       "    </tr>\n",
       "    <tr>\n",
       "      <th>blood_type</th>\n",
       "      <th></th>\n",
       "      <th></th>\n",
       "      <th></th>\n",
       "      <th></th>\n",
       "    </tr>\n",
       "  </thead>\n",
       "  <tbody>\n",
       "    <tr>\n",
       "      <th>a+</th>\n",
       "      <td>15</td>\n",
       "      <td>0.250000</td>\n",
       "      <td>15</td>\n",
       "      <td>0.250000</td>\n",
       "    </tr>\n",
       "    <tr>\n",
       "      <th>a-</th>\n",
       "      <td>2</td>\n",
       "      <td>0.033333</td>\n",
       "      <td>17</td>\n",
       "      <td>0.283333</td>\n",
       "    </tr>\n",
       "    <tr>\n",
       "      <th>ab+</th>\n",
       "      <td>1</td>\n",
       "      <td>0.016667</td>\n",
       "      <td>18</td>\n",
       "      <td>0.300000</td>\n",
       "    </tr>\n",
       "    <tr>\n",
       "      <th>ab-</th>\n",
       "      <td>1</td>\n",
       "      <td>0.016667</td>\n",
       "      <td>19</td>\n",
       "      <td>0.316667</td>\n",
       "    </tr>\n",
       "    <tr>\n",
       "      <th>b+</th>\n",
       "      <td>6</td>\n",
       "      <td>0.100000</td>\n",
       "      <td>25</td>\n",
       "      <td>0.416667</td>\n",
       "    </tr>\n",
       "    <tr>\n",
       "      <th>b-</th>\n",
       "      <td>1</td>\n",
       "      <td>0.016667</td>\n",
       "      <td>26</td>\n",
       "      <td>0.433333</td>\n",
       "    </tr>\n",
       "    <tr>\n",
       "      <th>o+</th>\n",
       "      <td>32</td>\n",
       "      <td>0.533333</td>\n",
       "      <td>58</td>\n",
       "      <td>0.966667</td>\n",
       "    </tr>\n",
       "    <tr>\n",
       "      <th>o-</th>\n",
       "      <td>2</td>\n",
       "      <td>0.033333</td>\n",
       "      <td>60</td>\n",
       "      <td>1.000000</td>\n",
       "    </tr>\n",
       "  </tbody>\n",
       "</table>\n",
       "</div>"
      ],
      "text/plain": [
       "            frequencia  frequencia_relativa  frequencia_acumulada  \\\n",
       "blood_type                                                          \n",
       "a+                  15             0.250000                    15   \n",
       "a-                   2             0.033333                    17   \n",
       "ab+                  1             0.016667                    18   \n",
       "ab-                  1             0.016667                    19   \n",
       "b+                   6             0.100000                    25   \n",
       "b-                   1             0.016667                    26   \n",
       "o+                  32             0.533333                    58   \n",
       "o-                   2             0.033333                    60   \n",
       "\n",
       "            frequencia_relativa_acumulada  \n",
       "blood_type                                 \n",
       "a+                               0.250000  \n",
       "a-                               0.283333  \n",
       "ab+                              0.300000  \n",
       "ab-                              0.316667  \n",
       "b+                               0.416667  \n",
       "b-                               0.433333  \n",
       "o+                               0.966667  \n",
       "o-                               1.000000  "
      ]
     },
     "execution_count": 7,
     "metadata": {},
     "output_type": "execute_result"
    }
   ],
   "source": [
    "df_estatistica = pd.DataFrame()\n",
    "\n",
    "df_estatistica['frequencia'] = df['blood_type'].value_counts().sort_index()\n",
    "\n",
    "df_estatistica['frequencia_relativa'] = df['blood_type'].value_counts(normalize=True).sort_index()\n",
    "\n",
    "df_estatistica['frequencia_acumulada'] = df_estatistica['frequencia'].cumsum()\n",
    "\n",
    "df_estatistica['frequencia_relativa_acumulada'] = df_estatistica['frequencia_relativa'].cumsum()\n",
    "\n",
    "\n",
    "df_estatistica"
   ]
  },
  {
   "cell_type": "code",
   "execution_count": 10,
   "metadata": {},
   "outputs": [],
   "source": [
    "from meus_modulos.auxiliares import tabela_dist_freq"
   ]
  },
  {
   "cell_type": "code",
   "execution_count": 11,
   "metadata": {},
   "outputs": [
    {
     "data": {
      "text/html": [
       "<div>\n",
       "<style scoped>\n",
       "    .dataframe tbody tr th:only-of-type {\n",
       "        vertical-align: middle;\n",
       "    }\n",
       "\n",
       "    .dataframe tbody tr th {\n",
       "        vertical-align: top;\n",
       "    }\n",
       "\n",
       "    .dataframe thead th {\n",
       "        text-align: right;\n",
       "    }\n",
       "</style>\n",
       "<table border=\"1\" class=\"dataframe\">\n",
       "  <thead>\n",
       "    <tr style=\"text-align: right;\">\n",
       "      <th></th>\n",
       "      <th>frequencia</th>\n",
       "      <th>frequencia_relativa</th>\n",
       "      <th>frequencia_acumulada</th>\n",
       "      <th>frequencia_relativa_acumulada</th>\n",
       "    </tr>\n",
       "    <tr>\n",
       "      <th>blood_type</th>\n",
       "      <th></th>\n",
       "      <th></th>\n",
       "      <th></th>\n",
       "      <th></th>\n",
       "    </tr>\n",
       "  </thead>\n",
       "  <tbody>\n",
       "    <tr>\n",
       "      <th>a+</th>\n",
       "      <td>15</td>\n",
       "      <td>0.250000</td>\n",
       "      <td>15</td>\n",
       "      <td>0.250000</td>\n",
       "    </tr>\n",
       "    <tr>\n",
       "      <th>a-</th>\n",
       "      <td>2</td>\n",
       "      <td>0.033333</td>\n",
       "      <td>17</td>\n",
       "      <td>0.283333</td>\n",
       "    </tr>\n",
       "    <tr>\n",
       "      <th>ab+</th>\n",
       "      <td>1</td>\n",
       "      <td>0.016667</td>\n",
       "      <td>18</td>\n",
       "      <td>0.300000</td>\n",
       "    </tr>\n",
       "    <tr>\n",
       "      <th>ab-</th>\n",
       "      <td>1</td>\n",
       "      <td>0.016667</td>\n",
       "      <td>19</td>\n",
       "      <td>0.316667</td>\n",
       "    </tr>\n",
       "    <tr>\n",
       "      <th>b+</th>\n",
       "      <td>6</td>\n",
       "      <td>0.100000</td>\n",
       "      <td>25</td>\n",
       "      <td>0.416667</td>\n",
       "    </tr>\n",
       "    <tr>\n",
       "      <th>b-</th>\n",
       "      <td>1</td>\n",
       "      <td>0.016667</td>\n",
       "      <td>26</td>\n",
       "      <td>0.433333</td>\n",
       "    </tr>\n",
       "    <tr>\n",
       "      <th>o+</th>\n",
       "      <td>32</td>\n",
       "      <td>0.533333</td>\n",
       "      <td>58</td>\n",
       "      <td>0.966667</td>\n",
       "    </tr>\n",
       "    <tr>\n",
       "      <th>o-</th>\n",
       "      <td>2</td>\n",
       "      <td>0.033333</td>\n",
       "      <td>60</td>\n",
       "      <td>1.000000</td>\n",
       "    </tr>\n",
       "  </tbody>\n",
       "</table>\n",
       "</div>"
      ],
      "text/plain": [
       "            frequencia  frequencia_relativa  frequencia_acumulada  \\\n",
       "blood_type                                                          \n",
       "a+                  15             0.250000                    15   \n",
       "a-                   2             0.033333                    17   \n",
       "ab+                  1             0.016667                    18   \n",
       "ab-                  1             0.016667                    19   \n",
       "b+                   6             0.100000                    25   \n",
       "b-                   1             0.016667                    26   \n",
       "o+                  32             0.533333                    58   \n",
       "o-                   2             0.033333                    60   \n",
       "\n",
       "            frequencia_relativa_acumulada  \n",
       "blood_type                                 \n",
       "a+                               0.250000  \n",
       "a-                               0.283333  \n",
       "ab+                              0.300000  \n",
       "ab-                              0.316667  \n",
       "b+                               0.416667  \n",
       "b-                               0.433333  \n",
       "o+                               0.966667  \n",
       "o-                               1.000000  "
      ]
     },
     "execution_count": 11,
     "metadata": {},
     "output_type": "execute_result"
    }
   ],
   "source": [
    "tabela_dist_freq(df, 'blood_type')"
   ]
  },
  {
   "cell_type": "code",
   "execution_count": null,
   "metadata": {},
   "outputs": [],
   "source": []
  }
 ],
 "metadata": {
  "colab": {
   "authorship_tag": "ABX9TyOO8K5BetSGGC3OblQiI2Yh",
   "include_colab_link": true,
   "provenance": []
  },
  "kernelspec": {
   "display_name": "Python 3",
   "name": "python3"
  },
  "language_info": {
   "codemirror_mode": {
    "name": "ipython",
    "version": 3
   },
   "file_extension": ".py",
   "mimetype": "text/x-python",
   "name": "python",
   "nbconvert_exporter": "python",
   "pygments_lexer": "ipython3",
   "version": "3.12.2"
  }
 },
 "nbformat": 4,
 "nbformat_minor": 0
}
