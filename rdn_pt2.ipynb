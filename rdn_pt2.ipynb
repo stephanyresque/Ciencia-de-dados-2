{
  "nbformat": 4,
  "nbformat_minor": 0,
  "metadata": {
    "colab": {
      "provenance": [],
      "gpuType": "T4",
      "authorship_tag": "ABX9TyPvfdCNK0e6HF44+czljCg0",
      "include_colab_link": true
    },
    "kernelspec": {
      "name": "python3",
      "display_name": "Python 3"
    },
    "language_info": {
      "name": "python"
    },
    "accelerator": "GPU"
  },
  "cells": [
    {
      "cell_type": "markdown",
      "metadata": {
        "id": "view-in-github",
        "colab_type": "text"
      },
      "source": [
        "<a href=\"https://colab.research.google.com/github/stephanyresque/Ciencia-de-dados-2/blob/main/rdn_pt2.ipynb\" target=\"_parent\"><img src=\"https://colab.research.google.com/assets/colab-badge.svg\" alt=\"Open In Colab\"/></a>"
      ]
    },
    {
      "cell_type": "code",
      "execution_count": 1,
      "metadata": {
        "id": "HB3HbtlT4z6N"
      },
      "outputs": [],
      "source": [
        "import torch\n",
        "from torch import nn, optim"
      ]
    },
    {
      "cell_type": "code",
      "source": [
        "# 1. Definindo a Estrutura da Rede Neural\n",
        "class RedeNeuralSimples(nn.Module):\n",
        "    def __init__(self):\n",
        "        super(RedeNeuralSimples, self).__init__()\n",
        "        # Definindo as camadas: uma camada oculta e uma de saída\n",
        "        self.oculta = nn.Linear(3, 4)   # Camada oculta: 3 entradas, 4 neurônios de saída\n",
        "        self.saida = nn.Linear(4, 1)    # Camada de saída: 4 entradas da camada anterior, 1 saída final\n",
        "\n",
        "    def forward(self, x):\n",
        "        # Passar pela camada oculta e aplicar ReLU\n",
        "        x = self.oculta(x)\n",
        "        x = nn.ReLU()(x)\n",
        "\n",
        "        # Passar pela camada de saída\n",
        "        x = self.saida(x)\n",
        "        return x"
      ],
      "metadata": {
        "id": "hX0V2Ucr51h5"
      },
      "execution_count": 2,
      "outputs": []
    },
    {
      "cell_type": "code",
      "source": [
        "# 2. Inicializando a Rede Neural\n",
        "modelo = RedeNeuralSimples()\n",
        "\n",
        "# 3. Definindo a Função de Perda e o Otimizador\n",
        "criterio = nn.MSELoss()               # Usando Erro Quadrático Médio para medir o erro\n",
        "otimizador = optim.Adam(modelo.parameters(), lr=0.01)  # Usando Adam com taxa de aprendizado 0.01\n",
        "\n",
        "# 4. Dados Fictícios de Entrada e Saída Esperada\n",
        "entrada = torch.tensor([[0.5, 0.3, 0.2]])   # Dados de entrada com 3 características\n",
        "saida_esperada = torch.tensor([[0.7]])      # Saída esperada\n",
        "\n",
        "# 5. Treinamento da Rede (Loop de 100 épocas)\n",
        "for epoca in range(100):\n",
        "    otimizador.zero_grad()         # Etapa 1: Zerar gradientes\n",
        "    saida = modelo(entrada)        # Etapa 2: Forward pass - cálculo da saída\n",
        "    perda = criterio(saida, saida_esperada)  # Etapa 3: Calcular a perda\n",
        "    perda.backward()               # Etapa 4: Retropropagação - cálculo dos gradientes\n",
        "    otimizador.step()              # Etapa 5: Ajuste dos pesos com base nos gradientes\n",
        "\n",
        "    if epoca % 10 == 0:\n",
        "        print(f\"Época {epoca+1}, Perda: {perda.item()}\")"
      ],
      "metadata": {
        "colab": {
          "base_uri": "https://localhost:8080/"
        },
        "id": "mRbkQvsZ6-3L",
        "outputId": "b7bbd39b-cf38-4107-b41b-76c58762fd2b"
      },
      "execution_count": 3,
      "outputs": [
        {
          "output_type": "stream",
          "name": "stdout",
          "text": [
            "Época 1, Perda: 0.09817972034215927\n",
            "Época 11, Perda: 0.018452376127243042\n",
            "Época 21, Perda: 0.0005045874277129769\n",
            "Época 31, Perda: 0.0008038777159526944\n",
            "Época 41, Perda: 0.0009118710877373815\n",
            "Época 51, Perda: 0.00013026423403061926\n",
            "Época 61, Perda: 1.128141229855828e-05\n",
            "Época 71, Perda: 4.0886650822358206e-05\n",
            "Época 81, Perda: 6.7000783019466326e-06\n",
            "Época 91, Perda: 8.47602564135741e-07\n"
          ]
        }
      ]
    }
  ]
}