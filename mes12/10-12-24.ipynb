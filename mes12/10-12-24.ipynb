{
 "cells": [
  {
   "cell_type": "code",
   "execution_count": 3,
   "metadata": {},
   "outputs": [
    {
     "data": {
      "text/html": [
       "<div>\n",
       "<style scoped>\n",
       "    .dataframe tbody tr th:only-of-type {\n",
       "        vertical-align: middle;\n",
       "    }\n",
       "\n",
       "    .dataframe tbody tr th {\n",
       "        vertical-align: top;\n",
       "    }\n",
       "\n",
       "    .dataframe thead th {\n",
       "        text-align: right;\n",
       "    }\n",
       "</style>\n",
       "<table border=\"1\" class=\"dataframe\">\n",
       "  <thead>\n",
       "    <tr style=\"text-align: right;\">\n",
       "      <th></th>\n",
       "      <th>grades</th>\n",
       "    </tr>\n",
       "  </thead>\n",
       "  <tbody>\n",
       "    <tr>\n",
       "      <th>0</th>\n",
       "      <td>4.2</td>\n",
       "    </tr>\n",
       "    <tr>\n",
       "      <th>1</th>\n",
       "      <td>3.9</td>\n",
       "    </tr>\n",
       "    <tr>\n",
       "      <th>2</th>\n",
       "      <td>5.7</td>\n",
       "    </tr>\n",
       "    <tr>\n",
       "      <th>3</th>\n",
       "      <td>6.5</td>\n",
       "    </tr>\n",
       "    <tr>\n",
       "      <th>4</th>\n",
       "      <td>4.6</td>\n",
       "    </tr>\n",
       "  </tbody>\n",
       "</table>\n",
       "</div>"
      ],
      "text/plain": [
       "   grades\n",
       "0     4.2\n",
       "1     3.9\n",
       "2     5.7\n",
       "3     6.5\n",
       "4     4.6"
      ]
     },
     "execution_count": 3,
     "metadata": {},
     "output_type": "execute_result"
    }
   ],
   "source": [
    "import pandas as pd\n",
    "import numpy as np\n",
    "\n",
    "DATA = 'C:\\\\Users\\\\steph\\\\OneDrive\\\\Documentos\\\\MeusProjetos\\\\Ciencia-de-dados\\\\dados_hash\\\\grades.csv'\n",
    "\n",
    "df = pd.read_csv(DATA)\n",
    "\n",
    "df.head()"
   ]
  },
  {
   "cell_type": "code",
   "execution_count": 4,
   "metadata": {},
   "outputs": [
    {
     "data": {
      "text/plain": [
       "array([3.5       , 4.38333333, 5.26666667, 6.15      , 7.03333333,\n",
       "       7.91666667, 8.8       ])"
      ]
     },
     "execution_count": 4,
     "metadata": {},
     "output_type": "execute_result"
    }
   ],
   "source": [
    "bins = np.histogram_bin_edges(df['grades'], bins = 'sturges')\n",
    "\n",
    "bins"
   ]
  },
  {
   "cell_type": "code",
   "execution_count": 5,
   "metadata": {},
   "outputs": [
    {
     "data": {
      "text/plain": [
       "array([3.5, 4.5, 5.5, 6.5, 7.5, 8.5, 9.5])"
      ]
     },
     "execution_count": 5,
     "metadata": {},
     "output_type": "execute_result"
    }
   ],
   "source": [
    "tamanho_intervalo = bins[1:] - bins[:-1]\n",
    "\n",
    "tamanho_intervalo_inteiro = np.zeros(len(bins))\n",
    "\n",
    "tamanho_intervalo_inteiro[1:] = np.ceil(tamanho_intervalo)\n",
    "\n",
    "\n",
    "bins_arredondados = bins[0] + np.cumsum(tamanho_intervalo_inteiro)\n",
    "\n",
    "bins_arredondados"
   ]
  },
  {
   "cell_type": "code",
   "execution_count": 6,
   "metadata": {},
   "outputs": [
    {
     "data": {
      "text/html": [
       "<div>\n",
       "<style scoped>\n",
       "    .dataframe tbody tr th:only-of-type {\n",
       "        vertical-align: middle;\n",
       "    }\n",
       "\n",
       "    .dataframe tbody tr th {\n",
       "        vertical-align: top;\n",
       "    }\n",
       "\n",
       "    .dataframe thead th {\n",
       "        text-align: right;\n",
       "    }\n",
       "</style>\n",
       "<table border=\"1\" class=\"dataframe\">\n",
       "  <thead>\n",
       "    <tr style=\"text-align: right;\">\n",
       "      <th></th>\n",
       "      <th>count</th>\n",
       "    </tr>\n",
       "    <tr>\n",
       "      <th>grades</th>\n",
       "      <th></th>\n",
       "    </tr>\n",
       "  </thead>\n",
       "  <tbody>\n",
       "    <tr>\n",
       "      <th>[3.5, 4.5)</th>\n",
       "      <td>5</td>\n",
       "    </tr>\n",
       "    <tr>\n",
       "      <th>[4.5, 5.5)</th>\n",
       "      <td>9</td>\n",
       "    </tr>\n",
       "    <tr>\n",
       "      <th>[5.5, 6.5)</th>\n",
       "      <td>7</td>\n",
       "    </tr>\n",
       "    <tr>\n",
       "      <th>[6.5, 7.5)</th>\n",
       "      <td>7</td>\n",
       "    </tr>\n",
       "    <tr>\n",
       "      <th>[7.5, 8.5)</th>\n",
       "      <td>1</td>\n",
       "    </tr>\n",
       "    <tr>\n",
       "      <th>[8.5, 9.5)</th>\n",
       "      <td>1</td>\n",
       "    </tr>\n",
       "  </tbody>\n",
       "</table>\n",
       "</div>"
      ],
      "text/plain": [
       "            count\n",
       "grades           \n",
       "[3.5, 4.5)      5\n",
       "[4.5, 5.5)      9\n",
       "[5.5, 6.5)      7\n",
       "[6.5, 7.5)      7\n",
       "[7.5, 8.5)      1\n",
       "[8.5, 9.5)      1"
      ]
     },
     "execution_count": 6,
     "metadata": {},
     "output_type": "execute_result"
    }
   ],
   "source": [
    "df_notas = pd.cut(\n",
    "    df['grades'], bins = bins_arredondados, include_lowest=True, right = False\n",
    ").value_counts().sort_index().to_frame()\n",
    "\n",
    "df_notas"
   ]
  },
  {
   "cell_type": "code",
   "execution_count": 7,
   "metadata": {},
   "outputs": [],
   "source": [
    "import sys\n",
    "import os\n",
    "sys.path.append(os.path.abspath('../'))"
   ]
  },
  {
   "cell_type": "code",
   "execution_count": 9,
   "metadata": {},
   "outputs": [
    {
     "data": {
      "text/html": [
       "<div>\n",
       "<style scoped>\n",
       "    .dataframe tbody tr th:only-of-type {\n",
       "        vertical-align: middle;\n",
       "    }\n",
       "\n",
       "    .dataframe tbody tr th {\n",
       "        vertical-align: top;\n",
       "    }\n",
       "\n",
       "    .dataframe thead th {\n",
       "        text-align: right;\n",
       "    }\n",
       "</style>\n",
       "<table border=\"1\" class=\"dataframe\">\n",
       "  <thead>\n",
       "    <tr style=\"text-align: right;\">\n",
       "      <th></th>\n",
       "      <th>frequencia</th>\n",
       "      <th>frequencia_relativa</th>\n",
       "      <th>frequencia_acumulada</th>\n",
       "      <th>frequencia_relativa_acumulada</th>\n",
       "    </tr>\n",
       "    <tr>\n",
       "      <th>grades</th>\n",
       "      <th></th>\n",
       "      <th></th>\n",
       "      <th></th>\n",
       "      <th></th>\n",
       "    </tr>\n",
       "  </thead>\n",
       "  <tbody>\n",
       "    <tr>\n",
       "      <th>[3.5, 4.5)</th>\n",
       "      <td>5</td>\n",
       "      <td>0.166667</td>\n",
       "      <td>5</td>\n",
       "      <td>0.166667</td>\n",
       "    </tr>\n",
       "    <tr>\n",
       "      <th>[4.5, 5.5)</th>\n",
       "      <td>9</td>\n",
       "      <td>0.300000</td>\n",
       "      <td>14</td>\n",
       "      <td>0.466667</td>\n",
       "    </tr>\n",
       "    <tr>\n",
       "      <th>[5.5, 6.5)</th>\n",
       "      <td>7</td>\n",
       "      <td>0.233333</td>\n",
       "      <td>21</td>\n",
       "      <td>0.700000</td>\n",
       "    </tr>\n",
       "    <tr>\n",
       "      <th>[6.5, 7.5)</th>\n",
       "      <td>7</td>\n",
       "      <td>0.233333</td>\n",
       "      <td>28</td>\n",
       "      <td>0.933333</td>\n",
       "    </tr>\n",
       "    <tr>\n",
       "      <th>[7.5, 8.5)</th>\n",
       "      <td>1</td>\n",
       "      <td>0.033333</td>\n",
       "      <td>29</td>\n",
       "      <td>0.966667</td>\n",
       "    </tr>\n",
       "    <tr>\n",
       "      <th>[8.5, 9.5)</th>\n",
       "      <td>1</td>\n",
       "      <td>0.033333</td>\n",
       "      <td>30</td>\n",
       "      <td>1.000000</td>\n",
       "    </tr>\n",
       "  </tbody>\n",
       "</table>\n",
       "</div>"
      ],
      "text/plain": [
       "            frequencia  frequencia_relativa  frequencia_acumulada  \\\n",
       "grades                                                              \n",
       "[3.5, 4.5)           5             0.166667                     5   \n",
       "[4.5, 5.5)           9             0.300000                    14   \n",
       "[5.5, 6.5)           7             0.233333                    21   \n",
       "[6.5, 7.5)           7             0.233333                    28   \n",
       "[7.5, 8.5)           1             0.033333                    29   \n",
       "[8.5, 9.5)           1             0.033333                    30   \n",
       "\n",
       "            frequencia_relativa_acumulada  \n",
       "grades                                     \n",
       "[3.5, 4.5)                       0.166667  \n",
       "[4.5, 5.5)                       0.466667  \n",
       "[5.5, 6.5)                       0.700000  \n",
       "[6.5, 7.5)                       0.933333  \n",
       "[7.5, 8.5)                       0.966667  \n",
       "[8.5, 9.5)                       1.000000  "
      ]
     },
     "execution_count": 9,
     "metadata": {},
     "output_type": "execute_result"
    }
   ],
   "source": [
    "from meus_modulos.auxiliares import tabela_dist_freq\n",
    "\n",
    "tabela_dist_freq(df_notas, 'count', True)"
   ]
  },
  {
   "cell_type": "code",
   "execution_count": 11,
   "metadata": {},
   "outputs": [
    {
     "data": {
      "text/plain": [
       "<Axes: ylabel='Frequency'>"
      ]
     },
     "execution_count": 11,
     "metadata": {},
     "output_type": "execute_result"
    },
    {
     "data": {
      "image/png": "[encoded data removed]",
      "text/plain": [
       "<Figure size 640x480 with 1 Axes>"
      ]
     },
     "metadata": {},
     "output_type": "display_data"
    }
   ],
   "source": [
    "df['grades'].plot.hist(bins = bins_arredondados, edgecolor = 'black')"
   ]
  },
  {
   "cell_type": "code",
   "execution_count": 16,
   "metadata": {},
   "outputs": [
    {
     "data": {
      "image/png": "[encoded data removed]",
      "text/plain": [
       "<Figure size 640x480 with 1 Axes>"
      ]
     },
     "metadata": {},
     "output_type": "display_data"
    }
   ],
   "source": [
    "import seaborn as sns\n",
    "import matplotlib.pyplot as plt\n",
    "\n",
    "h = sns.histplot(df, x = 'grades', bins = bins_arredondados)\n",
    "\n",
    "for barra in h.containers:\n",
    "    h.bar_label(barra, color = 'black', fontweight = 'bold')\n",
    "\n",
    "h.set_xticks(bins_arredondados)\n",
    "h.set_xlabel('Intervalo de notas')\n",
    "h.set_ylabel('Contagem de alunos')\n",
    "\n",
    "plt.show()"
   ]
  },
  {
   "cell_type": "code",
   "execution_count": 18,
   "metadata": {},
   "outputs": [
    {
     "data": {
      "image/png": "[encoded data removed]",
      "text/plain": [
       "<Figure size 640x480 with 1 Axes>"
      ]
     },
     "metadata": {},
     "output_type": "display_data"
    }
   ],
   "source": [
    "h = sns.histplot(df, x = 'grades', bins = bins_arredondados, cumulative=True)\n",
    "\n",
    "for barra in h.containers:\n",
    "    h.bar_label(barra, color = 'black', fontweight = 'bold')\n",
    "\n",
    "plt.show()"
   ]
  },
  {
   "cell_type": "code",
   "execution_count": 20,
   "metadata": {},
   "outputs": [
    {
     "data": {
      "image/png": "[encoded data removed]",
      "text/plain": [
       "<Figure size 640x480 with 1 Axes>"
      ]
     },
     "metadata": {},
     "output_type": "display_data"
    }
   ],
   "source": [
    "h = sns.histplot(df, x = 'grades', bins = bins_arredondados, stat = 'percent')\n",
    "\n",
    "for barra in h.containers:\n",
    "    h.bar_label(\n",
    "        barra, \n",
    "        color = 'black', \n",
    "        fontweight = 'bold', \n",
    "        labels = [f'{b.get_height():.1f}' for b in barra]\n",
    "    )\n",
    "\n",
    "plt.show()"
   ]
  },
  {
   "cell_type": "code",
   "execution_count": 21,
   "metadata": {},
   "outputs": [
    {
     "data": {
      "image/png": "[encoded data removed]",
      "text/plain": [
       "<Figure size 640x480 with 1 Axes>"
      ]
     },
     "metadata": {},
     "output_type": "display_data"
    }
   ],
   "source": [
    "h = sns.histplot(df, x = 'grades', bins = bins_arredondados, kde = True)\n",
    "\n",
    "for barra in h.containers:\n",
    "    h.bar_label(\n",
    "        barra, \n",
    "        color = 'black', \n",
    "        fontweight = 'bold', \n",
    "    )\n",
    "\n",
    "plt.show()"
   ]
  }
 ],
 "metadata": {
  "kernelspec": {
   "display_name": "Python 3",
   "language": "python",
   "name": "python3"
  },
  "language_info": {
   "codemirror_mode": {
    "name": "ipython",
    "version": 3
   },
   "file_extension": ".py",
   "mimetype": "text/x-python",
   "name": "python",
   "nbconvert_exporter": "python",
   "pygments_lexer": "ipython3",
   "version": "3.12.2"
  }
 },
 "nbformat": 4,
 "nbformat_minor": 2
}
