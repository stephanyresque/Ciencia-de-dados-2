{
  "nbformat": 4,
  "nbformat_minor": 0,
  "metadata": {
    "colab": {
      "provenance": [],
      "authorship_tag": "ABX9TyOesDTto7Fr4FsDHEz190cQ",
      "include_colab_link": true
    },
    "kernelspec": {
      "name": "python3",
      "display_name": "Python 3"
    },
    "language_info": {
      "name": "python"
    }
  },
  "cells": [
    {
      "cell_type": "markdown",
      "metadata": {
        "id": "view-in-github",
        "colab_type": "text"
      },
      "source": [
        "<a href=\"https://colab.research.google.com/github/stephanyresque/Ciencia-de-dados-2/blob/main/18_09_24.ipynb\" target=\"_parent\"><img src=\"https://colab.research.google.com/assets/colab-badge.svg\" alt=\"Open In Colab\"/></a>"
      ]
    },
    {
      "cell_type": "markdown",
      "source": [
        "# funções p2"
      ],
      "metadata": {
        "id": "U4pqhiLs-ldB"
      }
    },
    {
      "cell_type": "code",
      "source": [
        "def calculo_desconto(valor_original, desconto):\n",
        "  valor_desconto = valor_original * (desconto / 100)\n",
        "  valor_final = valor_original - valor_desconto\n",
        "  return valor_final, valor_desconto #retorna uma tupla com dois valores"
      ],
      "metadata": {
        "id": "kuDy7vDZ-oKp"
      },
      "execution_count": 5,
      "outputs": []
    },
    {
      "cell_type": "code",
      "source": [
        "tupla = calculo_desconto(180, 10)\n",
        "print(tupla)"
      ],
      "metadata": {
        "colab": {
          "base_uri": "https://localhost:8080/"
        },
        "id": "V5JLtO6d_K2Z",
        "outputId": "40308fd4-8463-4112-817b-42fe881977d4"
      },
      "execution_count": 6,
      "outputs": [
        {
          "output_type": "stream",
          "name": "stdout",
          "text": [
            "(162.0, 18.0)\n"
          ]
        }
      ]
    },
    {
      "cell_type": "code",
      "source": [
        "preco_final, desconto = calculo_desconto(180, 10)\n",
        "print(preco_final)\n",
        "print(desconto)"
      ],
      "metadata": {
        "colab": {
          "base_uri": "https://localhost:8080/"
        },
        "id": "qjC7arxw_epK",
        "outputId": "199912a1-2acc-4694-99ce-b4634ec72241"
      },
      "execution_count": 7,
      "outputs": [
        {
          "output_type": "stream",
          "name": "stdout",
          "text": [
            "162.0\n",
            "18.0\n"
          ]
        }
      ]
    },
    {
      "cell_type": "code",
      "source": [
        "produtos = {\n",
        "    'Camisa masculina M': {'preco': 50.0, 'desconto': 10},\n",
        "    'Calça feminina P': {'preco': 100.0, 'desconto': 5},\n",
        "    'Mochila': {'preco': 150.0, 'desconto': 15},\n",
        "    'Relógio': {'preco': 200.0, 'desconto': 20},\n",
        "}\n",
        "\n",
        "produtos_atualizados = {}\n",
        "\n",
        "for produto in produtos:\n",
        "  preco_final, desconto = calculo_desconto(produtos[produto]['preco'], produtos[produto]['desconto'])\n",
        "  produtos_atualizados[produto] = {'preco': preco_final, 'valor desconto': desconto}\n",
        "\n",
        "produtos_atualizados"
      ],
      "metadata": {
        "colab": {
          "base_uri": "https://localhost:8080/"
        },
        "id": "WgWDe-OWALaZ",
        "outputId": "7885e3ad-c05e-4782-b1ca-f4141bb3ad69"
      },
      "execution_count": 10,
      "outputs": [
        {
          "output_type": "execute_result",
          "data": {
            "text/plain": [
              "{'Camisa masculina M': {'preco': 45.0, 'valor desconto': 5.0},\n",
              " 'Calça feminina P': {'preco': 95.0, 'valor desconto': 5.0},\n",
              " 'Mochila': {'preco': 127.5, 'valor desconto': 22.5},\n",
              " 'Relógio': {'preco': 160.0, 'valor desconto': 40.0}}"
            ]
          },
          "metadata": {},
          "execution_count": 10
        }
      ]
    },
    {
      "cell_type": "markdown",
      "source": [
        "# Exercícios"
      ],
      "metadata": {
        "id": "Jgw7cpoLB3Z5"
      }
    },
    {
      "cell_type": "code",
      "source": [
        "#Exercício 01\n",
        "\n",
        "def aumento_salarial(salario, aumento):\n",
        "\n",
        "  novo_salario = salario + (salario * (aumento / 100))\n",
        "  return novo_salario\n",
        "\n",
        "aumento_salarial(6420, 25)"
      ],
      "metadata": {
        "colab": {
          "base_uri": "https://localhost:8080/"
        },
        "id": "2aMpQ0A2B59g",
        "outputId": "1935dc22-4157-4df6-94bc-fccdd63a4399"
      },
      "execution_count": 11,
      "outputs": [
        {
          "output_type": "execute_result",
          "data": {
            "text/plain": [
              "8025.0"
            ]
          },
          "metadata": {},
          "execution_count": 11
        }
      ]
    },
    {
      "cell_type": "code",
      "source": [
        "#exe 2\n",
        "\n",
        "def normalizar(numeros):\n",
        "\n",
        "  numeros_normalizados = []\n",
        "  for numero in numeros:\n",
        "    numeros_normalizados.append( (numero - min(numeros)) / (max(numeros) - min(numeros)) )\n",
        "\n",
        "  return numeros_normalizados\n",
        "\n",
        "lista_numeros = [2,4,56,7,22,34,10, 12, 25]\n",
        "\n",
        "normalizar(lista_numeros)"
      ],
      "metadata": {
        "colab": {
          "base_uri": "https://localhost:8080/"
        },
        "id": "Cf92uTwMDSL1",
        "outputId": "9833cb71-5f5c-4114-ace0-4f31f5338ba4"
      },
      "execution_count": 13,
      "outputs": [
        {
          "output_type": "execute_result",
          "data": {
            "text/plain": [
              "[0.0,\n",
              " 0.037037037037037035,\n",
              " 1.0,\n",
              " 0.09259259259259259,\n",
              " 0.37037037037037035,\n",
              " 0.5925925925925926,\n",
              " 0.14814814814814814,\n",
              " 0.18518518518518517,\n",
              " 0.42592592592592593]"
            ]
          },
          "metadata": {},
          "execution_count": 13
        }
      ]
    },
    {
      "cell_type": "code",
      "source": [
        "#exe 3\n",
        "\n",
        "def gerar_email(nome):\n",
        "  nomes = nome.lower().split()\n",
        "\n",
        "  email = f\"{nomes[0]}.{nomes[-1]}@ceia.com\"\n",
        "  return email\n",
        "\n",
        "gerar_email('Stephany Jorge Araújo Resque')"
      ],
      "metadata": {
        "colab": {
          "base_uri": "https://localhost:8080/",
          "height": 36
        },
        "id": "mZEozWSSEMOx",
        "outputId": "b62125fb-df8e-4850-b720-13a755ac0008"
      },
      "execution_count": 16,
      "outputs": [
        {
          "output_type": "execute_result",
          "data": {
            "text/plain": [
              "'stephany.resque@ceia.com'"
            ],
            "application/vnd.google.colaboratory.intrinsic+json": {
              "type": "string"
            }
          },
          "metadata": {},
          "execution_count": 16
        }
      ]
    },
    {
      "cell_type": "code",
      "source": [
        "#exe 4\n",
        "compras = [100, 250, 550, 150, 450]\n",
        "\n",
        "def segmentar_clientes(compras):\n",
        "  clientes = []\n",
        "  for compra in compras:\n",
        "\n",
        "    if compra > 500:\n",
        "      clientes.append('Alto')\n",
        "    elif compra <= 500 and compra > 200:\n",
        "      clientes.append('Médio')\n",
        "    else:\n",
        "      clientes.append('Baixo')\n",
        "\n",
        "  return clientes\n",
        "\n",
        "segmentar_clientes(compras)"
      ],
      "metadata": {
        "colab": {
          "base_uri": "https://localhost:8080/"
        },
        "id": "7pSnGURiFTb1",
        "outputId": "2c387561-5139-4b91-a92c-732be14336a4"
      },
      "execution_count": 17,
      "outputs": [
        {
          "output_type": "execute_result",
          "data": {
            "text/plain": [
              "['Baixo', 'Médio', 'Alto', 'Baixo', 'Médio']"
            ]
          },
          "metadata": {},
          "execution_count": 17
        }
      ]
    },
    {
      "cell_type": "code",
      "source": [
        "#exe 5\n",
        "\n",
        "emails = ['joao@empresa.com', 'maria@mail.com', 'jose@empresa.com', 'andre@abc.com']\n",
        "\n",
        "def verifica_email(emails):\n",
        "  emails_verificados = []\n",
        "\n",
        "  for email in emails:\n",
        "    if email.endswith('@empresa.com'):\n",
        "      emails_verificados.append(True)\n",
        "    else:\n",
        "      emails_verificados.append(False)\n",
        "\n",
        "  return emails_verificados\n",
        "\n",
        "verifica_email(emails)"
      ],
      "metadata": {
        "colab": {
          "base_uri": "https://localhost:8080/"
        },
        "id": "tYwnp_ISF_Rx",
        "outputId": "92ccd3ff-cc13-4ea5-9886-09663679c9fc"
      },
      "execution_count": 18,
      "outputs": [
        {
          "output_type": "execute_result",
          "data": {
            "text/plain": [
              "[True, False, True, False]"
            ]
          },
          "metadata": {},
          "execution_count": 18
        }
      ]
    },
    {
      "cell_type": "markdown",
      "source": [
        "# Classes"
      ],
      "metadata": {
        "id": "j1MNHsl8HoV7"
      }
    },
    {
      "cell_type": "code",
      "source": [
        "#exemplo simples\n",
        "\n",
        "class Carro:\n",
        "  def __init__(self, marca, modelo, ano):\n",
        "    self.marca = marca\n",
        "    self.modelo = modelo\n",
        "    self.ano = ano\n",
        "\n",
        "  def informacoes(self):\n",
        "    print(f\"Marca: {self.marca}\")\n",
        "    print(f\"Modelo: {self.modelo}\")\n",
        "    print(f\"Ano: {self.ano}\")\n",
        "\n",
        "  def ligar(self):\n",
        "    print(f\"Carro está ligado\")\n",
        "\n",
        "  def desligar(self):\n",
        "    print(f\"Carro está desligado\")\n",
        "\n",
        ""
      ],
      "metadata": {
        "id": "bbXXG9mVH3M6"
      },
      "execution_count": 21,
      "outputs": []
    },
    {
      "cell_type": "code",
      "source": [
        "carro1 = Carro('Toyota', 'Corolla', 2020)\n",
        "carro1.informacoes()\n",
        "\n",
        "carro1.ligar()\n",
        "carro1.desligar()"
      ],
      "metadata": {
        "colab": {
          "base_uri": "https://localhost:8080/"
        },
        "id": "-taPpTIjKPOK",
        "outputId": "ec593409-9e0e-4219-a3bd-d7727f55a09b"
      },
      "execution_count": 22,
      "outputs": [
        {
          "output_type": "stream",
          "name": "stdout",
          "text": [
            "Marca: Toyota\n",
            "Modelo: Corolla\n",
            "Ano: 2020\n",
            "Carro está ligado\n",
            "Carro está desligado\n"
          ]
        }
      ]
    },
    {
      "cell_type": "code",
      "source": [
        "carro1.marca, carro1.modelo, carro1.ano"
      ],
      "metadata": {
        "colab": {
          "base_uri": "https://localhost:8080/"
        },
        "id": "ejtwgGIXLYYy",
        "outputId": "e05e4ebd-95d4-4993-e72f-979766f8697b"
      },
      "execution_count": 23,
      "outputs": [
        {
          "output_type": "execute_result",
          "data": {
            "text/plain": [
              "('Toyota', 'Corolla', 2020)"
            ]
          },
          "metadata": {},
          "execution_count": 23
        }
      ]
    },
    {
      "cell_type": "code",
      "source": [
        "class Venda:\n",
        "\n",
        "  def __init__(self, id, produto, quantidade, preco_unitario):\n",
        "    self.id = id\n",
        "    self.produto = produto\n",
        "    self.quantidade = quantidade\n",
        "    self.preco_unitario = preco_unitario\n",
        "    self.preco_total = 0\n",
        "\n",
        "  def calcular_total(self):\n",
        "    self.preco_total = self.quantidade * self.preco_unitario\n",
        "    return self.preco_total\n",
        "\n",
        "  def resumo_compra(self):\n",
        "    print(f\"ID: {self.id}\")\n",
        "    print(f\"Produto: {self.produto}\")\n",
        "    print(f\"Quantidade: {self.quantidade}\")\n",
        "    print(f\"Preço unitário: {self.preco_unitario}\")\n",
        "\n",
        "    if self.preco_total > 0:\n",
        "      print(f\"Preço total: {self.preco_total}\")\n",
        "    else:\n",
        "      print(\"Preço total não calculado\")\n",
        ""
      ],
      "metadata": {
        "id": "TZEavCc3LiDT"
      },
      "execution_count": 24,
      "outputs": []
    },
    {
      "cell_type": "code",
      "source": [
        "p1 = Venda(278, 'Camisa', 5, 59.90)\n",
        "\n",
        "p1.calcular_total()\n",
        "p1.resumo_compra()"
      ],
      "metadata": {
        "colab": {
          "base_uri": "https://localhost:8080/"
        },
        "id": "9J8r2nNAOT_S",
        "outputId": "912096b7-d477-4ec0-c2d6-a1f8ef58ec8c"
      },
      "execution_count": 25,
      "outputs": [
        {
          "output_type": "stream",
          "name": "stdout",
          "text": [
            "ID: 278\n",
            "Produto: Camisa\n",
            "Quantidade: 5\n",
            "Preço unitário: 59.9\n",
            "Preço total: 299.5\n"
          ]
        }
      ]
    }
  ]
}