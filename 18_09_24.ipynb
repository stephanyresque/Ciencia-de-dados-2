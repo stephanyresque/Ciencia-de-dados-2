{
  "nbformat": 4,
  "nbformat_minor": 0,
  "metadata": {
    "colab": {
      "provenance": [],
      "authorship_tag": "ABX9TyPexLlOblK4oRnKCuA45ojd",
      "include_colab_link": true
    },
    "kernelspec": {
      "name": "python3",
      "display_name": "Python 3"
    },
    "language_info": {
      "name": "python"
    }
  },
  "cells": [
    {
      "cell_type": "markdown",
      "metadata": {
        "id": "view-in-github",
        "colab_type": "text"
      },
      "source": [
        "<a href=\"https://colab.research.google.com/github/stephanyresque/Ciencia-de-dados-2/blob/main/18_09_24.ipynb\" target=\"_parent\"><img src=\"https://colab.research.google.com/assets/colab-badge.svg\" alt=\"Open In Colab\"/></a>"
      ]
    },
    {
      "cell_type": "markdown",
      "source": [
        "# funções p2"
      ],
      "metadata": {
        "id": "U4pqhiLs-ldB"
      }
    },
    {
      "cell_type": "code",
      "source": [
        "def calculo_desconto(valor_original, desconto):\n",
        "  valor_desconto = valor_original * (desconto / 100)\n",
        "  valor_final = valor_original - valor_desconto\n",
        "  return valor_final, valor_desconto #retorna uma tupla com dois valores"
      ],
      "metadata": {
        "id": "kuDy7vDZ-oKp"
      },
      "execution_count": 5,
      "outputs": []
    },
    {
      "cell_type": "code",
      "source": [
        "tupla = calculo_desconto(180, 10)\n",
        "print(tupla)"
      ],
      "metadata": {
        "colab": {
          "base_uri": "https://localhost:8080/"
        },
        "id": "V5JLtO6d_K2Z",
        "outputId": "40308fd4-8463-4112-817b-42fe881977d4"
      },
      "execution_count": 6,
      "outputs": [
        {
          "output_type": "stream",
          "name": "stdout",
          "text": [
            "(162.0, 18.0)\n"
          ]
        }
      ]
    },
    {
      "cell_type": "code",
      "source": [
        "preco_final, desconto = calculo_desconto(180, 10)\n",
        "print(preco_final)\n",
        "print(desconto)"
      ],
      "metadata": {
        "colab": {
          "base_uri": "https://localhost:8080/"
        },
        "id": "qjC7arxw_epK",
        "outputId": "199912a1-2acc-4694-99ce-b4634ec72241"
      },
      "execution_count": 7,
      "outputs": [
        {
          "output_type": "stream",
          "name": "stdout",
          "text": [
            "162.0\n",
            "18.0\n"
          ]
        }
      ]
    },
    {
      "cell_type": "code",
      "source": [
        "produtos = {\n",
        "    'Camisa masculina M': {'preco': 50.0, 'desconto': 10},\n",
        "    'Calça feminina P': {'preco': 100.0, 'desconto': 5},\n",
        "    'Mochila': {'preco': 150.0, 'desconto': 15},\n",
        "    'Relógio': {'preco': 200.0, 'desconto': 20},\n",
        "}\n",
        "\n",
        "produtos_atualizados = {}\n",
        "\n",
        "for produto in produtos:\n",
        "  preco_final, desconto = calculo_desconto(produtos[produto]['preco'], produtos[produto]['desconto'])\n",
        "  produtos_atualizados[produto] = {'preco': preco_final, 'valor desconto': desconto}\n",
        "\n",
        "produtos_atualizados"
      ],
      "metadata": {
        "colab": {
          "base_uri": "https://localhost:8080/"
        },
        "id": "WgWDe-OWALaZ",
        "outputId": "7885e3ad-c05e-4782-b1ca-f4141bb3ad69"
      },
      "execution_count": 10,
      "outputs": [
        {
          "output_type": "execute_result",
          "data": {
            "text/plain": [
              "{'Camisa masculina M': {'preco': 45.0, 'valor desconto': 5.0},\n",
              " 'Calça feminina P': {'preco': 95.0, 'valor desconto': 5.0},\n",
              " 'Mochila': {'preco': 127.5, 'valor desconto': 22.5},\n",
              " 'Relógio': {'preco': 160.0, 'valor desconto': 40.0}}"
            ]
          },
          "metadata": {},
          "execution_count": 10
        }
      ]
    },
    {
      "cell_type": "markdown",
      "source": [
        "# Exercícios"
      ],
      "metadata": {
        "id": "Jgw7cpoLB3Z5"
      }
    },
    {
      "cell_type": "code",
      "source": [
        "#Exercício 01\n",
        "\n",
        "def aumento_salarial(salario, aumento):\n",
        "\n",
        "  novo_salario = salario + (salario * (aumento / 100))\n",
        "  return novo_salario\n",
        "\n",
        "aumento_salarial(6420, 25)"
      ],
      "metadata": {
        "colab": {
          "base_uri": "https://localhost:8080/"
        },
        "id": "2aMpQ0A2B59g",
        "outputId": "1935dc22-4157-4df6-94bc-fccdd63a4399"
      },
      "execution_count": 11,
      "outputs": [
        {
          "output_type": "execute_result",
          "data": {
            "text/plain": [
              "8025.0"
            ]
          },
          "metadata": {},
          "execution_count": 11
        }
      ]
    },
    {
      "cell_type": "code",
      "source": [
        "#exe 2\n",
        "\n",
        "def normalizar(numeros):\n",
        "\n",
        "  numeros_normalizados = []\n",
        "  for numero in numeros:\n",
        "    numeros_normalizados.append( (numero - min(numeros)) / (max(numeros) - min(numeros)) )\n",
        "\n",
        "  return numeros_normalizados\n",
        "\n",
        "lista_numeros = [2,4,56,7,22,34,10, 12, 25]\n",
        "\n",
        "normalizar(lista_numeros)"
      ],
      "metadata": {
        "colab": {
          "base_uri": "https://localhost:8080/"
        },
        "id": "Cf92uTwMDSL1",
        "outputId": "9833cb71-5f5c-4114-ace0-4f31f5338ba4"
      },
      "execution_count": 13,
      "outputs": [
        {
          "output_type": "execute_result",
          "data": {
            "text/plain": [
              "[0.0,\n",
              " 0.037037037037037035,\n",
              " 1.0,\n",
              " 0.09259259259259259,\n",
              " 0.37037037037037035,\n",
              " 0.5925925925925926,\n",
              " 0.14814814814814814,\n",
              " 0.18518518518518517,\n",
              " 0.42592592592592593]"
            ]
          },
          "metadata": {},
          "execution_count": 13
        }
      ]
    },
    {
      "cell_type": "code",
      "source": [
        "#exe 3\n",
        "\n",
        "def gerar_email(nome):\n",
        "  nomes = nome.lower().split()\n",
        "\n",
        "  email = f\"{nomes[0]}.{nomes[-1]}@ceia.com\"\n",
        "  return email\n",
        "\n",
        "gerar_email('Stephany Jorge Araújo Resque')"
      ],
      "metadata": {
        "colab": {
          "base_uri": "https://localhost:8080/",
          "height": 36
        },
        "id": "mZEozWSSEMOx",
        "outputId": "b62125fb-df8e-4850-b720-13a755ac0008"
      },
      "execution_count": 16,
      "outputs": [
        {
          "output_type": "execute_result",
          "data": {
            "text/plain": [
              "'stephany.resque@ceia.com'"
            ],
            "application/vnd.google.colaboratory.intrinsic+json": {
              "type": "string"
            }
          },
          "metadata": {},
          "execution_count": 16
        }
      ]
    },
    {
      "cell_type": "code",
      "source": [
        "#exe 4\n",
        "compras = [100, 250, 550, 150, 450]\n",
        "\n",
        "def segmentar_clientes(compras):\n",
        "  clientes = []\n",
        "  for compra in compras:\n",
        "\n",
        "    if compra > 500:\n",
        "      clientes.append('Alto')\n",
        "    elif compra <= 500 and compra > 200:\n",
        "      clientes.append('Médio')\n",
        "    else:\n",
        "      clientes.append('Baixo')\n",
        "\n",
        "  return clientes\n",
        "\n",
        "segmentar_clientes(compras)"
      ],
      "metadata": {
        "colab": {
          "base_uri": "https://localhost:8080/"
        },
        "id": "7pSnGURiFTb1",
        "outputId": "2c387561-5139-4b91-a92c-732be14336a4"
      },
      "execution_count": 17,
      "outputs": [
        {
          "output_type": "execute_result",
          "data": {
            "text/plain": [
              "['Baixo', 'Médio', 'Alto', 'Baixo', 'Médio']"
            ]
          },
          "metadata": {},
          "execution_count": 17
        }
      ]
    },
    {
      "cell_type": "code",
      "source": [
        "#exe 5\n",
        "\n",
        "emails = ['joao@empresa.com', 'maria@mail.com', 'jose@empresa.com', 'andre@abc.com']\n",
        "\n",
        "def verifica_email(emails):\n",
        "  emails_verificados = []\n",
        "\n",
        "  for email in emails:\n",
        "    if email.endswith('@empresa.com'):\n",
        "      emails_verificados.append(True)\n",
        "    else:\n",
        "      emails_verificados.append(False)\n",
        "\n",
        "  return emails_verificados\n",
        "\n",
        "verifica_email(emails)"
      ],
      "metadata": {
        "colab": {
          "base_uri": "https://localhost:8080/"
        },
        "id": "tYwnp_ISF_Rx",
        "outputId": "92ccd3ff-cc13-4ea5-9886-09663679c9fc"
      },
      "execution_count": 18,
      "outputs": [
        {
          "output_type": "execute_result",
          "data": {
            "text/plain": [
              "[True, False, True, False]"
            ]
          },
          "metadata": {},
          "execution_count": 18
        }
      ]
    },
    {
      "cell_type": "markdown",
      "source": [
        "# Classes"
      ],
      "metadata": {
        "id": "j1MNHsl8HoV7"
      }
    },
    {
      "cell_type": "code",
      "source": [],
      "metadata": {
        "id": "bbXXG9mVH3M6"
      },
      "execution_count": null,
      "outputs": []
    }
  ]
}