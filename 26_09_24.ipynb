{
  "nbformat": 4,
  "nbformat_minor": 0,
  "metadata": {
    "colab": {
      "provenance": [],
      "authorship_tag": "ABX9TyOAxE8X/4JdlYQWYBz83ZLU",
      "include_colab_link": true
    },
    "kernelspec": {
      "name": "python3",
      "display_name": "Python 3"
    },
    "language_info": {
      "name": "python"
    }
  },
  "cells": [
    {
      "cell_type": "markdown",
      "metadata": {
        "id": "view-in-github",
        "colab_type": "text"
      },
      "source": [
        "<a href=\"https://colab.research.google.com/github/stephanyresque/Ciencia-de-dados-2/blob/main/26_09_24.ipynb\" target=\"_parent\"><img src=\"https://colab.research.google.com/assets/colab-badge.svg\" alt=\"Open In Colab\"/></a>"
      ]
    },
    {
      "cell_type": "markdown",
      "source": [
        "# Munpy pt 2"
      ],
      "metadata": {
        "id": "F00W7wHUHi33"
      }
    },
    {
      "cell_type": "markdown",
      "source": [
        "## exercícios"
      ],
      "metadata": {
        "id": "0eRrmZ8OHln4"
      }
    },
    {
      "cell_type": "code",
      "source": [
        "import numpy as np\n",
        "\n",
        "tempos_ciclo = np.array([5.5, 5.7, 5.9, 6.0, 5.8, 5.6, 5.7, 7.2, 4.8])\n",
        "media = np.mean(tempos_ciclo)"
      ],
      "metadata": {
        "id": "KcQy4zUQHoU3"
      },
      "execution_count": 1,
      "outputs": []
    },
    {
      "cell_type": "code",
      "source": [
        "media"
      ],
      "metadata": {
        "colab": {
          "base_uri": "https://localhost:8080/"
        },
        "id": "rnPL4cw4INdA",
        "outputId": "554344df-ce9f-41f6-ac3b-82d04e31c21e"
      },
      "execution_count": 2,
      "outputs": [
        {
          "output_type": "execute_result",
          "data": {
            "text/plain": [
              "5.8"
            ]
          },
          "metadata": {},
          "execution_count": 2
        }
      ]
    },
    {
      "cell_type": "code",
      "source": [
        "desvio_padrao = np.std(tempos_ciclo)\n",
        "print(desvio_padrao)"
      ],
      "metadata": {
        "colab": {
          "base_uri": "https://localhost:8080/"
        },
        "id": "f-LGJO62IRwy",
        "outputId": "c407ebc4-79a2-4fe0-e3ce-fa32757ace4d"
      },
      "execution_count": 4,
      "outputs": [
        {
          "output_type": "stream",
          "name": "stdout",
          "text": [
            "0.592546294487706\n"
          ]
        }
      ]
    },
    {
      "cell_type": "code",
      "source": [
        "posicoes = np.where((tempos_ciclo > media  + 2*desvio_padrao) | (tempos_ciclo < media - 2*desvio_padrao))"
      ],
      "metadata": {
        "id": "0uhcWmteIj-X"
      },
      "execution_count": 9,
      "outputs": []
    },
    {
      "cell_type": "code",
      "source": [
        "print(tempos_ciclo[posicoes])"
      ],
      "metadata": {
        "colab": {
          "base_uri": "https://localhost:8080/"
        },
        "id": "UEaoPHjMI-M3",
        "outputId": "82491ba5-72ab-4760-d4fb-6c9cc46693d7"
      },
      "execution_count": 10,
      "outputs": [
        {
          "output_type": "stream",
          "name": "stdout",
          "text": [
            "[7.2]\n"
          ]
        }
      ]
    },
    {
      "cell_type": "code",
      "source": [
        "posicoes = np.where((tempos_ciclo <= media  + 2*desvio_padrao) & (tempos_ciclo >= media - 2*desvio_padrao))\n",
        "print(tempos_ciclo[posicoes])"
      ],
      "metadata": {
        "colab": {
          "base_uri": "https://localhost:8080/"
        },
        "id": "aJhmIN3dKlGm",
        "outputId": "91bec323-6940-4054-9e48-628ec8e50ab2"
      },
      "execution_count": 13,
      "outputs": [
        {
          "output_type": "stream",
          "name": "stdout",
          "text": [
            "[5.5 5.7 5.9 6.  5.8 5.6 5.7 4.8]\n"
          ]
        }
      ]
    },
    {
      "cell_type": "code",
      "source": [
        "#bônus\n",
        "\n",
        "rng = np.random.default_rng(seed = 0)\n",
        "tempos = rng.normal(loc = media, scale = desvio_padrao, size = 100)\n",
        "print(tempos)"
      ],
      "metadata": {
        "colab": {
          "base_uri": "https://localhost:8080/"
        },
        "id": "Ox9nge_eRwzn",
        "outputId": "0ab8f6d8-e167-41c3-ba8f-cff57900827b"
      },
      "execution_count": 14,
      "outputs": [
        {
          "output_type": "stream",
          "name": "stdout",
          "text": [
            "[5.87450098 5.72172175 6.17948007 5.86215818 5.4825911  6.01426181\n",
            " 6.57268039 6.36118932 5.38300429 5.0501792  5.43068103 5.82448756\n",
            " 4.42231163 5.67035581 5.06174008 5.36609769 5.47750136 5.61257751\n",
            " 6.04391015 6.41773743 5.72383726 6.60969287 5.40584136 6.00828599\n",
            " 6.33534791 5.85570664 5.35944227 5.25383504 5.52877626 5.9304758\n",
            " 5.20175449 5.67605379 5.70565181 6.12047605 5.92719547 6.01057478\n",
            " 5.41257628 5.72319792 6.26454176 6.68492709 5.05394538 6.69706992\n",
            " 6.5974935  6.26296318 5.9567022  5.6139862  6.66394475 6.9615438\n",
            " 6.86755207 6.57925986 6.01176444 5.08401527 5.79736072 6.18899179\n",
            " 5.03658619 6.03412811 6.05471414 6.21243754 5.09835529 5.40791059\n",
            " 5.54139191 5.10683821 6.83065599 5.50614994 5.99492973 5.6467838\n",
            " 6.73828099 6.58237501 6.17529075 4.49431839 5.83082958 6.20511572\n",
            " 6.39489371 5.43386147 6.87962608 5.01758352 5.40801402 6.35406041\n",
            " 5.82906713 6.98651031 5.91170635 5.42480319 5.57627614 5.15344541\n",
            " 5.04291535 6.17354799 6.14436765 6.56708603 5.35286113 6.80087436\n",
            " 5.62970948 6.73290979 5.54355435 5.3641921  5.9480094  6.4111837\n",
            " 5.89540563 5.45304706 5.00526523 4.96953439]\n"
          ]
        }
      ]
    },
    {
      "cell_type": "markdown",
      "source": [
        "## Reshape"
      ],
      "metadata": {
        "id": "F2yool2JSG6V"
      }
    },
    {
      "cell_type": "code",
      "source": [
        "#para mudar o formato do nosso array\n",
        "\n",
        "vendas = np.array([200, 220, 250, 300, 280, 350, 123, 555,788,234, 654, 344, 125, 356])\n",
        "\n",
        "#reorganizar os dados em uma matriz 2x7?\n",
        "\n",
        "vendas_re = np.reshape(vendas, (2, 7))\n",
        "print(vendas_re)"
      ],
      "metadata": {
        "colab": {
          "base_uri": "https://localhost:8080/"
        },
        "id": "TJAR3eqJSMjT",
        "outputId": "8604fc2f-7b6a-4b59-cdef-54195ee7b7d0"
      },
      "execution_count": 15,
      "outputs": [
        {
          "output_type": "stream",
          "name": "stdout",
          "text": [
            "[[200 220 250 300 280 350 123]\n",
            " [555 788 234 654 344 125 356]]\n"
          ]
        }
      ]
    },
    {
      "cell_type": "code",
      "source": [
        "print(vendas)"
      ],
      "metadata": {
        "colab": {
          "base_uri": "https://localhost:8080/"
        },
        "id": "3K8XUQASTD5V",
        "outputId": "afc7e216-8124-4546-b73e-5b176e68ced7"
      },
      "execution_count": 16,
      "outputs": [
        {
          "output_type": "stream",
          "name": "stdout",
          "text": [
            "[200 220 250 300 280 350 123 555 788 234 654 344 125 356]\n"
          ]
        }
      ]
    },
    {
      "cell_type": "code",
      "source": [
        "print(vendas.ndim) #me retorna a dimensão"
      ],
      "metadata": {
        "colab": {
          "base_uri": "https://localhost:8080/"
        },
        "id": "Uh53TJYkTXgS",
        "outputId": "17425a59-e3ab-4584-bdd3-cc499092fed4"
      },
      "execution_count": 17,
      "outputs": [
        {
          "output_type": "stream",
          "name": "stdout",
          "text": [
            "1\n"
          ]
        }
      ]
    },
    {
      "cell_type": "code",
      "source": [
        "print(vendas.shape)"
      ],
      "metadata": {
        "colab": {
          "base_uri": "https://localhost:8080/"
        },
        "id": "VTvIJcKETcdq",
        "outputId": "f18dcca9-eea4-48ce-d946-cb71e5fed96e"
      },
      "execution_count": 18,
      "outputs": [
        {
          "output_type": "stream",
          "name": "stdout",
          "text": [
            "(14,)\n"
          ]
        }
      ]
    },
    {
      "cell_type": "code",
      "source": [
        "print(vendas_re.ndim)"
      ],
      "metadata": {
        "colab": {
          "base_uri": "https://localhost:8080/"
        },
        "id": "xEsRV4XdTfW8",
        "outputId": "d848231d-6941-4686-bbb9-327d22062578"
      },
      "execution_count": 19,
      "outputs": [
        {
          "output_type": "stream",
          "name": "stdout",
          "text": [
            "2\n"
          ]
        }
      ]
    },
    {
      "cell_type": "code",
      "source": [
        "print(vendas_re.shape)"
      ],
      "metadata": {
        "colab": {
          "base_uri": "https://localhost:8080/"
        },
        "id": "7YQdTQZnTiur",
        "outputId": "5d69f560-e25c-4ee3-dab3-0dfc9b1bea9e"
      },
      "execution_count": 20,
      "outputs": [
        {
          "output_type": "stream",
          "name": "stdout",
          "text": [
            "(2, 7)\n"
          ]
        }
      ]
    },
    {
      "cell_type": "code",
      "source": [
        "vendas_re[0]"
      ],
      "metadata": {
        "colab": {
          "base_uri": "https://localhost:8080/"
        },
        "id": "6gvgI93lTueD",
        "outputId": "5a37baed-99a4-4fc7-9206-9d7f1ae2ca05"
      },
      "execution_count": 21,
      "outputs": [
        {
          "output_type": "execute_result",
          "data": {
            "text/plain": [
              "array([200, 220, 250, 300, 280, 350, 123])"
            ]
          },
          "metadata": {},
          "execution_count": 21
        }
      ]
    },
    {
      "cell_type": "code",
      "source": [
        "vendas_re[1]"
      ],
      "metadata": {
        "colab": {
          "base_uri": "https://localhost:8080/"
        },
        "id": "lI7KP8LSTx7k",
        "outputId": "cc7b0fe8-d1ae-441c-fc0b-5317892ba5cf"
      },
      "execution_count": 22,
      "outputs": [
        {
          "output_type": "execute_result",
          "data": {
            "text/plain": [
              "array([555, 788, 234, 654, 344, 125, 356])"
            ]
          },
          "metadata": {},
          "execution_count": 22
        }
      ]
    },
    {
      "cell_type": "code",
      "source": [
        "vendas_re[0][3]"
      ],
      "metadata": {
        "colab": {
          "base_uri": "https://localhost:8080/"
        },
        "id": "Sa5yadKlT0jd",
        "outputId": "b0eb0d1f-2c27-4a51-cc7e-524d51f306f2"
      },
      "execution_count": 23,
      "outputs": [
        {
          "output_type": "execute_result",
          "data": {
            "text/plain": [
              "300"
            ]
          },
          "metadata": {},
          "execution_count": 23
        }
      ]
    },
    {
      "cell_type": "code",
      "source": [
        "vendas_re[1][-1]"
      ],
      "metadata": {
        "colab": {
          "base_uri": "https://localhost:8080/"
        },
        "id": "38xeL4YRT4R0",
        "outputId": "3ccaa588-8b92-4f85-8442-9528254f2915"
      },
      "execution_count": 24,
      "outputs": [
        {
          "output_type": "execute_result",
          "data": {
            "text/plain": [
              "356"
            ]
          },
          "metadata": {},
          "execution_count": 24
        }
      ]
    },
    {
      "cell_type": "code",
      "source": [
        "vendas_re.sum(), np.sum(vendas_re)"
      ],
      "metadata": {
        "colab": {
          "base_uri": "https://localhost:8080/"
        },
        "id": "Exq27jkBT-4c",
        "outputId": "1bbab17b-27a4-4309-e5d0-af3ec31a78d9"
      },
      "execution_count": 26,
      "outputs": [
        {
          "output_type": "execute_result",
          "data": {
            "text/plain": [
              "(4779, 4779)"
            ]
          },
          "metadata": {},
          "execution_count": 26
        }
      ]
    },
    {
      "cell_type": "code",
      "source": [
        "#axis = eixo\n",
        "\n",
        "np.sum(vendas_re, axis=0) #soma das colunas ->ao longo do eixo 0"
      ],
      "metadata": {
        "colab": {
          "base_uri": "https://localhost:8080/"
        },
        "id": "moFLBELtUHIU",
        "outputId": "95a192cd-ddb4-460c-8bfe-4e7a9bb40cbe"
      },
      "execution_count": 28,
      "outputs": [
        {
          "output_type": "execute_result",
          "data": {
            "text/plain": [
              "array([ 755, 1008,  484,  954,  624,  475,  479])"
            ]
          },
          "metadata": {},
          "execution_count": 28
        }
      ]
    },
    {
      "cell_type": "code",
      "source": [
        "np.sum(vendas_re, axis=1) #ao longo do eixo 1"
      ],
      "metadata": {
        "colab": {
          "base_uri": "https://localhost:8080/"
        },
        "id": "WpJAxkGMUnR8",
        "outputId": "ac5d2c41-1aca-4531-ac4e-0e10c460f52c"
      },
      "execution_count": 29,
      "outputs": [
        {
          "output_type": "execute_result",
          "data": {
            "text/plain": [
              "array([1723, 3056])"
            ]
          },
          "metadata": {},
          "execution_count": 29
        }
      ]
    },
    {
      "cell_type": "markdown",
      "source": [
        "## Exemplos de reshape"
      ],
      "metadata": {
        "id": "ZD7r2-NXVBPN"
      }
    },
    {
      "cell_type": "code",
      "source": [
        "vendas = np.array([200, 220, 250, 300, 280, 350, 123, 555,788,234, 654, 344, 125, 356])\n",
        "\n",
        "vendas_re = np.reshape(vendas, (2,-1)) #com -1 o numpy faz o calculo para decidir a outra dimensão válida\n",
        "print(vendas_re)"
      ],
      "metadata": {
        "colab": {
          "base_uri": "https://localhost:8080/"
        },
        "id": "K8-VAlReVDzF",
        "outputId": "ab408032-2d4e-4844-90fa-ba2b37cf186e"
      },
      "execution_count": 31,
      "outputs": [
        {
          "output_type": "stream",
          "name": "stdout",
          "text": [
            "[[200 220 250 300 280 350 123]\n",
            " [555 788 234 654 344 125 356]]\n"
          ]
        }
      ]
    },
    {
      "cell_type": "code",
      "source": [
        "vendas_re = np.reshape(vendas, (-1,7))\n",
        "print(vendas_re)"
      ],
      "metadata": {
        "colab": {
          "base_uri": "https://localhost:8080/"
        },
        "id": "TMjz50uuWbwj",
        "outputId": "2908fa6b-6722-46c0-839f-130dfe373bda"
      },
      "execution_count": 32,
      "outputs": [
        {
          "output_type": "stream",
          "name": "stdout",
          "text": [
            "[[200 220 250 300 280 350 123]\n",
            " [555 788 234 654 344 125 356]]\n"
          ]
        }
      ]
    },
    {
      "cell_type": "code",
      "source": [
        "rng = np.random.default_rng(seed = 42)\n",
        "\n",
        "vendas = rng.integers(low=20, high=200, size=30, endpoint=True)\n",
        "print(vendas)"
      ],
      "metadata": {
        "colab": {
          "base_uri": "https://localhost:8080/"
        },
        "id": "FN2fv3amXMu_",
        "outputId": "d3c6b438-8185-4187-c3f6-849382961ba9"
      },
      "execution_count": 34,
      "outputs": [
        {
          "output_type": "stream",
          "name": "stdout",
          "text": [
            "[ 36 160 138  99  98 175  35 146  56  37 115 196 153 157 149 162 112  43\n",
            " 171 101 110  87  53 187 161 136  92 168 118 100]\n"
          ]
        }
      ]
    },
    {
      "cell_type": "code",
      "source": [
        "vendas_semana = np.reshape(vendas, (-1, 6))\n",
        "print(vendas_semana)"
      ],
      "metadata": {
        "colab": {
          "base_uri": "https://localhost:8080/"
        },
        "id": "Uy5NGGDbXq3Q",
        "outputId": "9a673b0e-beb0-46e4-9c0a-319fd6ba3f0a"
      },
      "execution_count": 36,
      "outputs": [
        {
          "output_type": "stream",
          "name": "stdout",
          "text": [
            "[[ 36 160 138  99  98 175]\n",
            " [ 35 146  56  37 115 196]\n",
            " [153 157 149 162 112  43]\n",
            " [171 101 110  87  53 187]\n",
            " [161 136  92 168 118 100]]\n"
          ]
        }
      ]
    },
    {
      "cell_type": "code",
      "source": [
        "#outra forma\n",
        "vendas = rng.integers(low=20, high=200, size=(5,6), endpoint=True)\n",
        "print(vendas)"
      ],
      "metadata": {
        "colab": {
          "base_uri": "https://localhost:8080/"
        },
        "id": "KmrA7TNLYDoF",
        "outputId": "301962b3-9783-4eae-93ee-de5195f207fa"
      },
      "execution_count": 37,
      "outputs": [
        {
          "output_type": "stream",
          "name": "stdout",
          "text": [
            "[[101  61  36 120 180  31]\n",
            " [175 169  70 134  49 157]\n",
            " [146  84  32 195 100 181]\n",
            " [142 160 157  55  85 104]\n",
            " [110  27 118  47 154 143]]\n"
          ]
        }
      ]
    },
    {
      "cell_type": "code",
      "source": [
        "total_vendas_semana = np.sum(vendas_semana, axis=1)\n",
        "print(total_vendas_semana)"
      ],
      "metadata": {
        "colab": {
          "base_uri": "https://localhost:8080/"
        },
        "id": "SRjqjWNjYNql",
        "outputId": "36b0ca90-c1c1-47bc-9b8d-47730faee980"
      },
      "execution_count": 38,
      "outputs": [
        {
          "output_type": "stream",
          "name": "stdout",
          "text": [
            "[706 585 776 709 775]\n"
          ]
        }
      ]
    },
    {
      "cell_type": "code",
      "source": [
        "media_vendas_semana = np.mean(vendas_semana, axis=1)\n",
        "print(media_vendas_semana)"
      ],
      "metadata": {
        "colab": {
          "base_uri": "https://localhost:8080/"
        },
        "id": "zD2Bis3vYeiO",
        "outputId": "26a54540-870e-4c1d-ccba-2d751b082c2d"
      },
      "execution_count": 39,
      "outputs": [
        {
          "output_type": "stream",
          "name": "stdout",
          "text": [
            "[117.66666667  97.5        129.33333333 118.16666667 129.16666667]\n"
          ]
        }
      ]
    },
    {
      "cell_type": "code",
      "source": [
        "media_vendas_dia = np.mean(vendas_semana, axis=0)\n",
        "print(media_vendas_dia)"
      ],
      "metadata": {
        "colab": {
          "base_uri": "https://localhost:8080/"
        },
        "id": "mm8adCXbYx7V",
        "outputId": "7cffeb14-c011-4210-8b11-644936b90a0d"
      },
      "execution_count": 40,
      "outputs": [
        {
          "output_type": "stream",
          "name": "stdout",
          "text": [
            "[111.2 140.  109.  110.6  99.2 140.2]\n"
          ]
        }
      ]
    },
    {
      "cell_type": "markdown",
      "source": [
        "## Exercícios"
      ],
      "metadata": {
        "id": "JYTFAtwJZ4zv"
      }
    },
    {
      "cell_type": "code",
      "source": [
        "vendas = np.array([[50, 60, 70, 65, 80],\n",
        "                   [85, 90, 78, 92, 88],\n",
        "                   [72, 75, 68, 77, 76]])\n"
      ],
      "metadata": {
        "id": "DTT71plzZ65-"
      },
      "execution_count": 41,
      "outputs": []
    },
    {
      "cell_type": "code",
      "source": [
        "total_venda_produto = np.sum(vendas, axis = 1)\n",
        "print(total_venda_produto)"
      ],
      "metadata": {
        "colab": {
          "base_uri": "https://localhost:8080/"
        },
        "id": "WCPnbXbOZ98G",
        "outputId": "1f3c22f9-1b82-49ad-95db-df122a80af22"
      },
      "execution_count": 42,
      "outputs": [
        {
          "output_type": "stream",
          "name": "stdout",
          "text": [
            "[325 433 368]\n"
          ]
        }
      ]
    },
    {
      "cell_type": "code",
      "source": [
        "print(f\"Vendas do produto A: {total_venda_produto[0]}\")\n",
        "print(f\"Vendas do produto B: {total_venda_produto[1]}\")\n",
        "print(f\"Vendas do produto C: {total_venda_produto[2]}\")"
      ],
      "metadata": {
        "colab": {
          "base_uri": "https://localhost:8080/"
        },
        "id": "C8PhI0Naa7Ek",
        "outputId": "6978f6c6-2899-4637-94e2-47caae4d0feb"
      },
      "execution_count": 44,
      "outputs": [
        {
          "output_type": "stream",
          "name": "stdout",
          "text": [
            "Vendas do produto A: 325\n",
            "Vendas do produto B: 433\n",
            "Vendas do produto C: 368\n"
          ]
        }
      ]
    },
    {
      "cell_type": "code",
      "source": [
        "total_venda_dia = np.sum(vendas, axis = 0)\n",
        "print(total_venda_dia)"
      ],
      "metadata": {
        "colab": {
          "base_uri": "https://localhost:8080/"
        },
        "id": "SRSP9q3daK7v",
        "outputId": "76862627-4bda-4385-8a67-b47aec80c42b"
      },
      "execution_count": 43,
      "outputs": [
        {
          "output_type": "stream",
          "name": "stdout",
          "text": [
            "[207 225 216 234 244]\n"
          ]
        }
      ]
    },
    {
      "cell_type": "code",
      "source": [
        "for i in range(len(total_venda_dia)):\n",
        "  print(f\"Total vendas dia {i+1}: {total_venda_dia[i]}\")"
      ],
      "metadata": {
        "colab": {
          "base_uri": "https://localhost:8080/"
        },
        "id": "dgCJGA0HbHy9",
        "outputId": "e036d421-2857-41a0-a800-9ab4ee6cb5e5"
      },
      "execution_count": 45,
      "outputs": [
        {
          "output_type": "stream",
          "name": "stdout",
          "text": [
            "Total vendas dia 1: 207\n",
            "Total vendas dia 2: 225\n",
            "Total vendas dia 3: 216\n",
            "Total vendas dia 4: 234\n",
            "Total vendas dia 5: 244\n"
          ]
        }
      ]
    },
    {
      "cell_type": "code",
      "source": [
        "# considere os seguintes dados aleatórios como início\n",
        "rng = np.random.default_rng(seed=42)\n",
        "respostas = rng.integers(low=0, high=10, size=210, endpoint=True)\n",
        "print(respostas)"
      ],
      "metadata": {
        "colab": {
          "base_uri": "https://localhost:8080/"
        },
        "id": "MrX_181fb4JU",
        "outputId": "d73c4949-0035-4c04-d513-2b0782c90e0b"
      },
      "execution_count": 46,
      "outputs": [
        {
          "output_type": "stream",
          "name": "stdout",
          "text": [
            "[ 0  8  7  4  4  9  0  7  2  1  5 10  8  8  7  8  5  1  9  4  5  4  2 10\n",
            "  8  7  4  9  5  4  4  2  1  6  9  0  9  9  3  6  1  8  7  3  0 10  4  9\n",
            "  7  8  8  2  4  5  5  0  6  1  8  7 10  8  4 10  4  3  9  4  0  5  8  2\n",
            "  5  1  7  5  3  2  6  7 10  4  1  9  6  7  1  3  8  9  4  8  9  4  9  3\n",
            "  2  7  7  1  9  2  8  0  8  8  8  7  5  7  3  8  6  5  5  6  0  1  2  1\n",
            "  4  7  7  5  9  6  0  8  6  6  6  6  0  6  8  3  6  0  3  4 10  2  3  4\n",
            " 10  9  0  2  9  0  9  3 10  3  4  7  1  6  5  8 10  7  4  4  4  8  3  1\n",
            "  3  0  1  0  8  7  7  5  7  1  9  5 10  1  5  7  5  4  1  4  2  3  7  6\n",
            "  6  3 10  0  3  1  3 10  4  9  5  7  5  2  8 10  2  8]\n"
          ]
        }
      ]
    },
    {
      "cell_type": "code",
      "source": [
        "respostas_organizadas = np.reshape(respostas, (7,30))\n",
        "print(respostas_organizadas)"
      ],
      "metadata": {
        "colab": {
          "base_uri": "https://localhost:8080/"
        },
        "id": "RzygyzYNcRXF",
        "outputId": "2f1cbc3b-e6b0-404e-e563-35d4f45177d5"
      },
      "execution_count": 49,
      "outputs": [
        {
          "output_type": "stream",
          "name": "stdout",
          "text": [
            "[[ 0  8  7  4  4  9  0  7  2  1  5 10  8  8  7  8  5  1  9  4  5  4  2 10\n",
            "   8  7  4  9  5  4]\n",
            " [ 4  2  1  6  9  0  9  9  3  6  1  8  7  3  0 10  4  9  7  8  8  2  4  5\n",
            "   5  0  6  1  8  7]\n",
            " [10  8  4 10  4  3  9  4  0  5  8  2  5  1  7  5  3  2  6  7 10  4  1  9\n",
            "   6  7  1  3  8  9]\n",
            " [ 4  8  9  4  9  3  2  7  7  1  9  2  8  0  8  8  8  7  5  7  3  8  6  5\n",
            "   5  6  0  1  2  1]\n",
            " [ 4  7  7  5  9  6  0  8  6  6  6  6  0  6  8  3  6  0  3  4 10  2  3  4\n",
            "  10  9  0  2  9  0]\n",
            " [ 9  3 10  3  4  7  1  6  5  8 10  7  4  4  4  8  3  1  3  0  1  0  8  7\n",
            "   7  5  7  1  9  5]\n",
            " [10  1  5  7  5  4  1  4  2  3  7  6  6  3 10  0  3  1  3 10  4  9  5  7\n",
            "   5  2  8 10  2  8]]\n"
          ]
        }
      ]
    },
    {
      "cell_type": "code",
      "source": [
        "for i in range(7):\n",
        "  print(f\"Respostas dia {i+1}: {respostas_organizadas[i]}\")"
      ],
      "metadata": {
        "colab": {
          "base_uri": "https://localhost:8080/"
        },
        "id": "UqbCkm_Hcj3u",
        "outputId": "9a705e76-70dd-4113-999b-61d3ad70da48"
      },
      "execution_count": 52,
      "outputs": [
        {
          "output_type": "stream",
          "name": "stdout",
          "text": [
            "Respostas dia 1: [ 0  8  7  4  4  9  0  7  2  1  5 10  8  8  7  8  5  1  9  4  5  4  2 10\n",
            "  8  7  4  9  5  4]\n",
            "Respostas dia 2: [ 4  2  1  6  9  0  9  9  3  6  1  8  7  3  0 10  4  9  7  8  8  2  4  5\n",
            "  5  0  6  1  8  7]\n",
            "Respostas dia 3: [10  8  4 10  4  3  9  4  0  5  8  2  5  1  7  5  3  2  6  7 10  4  1  9\n",
            "  6  7  1  3  8  9]\n",
            "Respostas dia 4: [4 8 9 4 9 3 2 7 7 1 9 2 8 0 8 8 8 7 5 7 3 8 6 5 5 6 0 1 2 1]\n",
            "Respostas dia 5: [ 4  7  7  5  9  6  0  8  6  6  6  6  0  6  8  3  6  0  3  4 10  2  3  4\n",
            " 10  9  0  2  9  0]\n",
            "Respostas dia 6: [ 9  3 10  3  4  7  1  6  5  8 10  7  4  4  4  8  3  1  3  0  1  0  8  7\n",
            "  7  5  7  1  9  5]\n",
            "Respostas dia 7: [10  1  5  7  5  4  1  4  2  3  7  6  6  3 10  0  3  1  3 10  4  9  5  7\n",
            "  5  2  8 10  2  8]\n"
          ]
        }
      ]
    },
    {
      "cell_type": "code",
      "source": [
        "media_satisfacao_dia = np.mean(respostas_organizadas, axis=1)\n",
        "print(media_satisfacao_dia)"
      ],
      "metadata": {
        "colab": {
          "base_uri": "https://localhost:8080/"
        },
        "id": "reFSMgvnd8ce",
        "outputId": "a03c7f82-7c7b-487a-aafa-c73257bd48bc"
      },
      "execution_count": 53,
      "outputs": [
        {
          "output_type": "stream",
          "name": "stdout",
          "text": [
            "[5.5        5.06666667 5.36666667 5.1        4.96666667 5.\n",
            " 5.03333333]\n"
          ]
        }
      ]
    },
    {
      "cell_type": "code",
      "source": [
        "media_geral = np.mean(respostas)\n",
        "print(media_geral)"
      ],
      "metadata": {
        "colab": {
          "base_uri": "https://localhost:8080/"
        },
        "id": "4LM4CXbBeqxf",
        "outputId": "1b62a2a4-41f7-4eb0-ba42-7be9785425f7"
      },
      "execution_count": 54,
      "outputs": [
        {
          "output_type": "stream",
          "name": "stdout",
          "text": [
            "5.147619047619048\n"
          ]
        }
      ]
    }
  ]
}