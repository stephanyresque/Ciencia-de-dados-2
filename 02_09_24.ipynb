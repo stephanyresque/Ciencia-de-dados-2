{
  "nbformat": 4,
  "nbformat_minor": 0,
  "metadata": {
    "colab": {
      "provenance": [],
      "collapsed_sections": [
        "K5b3e0A6yXRh",
        "xItkaJyl0oN3",
        "Zy7RSaPBz_av",
        "SAKh67YD0zum",
        "PMz2wCkY1v5J",
        "npYwQPXG4BOg",
        "5wPRtVDh6jNh",
        "nkIZpA3eIdpL",
        "WlIcuBe7L7t-"
      ],
      "authorship_tag": "ABX9TyM8OzeuI7+nlzWdbg/zyTTT",
      "include_colab_link": true
    },
    "kernelspec": {
      "name": "python3",
      "display_name": "Python 3"
    },
    "language_info": {
      "name": "python"
    }
  },
  "cells": [
    {
      "cell_type": "markdown",
      "metadata": {
        "id": "view-in-github",
        "colab_type": "text"
      },
      "source": [
        "<a href=\"https://colab.research.google.com/github/stephanyresque/Ciencia-de-dados-2/blob/main/02_09_24.ipynb\" target=\"_parent\"><img src=\"https://colab.research.google.com/assets/colab-badge.svg\" alt=\"Open In Colab\"/></a>"
      ]
    },
    {
      "cell_type": "markdown",
      "source": [
        "# Principais operações matemáticas com python"
      ],
      "metadata": {
        "id": "K5b3e0A6yXRh"
      }
    },
    {
      "cell_type": "markdown",
      "source": [
        "## Principais operações\n"
      ],
      "metadata": {
        "id": "xItkaJyl0oN3"
      }
    },
    {
      "cell_type": "code",
      "source": [
        "2 + 2 #soma"
      ],
      "metadata": {
        "colab": {
          "base_uri": "https://localhost:8080/"
        },
        "id": "bJavlijIyfRg",
        "outputId": "d912a2b3-74c1-4fe0-a521-1bcf9a2c82d4"
      },
      "execution_count": null,
      "outputs": [
        {
          "output_type": "execute_result",
          "data": {
            "text/plain": [
              "4"
            ]
          },
          "metadata": {},
          "execution_count": 4
        }
      ]
    },
    {
      "cell_type": "code",
      "source": [
        "5 - 3 #subtração"
      ],
      "metadata": {
        "colab": {
          "base_uri": "https://localhost:8080/"
        },
        "id": "miRmPmD3yymP",
        "outputId": "930802da-1bd9-4662-d8ca-07a3fe2ef2ca"
      },
      "execution_count": null,
      "outputs": [
        {
          "output_type": "execute_result",
          "data": {
            "text/plain": [
              "2"
            ]
          },
          "metadata": {},
          "execution_count": 5
        }
      ]
    },
    {
      "cell_type": "code",
      "source": [
        "2**2 #potência"
      ],
      "metadata": {
        "colab": {
          "base_uri": "https://localhost:8080/"
        },
        "id": "reEVBoC8y1dW",
        "outputId": "3f6771fd-3c12-47ef-c8e6-a0d898650f1c"
      },
      "execution_count": null,
      "outputs": [
        {
          "output_type": "execute_result",
          "data": {
            "text/plain": [
              "4"
            ]
          },
          "metadata": {},
          "execution_count": 6
        }
      ]
    },
    {
      "cell_type": "code",
      "source": [
        "2/2, 2//2 #divisão -> float e int"
      ],
      "metadata": {
        "colab": {
          "base_uri": "https://localhost:8080/"
        },
        "id": "FypXJy6VzBOm",
        "outputId": "65ca13e7-d055-4e09-f35c-38771c573f28"
      },
      "execution_count": null,
      "outputs": [
        {
          "output_type": "execute_result",
          "data": {
            "text/plain": [
              "(1.0, 1)"
            ]
          },
          "metadata": {},
          "execution_count": 7
        }
      ]
    },
    {
      "cell_type": "code",
      "source": [
        "5 / 2, 5 // 2"
      ],
      "metadata": {
        "colab": {
          "base_uri": "https://localhost:8080/"
        },
        "id": "P_sVoDMgzR5-",
        "outputId": "6804aea5-3c70-4dbf-a11d-50c3b1584b45"
      },
      "execution_count": null,
      "outputs": [
        {
          "output_type": "execute_result",
          "data": {
            "text/plain": [
              "(2.5, 2)"
            ]
          },
          "metadata": {},
          "execution_count": 8
        }
      ]
    },
    {
      "cell_type": "markdown",
      "source": [
        "## Potências de 10\n"
      ],
      "metadata": {
        "id": "Zy7RSaPBz_av"
      }
    },
    {
      "cell_type": "code",
      "source": [
        "1.5 * 10**2"
      ],
      "metadata": {
        "colab": {
          "base_uri": "https://localhost:8080/"
        },
        "id": "AKFQpJfW0HEC",
        "outputId": "9eb6e835-473e-4d60-ed6f-741dd22a1bdf"
      },
      "execution_count": null,
      "outputs": [
        {
          "output_type": "execute_result",
          "data": {
            "text/plain": [
              "150.0"
            ]
          },
          "metadata": {},
          "execution_count": 9
        }
      ]
    },
    {
      "cell_type": "code",
      "source": [
        "1.5 * 10**10"
      ],
      "metadata": {
        "colab": {
          "base_uri": "https://localhost:8080/"
        },
        "id": "ZZObftjz0LLu",
        "outputId": "c546dc1f-8db6-49bc-da93-77e3a48b6763"
      },
      "execution_count": null,
      "outputs": [
        {
          "output_type": "execute_result",
          "data": {
            "text/plain": [
              "15000000000.0"
            ]
          },
          "metadata": {},
          "execution_count": 10
        }
      ]
    },
    {
      "cell_type": "code",
      "source": [
        "1.5 * 10**20 #'e' faz referência a 10 elevado a 20 ->facilitar muitos dígitos"
      ],
      "metadata": {
        "colab": {
          "base_uri": "https://localhost:8080/"
        },
        "id": "RJ3AMEvI0Qu_",
        "outputId": "3253f9c0-0c8a-4ce4-a060-58c37e6667ac"
      },
      "execution_count": null,
      "outputs": [
        {
          "output_type": "execute_result",
          "data": {
            "text/plain": [
              "1.5e+20"
            ]
          },
          "metadata": {},
          "execution_count": 11
        }
      ]
    },
    {
      "cell_type": "code",
      "source": [
        "1.5e+10"
      ],
      "metadata": {
        "colab": {
          "base_uri": "https://localhost:8080/"
        },
        "id": "GIGQxbrV0g-u",
        "outputId": "785a21fc-d395-4ae5-b9af-9fb0e183de43"
      },
      "execution_count": null,
      "outputs": [
        {
          "output_type": "execute_result",
          "data": {
            "text/plain": [
              "15000000000.0"
            ]
          },
          "metadata": {},
          "execution_count": 12
        }
      ]
    },
    {
      "cell_type": "markdown",
      "source": [
        "## Números grandes"
      ],
      "metadata": {
        "id": "SAKh67YD0zum"
      }
    },
    {
      "cell_type": "code",
      "source": [
        "1000"
      ],
      "metadata": {
        "colab": {
          "base_uri": "https://localhost:8080/"
        },
        "id": "2YbHFF_N03iM",
        "outputId": "61fead28-0836-4ce9-defc-b8ed818763dc"
      },
      "execution_count": null,
      "outputs": [
        {
          "output_type": "execute_result",
          "data": {
            "text/plain": [
              "1000"
            ]
          },
          "metadata": {},
          "execution_count": 13
        }
      ]
    },
    {
      "cell_type": "code",
      "source": [
        "1_000"
      ],
      "metadata": {
        "colab": {
          "base_uri": "https://localhost:8080/"
        },
        "id": "2LKbVoVS1MTi",
        "outputId": "24277eb9-0dd0-4e0b-bc6c-e587167751c1"
      },
      "execution_count": null,
      "outputs": [
        {
          "output_type": "execute_result",
          "data": {
            "text/plain": [
              "1000"
            ]
          },
          "metadata": {},
          "execution_count": 14
        }
      ]
    },
    {
      "cell_type": "code",
      "source": [
        "1_000_000 #assim facilita a leitura"
      ],
      "metadata": {
        "colab": {
          "base_uri": "https://localhost:8080/"
        },
        "id": "eLF0Sbd01P9R",
        "outputId": "ed3bc75e-ca01-49aa-90e8-a371f70c9ccc"
      },
      "execution_count": null,
      "outputs": [
        {
          "output_type": "execute_result",
          "data": {
            "text/plain": [
              "1000000"
            ]
          },
          "metadata": {},
          "execution_count": 15
        }
      ]
    },
    {
      "cell_type": "markdown",
      "source": [
        "## Cuidados com float"
      ],
      "metadata": {
        "id": "PMz2wCkY1v5J"
      }
    },
    {
      "cell_type": "code",
      "source": [
        "2.0 + 2"
      ],
      "metadata": {
        "colab": {
          "base_uri": "https://localhost:8080/"
        },
        "id": "LGE78CRM1yto",
        "outputId": "7f7e0a95-7c8e-4cd2-9870-ff3f838d9452"
      },
      "execution_count": null,
      "outputs": [
        {
          "output_type": "execute_result",
          "data": {
            "text/plain": [
              "4.0"
            ]
          },
          "metadata": {},
          "execution_count": 16
        }
      ]
    },
    {
      "cell_type": "code",
      "source": [
        "0.2 + 0.2"
      ],
      "metadata": {
        "colab": {
          "base_uri": "https://localhost:8080/"
        },
        "id": "s2IwIiyg11jn",
        "outputId": "da10ad83-f4b8-4b42-d16f-76a294b1213c"
      },
      "execution_count": null,
      "outputs": [
        {
          "output_type": "execute_result",
          "data": {
            "text/plain": [
              "0.4"
            ]
          },
          "metadata": {},
          "execution_count": 17
        }
      ]
    },
    {
      "cell_type": "code",
      "source": [
        "0.1 + 0.2 #problema comum com o float"
      ],
      "metadata": {
        "colab": {
          "base_uri": "https://localhost:8080/"
        },
        "id": "o6JaKDtl14iP",
        "outputId": "a8039cf2-10fd-4935-fab0-c31f70ed1fee"
      },
      "execution_count": null,
      "outputs": [
        {
          "output_type": "execute_result",
          "data": {
            "text/plain": [
              "0.30000000000000004"
            ]
          },
          "metadata": {},
          "execution_count": 18
        }
      ]
    },
    {
      "cell_type": "code",
      "source": [
        "#possível solução é trabalhar com inteiros e depois passar para float\n",
        "(10+20) / 100"
      ],
      "metadata": {
        "colab": {
          "base_uri": "https://localhost:8080/"
        },
        "id": "lnGhaX3x2jdo",
        "outputId": "6d80d96f-c210-49d7-f3ae-17a1f452fbcf"
      },
      "execution_count": null,
      "outputs": [
        {
          "output_type": "execute_result",
          "data": {
            "text/plain": [
              "0.3"
            ]
          },
          "metadata": {},
          "execution_count": 23
        }
      ]
    },
    {
      "cell_type": "markdown",
      "source": [
        "# Strings"
      ],
      "metadata": {
        "id": "npYwQPXG4BOg"
      }
    },
    {
      "cell_type": "code",
      "source": [
        "'isto é um texto', \"isto é um texto\""
      ],
      "metadata": {
        "colab": {
          "base_uri": "https://localhost:8080/"
        },
        "id": "iE5RCsUE4ET5",
        "outputId": "8454aa53-89f0-4f79-89c6-97e852e76fdb"
      },
      "execution_count": null,
      "outputs": [
        {
          "output_type": "execute_result",
          "data": {
            "text/plain": [
              "('isto é um texto', 'isto é um texto')"
            ]
          },
          "metadata": {},
          "execution_count": 25
        }
      ]
    },
    {
      "cell_type": "code",
      "source": [
        "print('Olá, Mundo!') #facultativo nos notebooks"
      ],
      "metadata": {
        "colab": {
          "base_uri": "https://localhost:8080/"
        },
        "id": "vqIqKHN-4WrR",
        "outputId": "3ce22fa8-b7d1-46da-f1ce-2e4892399c8a"
      },
      "execution_count": null,
      "outputs": [
        {
          "output_type": "stream",
          "name": "stdout",
          "text": [
            "Olá, Mundo!\n"
          ]
        }
      ]
    },
    {
      "cell_type": "code",
      "source": [
        "print(\"Este texto\\nTem mais de uma linha\") #\"\\n\" -> quebra de linha"
      ],
      "metadata": {
        "colab": {
          "base_uri": "https://localhost:8080/"
        },
        "id": "zu2PN7zk5XI0",
        "outputId": "245c4b4d-5304-4564-f243-48d0b28228fd"
      },
      "execution_count": null,
      "outputs": [
        {
          "output_type": "stream",
          "name": "stdout",
          "text": [
            "Este texto\n",
            "Tem mais de uma linha\n"
          ]
        }
      ]
    },
    {
      "cell_type": "code",
      "source": [
        "print(\n",
        "    \"\"\"\n",
        "    Este texto\n",
        "    tem mais de uma linha\n",
        "    \"\"\"\n",
        ")\n",
        "#outra forma"
      ],
      "metadata": {
        "colab": {
          "base_uri": "https://localhost:8080/"
        },
        "id": "ENZkRrhs59d5",
        "outputId": "a8781424-dec2-4aae-8aa9-31120a55a571"
      },
      "execution_count": null,
      "outputs": [
        {
          "output_type": "stream",
          "name": "stdout",
          "text": [
            "\n",
            "    Este texto\n",
            "    tem mais de uma linha\n",
            "    \n"
          ]
        }
      ]
    },
    {
      "cell_type": "code",
      "source": [
        "print(\"Olha a tabulação \\t <-aqui\")"
      ],
      "metadata": {
        "colab": {
          "base_uri": "https://localhost:8080/"
        },
        "id": "RmOB68li6F7x",
        "outputId": "91656a9c-4046-45ac-dec8-a8edc6f18130"
      },
      "execution_count": null,
      "outputs": [
        {
          "output_type": "stream",
          "name": "stdout",
          "text": [
            "Olha a tabulação \t <-aqui\n"
          ]
        }
      ]
    },
    {
      "cell_type": "markdown",
      "source": [
        "# Variáveis"
      ],
      "metadata": {
        "id": "5wPRtVDh6jNh"
      }
    },
    {
      "cell_type": "code",
      "source": [
        "salario_base = 1500 #atribuição é diferente de igual (\"==\")\n",
        "aumento = 10\n",
        "novo_salario = salario_base + (salario_base * (aumento/100))\n",
        "print(f'R${novo_salario}')"
      ],
      "metadata": {
        "colab": {
          "base_uri": "https://localhost:8080/"
        },
        "id": "de-EEfwh6mMP",
        "outputId": "58d1ca49-3c8d-44d9-ccdf-00146670c3f6"
      },
      "execution_count": null,
      "outputs": [
        {
          "output_type": "stream",
          "name": "stdout",
          "text": [
            "R$1650.0\n"
          ]
        }
      ]
    },
    {
      "cell_type": "code",
      "source": [
        "salario1 = 2000\n",
        "porcentagem_comissao = 0.05\n",
        "valor_vendas = 500\n",
        "salario_total = salario1 + ((salario1 * porcentagem_comissao) + valor_vendas)\n",
        "print(f'R${salario_total}')"
      ],
      "metadata": {
        "colab": {
          "base_uri": "https://localhost:8080/"
        },
        "id": "wIgjvR2x7lnR",
        "outputId": "86f3943c-45d8-4f56-977b-1d682c1a29c9"
      },
      "execution_count": null,
      "outputs": [
        {
          "output_type": "stream",
          "name": "stdout",
          "text": [
            "R$2600.0\n"
          ]
        }
      ]
    },
    {
      "cell_type": "code",
      "source": [
        "salario_total = salario_total + 200\n",
        "print(f'R${salario_total}')"
      ],
      "metadata": {
        "colab": {
          "base_uri": "https://localhost:8080/"
        },
        "id": "kDdaZYLm9Pih",
        "outputId": "69e3461f-bbff-4487-a136-969a1a00556b"
      },
      "execution_count": null,
      "outputs": [
        {
          "output_type": "stream",
          "name": "stdout",
          "text": [
            "R$3000.0\n"
          ]
        }
      ]
    },
    {
      "cell_type": "code",
      "source": [
        "salario_total += 200\n",
        "print(f'R${salario_total}')"
      ],
      "metadata": {
        "colab": {
          "base_uri": "https://localhost:8080/"
        },
        "id": "ePTQZjbo9ZXS",
        "outputId": "d0451588-0ee2-47fd-c5cc-74154ac2b1b1"
      },
      "execution_count": null,
      "outputs": [
        {
          "output_type": "stream",
          "name": "stdout",
          "text": [
            "R$3200.0\n"
          ]
        }
      ]
    },
    {
      "cell_type": "code",
      "source": [
        "GRAVIDADE = 9.8 #variáveis em maiúsculo são constantes (convensão)"
      ],
      "metadata": {
        "id": "1n3bCrgl_GvB"
      },
      "execution_count": null,
      "outputs": []
    },
    {
      "cell_type": "markdown",
      "source": [
        "# Comparações"
      ],
      "metadata": {
        "id": "nkIZpA3eIdpL"
      }
    },
    {
      "cell_type": "code",
      "source": [
        "salario_base = 1500\n",
        "salario_minimo = 1420"
      ],
      "metadata": {
        "id": "gSj9CAvHIiQi"
      },
      "execution_count": null,
      "outputs": []
    },
    {
      "cell_type": "code",
      "source": [
        "salario_base > salario_minimo #bool"
      ],
      "metadata": {
        "colab": {
          "base_uri": "https://localhost:8080/"
        },
        "id": "x413sbAEIp1L",
        "outputId": "0ddd9462-47be-4537-eb1d-7080fdd7f7f7"
      },
      "execution_count": null,
      "outputs": [
        {
          "output_type": "execute_result",
          "data": {
            "text/plain": [
              "True"
            ]
          },
          "metadata": {},
          "execution_count": 42
        }
      ]
    },
    {
      "cell_type": "code",
      "source": [
        "salario_base < salario_minimo"
      ],
      "metadata": {
        "colab": {
          "base_uri": "https://localhost:8080/"
        },
        "id": "B-Xkej0hIsoK",
        "outputId": "7a9f59b9-0735-4f54-f265-2370b4987a7a"
      },
      "execution_count": null,
      "outputs": [
        {
          "output_type": "execute_result",
          "data": {
            "text/plain": [
              "False"
            ]
          },
          "metadata": {},
          "execution_count": 43
        }
      ]
    },
    {
      "cell_type": "code",
      "source": [
        "salario_base == salario_minimo"
      ],
      "metadata": {
        "colab": {
          "base_uri": "https://localhost:8080/"
        },
        "id": "Cj6hftDNJTBj",
        "outputId": "0aaa6eff-85e5-410f-f767-76e8e4f6ed12"
      },
      "execution_count": null,
      "outputs": [
        {
          "output_type": "execute_result",
          "data": {
            "text/plain": [
              "False"
            ]
          },
          "metadata": {},
          "execution_count": 44
        }
      ]
    },
    {
      "cell_type": "code",
      "source": [
        "salario_base != salario_minimo"
      ],
      "metadata": {
        "colab": {
          "base_uri": "https://localhost:8080/"
        },
        "id": "BJ3fAqFyJmHj",
        "outputId": "637cce22-5325-4616-b1ea-710c8bddc361"
      },
      "execution_count": null,
      "outputs": [
        {
          "output_type": "execute_result",
          "data": {
            "text/plain": [
              "True"
            ]
          },
          "metadata": {},
          "execution_count": 45
        }
      ]
    },
    {
      "cell_type": "code",
      "source": [
        "salario_base >= salario_minimo, salario_base <= salario_minimo"
      ],
      "metadata": {
        "colab": {
          "base_uri": "https://localhost:8080/"
        },
        "id": "p37wTsElJrO1",
        "outputId": "799810a5-beba-4a31-baac-08257020d7cf"
      },
      "execution_count": null,
      "outputs": [
        {
          "output_type": "execute_result",
          "data": {
            "text/plain": [
              "(True, False)"
            ]
          },
          "metadata": {},
          "execution_count": 46
        }
      ]
    },
    {
      "cell_type": "code",
      "source": [
        "salario_minimo < 1450 < salario_base"
      ],
      "metadata": {
        "colab": {
          "base_uri": "https://localhost:8080/"
        },
        "id": "airUvjSEKgFL",
        "outputId": "0f68dea4-e1a3-4bdc-faf2-4472f4a00b0d"
      },
      "execution_count": null,
      "outputs": [
        {
          "output_type": "execute_result",
          "data": {
            "text/plain": [
              "True"
            ]
          },
          "metadata": {},
          "execution_count": 47
        }
      ]
    },
    {
      "cell_type": "markdown",
      "source": [
        "## Operador AND"
      ],
      "metadata": {
        "id": "rJnyKkjuKrFx"
      }
    },
    {
      "cell_type": "code",
      "source": [
        "(salario_base > salario_minimo) and (salario_minimo < 1450)"
      ],
      "metadata": {
        "colab": {
          "base_uri": "https://localhost:8080/"
        },
        "id": "dm0651kQKtrc",
        "outputId": "1d728775-5c99-4136-80bb-73db4c222254"
      },
      "execution_count": null,
      "outputs": [
        {
          "output_type": "execute_result",
          "data": {
            "text/plain": [
              "True"
            ]
          },
          "metadata": {},
          "execution_count": 49
        }
      ]
    },
    {
      "cell_type": "code",
      "source": [
        "(salario_base > salario_minimo) and (salario_minimo > 1450)\n"
      ],
      "metadata": {
        "colab": {
          "base_uri": "https://localhost:8080/"
        },
        "id": "YsHAcYyGLEnN",
        "outputId": "4353278d-7580-482b-8556-329b09a2ad67"
      },
      "execution_count": null,
      "outputs": [
        {
          "output_type": "execute_result",
          "data": {
            "text/plain": [
              "False"
            ]
          },
          "metadata": {},
          "execution_count": 50
        }
      ]
    },
    {
      "cell_type": "markdown",
      "source": [
        "## Operador OR"
      ],
      "metadata": {
        "id": "wTaLUyY1LIh2"
      }
    },
    {
      "cell_type": "code",
      "source": [
        "(salario_base > salario_minimo) or (salario_minimo < 1450)\n"
      ],
      "metadata": {
        "colab": {
          "base_uri": "https://localhost:8080/"
        },
        "id": "tQSm3iMZLLGq",
        "outputId": "947cc7c0-ee52-4403-9ead-6d390b57f31e"
      },
      "execution_count": null,
      "outputs": [
        {
          "output_type": "execute_result",
          "data": {
            "text/plain": [
              "True"
            ]
          },
          "metadata": {},
          "execution_count": 51
        }
      ]
    },
    {
      "cell_type": "code",
      "source": [
        "(salario_base < salario_minimo) or (salario_minimo < 1450)\n"
      ],
      "metadata": {
        "colab": {
          "base_uri": "https://localhost:8080/"
        },
        "id": "xFpvyj2vLNcK",
        "outputId": "67ddeb7a-78f4-483c-e4ee-f81e7400139f"
      },
      "execution_count": null,
      "outputs": [
        {
          "output_type": "execute_result",
          "data": {
            "text/plain": [
              "True"
            ]
          },
          "metadata": {},
          "execution_count": 53
        }
      ]
    },
    {
      "cell_type": "code",
      "source": [
        "(salario_base < salario_minimo) or (salario_minimo > 1450)\n"
      ],
      "metadata": {
        "colab": {
          "base_uri": "https://localhost:8080/"
        },
        "id": "BOqjdpmgLSZz",
        "outputId": "989affb6-2b6e-46c9-e13f-5ea39ceffda2"
      },
      "execution_count": null,
      "outputs": [
        {
          "output_type": "execute_result",
          "data": {
            "text/plain": [
              "False"
            ]
          },
          "metadata": {},
          "execution_count": 54
        }
      ]
    },
    {
      "cell_type": "markdown",
      "source": [
        "# Tipos de variáveis"
      ],
      "metadata": {
        "id": "WlIcuBe7L7t-"
      }
    },
    {
      "cell_type": "code",
      "source": [
        "x = 1550\n",
        "y = 0.5\n",
        "z = 'texto'\n",
        "w = x > y"
      ],
      "metadata": {
        "id": "ywYVHc06MDOU"
      },
      "execution_count": null,
      "outputs": []
    },
    {
      "cell_type": "code",
      "source": [
        "type(x), type(y), type(z), type(w)"
      ],
      "metadata": {
        "colab": {
          "base_uri": "https://localhost:8080/"
        },
        "id": "DvT4-0xlMmBT",
        "outputId": "d937539e-17b9-4e94-bd5a-a14c9b4fa124"
      },
      "execution_count": null,
      "outputs": [
        {
          "output_type": "execute_result",
          "data": {
            "text/plain": [
              "(int, float, str, bool)"
            ]
          },
          "metadata": {},
          "execution_count": 59
        }
      ]
    },
    {
      "cell_type": "markdown",
      "source": [
        "# Funções built-in"
      ],
      "metadata": {
        "id": "vAaK6OhUNlyw"
      }
    },
    {
      "cell_type": "code",
      "source": [
        "#funções que já vem por padrão\n",
        "type(print), type(len)"
      ],
      "metadata": {
        "colab": {
          "base_uri": "https://localhost:8080/"
        },
        "id": "anuRdCsMNqRc",
        "outputId": "b513c3f8-3c39-4264-ced3-d0021e55d00b"
      },
      "execution_count": null,
      "outputs": [
        {
          "output_type": "execute_result",
          "data": {
            "text/plain": [
              "(builtin_function_or_method, builtin_function_or_method)"
            ]
          },
          "metadata": {},
          "execution_count": 63
        }
      ]
    },
    {
      "cell_type": "code",
      "source": [
        "help(print)"
      ],
      "metadata": {
        "colab": {
          "base_uri": "https://localhost:8080/"
        },
        "id": "wilDAsesOUSm",
        "outputId": "73aee4be-892e-4f20-e04f-2d9a3923f7a8"
      },
      "execution_count": null,
      "outputs": [
        {
          "output_type": "stream",
          "name": "stdout",
          "text": [
            "Help on built-in function print in module builtins:\n",
            "\n",
            "print(...)\n",
            "    print(value, ..., sep=' ', end='\\n', file=sys.stdout, flush=False)\n",
            "    \n",
            "    Prints the values to a stream, or to sys.stdout by default.\n",
            "    Optional keyword arguments:\n",
            "    file:  a file-like object (stream); defaults to the current sys.stdout.\n",
            "    sep:   string inserted between values, default a space.\n",
            "    end:   string appended after the last value, default a newline.\n",
            "    flush: whether to forcibly flush the stream.\n",
            "\n"
          ]
        }
      ]
    },
    {
      "cell_type": "code",
      "source": [
        "print(salario_base, salario_minimo, sep=' -> ')"
      ],
      "metadata": {
        "colab": {
          "base_uri": "https://localhost:8080/"
        },
        "id": "tlQ9W0VwOtSD",
        "outputId": "8721a200-4f77-479c-f485-b23957fb7077"
      },
      "execution_count": null,
      "outputs": [
        {
          "output_type": "stream",
          "name": "stdout",
          "text": [
            "1500 -> 1420\n"
          ]
        }
      ]
    },
    {
      "cell_type": "code",
      "source": [
        "help(abs)"
      ],
      "metadata": {
        "colab": {
          "base_uri": "https://localhost:8080/"
        },
        "id": "ZM4Mi9lZPH87",
        "outputId": "ed2018ee-ac73-4f68-f721-8c3a9d1153e2"
      },
      "execution_count": null,
      "outputs": [
        {
          "output_type": "stream",
          "name": "stdout",
          "text": [
            "Help on built-in function abs in module builtins:\n",
            "\n",
            "abs(x, /)\n",
            "    Return the absolute value of the argument.\n",
            "\n"
          ]
        }
      ]
    },
    {
      "cell_type": "code",
      "source": [
        "abs(-10)"
      ],
      "metadata": {
        "colab": {
          "base_uri": "https://localhost:8080/"
        },
        "id": "sYsuzbSTPLwU",
        "outputId": "73b04c8c-14cf-4ad8-b952-899e2c480051"
      },
      "execution_count": null,
      "outputs": [
        {
          "output_type": "execute_result",
          "data": {
            "text/plain": [
              "10"
            ]
          },
          "metadata": {},
          "execution_count": 67
        }
      ]
    },
    {
      "cell_type": "code",
      "source": [
        "pow(2, 3)"
      ],
      "metadata": {
        "colab": {
          "base_uri": "https://localhost:8080/"
        },
        "id": "DMAaEB7SPhtL",
        "outputId": "b4ea5973-958a-48e2-8104-02b9b883338d"
      },
      "execution_count": null,
      "outputs": [
        {
          "output_type": "execute_result",
          "data": {
            "text/plain": [
              "8"
            ]
          },
          "metadata": {},
          "execution_count": 70
        }
      ]
    },
    {
      "cell_type": "code",
      "source": [
        "round(1.45636, 3), round(2.333, 2)"
      ],
      "metadata": {
        "colab": {
          "base_uri": "https://localhost:8080/"
        },
        "id": "ei0up5JcPlvr",
        "outputId": "977dc7ba-c973-43c9-f898-f53623a648fd"
      },
      "execution_count": null,
      "outputs": [
        {
          "output_type": "execute_result",
          "data": {
            "text/plain": [
              "(1.456, 2.33)"
            ]
          },
          "metadata": {},
          "execution_count": 75
        }
      ]
    },
    {
      "cell_type": "code",
      "source": [
        "int(1.5), float(35)"
      ],
      "metadata": {
        "colab": {
          "base_uri": "https://localhost:8080/"
        },
        "id": "wnRXcm3dPrSs",
        "outputId": "b9b442bb-1149-4183-db62-1b310b199ae2"
      },
      "execution_count": null,
      "outputs": [
        {
          "output_type": "execute_result",
          "data": {
            "text/plain": [
              "(1, 35.0)"
            ]
          },
          "metadata": {},
          "execution_count": 74
        }
      ]
    },
    {
      "cell_type": "code",
      "source": [
        "str(10)"
      ],
      "metadata": {
        "colab": {
          "base_uri": "https://localhost:8080/",
          "height": 36
        },
        "id": "zbErnpJbPwv7",
        "outputId": "ae860f67-9b60-4d5d-c5a9-0702b6e86bc5"
      },
      "execution_count": null,
      "outputs": [
        {
          "output_type": "execute_result",
          "data": {
            "text/plain": [
              "'10'"
            ],
            "application/vnd.google.colaboratory.intrinsic+json": {
              "type": "string"
            }
          },
          "metadata": {},
          "execution_count": 76
        }
      ]
    },
    {
      "cell_type": "code",
      "source": [
        "x = input('Digite um número: ')"
      ],
      "metadata": {
        "colab": {
          "base_uri": "https://localhost:8080/"
        },
        "id": "lXnS9JqAP2l1",
        "outputId": "590e7c1f-4e46-4578-a99c-8d566503de66"
      },
      "execution_count": null,
      "outputs": [
        {
          "name": "stdout",
          "output_type": "stream",
          "text": [
            "Digite um número: 100\n"
          ]
        }
      ]
    },
    {
      "cell_type": "code",
      "source": [
        "type(x)"
      ],
      "metadata": {
        "colab": {
          "base_uri": "https://localhost:8080/"
        },
        "id": "7DBI7IsMQB60",
        "outputId": "ea569a6b-2c25-450b-e496-ad910d3bec4c"
      },
      "execution_count": null,
      "outputs": [
        {
          "output_type": "execute_result",
          "data": {
            "text/plain": [
              "str"
            ]
          },
          "metadata": {},
          "execution_count": 78
        }
      ]
    },
    {
      "cell_type": "code",
      "source": [
        "x = float(input('Digite um número: '))\n",
        "type(x)"
      ],
      "metadata": {
        "colab": {
          "base_uri": "https://localhost:8080/"
        },
        "id": "qainENnWQPXL",
        "outputId": "c59f8586-9591-4970-b0ef-d8da4120c6ac"
      },
      "execution_count": null,
      "outputs": [
        {
          "name": "stdout",
          "output_type": "stream",
          "text": [
            "Digite um número: 100\n"
          ]
        },
        {
          "output_type": "execute_result",
          "data": {
            "text/plain": [
              "float"
            ]
          },
          "metadata": {},
          "execution_count": 82
        }
      ]
    },
    {
      "cell_type": "code",
      "source": [
        "x = int(x)\n",
        "type(x)"
      ],
      "metadata": {
        "id": "X5I3pmkZQc5L",
        "outputId": "2b7a2e51-b3db-43d7-e327-9ad8f3a6b935",
        "colab": {
          "base_uri": "https://localhost:8080/"
        }
      },
      "execution_count": null,
      "outputs": [
        {
          "output_type": "execute_result",
          "data": {
            "text/plain": [
              "int"
            ]
          },
          "metadata": {},
          "execution_count": 83
        }
      ]
    },
    {
      "cell_type": "markdown",
      "source": [
        "# Exercícios"
      ],
      "metadata": {
        "id": "nyE05B3MR2ad"
      }
    },
    {
      "cell_type": "code",
      "source": [],
      "metadata": {
        "id": "GevZp-WyR6VN"
      },
      "execution_count": null,
      "outputs": []
    }
  ]
}