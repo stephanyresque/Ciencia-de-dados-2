{
  "nbformat": 4,
  "nbformat_minor": 0,
  "metadata": {
    "colab": {
      "provenance": [],
      "authorship_tag": "ABX9TyNZegPaVGjHDsi1at6I/yOx",
      "include_colab_link": true
    },
    "kernelspec": {
      "name": "python3",
      "display_name": "Python 3"
    },
    "language_info": {
      "name": "python"
    }
  },
  "cells": [
    {
      "cell_type": "markdown",
      "metadata": {
        "id": "view-in-github",
        "colab_type": "text"
      },
      "source": [
        "<a href=\"https://colab.research.google.com/github/stephanyresque/Ciencia-de-dados-2/blob/main/16_09_24.ipynb\" target=\"_parent\"><img src=\"https://colab.research.google.com/assets/colab-badge.svg\" alt=\"Open In Colab\"/></a>"
      ]
    },
    {
      "cell_type": "markdown",
      "source": [
        "# Exercícios"
      ],
      "metadata": {
        "id": "QQIVDKZy5KRz"
      }
    },
    {
      "cell_type": "code",
      "source": [
        "produtos_vendidos = [\"caneta\", \"lápis\", \"caneta\", \"borracha\"]\n",
        "estoque = {\"caneta\": 2, \"lápis\": 2, \"borracha\": 1}"
      ],
      "metadata": {
        "id": "lLsYq_RY5NcL"
      },
      "execution_count": 45,
      "outputs": []
    },
    {
      "cell_type": "code",
      "source": [
        "for produto in produtos_vendidos:\n",
        "    estoque[produto] -= 1\n",
        "\n",
        "estoque"
      ],
      "metadata": {
        "colab": {
          "base_uri": "https://localhost:8080/"
        },
        "id": "RLtAjzd-5t1U",
        "outputId": "9200bf33-e8b1-4ea7-b369-49224227ea68"
      },
      "execution_count": 46,
      "outputs": [
        {
          "output_type": "execute_result",
          "data": {
            "text/plain": [
              "{'caneta': 0, 'lápis': 1, 'borracha': 0}"
            ]
          },
          "metadata": {},
          "execution_count": 46
        }
      ]
    },
    {
      "cell_type": "code",
      "source": [
        "estoque_vazio = []\n",
        "for produto in estoque:\n",
        "  if estoque[produto] == 0:\n",
        "    estoque_vazio.append(produto)\n",
        "\n",
        "\n",
        "estoque_vazio"
      ],
      "metadata": {
        "colab": {
          "base_uri": "https://localhost:8080/"
        },
        "id": "Ow0uoMVjEMJ0",
        "outputId": "8f3a82a5-c3ec-4471-b2eb-f8d422c30cda"
      },
      "execution_count": 47,
      "outputs": [
        {
          "output_type": "execute_result",
          "data": {
            "text/plain": [
              "['caneta', 'borracha']"
            ]
          },
          "metadata": {},
          "execution_count": 47
        }
      ]
    },
    {
      "cell_type": "code",
      "source": [
        "paragrafo = \"Um cientista de dados precisa ter uma boa base técnica. Dados são importantes.\""
      ],
      "metadata": {
        "id": "nBMeahWD7DND"
      },
      "execution_count": 48,
      "outputs": []
    },
    {
      "cell_type": "code",
      "source": [
        "frase = paragrafo.lower().replace('.','')\n",
        "frase"
      ],
      "metadata": {
        "colab": {
          "base_uri": "https://localhost:8080/",
          "height": 36
        },
        "id": "R_vI4Iy-7EjH",
        "outputId": "8d562fc7-7fb1-4637-d847-af71bdb3d8b9"
      },
      "execution_count": 51,
      "outputs": [
        {
          "output_type": "execute_result",
          "data": {
            "text/plain": [
              "'um cientista de dados precisa ter uma boa base técnica dados são importantes'"
            ],
            "application/vnd.google.colaboratory.intrinsic+json": {
              "type": "string"
            }
          },
          "metadata": {},
          "execution_count": 51
        }
      ]
    },
    {
      "cell_type": "code",
      "source": [
        "frase.split()"
      ],
      "metadata": {
        "colab": {
          "base_uri": "https://localhost:8080/"
        },
        "id": "lPqIiF_8728I",
        "outputId": "637c4fc9-3715-4cce-e408-1747a9faa7c8"
      },
      "execution_count": 52,
      "outputs": [
        {
          "output_type": "execute_result",
          "data": {
            "text/plain": [
              "['um',\n",
              " 'cientista',\n",
              " 'de',\n",
              " 'dados',\n",
              " 'precisa',\n",
              " 'ter',\n",
              " 'uma',\n",
              " 'boa',\n",
              " 'base',\n",
              " 'técnica',\n",
              " 'dados',\n",
              " 'são',\n",
              " 'importantes']"
            ]
          },
          "metadata": {},
          "execution_count": 52
        }
      ]
    },
    {
      "cell_type": "code",
      "source": [
        "contagem = {}\n",
        "\n",
        "for palavra in frase.split():\n",
        "  if palavra in contagem:\n",
        "    contagem[palavra] += 1\n",
        "  else:\n",
        "    contagem[palavra] = 1\n",
        "\n",
        "contagem"
      ],
      "metadata": {
        "colab": {
          "base_uri": "https://localhost:8080/"
        },
        "id": "bnCKLMBG77i6",
        "outputId": "6eaf4550-1f83-4290-e0fd-f1e539eb2da3"
      },
      "execution_count": 55,
      "outputs": [
        {
          "output_type": "execute_result",
          "data": {
            "text/plain": [
              "{'um': 1,\n",
              " 'cientista': 1,\n",
              " 'de': 1,\n",
              " 'dados': 2,\n",
              " 'precisa': 1,\n",
              " 'ter': 1,\n",
              " 'uma': 1,\n",
              " 'boa': 1,\n",
              " 'base': 1,\n",
              " 'técnica': 1,\n",
              " 'são': 1,\n",
              " 'importantes': 1}"
            ]
          },
          "metadata": {},
          "execution_count": 55
        }
      ]
    },
    {
      "cell_type": "code",
      "source": [
        "paragrafo = \"O produto é muito Bom. Alguns clientes acharam bom, mas outros acharam ruim. Não é tão ruim.\""
      ],
      "metadata": {
        "id": "qBAapV7l9Q1a"
      },
      "execution_count": 65,
      "outputs": []
    },
    {
      "cell_type": "code",
      "source": [
        "bom_contagem = 0\n",
        "ruim_contagem = 0\n",
        "\n",
        "palavras = paragrafo.lower().replace('.','').replace(',','').split()\n",
        "palavras\n"
      ],
      "metadata": {
        "colab": {
          "base_uri": "https://localhost:8080/"
        },
        "id": "4--Y77nF9lMg",
        "outputId": "eb54ab47-6d06-4ee8-8a90-49ba4aec3e1a"
      },
      "execution_count": 66,
      "outputs": [
        {
          "output_type": "execute_result",
          "data": {
            "text/plain": [
              "['o',\n",
              " 'produto',\n",
              " 'é',\n",
              " 'muito',\n",
              " 'bom',\n",
              " 'alguns',\n",
              " 'clientes',\n",
              " 'acharam',\n",
              " 'bom',\n",
              " 'mas',\n",
              " 'outros',\n",
              " 'acharam',\n",
              " 'ruim',\n",
              " 'não',\n",
              " 'é',\n",
              " 'tão',\n",
              " 'ruim']"
            ]
          },
          "metadata": {},
          "execution_count": 66
        }
      ]
    },
    {
      "cell_type": "code",
      "source": [
        "while palavras:\n",
        "  palavra = palavras.pop()\n",
        "  if palavra == 'bom':\n",
        "    bom_contagem += 1\n",
        "  elif palavra == 'ruim':\n",
        "    ruim_contagem += 1\n",
        "\n",
        "bom_contagem, ruim_contagem"
      ],
      "metadata": {
        "colab": {
          "base_uri": "https://localhost:8080/"
        },
        "id": "dtI_Fm29IeoE",
        "outputId": "5ffbe4eb-7647-4818-8b42-7a9e44867c21"
      },
      "execution_count": 67,
      "outputs": [
        {
          "output_type": "execute_result",
          "data": {
            "text/plain": [
              "(2, 2)"
            ]
          },
          "metadata": {},
          "execution_count": 67
        }
      ]
    },
    {
      "cell_type": "code",
      "source": [
        "# for palavra in palavras:\n",
        "#   if palavra == 'bom':\n",
        "#     bom_contagem += 1\n",
        "#   elif palavra == 'ruim':\n",
        "#     ruim_contagem += 1\n",
        "\n",
        "# bom_contagem, ruim_contagem"
      ],
      "metadata": {
        "colab": {
          "base_uri": "https://localhost:8080/"
        },
        "id": "XNF8xaR2H4RU",
        "outputId": "49600aa4-8367-46f8-8974-7fefadeda2a4"
      },
      "execution_count": 63,
      "outputs": [
        {
          "output_type": "execute_result",
          "data": {
            "text/plain": [
              "(2, 2)"
            ]
          },
          "metadata": {},
          "execution_count": 63
        }
      ]
    },
    {
      "cell_type": "code",
      "source": [
        "valores = [10, 20, 0, -10, 30]\n",
        "minimo = min(valores)\n",
        "maximo = max(valores)\n",
        "\n",
        "valores_normalizados = [(numero - minimo)/(maximo - minimo) for numero in valores ]\n",
        "valores_normalizados"
      ],
      "metadata": {
        "colab": {
          "base_uri": "https://localhost:8080/"
        },
        "id": "O9NnoW4t-yDD",
        "outputId": "e126f4c9-d4ad-493f-b78a-eb9c936c2f4f"
      },
      "execution_count": 68,
      "outputs": [
        {
          "output_type": "execute_result",
          "data": {
            "text/plain": [
              "[0.5, 0.75, 0.25, 0.0, 1.0]"
            ]
          },
          "metadata": {},
          "execution_count": 68
        }
      ]
    },
    {
      "cell_type": "code",
      "source": [
        "vendas = [1200, 1500, None, 1800, '2000', 'erro']"
      ],
      "metadata": {
        "id": "H8SPLMHYAw-Y"
      },
      "execution_count": 69,
      "outputs": []
    },
    {
      "cell_type": "code",
      "source": [
        "soma = 0\n",
        "for valor in vendas:\n",
        "  try:\n",
        "    soma += float(valor)\n",
        "  except (TypeError, ValueError):\n",
        "    continue\n",
        "\n",
        "print(f\"Soma total das vendas: R${soma:.2f}\")"
      ],
      "metadata": {
        "colab": {
          "base_uri": "https://localhost:8080/"
        },
        "id": "k57mYh-WA_Sk",
        "outputId": "5fed014f-ff77-418c-c291-6338a044d6bf"
      },
      "execution_count": 75,
      "outputs": [
        {
          "output_type": "stream",
          "name": "stdout",
          "text": [
            "Soma total das vendas: R$6500.00\n"
          ]
        }
      ]
    },
    {
      "cell_type": "code",
      "source": [
        "pessoas = {\n",
        "    \"bill\": {\"nome\": \"Bill Gates\", \"idade\": 68, \"empresa\": \"Microsoft\"},\n",
        "    \"elon\": {\"nome\": \"Elon Musk\", \"idade\": 52, \"empresa\": \"X\"},\n",
        "    \"mark\": {\"nome\": \"Mark Zuckerberg\", \"idade\": 39, \"empresa\": \"Facebook\"},\n",
        "}\n",
        "\n",
        "print(f\"{'Nome':^16} | {'Idade':^6} | {'Empresa':^15}\")\n",
        "print(f\"{'-'*16} | {'-'*6} | {'-'*15}\")\n",
        "print(f\"{pessoas['bill']['nome']:<16} | {pessoas['bill']['idade']:^6} | {pessoas['bill']['empresa']:>15}\")\n",
        "print(f\"{pessoas['elon']['nome']:<16} | {pessoas['elon']['idade']:^6} | {pessoas['elon']['empresa']:>15}\")\n",
        "print(f\"{pessoas['mark']['nome']:<16} | {pessoas['mark']['idade']:^6} | {pessoas['mark']['empresa']:>15}\")"
      ],
      "metadata": {
        "colab": {
          "base_uri": "https://localhost:8080/"
        },
        "id": "s47z1BCuCjdL",
        "outputId": "22f51e94-1daa-45ee-ca55-a3a0b1a05709"
      },
      "execution_count": 38,
      "outputs": [
        {
          "output_type": "stream",
          "name": "stdout",
          "text": [
            "      Nome       | Idade  |     Empresa    \n",
            "---------------- | ------ | ---------------\n",
            "Bill Gates       |   68   |       Microsoft\n",
            "Elon Musk        |   52   |               X\n",
            "Mark Zuckerberg  |   39   |        Facebook\n"
          ]
        }
      ]
    },
    {
      "cell_type": "code",
      "source": [
        "print(f\"{'Nome':^16} | {'Idade':^6} | {'Empresa':^15}\")\n",
        "print(f\"{'-'*16} | {'-'*6} | {'-'*15}\")\n",
        "\n",
        "for pessoa in pessoas:\n",
        "  d = pessoas[pessoa]\n",
        "  print(f\"{d['nome']:<16} | {d['idade']:^6} | {d['empresa']:>15}\")"
      ],
      "metadata": {
        "colab": {
          "base_uri": "https://localhost:8080/"
        },
        "id": "gmvewSXXCpdT",
        "outputId": "a512e869-c402-496f-b998-9b5d2cdf082f"
      },
      "execution_count": 76,
      "outputs": [
        {
          "output_type": "stream",
          "name": "stdout",
          "text": [
            "      Nome       | Idade  |     Empresa    \n",
            "---------------- | ------ | ---------------\n",
            "Bill Gates       |   68   |       Microsoft\n",
            "Elon Musk        |   52   |               X\n",
            "Mark Zuckerberg  |   39   |        Facebook\n"
          ]
        }
      ]
    }
  ]
}