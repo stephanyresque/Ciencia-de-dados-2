{
  "nbformat": 4,
  "nbformat_minor": 0,
  "metadata": {
    "colab": {
      "provenance": [],
      "authorship_tag": "ABX9TyOD9B1bYNB44hHYWJyJKNn4",
      "include_colab_link": true
    },
    "kernelspec": {
      "name": "python3",
      "display_name": "Python 3"
    },
    "language_info": {
      "name": "python"
    }
  },
  "cells": [
    {
      "cell_type": "markdown",
      "metadata": {
        "id": "view-in-github",
        "colab_type": "text"
      },
      "source": [
        "<a href=\"https://colab.research.google.com/github/stephanyresque/Ciencia-de-dados-2/blob/main/20_09_24.ipynb\" target=\"_parent\"><img src=\"https://colab.research.google.com/assets/colab-badge.svg\" alt=\"Open In Colab\"/></a>"
      ]
    },
    {
      "cell_type": "markdown",
      "source": [
        "# Módulos"
      ],
      "metadata": {
        "id": "cSobNFqW_TDJ"
      }
    },
    {
      "cell_type": "code",
      "source": [
        "import datetime\n",
        "\n",
        "#obtento data e hora atuais\n",
        "\n",
        "agora = datetime.datetime.now()\n",
        "print(agora)"
      ],
      "metadata": {
        "colab": {
          "base_uri": "https://localhost:8080/"
        },
        "id": "9GWtqxlJDkiS",
        "outputId": "ffb3ee2d-b856-4c8d-a5c8-424d38c7e6f7"
      },
      "execution_count": 3,
      "outputs": [
        {
          "output_type": "stream",
          "name": "stdout",
          "text": [
            "2024-09-20 15:34:07.626563\n"
          ]
        }
      ]
    },
    {
      "cell_type": "code",
      "source": [
        "#criando data específica\n",
        "\n",
        "data_nascimento = datetime.datetime(2024, 11, 24)\n",
        "# print(f\"Data de nascimento: {data_nascimento}\")\n",
        "print(f\"Data de nascimento: {data_nascimento.strftime('%d/%m/%Y')}\")"
      ],
      "metadata": {
        "colab": {
          "base_uri": "https://localhost:8080/"
        },
        "id": "sG_EyAZgEdbJ",
        "outputId": "a94efde5-29b6-41fe-e1a6-952cb6b9c33b"
      },
      "execution_count": 5,
      "outputs": [
        {
          "output_type": "stream",
          "name": "stdout",
          "text": [
            "Data de nascimento: 24/11/2024\n"
          ]
        }
      ]
    },
    {
      "cell_type": "code",
      "source": [
        "import random #para gerar números aleatórios\n",
        "\n",
        "#gerando um número aleatório entre 1 e 10\n",
        "\n",
        "numero = random.randint(1, 10)\n",
        "print(numero)"
      ],
      "metadata": {
        "colab": {
          "base_uri": "https://localhost:8080/"
        },
        "id": "AiWHzDZFFAgc",
        "outputId": "3227dacc-5a81-41f9-91d7-dac823470a25"
      },
      "execution_count": 7,
      "outputs": [
        {
          "output_type": "stream",
          "name": "stdout",
          "text": [
            "5\n"
          ]
        }
      ]
    },
    {
      "cell_type": "code",
      "source": [
        "#escolhendo aleatórimente de uma lista\n",
        "\n",
        "lista = ['vermelho', 'azul', 'verde', 'amarelo', 'roxo']\n",
        "cor = random.choice(lista)\n",
        "print(cor)"
      ],
      "metadata": {
        "colab": {
          "base_uri": "https://localhost:8080/"
        },
        "id": "5i95iO-bFaxx",
        "outputId": "d91306f3-326b-49f5-f3ac-8fbe222bad90"
      },
      "execution_count": 9,
      "outputs": [
        {
          "output_type": "stream",
          "name": "stdout",
          "text": [
            "vermelho\n"
          ]
        }
      ]
    },
    {
      "cell_type": "code",
      "source": [
        "import os #trabalhar com o sistema operacional\n",
        "\n",
        "#obtendo o diretório atual\n",
        "\n",
        "diretorio = os.getcwd()\n",
        "print(diretorio)"
      ],
      "metadata": {
        "colab": {
          "base_uri": "https://localhost:8080/"
        },
        "id": "WLsHDGUUFo5w",
        "outputId": "88e773a9-05f4-4a2b-c9b2-b18134acfb22"
      },
      "execution_count": 11,
      "outputs": [
        {
          "output_type": "stream",
          "name": "stdout",
          "text": [
            "/content\n"
          ]
        }
      ]
    },
    {
      "cell_type": "code",
      "source": [
        "#listando arquivos em um diretório\n",
        "\n",
        "for arquivo in os.listdir():\n",
        "    print(arquivo)"
      ],
      "metadata": {
        "colab": {
          "base_uri": "https://localhost:8080/"
        },
        "id": "_YTpcoNsGPr9",
        "outputId": "43b70b7c-a7f7-49c3-ba12-b3b7c4fce8a8"
      },
      "execution_count": 12,
      "outputs": [
        {
          "output_type": "stream",
          "name": "stdout",
          "text": [
            ".config\n",
            "sample_data\n"
          ]
        }
      ]
    }
  ]
}