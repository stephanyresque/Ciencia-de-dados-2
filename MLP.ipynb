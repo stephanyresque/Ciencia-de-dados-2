{
  "nbformat": 4,
  "nbformat_minor": 0,
  "metadata": {
    "colab": {
      "provenance": [],
      "gpuType": "T4",
      "authorship_tag": "ABX9TyMAdmuhtXDUfGXnz+bDY3fv",
      "include_colab_link": true
    },
    "kernelspec": {
      "name": "python3",
      "display_name": "Python 3"
    },
    "language_info": {
      "name": "python"
    },
    "accelerator": "GPU"
  },
  "cells": [
    {
      "cell_type": "markdown",
      "metadata": {
        "id": "view-in-github",
        "colab_type": "text"
      },
      "source": [
        "<a href=\"https://colab.research.google.com/github/stephanyresque/Ciencia-de-dados-2/blob/main/MLP.ipynb\" target=\"_parent\"><img src=\"https://colab.research.google.com/assets/colab-badge.svg\" alt=\"Open In Colab\"/></a>"
      ]
    },
    {
      "cell_type": "code",
      "execution_count": 1,
      "metadata": {
        "id": "7nK4v4_9Hop6"
      },
      "outputs": [],
      "source": [
        "import torch\n",
        "from torch import nn, optim"
      ]
    },
    {
      "cell_type": "code",
      "source": [
        "# 1. Definindo a Estrutura da Rede Neural MLP\n",
        "class MLP(nn.Module):\n",
        "    def __init__(self, input_size):\n",
        "        super(MLP, self).__init__()\n",
        "        # Camada oculta 1: da entrada para 16 neurônios na primeira camada oculta\n",
        "        self.hidden1 = nn.Linear(input_size, 16)\n",
        "        # Camada oculta 2: de 16 neurônios para 8 neurônios\n",
        "        self.hidden2 = nn.Linear(16, 8)\n",
        "        # Camada de saída: de 8 neurônios para 1 neurônio de saída\n",
        "        self.output = nn.Linear(8, 1)\n",
        "\n",
        "    def forward(self, x):\n",
        "        # Aplicando ReLU após a primeira camada oculta\n",
        "        x = torch.relu(self.hidden1(x))\n",
        "        # Aplicando ReLU após a segunda camada oculta\n",
        "        x = torch.relu(self.hidden2(x))\n",
        "        # Aplicando Sigmoid na camada de saída para obter uma probabilidade (0 a 1)\n",
        "        x = torch.sigmoid(self.output(x))\n",
        "        return x\n"
      ],
      "metadata": {
        "id": "crQ0F7KtIe6r"
      },
      "execution_count": 2,
      "outputs": []
    },
    {
      "cell_type": "code",
      "source": [
        "# 2. Inicializando a Rede Neural MLP\n",
        "input_size = 3  # Exemplo de 3 características de entrada\n",
        "modelo = MLP(input_size)\n",
        "\n",
        "# 3. Definindo a Função de Perda e o Otimizador\n",
        "criterio = nn.BCELoss()  # Usando Binary Cross-Entropy para problemas de classificação binária\n",
        "otimizador = optim.Adam(modelo.parameters(), lr=0.01)  # Taxa de aprendizado de 0.01\n",
        "\n",
        "# 4. Dados de Entrada e Saída Esperada\n",
        "entrada = torch.tensor([[0.5, 0.3, 0.2], [0.6, 0.1, 0.4]])  # Exemplo com 2 amostras e 3 características\n",
        "saida_esperada = torch.tensor([[1.0], [0.0]])  # Saída binária para cada amostra (1 ou 0)\n",
        "\n",
        "# 5. Treinamento da MLP (Loop de 100 épocas)\n",
        "for epoca in range(200):\n",
        "    otimizador.zero_grad()          # Passo 1: Zerar gradientes\n",
        "    saida = modelo(entrada)         # Passo 2: Forward pass - calcular a saída\n",
        "    perda = criterio(saida, saida_esperada)  # Passo 3: Calcular a perda\n",
        "    perda.backward()                # Passo 4: Retropropagação - cálculo dos gradientes\n",
        "    otimizador.step()               # Passo 5: Ajuste dos pesos\n",
        "\n",
        "    # Monitorando a perda a cada 10 épocas\n",
        "    if epoca % 10 == 0:\n",
        "        print(f\"Época {epoca+1}, Perda: {perda.item()}\")"
      ],
      "metadata": {
        "colab": {
          "base_uri": "https://localhost:8080/"
        },
        "id": "iCSovaN2J9-C",
        "outputId": "29e9edfd-a8d0-44ee-87b1-08848492ffd5"
      },
      "execution_count": 4,
      "outputs": [
        {
          "output_type": "stream",
          "name": "stdout",
          "text": [
            "Época 1, Perda: 0.6958624124526978\n",
            "Época 11, Perda: 0.6688183546066284\n",
            "Época 21, Perda: 0.6069611310958862\n",
            "Época 31, Perda: 0.47032320499420166\n",
            "Época 41, Perda: 0.2683591842651367\n",
            "Época 51, Perda: 0.09768851101398468\n",
            "Época 61, Perda: 0.02691156417131424\n",
            "Época 71, Perda: 0.008828286081552505\n",
            "Época 81, Perda: 0.004175535868853331\n",
            "Época 91, Perda: 0.0025846888311207294\n",
            "Época 101, Perda: 0.0018681827932596207\n",
            "Época 111, Perda: 0.00146577600389719\n",
            "Época 121, Perda: 0.001208464615046978\n",
            "Época 131, Perda: 0.0010212758788838983\n",
            "Época 141, Perda: 0.0008794139721430838\n",
            "Época 151, Perda: 0.0007673428626731038\n",
            "Época 161, Perda: 0.0006749947788193822\n",
            "Época 171, Perda: 0.0005987537442706525\n",
            "Época 181, Perda: 0.000534303137101233\n",
            "Época 191, Perda: 0.000480171584058553\n"
          ]
        }
      ]
    }
  ]
}