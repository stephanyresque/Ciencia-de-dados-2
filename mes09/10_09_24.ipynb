{
  "nbformat": 4,
  "nbformat_minor": 0,
  "metadata": {
    "colab": {
      "provenance": [],
      "authorship_tag": "ABX9TyM5wbFSC3h/nfDCkTlPSu4F",
      "include_colab_link": true
    },
    "kernelspec": {
      "name": "python3",
      "display_name": "Python 3"
    },
    "language_info": {
      "name": "python"
    }
  },
  "cells": [
    {
      "cell_type": "markdown",
      "metadata": {
        "id": "view-in-github",
        "colab_type": "text"
      },
      "source": [
        "<a href=\"https://colab.research.google.com/github/stephanyresque/Ciencia-de-dados-2/blob/main/10_09_24.ipynb\" target=\"_parent\"><img src=\"https://colab.research.google.com/assets/colab-badge.svg\" alt=\"Open In Colab\"/></a>"
      ]
    },
    {
      "cell_type": "markdown",
      "source": [
        "# Estruturas de repetição"
      ],
      "metadata": {
        "id": "QkhUQr8XbSQ6"
      }
    },
    {
      "cell_type": "markdown",
      "source": [
        "## Loop for"
      ],
      "metadata": {
        "id": "521UBqrBbfjL"
      }
    },
    {
      "cell_type": "markdown",
      "source": [
        "OBS: \"FOR\" == \"PARA\""
      ],
      "metadata": {
        "id": "tpl76RQLb97D"
      }
    },
    {
      "cell_type": "code",
      "source": [
        "numeros = [1,2,3,4,5]\n",
        "for numero in numeros:\n",
        "  print(numero)"
      ],
      "metadata": {
        "colab": {
          "base_uri": "https://localhost:8080/"
        },
        "id": "uuqjjiUwbif7",
        "outputId": "a770a646-7228-4077-b5b9-2a7d28c7bd76"
      },
      "execution_count": 1,
      "outputs": [
        {
          "output_type": "stream",
          "name": "stdout",
          "text": [
            "1\n",
            "2\n",
            "3\n",
            "4\n",
            "5\n"
          ]
        }
      ]
    },
    {
      "cell_type": "code",
      "source": [
        "palavra = 'sorvete'\n",
        "for letra in palavra:\n",
        "  print(letra)"
      ],
      "metadata": {
        "colab": {
          "base_uri": "https://localhost:8080/"
        },
        "id": "OBQ61TRQb0-A",
        "outputId": "fb9a9401-1a56-48c7-c2cf-3b284d026553"
      },
      "execution_count": 2,
      "outputs": [
        {
          "output_type": "stream",
          "name": "stdout",
          "text": [
            "s\n",
            "o\n",
            "r\n",
            "v\n",
            "e\n",
            "t\n",
            "e\n"
          ]
        }
      ]
    },
    {
      "cell_type": "code",
      "source": [
        "#range() -> gera uma sequência de números.\n",
        "for i in range(5):\n",
        "  print(i)"
      ],
      "metadata": {
        "colab": {
          "base_uri": "https://localhost:8080/"
        },
        "id": "eG5dvYlLcCfs",
        "outputId": "544bfaf9-f945-49e4-8dce-302f073e2a98"
      },
      "execution_count": 3,
      "outputs": [
        {
          "output_type": "stream",
          "name": "stdout",
          "text": [
            "0\n",
            "1\n",
            "2\n",
            "3\n",
            "4\n"
          ]
        }
      ]
    },
    {
      "cell_type": "code",
      "source": [
        "meu_dicionario = {\n",
        "    'a':1,\n",
        "    'b':2,\n",
        "    'c':3\n",
        "}\n",
        "\n",
        "for chave in meu_dicionario: #por padrão sempre pega a chave primeiro\n",
        "  print(chave, meu_dicionario[chave])"
      ],
      "metadata": {
        "colab": {
          "base_uri": "https://localhost:8080/"
        },
        "id": "hwpFJ7hJc6Z1",
        "outputId": "15f4ca2b-c16a-4a4c-e31e-d135610fb325"
      },
      "execution_count": 6,
      "outputs": [
        {
          "output_type": "stream",
          "name": "stdout",
          "text": [
            "a 1\n",
            "b 2\n",
            "c 3\n"
          ]
        }
      ]
    },
    {
      "cell_type": "code",
      "source": [
        "vendas = [1000, 450, 300, 600]\n",
        "\n",
        "for venda in vendas:\n",
        "  print(venda)"
      ],
      "metadata": {
        "colab": {
          "base_uri": "https://localhost:8080/"
        },
        "id": "L3LQHLTwdxwM",
        "outputId": "a20a42ad-a4ae-44b1-97a4-898ce74b3203"
      },
      "execution_count": 8,
      "outputs": [
        {
          "output_type": "stream",
          "name": "stdout",
          "text": [
            "1000\n",
            "450\n",
            "300\n",
            "600\n"
          ]
        }
      ]
    },
    {
      "cell_type": "code",
      "source": [
        "vendas = (1000, 450, 300, 600)\n",
        "\n",
        "for venda in vendas:\n",
        "  print(f\"R${venda}\")"
      ],
      "metadata": {
        "colab": {
          "base_uri": "https://localhost:8080/"
        },
        "id": "1T-5fPJgd5ZM",
        "outputId": "ca2a46b7-23e5-4729-81bd-68bb6cd1cd00"
      },
      "execution_count": 9,
      "outputs": [
        {
          "output_type": "stream",
          "name": "stdout",
          "text": [
            "R$1000\n",
            "R$450\n",
            "R$300\n",
            "R$600\n"
          ]
        }
      ]
    },
    {
      "cell_type": "code",
      "source": [
        "for letra in 'python':\n",
        "  print(letra.upper())"
      ],
      "metadata": {
        "colab": {
          "base_uri": "https://localhost:8080/"
        },
        "id": "_KPGFi96eKT8",
        "outputId": "3d112a71-5c52-4858-d349-85a0195217fa"
      },
      "execution_count": 10,
      "outputs": [
        {
          "output_type": "stream",
          "name": "stdout",
          "text": [
            "P\n",
            "Y\n",
            "T\n",
            "H\n",
            "O\n",
            "N\n"
          ]
        }
      ]
    },
    {
      "cell_type": "code",
      "source": [
        "pessoas = {\n",
        "    \"bill\": {\"nome\": \"Bill Gates\", \"idade\": 68, \"empresa\": \"Microsoft\"},\n",
        "    \"elon\": {\"nome\": \"Elon Musk\", \"idade\": 52, \"empresa\": \"X\"},\n",
        "    \"mark\": {\"nome\": \"Mark Zuckerberg\", \"idade\": 39, \"empresa\": \"Facebook\"},\n",
        "}"
      ],
      "metadata": {
        "id": "tmYK6GW9eO3D"
      },
      "execution_count": 11,
      "outputs": []
    },
    {
      "cell_type": "code",
      "source": [
        "for pessoa in pessoas:\n",
        "  print(pessoa)"
      ],
      "metadata": {
        "colab": {
          "base_uri": "https://localhost:8080/"
        },
        "id": "icZodP3-ezAG",
        "outputId": "2fe33d78-effb-440d-aa42-3af72dade5da"
      },
      "execution_count": 12,
      "outputs": [
        {
          "output_type": "stream",
          "name": "stdout",
          "text": [
            "bill\n",
            "elon\n",
            "mark\n"
          ]
        }
      ]
    },
    {
      "cell_type": "code",
      "source": [
        "#todo dicionário tem o método items()\n",
        "#ele retorna uma lista de tuplas, onde cada tupla é um par chave-valor\n",
        "\n",
        "pessoas.items()"
      ],
      "metadata": {
        "colab": {
          "base_uri": "https://localhost:8080/"
        },
        "id": "qVXkU_Lse3oS",
        "outputId": "8689753b-ea93-4772-dba2-71cc9cf6406e"
      },
      "execution_count": 13,
      "outputs": [
        {
          "output_type": "execute_result",
          "data": {
            "text/plain": [
              "dict_items([('bill', {'nome': 'Bill Gates', 'idade': 68, 'empresa': 'Microsoft'}), ('elon', {'nome': 'Elon Musk', 'idade': 52, 'empresa': 'X'}), ('mark', {'nome': 'Mark Zuckerberg', 'idade': 39, 'empresa': 'Facebook'})])"
            ]
          },
          "metadata": {},
          "execution_count": 13
        }
      ]
    },
    {
      "cell_type": "code",
      "source": [
        "for pessoa in pessoas.items():\n",
        "  print(pessoa)"
      ],
      "metadata": {
        "colab": {
          "base_uri": "https://localhost:8080/"
        },
        "id": "us9ftkycfMNU",
        "outputId": "d476c4bb-e5ba-4f8d-a1ff-c88e6e72cdfd"
      },
      "execution_count": 14,
      "outputs": [
        {
          "output_type": "stream",
          "name": "stdout",
          "text": [
            "('bill', {'nome': 'Bill Gates', 'idade': 68, 'empresa': 'Microsoft'})\n",
            "('elon', {'nome': 'Elon Musk', 'idade': 52, 'empresa': 'X'})\n",
            "('mark', {'nome': 'Mark Zuckerberg', 'idade': 39, 'empresa': 'Facebook'})\n"
          ]
        }
      ]
    },
    {
      "cell_type": "code",
      "source": [
        "for chave, valor in pessoas.items():\n",
        "  print(chave, valor)"
      ],
      "metadata": {
        "colab": {
          "base_uri": "https://localhost:8080/"
        },
        "id": "vJCbc4F7fTHM",
        "outputId": "6a2d0e1b-4fdb-4b50-8598-7a3df1dab8a2"
      },
      "execution_count": 15,
      "outputs": [
        {
          "output_type": "stream",
          "name": "stdout",
          "text": [
            "bill {'nome': 'Bill Gates', 'idade': 68, 'empresa': 'Microsoft'}\n",
            "elon {'nome': 'Elon Musk', 'idade': 52, 'empresa': 'X'}\n",
            "mark {'nome': 'Mark Zuckerberg', 'idade': 39, 'empresa': 'Facebook'}\n"
          ]
        }
      ]
    },
    {
      "cell_type": "code",
      "source": [
        "for chave, valor in pessoas.items():\n",
        "  print(chave, valor['empresa'])"
      ],
      "metadata": {
        "colab": {
          "base_uri": "https://localhost:8080/"
        },
        "id": "40sEcz-UfgmU",
        "outputId": "870ee22b-1253-46b9-eb11-4ae42428d831"
      },
      "execution_count": 16,
      "outputs": [
        {
          "output_type": "stream",
          "name": "stdout",
          "text": [
            "bill Microsoft\n",
            "elon X\n",
            "mark Facebook\n"
          ]
        }
      ]
    },
    {
      "cell_type": "code",
      "source": [
        "for chave, valor in pessoas.items():\n",
        "  print(valor['nome'], valor['empresa'])"
      ],
      "metadata": {
        "colab": {
          "base_uri": "https://localhost:8080/"
        },
        "id": "Lb_4qtkjfzD_",
        "outputId": "1c22a60d-89a3-4999-bd82-fb362e7fa8cd"
      },
      "execution_count": 17,
      "outputs": [
        {
          "output_type": "stream",
          "name": "stdout",
          "text": [
            "Bill Gates Microsoft\n",
            "Elon Musk X\n",
            "Mark Zuckerberg Facebook\n"
          ]
        }
      ]
    },
    {
      "cell_type": "code",
      "source": [
        "for chave, valor in pessoas.items():#chave só foi usado para o unpacking\n",
        "  print(f\"o {valor['nome']} trabalha na {valor['empresa']}\")"
      ],
      "metadata": {
        "colab": {
          "base_uri": "https://localhost:8080/"
        },
        "id": "Qkp1sjo8f8gE",
        "outputId": "e212c570-f5eb-4add-ba16-76aec714059e"
      },
      "execution_count": 18,
      "outputs": [
        {
          "output_type": "stream",
          "name": "stdout",
          "text": [
            "o Bill Gates trabalha na Microsoft\n",
            "o Elon Musk trabalha na X\n",
            "o Mark Zuckerberg trabalha na Facebook\n"
          ]
        }
      ]
    },
    {
      "cell_type": "code",
      "source": [
        "for _, valor in pessoas.items():#para indicar que foi feito um unpacking\n",
        "  print(f\"o {valor['nome']} trabalha na {valor['empresa']}\")"
      ],
      "metadata": {
        "colab": {
          "base_uri": "https://localhost:8080/"
        },
        "id": "gnVQliJDgGj1",
        "outputId": "1ee06c60-a418-47d7-e3ba-45b420f9ed22"
      },
      "execution_count": 19,
      "outputs": [
        {
          "output_type": "stream",
          "name": "stdout",
          "text": [
            "o Bill Gates trabalha na Microsoft\n",
            "o Elon Musk trabalha na X\n",
            "o Mark Zuckerberg trabalha na Facebook\n"
          ]
        }
      ]
    },
    {
      "cell_type": "code",
      "source": [
        "#a função range() retorna uma sequência de inteiros!\n",
        "#posso indicar, além do início, o fim e o passo como parâmetros\n",
        "\n",
        "for i in range(10): #quantos números serão gerados\n",
        "  print(i)"
      ],
      "metadata": {
        "colab": {
          "base_uri": "https://localhost:8080/"
        },
        "id": "NNNUAebngcUm",
        "outputId": "2708a17b-f9ab-49ad-940b-51c908ed7e2e"
      },
      "execution_count": 20,
      "outputs": [
        {
          "output_type": "stream",
          "name": "stdout",
          "text": [
            "0\n",
            "1\n",
            "2\n",
            "3\n",
            "4\n",
            "5\n",
            "6\n",
            "7\n",
            "8\n",
            "9\n"
          ]
        }
      ]
    },
    {
      "cell_type": "code",
      "source": [
        "for i in range(1, 10):#sempre vai até n-1\n",
        "  print(i)"
      ],
      "metadata": {
        "colab": {
          "base_uri": "https://localhost:8080/"
        },
        "id": "eMHaqTOCg4Rc",
        "outputId": "be302342-7fd8-48bf-fb69-764ae4681967"
      },
      "execution_count": 21,
      "outputs": [
        {
          "output_type": "stream",
          "name": "stdout",
          "text": [
            "1\n",
            "2\n",
            "3\n",
            "4\n",
            "5\n",
            "6\n",
            "7\n",
            "8\n",
            "9\n"
          ]
        }
      ]
    },
    {
      "cell_type": "code",
      "source": [
        "for i in range(1, 10, 2):\n",
        "  print(i)"
      ],
      "metadata": {
        "colab": {
          "base_uri": "https://localhost:8080/"
        },
        "id": "WcaCuNoKhFq3",
        "outputId": "a49db32d-a437-42d5-ceee-c6ad49a1d6ac"
      },
      "execution_count": 22,
      "outputs": [
        {
          "output_type": "stream",
          "name": "stdout",
          "text": [
            "1\n",
            "3\n",
            "5\n",
            "7\n",
            "9\n"
          ]
        }
      ]
    },
    {
      "cell_type": "code",
      "source": [
        "for i in range(6):\n",
        "  print(f\"Estamos no número {i}\")"
      ],
      "metadata": {
        "colab": {
          "base_uri": "https://localhost:8080/"
        },
        "id": "ueCjdWcyhKWW",
        "outputId": "5ee2c067-296f-4c19-948d-63a1ac01780b"
      },
      "execution_count": 23,
      "outputs": [
        {
          "output_type": "stream",
          "name": "stdout",
          "text": [
            "Estamos no número 0\n",
            "Estamos no número 1\n",
            "Estamos no número 2\n",
            "Estamos no número 3\n",
            "Estamos no número 4\n",
            "Estamos no número 5\n"
          ]
        }
      ]
    },
    {
      "cell_type": "code",
      "source": [
        "range(5) #ele não cria diretamente, o que facilita a memória do computador"
      ],
      "metadata": {
        "colab": {
          "base_uri": "https://localhost:8080/"
        },
        "id": "hlmD_wathkZH",
        "outputId": "c6838ab5-e835-43e3-fffe-a969cdb5b6b5"
      },
      "execution_count": 24,
      "outputs": [
        {
          "output_type": "execute_result",
          "data": {
            "text/plain": [
              "range(0, 5)"
            ]
          },
          "metadata": {},
          "execution_count": 24
        }
      ]
    },
    {
      "cell_type": "code",
      "source": [
        "list(range(5))"
      ],
      "metadata": {
        "colab": {
          "base_uri": "https://localhost:8080/"
        },
        "id": "5yRgriu2iGgM",
        "outputId": "2005ac44-a43c-44ce-f58d-3d0c347dfd8f"
      },
      "execution_count": 25,
      "outputs": [
        {
          "output_type": "execute_result",
          "data": {
            "text/plain": [
              "[0, 1, 2, 3, 4]"
            ]
          },
          "metadata": {},
          "execution_count": 25
        }
      ]
    },
    {
      "cell_type": "code",
      "source": [
        "tuple(range(10))"
      ],
      "metadata": {
        "colab": {
          "base_uri": "https://localhost:8080/"
        },
        "id": "fnuZyjLaiNGc",
        "outputId": "aec8f047-b5b1-4631-9525-77439ca0dddb"
      },
      "execution_count": 26,
      "outputs": [
        {
          "output_type": "execute_result",
          "data": {
            "text/plain": [
              "(0, 1, 2, 3, 4, 5, 6, 7, 8, 9)"
            ]
          },
          "metadata": {},
          "execution_count": 26
        }
      ]
    },
    {
      "cell_type": "code",
      "source": [
        "print('Tabuada de 2!')\n",
        "\n",
        "for i in range(11):\n",
        "  print(f'2 x {i} = {2*i}')"
      ],
      "metadata": {
        "colab": {
          "base_uri": "https://localhost:8080/"
        },
        "id": "aHR4czDliQNE",
        "outputId": "a012b35b-e6d6-4e4c-cb16-03aa9808b2e9"
      },
      "execution_count": 27,
      "outputs": [
        {
          "output_type": "stream",
          "name": "stdout",
          "text": [
            "Tabuada de 2!\n",
            "2 x 0 = 0\n",
            "2 x 1 = 2\n",
            "2 x 2 = 4\n",
            "2 x 3 = 6\n",
            "2 x 4 = 8\n",
            "2 x 5 = 10\n",
            "2 x 6 = 12\n",
            "2 x 7 = 14\n",
            "2 x 8 = 16\n",
            "2 x 9 = 18\n",
            "2 x 10 = 20\n"
          ]
        }
      ]
    },
    {
      "cell_type": "code",
      "source": [
        "palavra = 'python'\n",
        "\n",
        "for indice in range(len(palavra)):\n",
        "  print(indice, palavra[indice])"
      ],
      "metadata": {
        "colab": {
          "base_uri": "https://localhost:8080/"
        },
        "id": "PK_DSldki1vM",
        "outputId": "6d951b61-a629-437f-9cf5-c5e7888019a3"
      },
      "execution_count": 28,
      "outputs": [
        {
          "output_type": "stream",
          "name": "stdout",
          "text": [
            "0 p\n",
            "1 y\n",
            "2 t\n",
            "3 h\n",
            "4 o\n",
            "5 n\n"
          ]
        }
      ]
    }
  ]
}