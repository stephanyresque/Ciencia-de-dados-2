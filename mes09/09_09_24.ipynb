{
  "nbformat": 4,
  "nbformat_minor": 0,
  "metadata": {
    "colab": {
      "provenance": [],
      "authorship_tag": "ABX9TyPJihSwRfV6TVTjq7W+nBng",
      "include_colab_link": true
    },
    "kernelspec": {
      "name": "python3",
      "display_name": "Python 3"
    },
    "language_info": {
      "name": "python"
    }
  },
  "cells": [
    {
      "cell_type": "markdown",
      "metadata": {
        "id": "view-in-github",
        "colab_type": "text"
      },
      "source": [
        "<a href=\"https://colab.research.google.com/github/stephanyresque/Ciencia-de-dados-2/blob/main/09_09_24.ipynb\" target=\"_parent\"><img src=\"https://colab.research.google.com/assets/colab-badge.svg\" alt=\"Open In Colab\"/></a>"
      ]
    },
    {
      "cell_type": "markdown",
      "source": [
        "# Condicionais"
      ],
      "metadata": {
        "id": "8ovWg4ybhut1"
      }
    },
    {
      "cell_type": "code",
      "source": [
        "x = 10\n",
        "if x > 12:\n",
        "  print(f'x = {x}, logo maior que 12')\n",
        "else:\n",
        "  print(f'x = {x}, logo não é maior que 12')"
      ],
      "metadata": {
        "colab": {
          "base_uri": "https://localhost:8080/"
        },
        "id": "AoTpDKB4hylH",
        "outputId": "5a5d3bf5-36ba-4928-84b9-097c1f4f92af"
      },
      "execution_count": 2,
      "outputs": [
        {
          "output_type": "stream",
          "name": "stdout",
          "text": [
            "x = 10, logo não é maior que 12\n"
          ]
        }
      ]
    },
    {
      "cell_type": "code",
      "source": [
        "num = -5\n",
        "if num >= 0:\n",
        "  print(f'o número {num} é positivo')\n",
        "else:\n",
        "  print(f'O número {num} é negativo')"
      ],
      "metadata": {
        "colab": {
          "base_uri": "https://localhost:8080/"
        },
        "id": "VY_Rw7ehiQFF",
        "outputId": "80c05fea-cae7-43d1-96d7-0dd8a08627ed"
      },
      "execution_count": 3,
      "outputs": [
        {
          "output_type": "stream",
          "name": "stdout",
          "text": [
            "O número -5 é negativo\n"
          ]
        }
      ]
    },
    {
      "cell_type": "code",
      "source": [
        "funcionario = {\n",
        "    'nome': 'Stephany',\n",
        "    'idade': 21,\n",
        "    'salario': 6000.0,\n",
        "    'cargo':'Cientista de dados júnior',\n",
        "    'tempo_de_casa' : 3\n",
        "  }"
      ],
      "metadata": {
        "id": "7LCWQbHuihBN"
      },
      "execution_count": 6,
      "outputs": []
    },
    {
      "cell_type": "code",
      "source": [
        "if funcionario['tempo_de_casa'] >= 2:\n",
        "  funcionario['salario'] *= 1.25\n",
        "  funcionario['cargo'] = 'Cientista de dados pleno'\n",
        "\n",
        "print(funcionario)"
      ],
      "metadata": {
        "colab": {
          "base_uri": "https://localhost:8080/"
        },
        "id": "UVjs5SQ-oHzq",
        "outputId": "83b1af32-08bf-4924-bdac-865d0a7957a5"
      },
      "execution_count": 7,
      "outputs": [
        {
          "output_type": "stream",
          "name": "stdout",
          "text": [
            "{'nome': 'Stephany', 'idade': 21, 'salario': 7500.0, 'cargo': 'Cientista de dados pleno', 'tempo_de_casa': 3}\n"
          ]
        }
      ]
    },
    {
      "cell_type": "code",
      "source": [
        "numero = 4\n",
        "if numero % 2 == 0:\n",
        "  print(f'O número {numero} é par')\n",
        "else:\n",
        "  print(f'O número {numero} é ímpar')"
      ],
      "metadata": {
        "colab": {
          "base_uri": "https://localhost:8080/"
        },
        "id": "bw5gXfrUpOKe",
        "outputId": "e94ae5a9-8c1c-4b69-f4f3-3b6fa0615b36"
      },
      "execution_count": 8,
      "outputs": [
        {
          "output_type": "stream",
          "name": "stdout",
          "text": [
            "O número 4 é par\n"
          ]
        }
      ]
    },
    {
      "cell_type": "code",
      "source": [
        "funcionario = {\n",
        "    'nome': 'Stephany',\n",
        "    'idade': 21,\n",
        "    'salario': 6000.0,\n",
        "    'cargo':'Cientista de dados pleno',\n",
        "    'tempo_de_casa' : 4\n",
        "  }"
      ],
      "metadata": {
        "id": "l8f-_N9xpkgb"
      },
      "execution_count": 11,
      "outputs": []
    },
    {
      "cell_type": "code",
      "source": [
        "if funcionario['tempo_de_casa'] >= 5:\n",
        "  funcionario['salario'] *= 1.5\n",
        "  print('Parabéns, você ganhou um aumento!')\n",
        "else:\n",
        "  print('Infelizmente, você não ganhou um aumento.')"
      ],
      "metadata": {
        "colab": {
          "base_uri": "https://localhost:8080/"
        },
        "id": "AtCPwdwtqTjP",
        "outputId": "2f62f519-593d-45fa-fcfa-8e05fcd25ac0"
      },
      "execution_count": 12,
      "outputs": [
        {
          "output_type": "stream",
          "name": "stdout",
          "text": [
            "Infelizmente, você não ganhou um aumento.\n"
          ]
        }
      ]
    },
    {
      "cell_type": "code",
      "source": [
        "nota = 5.4\n",
        "if nota <= 3:\n",
        "  print('Reprovado')\n",
        "elif nota >=4 and nota <6:\n",
        "  print('Recuperação')\n",
        "else:\n",
        "  print('Aprovado!')"
      ],
      "metadata": {
        "colab": {
          "base_uri": "https://localhost:8080/"
        },
        "id": "2dUC3l5vsRXI",
        "outputId": "d615dc0a-2563-4d32-fe57-7ce1c9924123"
      },
      "execution_count": 13,
      "outputs": [
        {
          "output_type": "stream",
          "name": "stdout",
          "text": [
            "Recuperação\n"
          ]
        }
      ]
    },
    {
      "cell_type": "code",
      "source": [
        "funcionario = {\n",
        "    'nome': 'Stephany',\n",
        "    'idade': 21,\n",
        "    'salario': 7500.0,\n",
        "    'cargo':'Cientista de dados pleno',\n",
        "    'tempo_de_casa' : 4\n",
        "  }"
      ],
      "metadata": {
        "id": "dYlSGmBRuIGq"
      },
      "execution_count": 17,
      "outputs": []
    },
    {
      "cell_type": "code",
      "source": [
        "if funcionario['tempo_de_casa'] >= 3:\n",
        "  funcionario['salario'] *= 1.25\n",
        "  print('Parabéns, você ganhou um aumento!')\n",
        "elif funcionario['tempo_de_casa'] >= 5:\n",
        "  funcionario['salario'] *= 1.5\n",
        "  print('Parabéns, você ganhou um aumento!')\n",
        "else:\n",
        "  print('Infelizmente, você não ganhou um aumento.')\n"
      ],
      "metadata": {
        "colab": {
          "base_uri": "https://localhost:8080/"
        },
        "id": "DzDf9Ik3uOXR",
        "outputId": "2a44f4e2-5a05-47ed-fbb9-b611a9348034"
      },
      "execution_count": 18,
      "outputs": [
        {
          "output_type": "stream",
          "name": "stdout",
          "text": [
            "Parabéns, você ganhou um aumento!\n"
          ]
        }
      ]
    },
    {
      "cell_type": "code",
      "source": [
        "nota = 11\n",
        "\n",
        "if nota < 0 or nota > 10:\n",
        "  print('Nota inválida!')\n",
        "else:\n",
        "  if nota <= 3:\n",
        "    print('Reprovado')\n",
        "  elif nota >= 4 and nota < 6:\n",
        "    print('Recuperação')\n",
        "  else:\n",
        "    print('Aprovado!')\n"
      ],
      "metadata": {
        "colab": {
          "base_uri": "https://localhost:8080/"
        },
        "id": "TAOTDRCRutjy",
        "outputId": "6f3822e9-30c6-4bf9-e595-039b85c4583c"
      },
      "execution_count": 24,
      "outputs": [
        {
          "output_type": "stream",
          "name": "stdout",
          "text": [
            "Nota inválida!\n"
          ]
        }
      ]
    },
    {
      "cell_type": "markdown",
      "source": [
        "## Exercícios"
      ],
      "metadata": {
        "id": "-uX2sR-Pxifc"
      }
    },
    {
      "cell_type": "code",
      "source": [
        "pontuacao = 75\n",
        "\n",
        "if pontuacao >= 80:\n",
        "  categoria = 'ALTA'\n",
        "elif pontuacao < 80 and pontuacao >=50:\n",
        "  categoria = 'MEDIA'\n",
        "else:\n",
        "  categoria = 'BAIXA'\n",
        "\n",
        "print(f\"O lead é categorizado como: {categoria}\")"
      ],
      "metadata": {
        "colab": {
          "base_uri": "https://localhost:8080/"
        },
        "id": "UBMtbjAlxle7",
        "outputId": "a66ca815-c5db-488e-cbca-daa145c8e7ce"
      },
      "execution_count": 25,
      "outputs": [
        {
          "output_type": "stream",
          "name": "stdout",
          "text": [
            "O lead é categorizado como: MEDIA\n"
          ]
        }
      ]
    },
    {
      "cell_type": "code",
      "source": [
        "score_credito = 65\n",
        "faturamento_anual = 1.2\n",
        "\n",
        "if score_credito > 60 and faturamento_anual > 1:\n",
        "  print('Empréstimo aprovado!')\n",
        "else:\n",
        "  print('Empréstimo não aprovado!')"
      ],
      "metadata": {
        "colab": {
          "base_uri": "https://localhost:8080/"
        },
        "id": "mNxLFhbQx86T",
        "outputId": "f56e458e-f0c0-47d7-ce5f-d4682b5bc5c2"
      },
      "execution_count": 26,
      "outputs": [
        {
          "output_type": "stream",
          "name": "stdout",
          "text": [
            "Empréstimo aprovado!\n"
          ]
        }
      ]
    },
    {
      "cell_type": "code",
      "source": [
        "nivel = 2\n",
        "desempenho = \"excelente\"\n",
        "salario = 5000\n",
        "\n",
        "if nivel == 1:\n",
        "  if desempenho == 'bom':\n",
        "    bonus = salario * 0.1\n",
        "  elif desempenho == 'excelente':\n",
        "    bonus = salario * 0.15\n",
        "elif nivel == 2:\n",
        "  if desempenho == 'bom':\n",
        "    bonus = salario * 0.2\n",
        "  elif desempenho == 'excelente':\n",
        "    bonus = salario * 0.25\n",
        "\n",
        "print(f\"O bônus é: R${bonus}\")"
      ],
      "metadata": {
        "colab": {
          "base_uri": "https://localhost:8080/"
        },
        "id": "wSQfxHKtyVwr",
        "outputId": "128ccd63-6174-46e7-c013-735acb188c1b"
      },
      "execution_count": 33,
      "outputs": [
        {
          "output_type": "stream",
          "name": "stdout",
          "text": [
            "O bônus é: R$1250.0\n"
          ]
        }
      ]
    },
    {
      "cell_type": "code",
      "source": [
        "feedback = \"Gostei do produto, mas não gostei do serviço de entrega.\"\n",
        "\n",
        "if 'não gostei' in feedback.lower() or 'ruim' in feedback.lower():\n",
        "  classificacao = 'negativo'\n",
        "elif 'excelente' in feedback.lower() or 'muito bom' in feedback.lower():\n",
        "  classificaco = 'positivo'\n",
        "else:\n",
        "  classificacao = 'neutro'\n",
        "\n",
        "\n",
        "# feedback = \"Gostei do produto e do serviço de entrega.\"\n",
        "\n",
        "# feedback = \"Não gostei do produto e do serviço de entrega.\"\n",
        "\n",
        "# feedback = \"Excelente produto e serviço de entrega.\"\n",
        "\n",
        "# feedback = \"Produto e serviço de entrega muito bom.\"\n",
        "\n",
        "# seu código aqui para classificar o feedback\n",
        "\n",
        "print(f\"Classificação do feedback: {classificacao}\")"
      ],
      "metadata": {
        "colab": {
          "base_uri": "https://localhost:8080/"
        },
        "id": "ilFSAe5HzfMa",
        "outputId": "7b886099-46f1-4b14-fabe-7c45f35f209a"
      },
      "execution_count": 34,
      "outputs": [
        {
          "output_type": "stream",
          "name": "stdout",
          "text": [
            "Classificação do feedback: negativo\n"
          ]
        }
      ]
    },
    {
      "cell_type": "code",
      "source": [
        "orcamento = 25000\n",
        "\n",
        "if orcamento <= 10000:\n",
        "  print('Projeto aprovado!')\n",
        "elif orcamento <= 50000 and orcamento > 10000:\n",
        "  print('Projeto deve ser analisado pelo gerente.')\n",
        "else:\n",
        "  print('O projeto deve ser analisado pela diretoria.')"
      ],
      "metadata": {
        "colab": {
          "base_uri": "https://localhost:8080/"
        },
        "id": "PfGvXCc90D5R",
        "outputId": "42110fa2-f15f-4f5d-adbc-6ccace2ee6a2"
      },
      "execution_count": 31,
      "outputs": [
        {
          "output_type": "stream",
          "name": "stdout",
          "text": [
            "Projeto deve ser analisado pelo gerente.\n"
          ]
        }
      ]
    },
    {
      "cell_type": "code",
      "source": [
        "preco_atual = 100\n",
        "estacao = \"verão\"\n",
        "\n",
        "if estacao == 'verão':\n",
        "  novo_preco = preco_atual * 1.1\n",
        "elif estacao == 'inverno':\n",
        "  novo_preco = preco_atual * 0.95\n",
        "else:\n",
        "  novo_preco = preco_atual\n",
        "\n",
        "print(f\"O novo preço do produto é: R${novo_preco:.2f}\")"
      ],
      "metadata": {
        "colab": {
          "base_uri": "https://localhost:8080/"
        },
        "id": "8RTS7XCO0te7",
        "outputId": "27248e16-9d49-4dee-c8d2-3261c1b25643"
      },
      "execution_count": 32,
      "outputs": [
        {
          "output_type": "stream",
          "name": "stdout",
          "text": [
            "O novo preço do produto é: R$110.00\n"
          ]
        }
      ]
    }
  ]
}