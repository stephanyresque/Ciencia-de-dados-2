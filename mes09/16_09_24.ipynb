{
  "nbformat": 4,
  "nbformat_minor": 0,
  "metadata": {
    "colab": {
      "provenance": [],
      "authorship_tag": "ABX9TyMvIfu/kewdl8aQy2XPSm++",
      "include_colab_link": true
    },
    "kernelspec": {
      "name": "python3",
      "display_name": "Python 3"
    },
    "language_info": {
      "name": "python"
    }
  },
  "cells": [
    {
      "cell_type": "markdown",
      "metadata": {
        "id": "view-in-github",
        "colab_type": "text"
      },
      "source": [
        "<a href=\"https://colab.research.google.com/github/stephanyresque/Ciencia-de-dados-2/blob/main/16_09_24.ipynb\" target=\"_parent\"><img src=\"https://colab.research.google.com/assets/colab-badge.svg\" alt=\"Open In Colab\"/></a>"
      ]
    },
    {
      "cell_type": "markdown",
      "source": [
        "# Exercícios"
      ],
      "metadata": {
        "id": "QQIVDKZy5KRz"
      }
    },
    {
      "cell_type": "code",
      "source": [
        "produtos_vendidos = [\"caneta\", \"lápis\", \"caneta\", \"borracha\"]\n",
        "estoque = {\"caneta\": 2, \"lápis\": 2, \"borracha\": 1}"
      ],
      "metadata": {
        "id": "lLsYq_RY5NcL"
      },
      "execution_count": 45,
      "outputs": []
    },
    {
      "cell_type": "code",
      "source": [
        "for produto in produtos_vendidos:\n",
        "    estoque[produto] -= 1\n",
        "\n",
        "estoque"
      ],
      "metadata": {
        "colab": {
          "base_uri": "https://localhost:8080/"
        },
        "id": "RLtAjzd-5t1U",
        "outputId": "9200bf33-e8b1-4ea7-b369-49224227ea68"
      },
      "execution_count": 46,
      "outputs": [
        {
          "output_type": "execute_result",
          "data": {
            "text/plain": [
              "{'caneta': 0, 'lápis': 1, 'borracha': 0}"
            ]
          },
          "metadata": {},
          "execution_count": 46
        }
      ]
    },
    {
      "cell_type": "code",
      "source": [
        "estoque_vazio = []\n",
        "for produto in estoque:\n",
        "  if estoque[produto] == 0:\n",
        "    estoque_vazio.append(produto)\n",
        "\n",
        "\n",
        "estoque_vazio"
      ],
      "metadata": {
        "colab": {
          "base_uri": "https://localhost:8080/"
        },
        "id": "Ow0uoMVjEMJ0",
        "outputId": "8f3a82a5-c3ec-4471-b2eb-f8d422c30cda"
      },
      "execution_count": 47,
      "outputs": [
        {
          "output_type": "execute_result",
          "data": {
            "text/plain": [
              "['caneta', 'borracha']"
            ]
          },
          "metadata": {},
          "execution_count": 47
        }
      ]
    },
    {
      "cell_type": "code",
      "source": [
        "paragrafo = \"Um cientista de dados precisa ter uma boa base técnica. Dados são importantes.\""
      ],
      "metadata": {
        "id": "nBMeahWD7DND"
      },
      "execution_count": 48,
      "outputs": []
    },
    {
      "cell_type": "code",
      "source": [
        "frase = paragrafo.lower().replace('.','')\n",
        "frase"
      ],
      "metadata": {
        "colab": {
          "base_uri": "https://localhost:8080/",
          "height": 36
        },
        "id": "R_vI4Iy-7EjH",
        "outputId": "8d562fc7-7fb1-4637-d847-af71bdb3d8b9"
      },
      "execution_count": 51,
      "outputs": [
        {
          "output_type": "execute_result",
          "data": {
            "text/plain": [
              "'um cientista de dados precisa ter uma boa base técnica dados são importantes'"
            ],
            "application/vnd.google.colaboratory.intrinsic+json": {
              "type": "string"
            }
          },
          "metadata": {},
          "execution_count": 51
        }
      ]
    },
    {
      "cell_type": "code",
      "source": [
        "frase.split()"
      ],
      "metadata": {
        "colab": {
          "base_uri": "https://localhost:8080/"
        },
        "id": "lPqIiF_8728I",
        "outputId": "637c4fc9-3715-4cce-e408-1747a9faa7c8"
      },
      "execution_count": 52,
      "outputs": [
        {
          "output_type": "execute_result",
          "data": {
            "text/plain": [
              "['um',\n",
              " 'cientista',\n",
              " 'de',\n",
              " 'dados',\n",
              " 'precisa',\n",
              " 'ter',\n",
              " 'uma',\n",
              " 'boa',\n",
              " 'base',\n",
              " 'técnica',\n",
              " 'dados',\n",
              " 'são',\n",
              " 'importantes']"
            ]
          },
          "metadata": {},
          "execution_count": 52
        }
      ]
    },
    {
      "cell_type": "code",
      "source": [
        "contagem = {}\n",
        "\n",
        "for palavra in frase.split():\n",
        "  if palavra in contagem:\n",
        "    contagem[palavra] += 1\n",
        "  else:\n",
        "    contagem[palavra] = 1\n",
        "\n",
        "contagem"
      ],
      "metadata": {
        "colab": {
          "base_uri": "https://localhost:8080/"
        },
        "id": "bnCKLMBG77i6",
        "outputId": "6eaf4550-1f83-4290-e0fd-f1e539eb2da3"
      },
      "execution_count": 55,
      "outputs": [
        {
          "output_type": "execute_result",
          "data": {
            "text/plain": [
              "{'um': 1,\n",
              " 'cientista': 1,\n",
              " 'de': 1,\n",
              " 'dados': 2,\n",
              " 'precisa': 1,\n",
              " 'ter': 1,\n",
              " 'uma': 1,\n",
              " 'boa': 1,\n",
              " 'base': 1,\n",
              " 'técnica': 1,\n",
              " 'são': 1,\n",
              " 'importantes': 1}"
            ]
          },
          "metadata": {},
          "execution_count": 55
        }
      ]
    },
    {
      "cell_type": "code",
      "source": [
        "paragrafo = \"O produto é muito Bom. Alguns clientes acharam bom, mas outros acharam ruim. Não é tão ruim.\""
      ],
      "metadata": {
        "id": "qBAapV7l9Q1a"
      },
      "execution_count": 65,
      "outputs": []
    },
    {
      "cell_type": "code",
      "source": [
        "bom_contagem = 0\n",
        "ruim_contagem = 0\n",
        "\n",
        "palavras = paragrafo.lower().replace('.','').replace(',','').split()\n",
        "palavras\n"
      ],
      "metadata": {
        "colab": {
          "base_uri": "https://localhost:8080/"
        },
        "id": "4--Y77nF9lMg",
        "outputId": "eb54ab47-6d06-4ee8-8a90-49ba4aec3e1a"
      },
      "execution_count": 66,
      "outputs": [
        {
          "output_type": "execute_result",
          "data": {
            "text/plain": [
              "['o',\n",
              " 'produto',\n",
              " 'é',\n",
              " 'muito',\n",
              " 'bom',\n",
              " 'alguns',\n",
              " 'clientes',\n",
              " 'acharam',\n",
              " 'bom',\n",
              " 'mas',\n",
              " 'outros',\n",
              " 'acharam',\n",
              " 'ruim',\n",
              " 'não',\n",
              " 'é',\n",
              " 'tão',\n",
              " 'ruim']"
            ]
          },
          "metadata": {},
          "execution_count": 66
        }
      ]
    },
    {
      "cell_type": "code",
      "source": [
        "while palavras:\n",
        "  palavra = palavras.pop()\n",
        "  if palavra == 'bom':\n",
        "    bom_contagem += 1\n",
        "  elif palavra == 'ruim':\n",
        "    ruim_contagem += 1\n",
        "\n",
        "bom_contagem, ruim_contagem"
      ],
      "metadata": {
        "colab": {
          "base_uri": "https://localhost:8080/"
        },
        "id": "dtI_Fm29IeoE",
        "outputId": "5ffbe4eb-7647-4818-8b42-7a9e44867c21"
      },
      "execution_count": 67,
      "outputs": [
        {
          "output_type": "execute_result",
          "data": {
            "text/plain": [
              "(2, 2)"
            ]
          },
          "metadata": {},
          "execution_count": 67
        }
      ]
    },
    {
      "cell_type": "code",
      "source": [
        "# for palavra in palavras:\n",
        "#   if palavra == 'bom':\n",
        "#     bom_contagem += 1\n",
        "#   elif palavra == 'ruim':\n",
        "#     ruim_contagem += 1\n",
        "\n",
        "# bom_contagem, ruim_contagem"
      ],
      "metadata": {
        "colab": {
          "base_uri": "https://localhost:8080/"
        },
        "id": "XNF8xaR2H4RU",
        "outputId": "49600aa4-8367-46f8-8974-7fefadeda2a4"
      },
      "execution_count": 63,
      "outputs": [
        {
          "output_type": "execute_result",
          "data": {
            "text/plain": [
              "(2, 2)"
            ]
          },
          "metadata": {},
          "execution_count": 63
        }
      ]
    },
    {
      "cell_type": "code",
      "source": [
        "valores = [10, 20, 0, -10, 30]\n",
        "minimo = min(valores)\n",
        "maximo = max(valores)\n",
        "\n",
        "valores_normalizados = [(numero - minimo)/(maximo - minimo) for numero in valores ]\n",
        "valores_normalizados"
      ],
      "metadata": {
        "colab": {
          "base_uri": "https://localhost:8080/"
        },
        "id": "O9NnoW4t-yDD",
        "outputId": "e126f4c9-d4ad-493f-b78a-eb9c936c2f4f"
      },
      "execution_count": 68,
      "outputs": [
        {
          "output_type": "execute_result",
          "data": {
            "text/plain": [
              "[0.5, 0.75, 0.25, 0.0, 1.0]"
            ]
          },
          "metadata": {},
          "execution_count": 68
        }
      ]
    },
    {
      "cell_type": "code",
      "source": [
        "vendas = [1200, 1500, None, 1800, '2000', 'erro']"
      ],
      "metadata": {
        "id": "H8SPLMHYAw-Y"
      },
      "execution_count": 69,
      "outputs": []
    },
    {
      "cell_type": "code",
      "source": [
        "soma = 0\n",
        "for valor in vendas:\n",
        "  try:\n",
        "    soma += float(valor)\n",
        "  except (TypeError, ValueError):\n",
        "    continue\n",
        "\n",
        "print(f\"Soma total das vendas: R${soma:.2f}\")"
      ],
      "metadata": {
        "colab": {
          "base_uri": "https://localhost:8080/"
        },
        "id": "k57mYh-WA_Sk",
        "outputId": "5fed014f-ff77-418c-c291-6338a044d6bf"
      },
      "execution_count": 75,
      "outputs": [
        {
          "output_type": "stream",
          "name": "stdout",
          "text": [
            "Soma total das vendas: R$6500.00\n"
          ]
        }
      ]
    },
    {
      "cell_type": "code",
      "source": [
        "pessoas = {\n",
        "    \"bill\": {\"nome\": \"Bill Gates\", \"idade\": 68, \"empresa\": \"Microsoft\"},\n",
        "    \"elon\": {\"nome\": \"Elon Musk\", \"idade\": 52, \"empresa\": \"X\"},\n",
        "    \"mark\": {\"nome\": \"Mark Zuckerberg\", \"idade\": 39, \"empresa\": \"Facebook\"},\n",
        "}\n",
        "\n",
        "print(f\"{'Nome':^16} | {'Idade':^6} | {'Empresa':^15}\")\n",
        "print(f\"{'-'*16} | {'-'*6} | {'-'*15}\")\n",
        "print(f\"{pessoas['bill']['nome']:<16} | {pessoas['bill']['idade']:^6} | {pessoas['bill']['empresa']:>15}\")\n",
        "print(f\"{pessoas['elon']['nome']:<16} | {pessoas['elon']['idade']:^6} | {pessoas['elon']['empresa']:>15}\")\n",
        "print(f\"{pessoas['mark']['nome']:<16} | {pessoas['mark']['idade']:^6} | {pessoas['mark']['empresa']:>15}\")"
      ],
      "metadata": {
        "colab": {
          "base_uri": "https://localhost:8080/"
        },
        "id": "s47z1BCuCjdL",
        "outputId": "22f51e94-1daa-45ee-ca55-a3a0b1a05709"
      },
      "execution_count": 38,
      "outputs": [
        {
          "output_type": "stream",
          "name": "stdout",
          "text": [
            "      Nome       | Idade  |     Empresa    \n",
            "---------------- | ------ | ---------------\n",
            "Bill Gates       |   68   |       Microsoft\n",
            "Elon Musk        |   52   |               X\n",
            "Mark Zuckerberg  |   39   |        Facebook\n"
          ]
        }
      ]
    },
    {
      "cell_type": "code",
      "source": [
        "print(f\"{'Nome':^16} | {'Idade':^6} | {'Empresa':^15}\")\n",
        "print(f\"{'-'*16} | {'-'*6} | {'-'*15}\")\n",
        "\n",
        "for pessoa in pessoas:\n",
        "  d = pessoas[pessoa]\n",
        "  print(f\"{d['nome']:<16} | {d['idade']:^6} | {d['empresa']:>15}\")"
      ],
      "metadata": {
        "colab": {
          "base_uri": "https://localhost:8080/"
        },
        "id": "gmvewSXXCpdT",
        "outputId": "a512e869-c402-496f-b998-9b5d2cdf082f"
      },
      "execution_count": 76,
      "outputs": [
        {
          "output_type": "stream",
          "name": "stdout",
          "text": [
            "      Nome       | Idade  |     Empresa    \n",
            "---------------- | ------ | ---------------\n",
            "Bill Gates       |   68   |       Microsoft\n",
            "Elon Musk        |   52   |               X\n",
            "Mark Zuckerberg  |   39   |        Facebook\n"
          ]
        }
      ]
    },
    {
      "cell_type": "markdown",
      "source": [
        "# Desafios"
      ],
      "metadata": {
        "id": "OoPto3V9LZes"
      }
    },
    {
      "cell_type": "code",
      "source": [
        "senha = 'Senha@123'\n",
        "caracter_especial = '!@%$#*_-&'\n",
        "\n",
        "tamanho_minimo = len(senha) >= 8\n",
        "tem_minuscula = False\n",
        "tem_maiuscula = False\n",
        "tem_numero = False\n",
        "tem_especial = False\n",
        "\n",
        "for l in senha:\n",
        "  if l.isupper():\n",
        "    tem_maiuscula = True\n",
        "  elif l.islower():\n",
        "    tem_minuscula = True\n",
        "  elif l.isdigit():\n",
        "    tem_numero = True\n",
        "  elif l in caracter_especial:\n",
        "    tem_especial = True\n",
        "\n",
        "if (tamanho_minimo and tem_minuscula and tem_maiuscula and tem_numero and tem_especial):\n",
        "  print('Senha válida')\n",
        "else:\n",
        "  print('Senha inválida')"
      ],
      "metadata": {
        "colab": {
          "base_uri": "https://localhost:8080/"
        },
        "id": "bFNWuAdwLeUt",
        "outputId": "d1586296-b8f8-4bc1-ce21-47059ad08488"
      },
      "execution_count": 86,
      "outputs": [
        {
          "output_type": "stream",
          "name": "stdout",
          "text": [
            "Senha válida\n"
          ]
        }
      ]
    },
    {
      "cell_type": "code",
      "source": [
        "exemplo = (True, True, False)\n",
        "exemplo2 = (True, True, True)\n",
        "\n",
        "print(all(exemplo))\n",
        "print(all(exemplo2))\n",
        "\n",
        "print(any(exemplo))\n",
        "print(any(exemplo2))"
      ],
      "metadata": {
        "colab": {
          "base_uri": "https://localhost:8080/"
        },
        "id": "_iC0r_bsStFO",
        "outputId": "25bf86ea-5903-41b6-cb5e-45ae260bd33f"
      },
      "execution_count": 87,
      "outputs": [
        {
          "output_type": "stream",
          "name": "stdout",
          "text": [
            "False\n",
            "True\n",
            "True\n",
            "True\n"
          ]
        }
      ]
    },
    {
      "cell_type": "code",
      "source": [
        "senha = 'Senha@123'\n",
        "caracter_especial = '!@%$#*_-&'\n",
        "\n",
        "tamanho_minimo = len(senha) >= 8\n",
        "tem_minuscula = any([l.islower() for l in senha])\n",
        "tem_maiuscula = any([l.isupper() for l in senha])\n",
        "tem_numero = any([l.isdigit() for l in senha])\n",
        "tem_especial = any([l in caracter_especial for l in senha])\n",
        "\n",
        "valides = (tamanho_minimo, tem_minuscula, tem_maiuscula, tem_numero, tem_especial)\n",
        "\n",
        "if all(valides):\n",
        "  print('Senha válida')\n",
        "else:\n",
        "  print('Senha inválida')"
      ],
      "metadata": {
        "colab": {
          "base_uri": "https://localhost:8080/"
        },
        "id": "uVkip9lsTGEU",
        "outputId": "71eb645e-57b5-4748-f9bb-85b6903f6bb4"
      },
      "execution_count": 89,
      "outputs": [
        {
          "output_type": "stream",
          "name": "stdout",
          "text": [
            "Senha válida\n"
          ]
        }
      ]
    },
    {
      "cell_type": "markdown",
      "source": [
        "# Funções"
      ],
      "metadata": {
        "id": "jH7KX4MeU7_m"
      }
    },
    {
      "cell_type": "code",
      "source": [
        "def soma(x, y):\n",
        "  return x+y\n",
        "\n",
        "soma(10,20)"
      ],
      "metadata": {
        "colab": {
          "base_uri": "https://localhost:8080/"
        },
        "id": "T4gA9JSVbOTK",
        "outputId": "2747a902-cac0-4944-c501-3ed61af7ce5f"
      },
      "execution_count": 90,
      "outputs": [
        {
          "output_type": "execute_result",
          "data": {
            "text/plain": [
              "30"
            ]
          },
          "metadata": {},
          "execution_count": 90
        }
      ]
    },
    {
      "cell_type": "code",
      "source": [
        "def saudar(nome):\n",
        "  print(f\"Olá, {nome}!\")\n",
        "\n",
        "saudar('Nathália')"
      ],
      "metadata": {
        "colab": {
          "base_uri": "https://localhost:8080/"
        },
        "id": "tdffSPjwcOyU",
        "outputId": "5098aa69-c708-45b6-c816-0478be1dbf1c"
      },
      "execution_count": 92,
      "outputs": [
        {
          "output_type": "stream",
          "name": "stdout",
          "text": [
            "Olá, Nathália!\n"
          ]
        }
      ]
    },
    {
      "cell_type": "code",
      "source": [
        "alunos = ['Stephany', 'Nathália', 'Guilherme']\n",
        "\n",
        "for aluno in alunos:\n",
        "  saudar(aluno)"
      ],
      "metadata": {
        "colab": {
          "base_uri": "https://localhost:8080/"
        },
        "id": "vHyRmg4cck6X",
        "outputId": "f348aa61-e8b2-429c-8c08-07f87b0be155"
      },
      "execution_count": 93,
      "outputs": [
        {
          "output_type": "stream",
          "name": "stdout",
          "text": [
            "Olá, Stephany!\n",
            "Olá, Nathália!\n",
            "Olá, Guilherme!\n"
          ]
        }
      ]
    },
    {
      "cell_type": "code",
      "source": [
        "def calculoDesconto(valor, desconto = 0):\n",
        "  \"\"\"Calcula o desconto sobre um preço\n",
        "\n",
        "  Parameters\n",
        "  ----------\n",
        "  valor : float or int\n",
        "  desconto: float or int\n",
        "\n",
        "  Returns\n",
        "  -------\n",
        "  float or int\n",
        "  \"\"\"\n",
        "  return valor - (valor * (desconto/100))\n",
        "\n",
        "calculoDesconto(100,20)"
      ],
      "metadata": {
        "colab": {
          "base_uri": "https://localhost:8080/"
        },
        "id": "pQVNhi3PeG-_",
        "outputId": "c6f88275-4a23-4d24-d47f-b662d08662db"
      },
      "execution_count": 99,
      "outputs": [
        {
          "output_type": "execute_result",
          "data": {
            "text/plain": [
              "80.0"
            ]
          },
          "metadata": {},
          "execution_count": 99
        }
      ]
    },
    {
      "cell_type": "code",
      "source": [
        "produtos = {\n",
        "    'Camisa masculina M': {'preco': 50.0, 'desconto': 10},\n",
        "    'Calça feminina P': {'preco': 100.0, 'desconto': 5},\n",
        "    'Mochila': {'preco': 150.0, 'desconto': 15},\n",
        "    'Relógio': {'preco': 200.0, 'desconto': 20},\n",
        "}"
      ],
      "metadata": {
        "id": "Z9HJRlXqed4X"
      },
      "execution_count": 100,
      "outputs": []
    },
    {
      "cell_type": "code",
      "source": [
        "produtos_atualizados = {}\n",
        "\n",
        "for produto in produtos:\n",
        "  produtos_atualizados[produto] = {'preço': calculoDesconto(produtos[produto]['preco'], produtos[produto]['desconto'])}\n",
        "\n",
        "produtos_atualizados"
      ],
      "metadata": {
        "colab": {
          "base_uri": "https://localhost:8080/"
        },
        "id": "Hhv_8a-YepJ5",
        "outputId": "385c3649-2ec9-4a3a-d511-d39ad6b0a2c4"
      },
      "execution_count": 101,
      "outputs": [
        {
          "output_type": "execute_result",
          "data": {
            "text/plain": [
              "{'Camisa masculina M': {'preço': 45.0},\n",
              " 'Calça feminina P': {'preço': 95.0},\n",
              " 'Mochila': {'preço': 127.5},\n",
              " 'Relógio': {'preço': 160.0}}"
            ]
          },
          "metadata": {},
          "execution_count": 101
        }
      ]
    },
    {
      "cell_type": "code",
      "source": [
        "help(calculoDesconto)"
      ],
      "metadata": {
        "colab": {
          "base_uri": "https://localhost:8080/"
        },
        "id": "1QWWnEw-gLD7",
        "outputId": "b48b9a04-4926-4983-c6ee-ea6b7453211f"
      },
      "execution_count": 102,
      "outputs": [
        {
          "output_type": "stream",
          "name": "stdout",
          "text": [
            "Help on function calculoDesconto in module __main__:\n",
            "\n",
            "calculoDesconto(valor, desconto=0)\n",
            "    Calcula o desconto sobre um preço\n",
            "    \n",
            "    Parameters\n",
            "    ----------\n",
            "    valor : float or int\n",
            "    desconto: float or int\n",
            "    \n",
            "    Returns\n",
            "    -------\n",
            "    float or int\n",
            "\n"
          ]
        }
      ]
    }
  ]
}