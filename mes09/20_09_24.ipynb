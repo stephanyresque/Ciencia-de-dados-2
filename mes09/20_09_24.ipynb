{
  "nbformat": 4,
  "nbformat_minor": 0,
  "metadata": {
    "colab": {
      "provenance": [],
      "authorship_tag": "ABX9TyNJAdEsJdhk7Ci5C2cwaQyH",
      "include_colab_link": true
    },
    "kernelspec": {
      "name": "python3",
      "display_name": "Python 3"
    },
    "language_info": {
      "name": "python"
    }
  },
  "cells": [
    {
      "cell_type": "markdown",
      "metadata": {
        "id": "view-in-github",
        "colab_type": "text"
      },
      "source": [
        "<a href=\"https://colab.research.google.com/github/stephanyresque/Ciencia-de-dados-2/blob/main/20_09_24.ipynb\" target=\"_parent\"><img src=\"https://colab.research.google.com/assets/colab-badge.svg\" alt=\"Open In Colab\"/></a>"
      ]
    },
    {
      "cell_type": "markdown",
      "source": [
        "# Módulos"
      ],
      "metadata": {
        "id": "cSobNFqW_TDJ"
      }
    },
    {
      "cell_type": "code",
      "source": [
        "import datetime\n",
        "\n",
        "#obtento data e hora atuais\n",
        "\n",
        "agora = datetime.datetime.now()\n",
        "print(agora)"
      ],
      "metadata": {
        "colab": {
          "base_uri": "https://localhost:8080/"
        },
        "id": "9GWtqxlJDkiS",
        "outputId": "ffb3ee2d-b856-4c8d-a5c8-424d38c7e6f7"
      },
      "execution_count": 3,
      "outputs": [
        {
          "output_type": "stream",
          "name": "stdout",
          "text": [
            "2024-09-20 15:34:07.626563\n"
          ]
        }
      ]
    },
    {
      "cell_type": "code",
      "source": [
        "#criando data específica\n",
        "\n",
        "data_nascimento = datetime.datetime(2024, 11, 24)\n",
        "# print(f\"Data de nascimento: {data_nascimento}\")\n",
        "print(f\"Data de nascimento: {data_nascimento.strftime('%d/%m/%Y')}\")"
      ],
      "metadata": {
        "colab": {
          "base_uri": "https://localhost:8080/"
        },
        "id": "sG_EyAZgEdbJ",
        "outputId": "a94efde5-29b6-41fe-e1a6-952cb6b9c33b"
      },
      "execution_count": 5,
      "outputs": [
        {
          "output_type": "stream",
          "name": "stdout",
          "text": [
            "Data de nascimento: 24/11/2024\n"
          ]
        }
      ]
    },
    {
      "cell_type": "code",
      "source": [
        "import random #para gerar números aleatórios\n",
        "\n",
        "#gerando um número aleatório entre 1 e 10\n",
        "\n",
        "numero = random.randint(1, 10)\n",
        "print(numero)"
      ],
      "metadata": {
        "colab": {
          "base_uri": "https://localhost:8080/"
        },
        "id": "AiWHzDZFFAgc",
        "outputId": "3227dacc-5a81-41f9-91d7-dac823470a25"
      },
      "execution_count": 7,
      "outputs": [
        {
          "output_type": "stream",
          "name": "stdout",
          "text": [
            "5\n"
          ]
        }
      ]
    },
    {
      "cell_type": "code",
      "source": [
        "#escolhendo aleatórimente de uma lista\n",
        "\n",
        "lista = ['vermelho', 'azul', 'verde', 'amarelo', 'roxo']\n",
        "cor = random.choice(lista)\n",
        "print(cor)"
      ],
      "metadata": {
        "colab": {
          "base_uri": "https://localhost:8080/"
        },
        "id": "5i95iO-bFaxx",
        "outputId": "d91306f3-326b-49f5-f3ac-8fbe222bad90"
      },
      "execution_count": 9,
      "outputs": [
        {
          "output_type": "stream",
          "name": "stdout",
          "text": [
            "vermelho\n"
          ]
        }
      ]
    },
    {
      "cell_type": "code",
      "source": [
        "import os #trabalhar com o sistema operacional\n",
        "\n",
        "#obtendo o diretório atual\n",
        "\n",
        "diretorio = os.getcwd()\n",
        "print(diretorio)"
      ],
      "metadata": {
        "colab": {
          "base_uri": "https://localhost:8080/"
        },
        "id": "WLsHDGUUFo5w",
        "outputId": "88e773a9-05f4-4a2b-c9b2-b18134acfb22"
      },
      "execution_count": 11,
      "outputs": [
        {
          "output_type": "stream",
          "name": "stdout",
          "text": [
            "/content\n"
          ]
        }
      ]
    },
    {
      "cell_type": "code",
      "source": [
        "#listando arquivos em um diretório\n",
        "\n",
        "for arquivo in os.listdir():\n",
        "    print(arquivo)"
      ],
      "metadata": {
        "colab": {
          "base_uri": "https://localhost:8080/"
        },
        "id": "_YTpcoNsGPr9",
        "outputId": "43b70b7c-a7f7-49c3-ba12-b3b7c4fce8a8"
      },
      "execution_count": 12,
      "outputs": [
        {
          "output_type": "stream",
          "name": "stdout",
          "text": [
            ".config\n",
            "sample_data\n"
          ]
        }
      ]
    },
    {
      "cell_type": "markdown",
      "source": [
        "## Módulos de terceiros"
      ],
      "metadata": {
        "id": "4gunDHY7HEsh"
      }
    },
    {
      "cell_type": "code",
      "source": [
        "#principais: Numpy, Pandas e Matplotlib\n",
        "\n",
        "import numpy as np\n",
        "import pandas as pd\n",
        "import matplotlib.pyplot as plt\n",
        "\n",
        "np.array([1,2,3])\n",
        "pd.Series([1,2,3])\n",
        "plt.scatter([1,2,3], [4,5,6])\n",
        "plt.show()"
      ],
      "metadata": {
        "colab": {
          "base_uri": "https://localhost:8080/",
          "height": 430
        },
        "id": "i0E8Ca0HHJKI",
        "outputId": "6d0ec8fc-4d39-45ba-ac38-10b2fb9ad3aa"
      },
      "execution_count": 13,
      "outputs": [
        {
          "output_type": "display_data",
          "data": {
            "text/plain": [
              "<Figure size 640x480 with 1 Axes>"
            ],
            "image/png": "[encoded data removed]"
          },
          "metadata": {}
        }
      ]
    },
    {
      "cell_type": "markdown",
      "source": [
        "## Exercícios"
      ],
      "metadata": {
        "id": "8HVyzGZpJ-Ii"
      }
    },
    {
      "cell_type": "code",
      "source": [
        "!pip install unidecode"
      ],
      "metadata": {
        "colab": {
          "base_uri": "https://localhost:8080/"
        },
        "id": "Ck24s9QuKClm",
        "outputId": "c45aa4d7-8a3f-4def-e638-0cf392aeea54"
      },
      "execution_count": 14,
      "outputs": [
        {
          "output_type": "stream",
          "name": "stdout",
          "text": [
            "Collecting unidecode\n",
            "  Downloading Unidecode-1.3.8-py3-none-any.whl.metadata (13 kB)\n",
            "Downloading Unidecode-1.3.8-py3-none-any.whl (235 kB)\n",
            "\u001b[2K   \u001b[90m━━━━━━━━━━━━━━━━━━━━━━━━━━━━━━━━━━━━━━━━\u001b[0m \u001b[32m235.5/235.5 kB\u001b[0m \u001b[31m1.8 MB/s\u001b[0m eta \u001b[36m0:00:00\u001b[0m\n",
            "\u001b[?25hInstalling collected packages: unidecode\n",
            "Successfully installed unidecode-1.3.8\n"
          ]
        }
      ]
    },
    {
      "cell_type": "code",
      "source": [
        "#exe 1\n",
        "paragrafo = \"Um cientista de dados precisa ter uma boa base técnica. Dados são importantes.\"\n"
      ],
      "metadata": {
        "id": "XoTtySTOK-dV"
      },
      "execution_count": 15,
      "outputs": []
    },
    {
      "cell_type": "code",
      "source": [
        "from collections import Counter\n",
        "\n",
        "def conta_palavras(texto):\n",
        "  palavras = texto.lower().replace(\".\", \"\").split()\n",
        "  contagem = Counter(palavras)\n",
        "  return contagem"
      ],
      "metadata": {
        "id": "pJW1wLVgLOKG"
      },
      "execution_count": 16,
      "outputs": []
    },
    {
      "cell_type": "code",
      "source": [
        "contagem = conta_palavras(paragrafo)\n",
        "contagem"
      ],
      "metadata": {
        "colab": {
          "base_uri": "https://localhost:8080/"
        },
        "id": "CqE_GDanLtYI",
        "outputId": "43f194d9-4126-4888-8b20-1d5489d7cfdf"
      },
      "execution_count": 18,
      "outputs": [
        {
          "output_type": "execute_result",
          "data": {
            "text/plain": [
              "Counter({'um': 1,\n",
              "         'cientista': 1,\n",
              "         'de': 1,\n",
              "         'dados': 2,\n",
              "         'precisa': 1,\n",
              "         'ter': 1,\n",
              "         'uma': 1,\n",
              "         'boa': 1,\n",
              "         'base': 1,\n",
              "         'técnica': 1,\n",
              "         'são': 1,\n",
              "         'importantes': 1})"
            ]
          },
          "metadata": {},
          "execution_count": 18
        }
      ]
    },
    {
      "cell_type": "code",
      "source": [
        "contagem.most_common(3) #mostra as palavras mais comuns."
      ],
      "metadata": {
        "colab": {
          "base_uri": "https://localhost:8080/"
        },
        "id": "n8N7WnNLLxkp",
        "outputId": "2c6d1e1a-e89d-40d0-fa1d-068e1a680226"
      },
      "execution_count": 19,
      "outputs": [
        {
          "output_type": "execute_result",
          "data": {
            "text/plain": [
              "[('dados', 2), ('um', 1), ('cientista', 1)]"
            ]
          },
          "metadata": {},
          "execution_count": 19
        }
      ]
    },
    {
      "cell_type": "code",
      "source": [
        "import statistics as st"
      ],
      "metadata": {
        "id": "iLdufp4fMAhY"
      },
      "execution_count": 22,
      "outputs": []
    },
    {
      "cell_type": "code",
      "source": [
        "vendas = [random.randint(100,2500) for _ in range(30)]\n",
        "vendas"
      ],
      "metadata": {
        "colab": {
          "base_uri": "https://localhost:8080/"
        },
        "id": "kLHSq5TjMLtJ",
        "outputId": "c330845d-b0f2-4f0a-fb9f-6c5592e327fc"
      },
      "execution_count": 21,
      "outputs": [
        {
          "output_type": "execute_result",
          "data": {
            "text/plain": [
              "[183,\n",
              " 699,\n",
              " 676,\n",
              " 1182,\n",
              " 1251,\n",
              " 878,\n",
              " 936,\n",
              " 2248,\n",
              " 2408,\n",
              " 2442,\n",
              " 1412,\n",
              " 1551,\n",
              " 1071,\n",
              " 273,\n",
              " 100,\n",
              " 777,\n",
              " 639,\n",
              " 417,\n",
              " 782,\n",
              " 2084,\n",
              " 2247,\n",
              " 2004,\n",
              " 1112,\n",
              " 1903,\n",
              " 1535,\n",
              " 1192,\n",
              " 2375,\n",
              " 2231,\n",
              " 1299,\n",
              " 319]"
            ]
          },
          "metadata": {},
          "execution_count": 21
        }
      ]
    },
    {
      "cell_type": "code",
      "source": [
        "media = st.mean(vendas)\n",
        "media"
      ],
      "metadata": {
        "colab": {
          "base_uri": "https://localhost:8080/"
        },
        "id": "83WGyteQMuMK",
        "outputId": "95d4d225-9177-49b9-e1b1-541f7e43f860"
      },
      "execution_count": 23,
      "outputs": [
        {
          "output_type": "execute_result",
          "data": {
            "text/plain": [
              "1274.2"
            ]
          },
          "metadata": {},
          "execution_count": 23
        }
      ]
    },
    {
      "cell_type": "code",
      "source": [
        "mediana = st.median(vendas)\n",
        "mediana"
      ],
      "metadata": {
        "colab": {
          "base_uri": "https://localhost:8080/"
        },
        "id": "obx8_5PFM8pQ",
        "outputId": "1a79f61e-2254-451d-9802-aa89b90d0711"
      },
      "execution_count": 24,
      "outputs": [
        {
          "output_type": "execute_result",
          "data": {
            "text/plain": [
              "1187.0"
            ]
          },
          "metadata": {},
          "execution_count": 24
        }
      ]
    },
    {
      "cell_type": "code",
      "source": [
        "from unidecode import unidecode"
      ],
      "metadata": {
        "id": "krsMkdNtNtYa"
      },
      "execution_count": 26,
      "outputs": []
    },
    {
      "cell_type": "code",
      "source": [
        "#exe3\n",
        "def gerar_email(nome):\n",
        "  nomes = nome.lower().split()\n",
        "\n",
        "  email = f\"{unidecode(nomes[0])}.{unidecode(nomes[-1])}@ceia.com\" #vai tirar os acentos.\n",
        "  return email\n",
        "\n",
        "gerar_email('Stéphany Jorge Araújo Résque')"
      ],
      "metadata": {
        "colab": {
          "base_uri": "https://localhost:8080/",
          "height": 36
        },
        "id": "16qpslC9NBPQ",
        "outputId": "a980b23e-f909-42d4-a972-55217af21aab"
      },
      "execution_count": 29,
      "outputs": [
        {
          "output_type": "execute_result",
          "data": {
            "text/plain": [
              "'stephany.resque@ceia.com'"
            ],
            "application/vnd.google.colaboratory.intrinsic+json": {
              "type": "string"
            }
          },
          "metadata": {},
          "execution_count": 29
        }
      ]
    }
  ]
}