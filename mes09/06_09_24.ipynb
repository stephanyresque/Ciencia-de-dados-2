{
  "nbformat": 4,
  "nbformat_minor": 0,
  "metadata": {
    "colab": {
      "provenance": [],
      "authorship_tag": "ABX9TyMiWdGGKQvq9xe6olcNDYnv",
      "include_colab_link": true
    },
    "kernelspec": {
      "name": "python3",
      "display_name": "Python 3"
    },
    "language_info": {
      "name": "python"
    }
  },
  "cells": [
    {
      "cell_type": "markdown",
      "metadata": {
        "id": "view-in-github",
        "colab_type": "text"
      },
      "source": [
        "<a href=\"https://colab.research.google.com/github/stephanyresque/Ciencia-de-dados-2/blob/main/06_09_24.ipynb\" target=\"_parent\"><img src=\"https://colab.research.google.com/assets/colab-badge.svg\" alt=\"Open In Colab\"/></a>"
      ]
    },
    {
      "cell_type": "markdown",
      "source": [
        "# Formatação de Strings\n"
      ],
      "metadata": {
        "id": "H-socqqqId8i"
      }
    },
    {
      "cell_type": "markdown",
      "source": [
        "## f-strings"
      ],
      "metadata": {
        "id": "l1WvI_tuIimR"
      }
    },
    {
      "cell_type": "code",
      "source": [
        "nome = 'Stephany'\n",
        "f\"meu nome é {nome}\""
      ],
      "metadata": {
        "colab": {
          "base_uri": "https://localhost:8080/",
          "height": 36
        },
        "id": "cjAM3cRkT-4W",
        "outputId": "ce985965-eb6d-413d-e28b-84c57321b1b0"
      },
      "execution_count": 1,
      "outputs": [
        {
          "output_type": "execute_result",
          "data": {
            "text/plain": [
              "'meu nome é Stephany'"
            ],
            "application/vnd.google.colaboratory.intrinsic+json": {
              "type": "string"
            }
          },
          "metadata": {},
          "execution_count": 1
        }
      ]
    },
    {
      "cell_type": "code",
      "source": [
        "print(f\"Seu nome é {nome}\")"
      ],
      "metadata": {
        "colab": {
          "base_uri": "https://localhost:8080/"
        },
        "id": "MGKVc9kgULrZ",
        "outputId": "60040b17-5b28-4cbc-cdda-605670c5997d"
      },
      "execution_count": 2,
      "outputs": [
        {
          "output_type": "stream",
          "name": "stdout",
          "text": [
            "Seu nome é Stephany\n"
          ]
        }
      ]
    },
    {
      "cell_type": "code",
      "source": [
        "print(f'Conta: {2*2}')"
      ],
      "metadata": {
        "colab": {
          "base_uri": "https://localhost:8080/"
        },
        "id": "HbTE_4tSUU_h",
        "outputId": "28b2b229-292e-4579-ebd9-c7060fed1655"
      },
      "execution_count": 3,
      "outputs": [
        {
          "output_type": "stream",
          "name": "stdout",
          "text": [
            "Conta: 4\n"
          ]
        }
      ]
    },
    {
      "cell_type": "code",
      "source": [
        "num = 23.45\n",
        "print('10 caracteres 3 e 4 casas decimais: {:10.4f}'.format(num))"
      ],
      "metadata": {
        "colab": {
          "base_uri": "https://localhost:8080/"
        },
        "id": "bi2h6-t2UaI9",
        "outputId": "b5998771-5b40-4840-e282-8f675099c965"
      },
      "execution_count": 4,
      "outputs": [
        {
          "output_type": "stream",
          "name": "stdout",
          "text": [
            "10 caracteres 3 e 4 casas decimais:    23.4500\n"
          ]
        }
      ]
    },
    {
      "cell_type": "code",
      "source": [
        "print(f'10 caracteres 3 e 4 casas decimais: {num:10.4f}')"
      ],
      "metadata": {
        "colab": {
          "base_uri": "https://localhost:8080/"
        },
        "id": "OSmbGvUmU6jZ",
        "outputId": "5bf2d6d2-921b-4997-d55c-0bbbb3209a4f"
      },
      "execution_count": 5,
      "outputs": [
        {
          "output_type": "stream",
          "name": "stdout",
          "text": [
            "10 caracteres 3 e 4 casas decimais:    23.4500\n"
          ]
        }
      ]
    },
    {
      "cell_type": "code",
      "source": [
        "print(f'Veja {2.5678:.2f}')"
      ],
      "metadata": {
        "colab": {
          "base_uri": "https://localhost:8080/"
        },
        "id": "K4gkXFXiVFkj",
        "outputId": "4d2452dd-d399-4a7a-8e75-41188716763f"
      },
      "execution_count": 6,
      "outputs": [
        {
          "output_type": "stream",
          "name": "stdout",
          "text": [
            "Veja 2.57\n"
          ]
        }
      ]
    },
    {
      "cell_type": "code",
      "source": [
        "pessoas = {\n",
        "    \"bill\": {\"nome\": \"Bill Gates\", \"idade\": 68, \"empresa\": \"Microsoft\"},\n",
        "    \"elon\": {\"nome\": \"Elon Musk\", \"idade\": 52, \"empresa\": \"X\"},\n",
        "    \"mark\": {\"nome\": \"Mark Zuckerberg\", \"idade\": 39, \"empresa\": \"Facebook\"},\n",
        "}"
      ],
      "metadata": {
        "id": "KCQQk1NnVPGC"
      },
      "execution_count": 7,
      "outputs": []
    },
    {
      "cell_type": "code",
      "source": [
        "print(f\"{'Nome':^16} | {'Idade':^5} | {'Empresa':^16}\")\n",
        "print(f\"{'-'*43}\")\n",
        "print(f\"{pessoas['bill']['nome']:^16} | {pessoas['bill']['idade']:^5} | {pessoas['bill']['empresa']:^16}\")\n",
        "print(f\"{pessoas['elon']['nome']:^16} | {pessoas['elon']['idade']:^5} | {pessoas['elon']['empresa']:^16}\")\n",
        "print(f\"{pessoas['mark']['nome']:^16} | {pessoas['mark']['idade']:^5} | {pessoas['mark']['empresa']:^16}\")\n"
      ],
      "metadata": {
        "colab": {
          "base_uri": "https://localhost:8080/"
        },
        "id": "u9_a3IwMVkEm",
        "outputId": "d65524e5-5967-4265-90d1-09b6da968ebd"
      },
      "execution_count": 16,
      "outputs": [
        {
          "output_type": "stream",
          "name": "stdout",
          "text": [
            "      Nome       | Idade |     Empresa     \n",
            "-------------------------------------------\n",
            "   Bill Gates    |  68   |    Microsoft    \n",
            "   Elon Musk     |  52   |        X        \n",
            "Mark Zuckerberg  |  39   |     Facebook    \n"
          ]
        }
      ]
    },
    {
      "cell_type": "markdown",
      "source": [
        "# Métodos de String"
      ],
      "metadata": {
        "id": "x3Mu0WSMY4Fg"
      }
    },
    {
      "cell_type": "code",
      "source": [
        "exemplo = 'cientista da computação muito doido'\n",
        "exemplo"
      ],
      "metadata": {
        "colab": {
          "base_uri": "https://localhost:8080/",
          "height": 36
        },
        "id": "nQOij_09ZNUq",
        "outputId": "db30fa89-9c89-42ad-eb74-a7760e09bb72"
      },
      "execution_count": 18,
      "outputs": [
        {
          "output_type": "execute_result",
          "data": {
            "text/plain": [
              "'cientista da computação muito doido'"
            ],
            "application/vnd.google.colaboratory.intrinsic+json": {
              "type": "string"
            }
          },
          "metadata": {},
          "execution_count": 18
        }
      ]
    },
    {
      "cell_type": "code",
      "source": [
        "exemplo.capitalize() #gera uma nova string, não altera a original"
      ],
      "metadata": {
        "colab": {
          "base_uri": "https://localhost:8080/",
          "height": 36
        },
        "id": "Z176FRxoZUuN",
        "outputId": "8124eab1-fda5-4574-c8e3-5b3bd0f71d80"
      },
      "execution_count": 19,
      "outputs": [
        {
          "output_type": "execute_result",
          "data": {
            "text/plain": [
              "'Cientista da computação muito doido'"
            ],
            "application/vnd.google.colaboratory.intrinsic+json": {
              "type": "string"
            }
          },
          "metadata": {},
          "execution_count": 19
        }
      ]
    },
    {
      "cell_type": "code",
      "source": [
        "exemplo"
      ],
      "metadata": {
        "colab": {
          "base_uri": "https://localhost:8080/",
          "height": 36
        },
        "id": "tX7mz4G6ZcUp",
        "outputId": "3b802fb9-d239-4a2d-d34c-f5f72d9a2907"
      },
      "execution_count": 20,
      "outputs": [
        {
          "output_type": "execute_result",
          "data": {
            "text/plain": [
              "'cientista da computação muito doido'"
            ],
            "application/vnd.google.colaboratory.intrinsic+json": {
              "type": "string"
            }
          },
          "metadata": {},
          "execution_count": 20
        }
      ]
    },
    {
      "cell_type": "code",
      "source": [
        "exemplo.title()"
      ],
      "metadata": {
        "colab": {
          "base_uri": "https://localhost:8080/",
          "height": 36
        },
        "id": "GLRrbxMuZefg",
        "outputId": "a4fcd23f-f6c1-4e4f-d063-af61fa719077"
      },
      "execution_count": 21,
      "outputs": [
        {
          "output_type": "execute_result",
          "data": {
            "text/plain": [
              "'Cientista Da Computação Muito Doido'"
            ],
            "application/vnd.google.colaboratory.intrinsic+json": {
              "type": "string"
            }
          },
          "metadata": {},
          "execution_count": 21
        }
      ]
    },
    {
      "cell_type": "code",
      "source": [
        "exemplo.upper()"
      ],
      "metadata": {
        "colab": {
          "base_uri": "https://localhost:8080/",
          "height": 36
        },
        "id": "Gc79co7WZkTB",
        "outputId": "83683ea6-07b9-47e6-c304-6426d80f3121"
      },
      "execution_count": 22,
      "outputs": [
        {
          "output_type": "execute_result",
          "data": {
            "text/plain": [
              "'CIENTISTA DA COMPUTAÇÃO MUITO DOIDO'"
            ],
            "application/vnd.google.colaboratory.intrinsic+json": {
              "type": "string"
            }
          },
          "metadata": {},
          "execution_count": 22
        }
      ]
    },
    {
      "cell_type": "code",
      "source": [
        "exemplo.lower()"
      ],
      "metadata": {
        "colab": {
          "base_uri": "https://localhost:8080/",
          "height": 36
        },
        "id": "z0aryCGfZm7D",
        "outputId": "e9cc37f7-8f38-4470-ee05-886cf7a4a09e"
      },
      "execution_count": 23,
      "outputs": [
        {
          "output_type": "execute_result",
          "data": {
            "text/plain": [
              "'cientista da computação muito doido'"
            ],
            "application/vnd.google.colaboratory.intrinsic+json": {
              "type": "string"
            }
          },
          "metadata": {},
          "execution_count": 23
        }
      ]
    },
    {
      "cell_type": "code",
      "source": [
        "exemplo.swapcase()"
      ],
      "metadata": {
        "colab": {
          "base_uri": "https://localhost:8080/",
          "height": 36
        },
        "id": "OpGwUJFfZo1r",
        "outputId": "dc182ab9-5d7e-48f8-c90e-16f650e23215"
      },
      "execution_count": 24,
      "outputs": [
        {
          "output_type": "execute_result",
          "data": {
            "text/plain": [
              "'CIENTISTA DA COMPUTAÇÃO MUITO DOIDO'"
            ],
            "application/vnd.google.colaboratory.intrinsic+json": {
              "type": "string"
            }
          },
          "metadata": {},
          "execution_count": 24
        }
      ]
    },
    {
      "cell_type": "code",
      "source": [
        "exemplo.title().swapcase()"
      ],
      "metadata": {
        "colab": {
          "base_uri": "https://localhost:8080/",
          "height": 36
        },
        "id": "4w12fS_JZycw",
        "outputId": "cdc68df1-5939-41da-b12c-025ef6b25985"
      },
      "execution_count": 25,
      "outputs": [
        {
          "output_type": "execute_result",
          "data": {
            "text/plain": [
              "'cIENTISTA dA cOMPUTAÇÃO mUITO dOIDO'"
            ],
            "application/vnd.google.colaboratory.intrinsic+json": {
              "type": "string"
            }
          },
          "metadata": {},
          "execution_count": 25
        }
      ]
    },
    {
      "cell_type": "code",
      "source": [
        "exemplo.count('o')"
      ],
      "metadata": {
        "colab": {
          "base_uri": "https://localhost:8080/"
        },
        "id": "yTWD6AIqZ3FU",
        "outputId": "c4344d23-a549-4a6c-d64a-ac0a5d27a306"
      },
      "execution_count": 26,
      "outputs": [
        {
          "output_type": "execute_result",
          "data": {
            "text/plain": [
              "5"
            ]
          },
          "metadata": {},
          "execution_count": 26
        }
      ]
    },
    {
      "cell_type": "code",
      "source": [
        "exemplo.count('da')"
      ],
      "metadata": {
        "colab": {
          "base_uri": "https://localhost:8080/"
        },
        "id": "8McI7viYZ6xO",
        "outputId": "85b66b5d-181a-4f61-e7bd-804e50fc1cd5"
      },
      "execution_count": 27,
      "outputs": [
        {
          "output_type": "execute_result",
          "data": {
            "text/plain": [
              "1"
            ]
          },
          "metadata": {},
          "execution_count": 27
        }
      ]
    },
    {
      "cell_type": "code",
      "source": [
        "exemplo.split() #separa por espaço"
      ],
      "metadata": {
        "colab": {
          "base_uri": "https://localhost:8080/"
        },
        "id": "OLLHEJHzaDE_",
        "outputId": "2c6d63ff-ad48-4fc1-b4d4-caed9d7b654b"
      },
      "execution_count": 28,
      "outputs": [
        {
          "output_type": "execute_result",
          "data": {
            "text/plain": [
              "['cientista', 'da', 'computação', 'muito', 'doido']"
            ]
          },
          "metadata": {},
          "execution_count": 28
        }
      ]
    },
    {
      "cell_type": "code",
      "source": [
        "exemplo.split('da') #separa por 'da'"
      ],
      "metadata": {
        "colab": {
          "base_uri": "https://localhost:8080/"
        },
        "id": "h23mwxWyaHjA",
        "outputId": "3e2310b3-e481-4b74-edb6-2df4c8b92f3a"
      },
      "execution_count": 29,
      "outputs": [
        {
          "output_type": "execute_result",
          "data": {
            "text/plain": [
              "['cientista ', ' computação muito doido']"
            ]
          },
          "metadata": {},
          "execution_count": 29
        }
      ]
    },
    {
      "cell_type": "code",
      "source": [
        "exemplo.find('muito') #retorna o índice onde começa a palavra \"muito\""
      ],
      "metadata": {
        "colab": {
          "base_uri": "https://localhost:8080/"
        },
        "id": "xr6juarAaNo5",
        "outputId": "4ecdc21d-f266-4691-efa0-d1f398c31fb6"
      },
      "execution_count": 30,
      "outputs": [
        {
          "output_type": "execute_result",
          "data": {
            "text/plain": [
              "24"
            ]
          },
          "metadata": {},
          "execution_count": 30
        }
      ]
    },
    {
      "cell_type": "code",
      "source": [
        "exemplo[24:]"
      ],
      "metadata": {
        "colab": {
          "base_uri": "https://localhost:8080/",
          "height": 36
        },
        "id": "MXlSom4gag9Z",
        "outputId": "aa0d9f37-ca11-4ce3-dac4-95f03caa5b06"
      },
      "execution_count": 31,
      "outputs": [
        {
          "output_type": "execute_result",
          "data": {
            "text/plain": [
              "'muito doido'"
            ],
            "application/vnd.google.colaboratory.intrinsic+json": {
              "type": "string"
            }
          },
          "metadata": {},
          "execution_count": 31
        }
      ]
    },
    {
      "cell_type": "markdown",
      "source": [
        "# Exercícios"
      ],
      "metadata": {
        "id": "i_7MXgnIay8F"
      }
    },
    {
      "cell_type": "code",
      "source": [
        "nome = \"Ana Silva\"\n",
        "mes = \"Setembro\"\n",
        "\n",
        "print(f\"Prezada(o) {nome}, informamos que seu contracheque referente ao mês de {mes} já está disponível.\")"
      ],
      "metadata": {
        "colab": {
          "base_uri": "https://localhost:8080/"
        },
        "id": "p8Pd8BWIa2UK",
        "outputId": "aad87f33-29f4-4194-d685-e368ed4795e5"
      },
      "execution_count": 33,
      "outputs": [
        {
          "output_type": "stream",
          "name": "stdout",
          "text": [
            "Prezada(o) Ana Silva, informamos que seu contracheque referente ao mês de Setembro já está disponível.\n"
          ]
        }
      ]
    },
    {
      "cell_type": "code",
      "source": [
        "email = \"funcionario@empresa.com\"\n",
        "\n",
        "email[email.find('@') + 1:]"
      ],
      "metadata": {
        "colab": {
          "base_uri": "https://localhost:8080/",
          "height": 36
        },
        "id": "guKmNr_cbXJj",
        "outputId": "196b35db-ee96-4591-ba95-548d0dafd062"
      },
      "execution_count": 34,
      "outputs": [
        {
          "output_type": "execute_result",
          "data": {
            "text/plain": [
              "'empresa.com'"
            ],
            "application/vnd.google.colaboratory.intrinsic+json": {
              "type": "string"
            }
          },
          "metadata": {},
          "execution_count": 34
        }
      ]
    },
    {
      "cell_type": "code",
      "source": [
        "email.split('@')[1]"
      ],
      "metadata": {
        "colab": {
          "base_uri": "https://localhost:8080/",
          "height": 36
        },
        "id": "sV5OPCcSkWQU",
        "outputId": "3b6c1ade-daae-4c83-f07a-c7612a3edf15"
      },
      "execution_count": 81,
      "outputs": [
        {
          "output_type": "execute_result",
          "data": {
            "text/plain": [
              "'empresa.com'"
            ],
            "application/vnd.google.colaboratory.intrinsic+json": {
              "type": "string"
            }
          },
          "metadata": {},
          "execution_count": 81
        }
      ]
    },
    {
      "cell_type": "code",
      "source": [
        "nome_projeto = \"implementação de novo sistema de vendas\"\n",
        "nome_projeto.title()"
      ],
      "metadata": {
        "colab": {
          "base_uri": "https://localhost:8080/",
          "height": 36
        },
        "id": "pqIGN7lbbw7u",
        "outputId": "675dfe73-7ef1-48eb-b85b-3a92e3727a26"
      },
      "execution_count": 35,
      "outputs": [
        {
          "output_type": "execute_result",
          "data": {
            "text/plain": [
              "'Implementação De Novo Sistema De Vendas'"
            ],
            "application/vnd.google.colaboratory.intrinsic+json": {
              "type": "string"
            }
          },
          "metadata": {},
          "execution_count": 35
        }
      ]
    },
    {
      "cell_type": "code",
      "source": [
        "nome_arquivo = \"relatorio_vendas_final.xlsx\"\n",
        "\n",
        "nome_arquivo.find('.xlsx')"
      ],
      "metadata": {
        "colab": {
          "base_uri": "https://localhost:8080/"
        },
        "id": "UVe92pYEb4vN",
        "outputId": "205d500d-fa52-4ddb-e852-dd4e71e1ae15"
      },
      "execution_count": 36,
      "outputs": [
        {
          "output_type": "execute_result",
          "data": {
            "text/plain": [
              "22"
            ]
          },
          "metadata": {},
          "execution_count": 36
        }
      ]
    },
    {
      "cell_type": "code",
      "source": [
        "'.xlsx' in nome_arquivo"
      ],
      "metadata": {
        "colab": {
          "base_uri": "https://localhost:8080/"
        },
        "id": "49zRAwBzcOWg",
        "outputId": "d70b62be-9323-4e1c-be43-1a188e9628b9"
      },
      "execution_count": 37,
      "outputs": [
        {
          "output_type": "execute_result",
          "data": {
            "text/plain": [
              "True"
            ]
          },
          "metadata": {},
          "execution_count": 37
        }
      ]
    },
    {
      "cell_type": "code",
      "source": [
        "nome_arquivo.endswith('.xlsx')"
      ],
      "metadata": {
        "colab": {
          "base_uri": "https://localhost:8080/"
        },
        "id": "zGgFk36xc4yJ",
        "outputId": "fe08fd0f-82bf-487d-e438-df6ae3cb6dfb"
      },
      "execution_count": 41,
      "outputs": [
        {
          "output_type": "execute_result",
          "data": {
            "text/plain": [
              "True"
            ]
          },
          "metadata": {},
          "execution_count": 41
        }
      ]
    },
    {
      "cell_type": "code",
      "source": [
        "email_sujo = \"  Funcionario@Empresa.COM  \"\n",
        "email_sujo.strip().lower()"
      ],
      "metadata": {
        "colab": {
          "base_uri": "https://localhost:8080/",
          "height": 36
        },
        "id": "WYz-JyxNct0R",
        "outputId": "2457a003-2aae-4f7c-ba78-b708c0d56a07"
      },
      "execution_count": 40,
      "outputs": [
        {
          "output_type": "execute_result",
          "data": {
            "text/plain": [
              "'funcionario@empresa.com'"
            ],
            "application/vnd.google.colaboratory.intrinsic+json": {
              "type": "string"
            }
          },
          "metadata": {},
          "execution_count": 40
        }
      ]
    },
    {
      "cell_type": "code",
      "source": [
        "nome_completo = \"João Silva\"\n",
        "nome_minuscula = nome_completo.lower()"
      ],
      "metadata": {
        "id": "AG85lXeNc2hg"
      },
      "execution_count": 45,
      "outputs": []
    },
    {
      "cell_type": "code",
      "source": [
        "lista = nome_minuscula.split()\n",
        "lista\n",
        "\n",
        "print(f\"{nome_minuscula[0]}{lista[-1]}\")"
      ],
      "metadata": {
        "colab": {
          "base_uri": "https://localhost:8080/"
        },
        "id": "q5nPCgd6db1w",
        "outputId": "f198b77d-3ef5-4750-bdc5-4c2cdbec9799"
      },
      "execution_count": 48,
      "outputs": [
        {
          "output_type": "stream",
          "name": "stdout",
          "text": [
            "jsilva\n"
          ]
        }
      ]
    },
    {
      "cell_type": "code",
      "source": [
        "email = \"stezinha@empresa.com\""
      ],
      "metadata": {
        "id": "Xr4mCEPod4h1"
      },
      "execution_count": 82,
      "outputs": []
    },
    {
      "cell_type": "code",
      "source": [
        "email.replace(email[2:email.find('@') - 2], '*'*((email.find('@'))-4) )"
      ],
      "metadata": {
        "colab": {
          "base_uri": "https://localhost:8080/",
          "height": 36
        },
        "id": "0YSqdQcpfLdJ",
        "outputId": "73a947bc-58f2-40f8-80fa-6d1323b306e4"
      },
      "execution_count": 83,
      "outputs": [
        {
          "output_type": "execute_result",
          "data": {
            "text/plain": [
              "'st****ha@empresa.com'"
            ],
            "application/vnd.google.colaboratory.intrinsic+json": {
              "type": "string"
            }
          },
          "metadata": {},
          "execution_count": 83
        }
      ]
    },
    {
      "cell_type": "code",
      "source": [
        "email.find(\"@\")\n"
      ],
      "metadata": {
        "colab": {
          "base_uri": "https://localhost:8080/"
        },
        "id": "bEihgW-tfkUp",
        "outputId": "27db9119-3e9d-4035-87d9-abe283364d3e"
      },
      "execution_count": 60,
      "outputs": [
        {
          "output_type": "execute_result",
          "data": {
            "text/plain": [
              "11"
            ]
          },
          "metadata": {},
          "execution_count": 60
        }
      ]
    },
    {
      "cell_type": "code",
      "source": [
        "descricao_projeto = \"Projeto XYZ: Implementação do Sistema - Código 12345\""
      ],
      "metadata": {
        "id": "p2efHsk-g1WS"
      },
      "execution_count": 61,
      "outputs": []
    },
    {
      "cell_type": "code",
      "source": [
        "lista_projeto = descricao_projeto.split()\n",
        "lista_projeto"
      ],
      "metadata": {
        "colab": {
          "base_uri": "https://localhost:8080/"
        },
        "id": "plRVeKKsg9Hc",
        "outputId": "0d79982d-e6b0-4f44-aa3b-76117d3c7c48"
      },
      "execution_count": 65,
      "outputs": [
        {
          "output_type": "execute_result",
          "data": {
            "text/plain": [
              "['Projeto', 'XYZ:', 'Implementação', 'do', 'Sistema', '-', 'Código', '12345']"
            ]
          },
          "metadata": {},
          "execution_count": 65
        }
      ]
    },
    {
      "cell_type": "code",
      "source": [
        "codigo = lista_projeto[-1]\n",
        "codigo"
      ],
      "metadata": {
        "colab": {
          "base_uri": "https://localhost:8080/",
          "height": 36
        },
        "id": "kM5u-eoghHvM",
        "outputId": "ea888899-d874-480c-98f9-fbbf4a1be2ce"
      },
      "execution_count": 66,
      "outputs": [
        {
          "output_type": "execute_result",
          "data": {
            "text/plain": [
              "'12345'"
            ],
            "application/vnd.google.colaboratory.intrinsic+json": {
              "type": "string"
            }
          },
          "metadata": {},
          "execution_count": 66
        }
      ]
    },
    {
      "cell_type": "code",
      "source": [
        "log = \"20230915;1000;Transferência Recebida\""
      ],
      "metadata": {
        "id": "Ck7nOWDzhQvC"
      },
      "execution_count": 67,
      "outputs": []
    },
    {
      "cell_type": "code",
      "source": [
        "lista_log = log.split(';')\n",
        "lista_log"
      ],
      "metadata": {
        "colab": {
          "base_uri": "https://localhost:8080/"
        },
        "id": "uhTLWW-ihdrT",
        "outputId": "80978d26-400f-407a-bb97-680577c19f07"
      },
      "execution_count": 68,
      "outputs": [
        {
          "output_type": "execute_result",
          "data": {
            "text/plain": [
              "['20230915', '1000', 'Transferência Recebida']"
            ]
          },
          "metadata": {},
          "execution_count": 68
        }
      ]
    },
    {
      "cell_type": "code",
      "source": [
        "data = lista_log[0]\n",
        "valor = lista_log[1]\n",
        "status = lista_log[2]"
      ],
      "metadata": {
        "id": "fIebT5zwhmSC"
      },
      "execution_count": 69,
      "outputs": []
    },
    {
      "cell_type": "code",
      "source": [
        "data,valor,status"
      ],
      "metadata": {
        "colab": {
          "base_uri": "https://localhost:8080/"
        },
        "id": "sQm5jbDohxdb",
        "outputId": "0c6adebb-1212-42bb-c0c8-c71f0f65f954"
      },
      "execution_count": 70,
      "outputs": [
        {
          "output_type": "execute_result",
          "data": {
            "text/plain": [
              "('20230915', '1000', 'Transferência Recebida')"
            ]
          },
          "metadata": {},
          "execution_count": 70
        }
      ]
    },
    {
      "cell_type": "code",
      "source": [
        "print(f\"Data: {data[:4]}/{data[4:6]}/{data[6:]}\")\n",
        "print(f\"Valor: R${valor}\")\n",
        "print(f\"Status: {status}\")"
      ],
      "metadata": {
        "colab": {
          "base_uri": "https://localhost:8080/"
        },
        "id": "dqHhIWqph0IK",
        "outputId": "4f9802cb-345a-40e3-9850-fcc8e87afc7f"
      },
      "execution_count": 75,
      "outputs": [
        {
          "output_type": "stream",
          "name": "stdout",
          "text": [
            "Data: 2023/09/15\n",
            "Valor: R$1000\n",
            "Status: Transferência Recebida\n"
          ]
        }
      ]
    },
    {
      "cell_type": "code",
      "source": [
        "palavras = [\"núcleo\", \"de\", \"dados\"]\n",
        "frase = \" \".join(palavras)\n",
        "frase.title()"
      ],
      "metadata": {
        "colab": {
          "base_uri": "https://localhost:8080/",
          "height": 36
        },
        "id": "Fs0na4fHjHcS",
        "outputId": "2d03c08d-cf49-46cb-d49e-ea194eb864a7"
      },
      "execution_count": 80,
      "outputs": [
        {
          "output_type": "execute_result",
          "data": {
            "text/plain": [
              "'Núcleo De Dados'"
            ],
            "application/vnd.google.colaboratory.intrinsic+json": {
              "type": "string"
            }
          },
          "metadata": {},
          "execution_count": 80
        }
      ]
    }
  ]
}