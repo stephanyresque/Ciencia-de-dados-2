{
 "cells": [
  {
   "cell_type": "code",
   "execution_count": 5,
   "metadata": {},
   "outputs": [],
   "source": [
    "import sys\n",
    "import os\n",
    "\n",
    "# Adiciona o caminho do diretório pai ao Python\n",
    "sys.path.append(os.path.abspath('..'))\n",
    "PATH = 'C:\\\\Users\\\\steph\\\\OneDrive\\\\Documentos\\\\MeusProjetos\\\\Ciencia-de-dados\\\\dados_hash\\\\'"
   ]
  },
  {
   "cell_type": "markdown",
   "metadata": {},
   "source": [
    "# Exercício 1"
   ]
  },
  {
   "cell_type": "markdown",
   "metadata": {},
   "source": [
    "Um professor universitário ministrou aulas online em vez de aulas presenciais devido ao Covid-19. Posteriormente, ele carregou as aulas gravadas na nuvem para os alunos que seguiram o curso de forma assíncrona (aqueles que não assistiram à aula, mas assistiram às gravações posteriormente). No entanto, ele acredita que os alunos que assistem à aula no horário da aula e participam do processo são mais bem-sucedidos. Portanto, ele registrou as notas médias dos alunos no final do semestre. Os dados estão abaixo.\n",
    "\n",
    "Conduza o teste de hipótese para verificar se a crença do professor é estatisticamente significativa, usando um nível de significância de 0,05 para avaliar as hipóteses nula e alternativa. Antes de fazer o teste de hipótese, verifique as suposições relacionadas. "
   ]
  },
  {
   "cell_type": "code",
   "execution_count": 4,
   "metadata": {
    "metadata": {}
   },
   "outputs": [
    {
     "data": {
      "text/html": [
       "<div>\n",
       "<style scoped>\n",
       "    .dataframe tbody tr th:only-of-type {\n",
       "        vertical-align: middle;\n",
       "    }\n",
       "\n",
       "    .dataframe tbody tr th {\n",
       "        vertical-align: top;\n",
       "    }\n",
       "\n",
       "    .dataframe thead th {\n",
       "        text-align: right;\n",
       "    }\n",
       "</style>\n",
       "<table border=\"1\" class=\"dataframe\">\n",
       "  <thead>\n",
       "    <tr style=\"text-align: right;\">\n",
       "      <th></th>\n",
       "      <th>sync</th>\n",
       "      <th>async</th>\n",
       "    </tr>\n",
       "  </thead>\n",
       "  <tbody>\n",
       "    <tr>\n",
       "      <th>0</th>\n",
       "      <td>94.0</td>\n",
       "      <td>77.1</td>\n",
       "    </tr>\n",
       "    <tr>\n",
       "      <th>1</th>\n",
       "      <td>84.9</td>\n",
       "      <td>71.7</td>\n",
       "    </tr>\n",
       "    <tr>\n",
       "      <th>2</th>\n",
       "      <td>82.6</td>\n",
       "      <td>91.0</td>\n",
       "    </tr>\n",
       "    <tr>\n",
       "      <th>3</th>\n",
       "      <td>69.5</td>\n",
       "      <td>72.2</td>\n",
       "    </tr>\n",
       "    <tr>\n",
       "      <th>4</th>\n",
       "      <td>80.1</td>\n",
       "      <td>74.8</td>\n",
       "    </tr>\n",
       "    <tr>\n",
       "      <th>5</th>\n",
       "      <td>79.6</td>\n",
       "      <td>85.1</td>\n",
       "    </tr>\n",
       "    <tr>\n",
       "      <th>6</th>\n",
       "      <td>81.4</td>\n",
       "      <td>67.6</td>\n",
       "    </tr>\n",
       "    <tr>\n",
       "      <th>7</th>\n",
       "      <td>77.8</td>\n",
       "      <td>69.9</td>\n",
       "    </tr>\n",
       "    <tr>\n",
       "      <th>8</th>\n",
       "      <td>81.7</td>\n",
       "      <td>75.3</td>\n",
       "    </tr>\n",
       "    <tr>\n",
       "      <th>9</th>\n",
       "      <td>78.8</td>\n",
       "      <td>71.7</td>\n",
       "    </tr>\n",
       "    <tr>\n",
       "      <th>10</th>\n",
       "      <td>73.2</td>\n",
       "      <td>65.7</td>\n",
       "    </tr>\n",
       "    <tr>\n",
       "      <th>11</th>\n",
       "      <td>87.9</td>\n",
       "      <td>72.6</td>\n",
       "    </tr>\n",
       "    <tr>\n",
       "      <th>12</th>\n",
       "      <td>87.9</td>\n",
       "      <td>71.5</td>\n",
       "    </tr>\n",
       "    <tr>\n",
       "      <th>13</th>\n",
       "      <td>93.5</td>\n",
       "      <td>78.2</td>\n",
       "    </tr>\n",
       "    <tr>\n",
       "      <th>14</th>\n",
       "      <td>82.3</td>\n",
       "      <td>NaN</td>\n",
       "    </tr>\n",
       "    <tr>\n",
       "      <th>15</th>\n",
       "      <td>79.3</td>\n",
       "      <td>NaN</td>\n",
       "    </tr>\n",
       "    <tr>\n",
       "      <th>16</th>\n",
       "      <td>78.3</td>\n",
       "      <td>NaN</td>\n",
       "    </tr>\n",
       "    <tr>\n",
       "      <th>17</th>\n",
       "      <td>71.6</td>\n",
       "      <td>NaN</td>\n",
       "    </tr>\n",
       "    <tr>\n",
       "      <th>18</th>\n",
       "      <td>88.6</td>\n",
       "      <td>NaN</td>\n",
       "    </tr>\n",
       "    <tr>\n",
       "      <th>19</th>\n",
       "      <td>74.6</td>\n",
       "      <td>NaN</td>\n",
       "    </tr>\n",
       "    <tr>\n",
       "      <th>20</th>\n",
       "      <td>74.1</td>\n",
       "      <td>NaN</td>\n",
       "    </tr>\n",
       "    <tr>\n",
       "      <th>21</th>\n",
       "      <td>80.6</td>\n",
       "      <td>NaN</td>\n",
       "    </tr>\n",
       "  </tbody>\n",
       "</table>\n",
       "</div>"
      ],
      "text/plain": [
       "    sync  async\n",
       "0   94.0   77.1\n",
       "1   84.9   71.7\n",
       "2   82.6   91.0\n",
       "3   69.5   72.2\n",
       "4   80.1   74.8\n",
       "5   79.6   85.1\n",
       "6   81.4   67.6\n",
       "7   77.8   69.9\n",
       "8   81.7   75.3\n",
       "9   78.8   71.7\n",
       "10  73.2   65.7\n",
       "11  87.9   72.6\n",
       "12  87.9   71.5\n",
       "13  93.5   78.2\n",
       "14  82.3    NaN\n",
       "15  79.3    NaN\n",
       "16  78.3    NaN\n",
       "17  71.6    NaN\n",
       "18  88.6    NaN\n",
       "19  74.6    NaN\n",
       "20  74.1    NaN\n",
       "21  80.6    NaN"
      ]
     },
     "execution_count": 4,
     "metadata": {},
     "output_type": "execute_result"
    }
   ],
   "source": [
    "import pandas as pd\n",
    "\n",
    "DADOS_NOTAS_COVID = f\"{PATH}notas_covid.csv\"\n",
    "\n",
    "df_notas_covid = pd.read_csv(DADOS_NOTAS_COVID)\n",
    "\n",
    "df_notas_covid"
   ]
  },
  {
   "cell_type": "code",
   "execution_count": 7,
   "metadata": {},
   "outputs": [
    {
     "name": "stdout",
     "output_type": "stream",
     "text": [
      "<class 'pandas.core.frame.DataFrame'>\n",
      "RangeIndex: 22 entries, 0 to 21\n",
      "Data columns (total 2 columns):\n",
      " #   Column  Non-Null Count  Dtype  \n",
      "---  ------  --------------  -----  \n",
      " 0   sync    22 non-null     float64\n",
      " 1   async   14 non-null     float64\n",
      "dtypes: float64(2)\n",
      "memory usage: 484.0 bytes\n"
     ]
    }
   ],
   "source": [
    "df_notas_covid.info()"
   ]
  },
  {
   "cell_type": "code",
   "execution_count": 6,
   "metadata": {},
   "outputs": [
    {
     "data": {
      "text/html": [
       "<div>\n",
       "<style scoped>\n",
       "    .dataframe tbody tr th:only-of-type {\n",
       "        vertical-align: middle;\n",
       "    }\n",
       "\n",
       "    .dataframe tbody tr th {\n",
       "        vertical-align: top;\n",
       "    }\n",
       "\n",
       "    .dataframe thead th {\n",
       "        text-align: right;\n",
       "    }\n",
       "</style>\n",
       "<table border=\"1\" class=\"dataframe\">\n",
       "  <thead>\n",
       "    <tr style=\"text-align: right;\">\n",
       "      <th></th>\n",
       "      <th>sync</th>\n",
       "      <th>async</th>\n",
       "    </tr>\n",
       "  </thead>\n",
       "  <tbody>\n",
       "    <tr>\n",
       "      <th>count</th>\n",
       "      <td>22.000000</td>\n",
       "      <td>14.000000</td>\n",
       "    </tr>\n",
       "    <tr>\n",
       "      <th>mean</th>\n",
       "      <td>81.013636</td>\n",
       "      <td>74.600000</td>\n",
       "    </tr>\n",
       "    <tr>\n",
       "      <th>std</th>\n",
       "      <td>6.533962</td>\n",
       "      <td>6.710726</td>\n",
       "    </tr>\n",
       "    <tr>\n",
       "      <th>min</th>\n",
       "      <td>69.500000</td>\n",
       "      <td>65.700000</td>\n",
       "    </tr>\n",
       "    <tr>\n",
       "      <th>25%</th>\n",
       "      <td>77.925000</td>\n",
       "      <td>71.550000</td>\n",
       "    </tr>\n",
       "    <tr>\n",
       "      <th>50%</th>\n",
       "      <td>80.350000</td>\n",
       "      <td>72.400000</td>\n",
       "    </tr>\n",
       "    <tr>\n",
       "      <th>75%</th>\n",
       "      <td>84.325000</td>\n",
       "      <td>76.650000</td>\n",
       "    </tr>\n",
       "    <tr>\n",
       "      <th>max</th>\n",
       "      <td>94.000000</td>\n",
       "      <td>91.000000</td>\n",
       "    </tr>\n",
       "  </tbody>\n",
       "</table>\n",
       "</div>"
      ],
      "text/plain": [
       "            sync      async\n",
       "count  22.000000  14.000000\n",
       "mean   81.013636  74.600000\n",
       "std     6.533962   6.710726\n",
       "min    69.500000  65.700000\n",
       "25%    77.925000  71.550000\n",
       "50%    80.350000  72.400000\n",
       "75%    84.325000  76.650000\n",
       "max    94.000000  91.000000"
      ]
     },
     "execution_count": 6,
     "metadata": {},
     "output_type": "execute_result"
    }
   ],
   "source": [
    "df_notas_covid.describe()"
   ]
  },
  {
   "cell_type": "code",
   "execution_count": 8,
   "metadata": {},
   "outputs": [
    {
     "data": {
      "text/plain": [
       "<Axes: ylabel='Count'>"
      ]
     },
     "execution_count": 8,
     "metadata": {},
     "output_type": "execute_result"
    },
    {
     "data": {
      "image/png": "[encoded data removed]",
      "text/plain": [
       "<Figure size 640x480 with 1 Axes>"
      ]
     },
     "metadata": {},
     "output_type": "display_data"
    }
   ],
   "source": [
    "import seaborn as sns\n",
    "\n",
    "sns.histplot(df_notas_covid, kde=True)"
   ]
  },
  {
   "cell_type": "code",
   "execution_count": 9,
   "metadata": {},
   "outputs": [
    {
     "data": {
      "text/plain": [
       "<Axes: >"
      ]
     },
     "execution_count": 9,
     "metadata": {},
     "output_type": "execute_result"
    },
    {
     "data": {
      "image/png": "[encoded data removed]",
      "text/plain": [
       "<Figure size 640x480 with 1 Axes>"
      ]
     },
     "metadata": {},
     "output_type": "display_data"
    }
   ],
   "source": [
    "sns.boxplot(df_notas_covid)"
   ]
  },
  {
   "cell_type": "code",
   "execution_count": 10,
   "metadata": {},
   "outputs": [
    {
     "name": "stdout",
     "output_type": "stream",
     "text": [
      "Teste de Shapiro-Wilk\n",
      "estatistica_sw=0.968\n",
      "sync segue uma distribuição normal (valor p: valor_p_sw=0.656)\n",
      "estatistica_sw=0.890\n",
      "async segue uma distribuição normal (valor p: valor_p_sw=0.080)\n",
      "\n",
      "Teste de Levene\n",
      "estatistica_levene=0.008\n",
      "Variâncias iguais (valor p: valor_p_lv=0.931)\n"
     ]
    }
   ],
   "source": [
    "from meus_modulos.auxiliares import analises_shapiro_levene\n",
    "\n",
    "analises_shapiro_levene(df_notas_covid)"
   ]
  },
  {
   "cell_type": "code",
   "execution_count": 11,
   "metadata": {},
   "outputs": [
    {
     "name": "stdout",
     "output_type": "stream",
     "text": [
      "estatistica_ttest=2.841\n",
      "Rejeita a hipótese nula (valor p: valor_p_ttest=0.004)\n"
     ]
    }
   ],
   "source": [
    "from meus_modulos.auxiliares import analise_ttest_ind\n",
    "\n",
    "analise_ttest_ind(df_notas_covid, alternativa='greater')"
   ]
  },
  {
   "cell_type": "markdown",
   "metadata": {},
   "source": [
    "# Exercício 2"
   ]
  },
  {
   "cell_type": "markdown",
   "metadata": {},
   "source": [
    "Um pediatra quer ver o efeito do consumo de fórmula no ganho médio de peso mensal (em grama) de bebês. Por esse motivo, ela coletou dados de três grupos diferentes. O primeiro grupo é composto por crianças alimentadas exclusivamente com leite materno, o segundo grupo é composto por crianças alimentadas apenas com fórmula e o último grupo é composto por crianças alimentadas com fórmula e leite materno. Esses dados estão abaixo.\n",
    "\n",
    "De acordo com essas informações, conduza o teste de hipótese para verificar se há diferença entre o ganho médio mensal desses três grupos usando um nível de significância de 0,05. Se houver diferença significativa, realize uma análise adicional para descobrir o que causou a diferença. Antes de fazer o teste de hipótese, verifique as suposições relacionadas."
   ]
  },
  {
   "cell_type": "code",
   "execution_count": 12,
   "metadata": {
    "metadata": {}
   },
   "outputs": [
    {
     "data": {
      "text/html": [
       "<div>\n",
       "<style scoped>\n",
       "    .dataframe tbody tr th:only-of-type {\n",
       "        vertical-align: middle;\n",
       "    }\n",
       "\n",
       "    .dataframe tbody tr th {\n",
       "        vertical-align: top;\n",
       "    }\n",
       "\n",
       "    .dataframe thead th {\n",
       "        text-align: right;\n",
       "    }\n",
       "</style>\n",
       "<table border=\"1\" class=\"dataframe\">\n",
       "  <thead>\n",
       "    <tr style=\"text-align: right;\">\n",
       "      <th></th>\n",
       "      <th>apenas_leite</th>\n",
       "      <th>apenas_formula</th>\n",
       "      <th>ambos</th>\n",
       "    </tr>\n",
       "  </thead>\n",
       "  <tbody>\n",
       "    <tr>\n",
       "      <th>0</th>\n",
       "      <td>794.1</td>\n",
       "      <td>898.8</td>\n",
       "      <td>976.4</td>\n",
       "    </tr>\n",
       "    <tr>\n",
       "      <th>1</th>\n",
       "      <td>716.9</td>\n",
       "      <td>881.2</td>\n",
       "      <td>656.4</td>\n",
       "    </tr>\n",
       "    <tr>\n",
       "      <th>2</th>\n",
       "      <td>993.0</td>\n",
       "      <td>940.2</td>\n",
       "      <td>861.2</td>\n",
       "    </tr>\n",
       "    <tr>\n",
       "      <th>3</th>\n",
       "      <td>724.7</td>\n",
       "      <td>966.2</td>\n",
       "      <td>706.8</td>\n",
       "    </tr>\n",
       "    <tr>\n",
       "      <th>4</th>\n",
       "      <td>760.9</td>\n",
       "      <td>957.5</td>\n",
       "      <td>718.5</td>\n",
       "    </tr>\n",
       "    <tr>\n",
       "      <th>5</th>\n",
       "      <td>908.2</td>\n",
       "      <td>1061.7</td>\n",
       "      <td>717.1</td>\n",
       "    </tr>\n",
       "    <tr>\n",
       "      <th>6</th>\n",
       "      <td>659.3</td>\n",
       "      <td>1046.2</td>\n",
       "      <td>759.8</td>\n",
       "    </tr>\n",
       "    <tr>\n",
       "      <th>7</th>\n",
       "      <td>690.8</td>\n",
       "      <td>980.4</td>\n",
       "      <td>894.6</td>\n",
       "    </tr>\n",
       "    <tr>\n",
       "      <th>8</th>\n",
       "      <td>768.7</td>\n",
       "      <td>895.6</td>\n",
       "      <td>867.6</td>\n",
       "    </tr>\n",
       "    <tr>\n",
       "      <th>9</th>\n",
       "      <td>717.3</td>\n",
       "      <td>919.7</td>\n",
       "      <td>805.6</td>\n",
       "    </tr>\n",
       "    <tr>\n",
       "      <th>10</th>\n",
       "      <td>630.7</td>\n",
       "      <td>1074.1</td>\n",
       "      <td>765.4</td>\n",
       "    </tr>\n",
       "    <tr>\n",
       "      <th>11</th>\n",
       "      <td>729.5</td>\n",
       "      <td>952.5</td>\n",
       "      <td>800.3</td>\n",
       "    </tr>\n",
       "    <tr>\n",
       "      <th>12</th>\n",
       "      <td>714.1</td>\n",
       "      <td>796.3</td>\n",
       "      <td>789.9</td>\n",
       "    </tr>\n",
       "    <tr>\n",
       "      <th>13</th>\n",
       "      <td>810.3</td>\n",
       "      <td>859.6</td>\n",
       "      <td>875.3</td>\n",
       "    </tr>\n",
       "    <tr>\n",
       "      <th>14</th>\n",
       "      <td>583.5</td>\n",
       "      <td>871.1</td>\n",
       "      <td>740.0</td>\n",
       "    </tr>\n",
       "    <tr>\n",
       "      <th>15</th>\n",
       "      <td>679.9</td>\n",
       "      <td>1047.5</td>\n",
       "      <td>799.4</td>\n",
       "    </tr>\n",
       "    <tr>\n",
       "      <th>16</th>\n",
       "      <td>865.1</td>\n",
       "      <td>919.1</td>\n",
       "      <td>790.3</td>\n",
       "    </tr>\n",
       "    <tr>\n",
       "      <th>17</th>\n",
       "      <td>NaN</td>\n",
       "      <td>1160.5</td>\n",
       "      <td>795.2</td>\n",
       "    </tr>\n",
       "    <tr>\n",
       "      <th>18</th>\n",
       "      <td>NaN</td>\n",
       "      <td>996.9</td>\n",
       "      <td>823.6</td>\n",
       "    </tr>\n",
       "    <tr>\n",
       "      <th>19</th>\n",
       "      <td>NaN</td>\n",
       "      <td>NaN</td>\n",
       "      <td>818.7</td>\n",
       "    </tr>\n",
       "    <tr>\n",
       "      <th>20</th>\n",
       "      <td>NaN</td>\n",
       "      <td>NaN</td>\n",
       "      <td>926.8</td>\n",
       "    </tr>\n",
       "    <tr>\n",
       "      <th>21</th>\n",
       "      <td>NaN</td>\n",
       "      <td>NaN</td>\n",
       "      <td>791.7</td>\n",
       "    </tr>\n",
       "    <tr>\n",
       "      <th>22</th>\n",
       "      <td>NaN</td>\n",
       "      <td>NaN</td>\n",
       "      <td>948.3</td>\n",
       "    </tr>\n",
       "  </tbody>\n",
       "</table>\n",
       "</div>"
      ],
      "text/plain": [
       "    apenas_leite  apenas_formula  ambos\n",
       "0          794.1           898.8  976.4\n",
       "1          716.9           881.2  656.4\n",
       "2          993.0           940.2  861.2\n",
       "3          724.7           966.2  706.8\n",
       "4          760.9           957.5  718.5\n",
       "5          908.2          1061.7  717.1\n",
       "6          659.3          1046.2  759.8\n",
       "7          690.8           980.4  894.6\n",
       "8          768.7           895.6  867.6\n",
       "9          717.3           919.7  805.6\n",
       "10         630.7          1074.1  765.4\n",
       "11         729.5           952.5  800.3\n",
       "12         714.1           796.3  789.9\n",
       "13         810.3           859.6  875.3\n",
       "14         583.5           871.1  740.0\n",
       "15         679.9          1047.5  799.4\n",
       "16         865.1           919.1  790.3\n",
       "17           NaN          1160.5  795.2\n",
       "18           NaN           996.9  823.6\n",
       "19           NaN             NaN  818.7\n",
       "20           NaN             NaN  926.8\n",
       "21           NaN             NaN  791.7\n",
       "22           NaN             NaN  948.3"
      ]
     },
     "execution_count": 12,
     "metadata": {},
     "output_type": "execute_result"
    }
   ],
   "source": [
    "import pandas as pd\n",
    "\n",
    "DADOS_LEITE_FORMULA = f\"{PATH}leite_formula_ambos.csv\"\n",
    "\n",
    "df_leite_formula = pd.read_csv(DADOS_LEITE_FORMULA)\n",
    "df_leite_formula"
   ]
  },
  {
   "cell_type": "code",
   "execution_count": 13,
   "metadata": {},
   "outputs": [
    {
     "name": "stdout",
     "output_type": "stream",
     "text": [
      "<class 'pandas.core.frame.DataFrame'>\n",
      "RangeIndex: 23 entries, 0 to 22\n",
      "Data columns (total 3 columns):\n",
      " #   Column          Non-Null Count  Dtype  \n",
      "---  ------          --------------  -----  \n",
      " 0   apenas_leite    17 non-null     float64\n",
      " 1   apenas_formula  19 non-null     float64\n",
      " 2   ambos           23 non-null     float64\n",
      "dtypes: float64(3)\n",
      "memory usage: 684.0 bytes\n"
     ]
    }
   ],
   "source": [
    "df_leite_formula.info()"
   ]
  },
  {
   "cell_type": "code",
   "execution_count": 14,
   "metadata": {},
   "outputs": [
    {
     "data": {
      "text/html": [
       "<div>\n",
       "<style scoped>\n",
       "    .dataframe tbody tr th:only-of-type {\n",
       "        vertical-align: middle;\n",
       "    }\n",
       "\n",
       "    .dataframe tbody tr th {\n",
       "        vertical-align: top;\n",
       "    }\n",
       "\n",
       "    .dataframe thead th {\n",
       "        text-align: right;\n",
       "    }\n",
       "</style>\n",
       "<table border=\"1\" class=\"dataframe\">\n",
       "  <thead>\n",
       "    <tr style=\"text-align: right;\">\n",
       "      <th></th>\n",
       "      <th>apenas_leite</th>\n",
       "      <th>apenas_formula</th>\n",
       "      <th>ambos</th>\n",
       "    </tr>\n",
       "  </thead>\n",
       "  <tbody>\n",
       "    <tr>\n",
       "      <th>count</th>\n",
       "      <td>17.000000</td>\n",
       "      <td>19.000000</td>\n",
       "      <td>23.000000</td>\n",
       "    </tr>\n",
       "    <tr>\n",
       "      <th>mean</th>\n",
       "      <td>749.823529</td>\n",
       "      <td>959.215789</td>\n",
       "      <td>809.952174</td>\n",
       "    </tr>\n",
       "    <tr>\n",
       "      <th>std</th>\n",
       "      <td>102.007062</td>\n",
       "      <td>89.159004</td>\n",
       "      <td>79.859546</td>\n",
       "    </tr>\n",
       "    <tr>\n",
       "      <th>min</th>\n",
       "      <td>583.500000</td>\n",
       "      <td>796.300000</td>\n",
       "      <td>656.400000</td>\n",
       "    </tr>\n",
       "    <tr>\n",
       "      <th>25%</th>\n",
       "      <td>690.800000</td>\n",
       "      <td>897.200000</td>\n",
       "      <td>762.600000</td>\n",
       "    </tr>\n",
       "    <tr>\n",
       "      <th>50%</th>\n",
       "      <td>724.700000</td>\n",
       "      <td>952.500000</td>\n",
       "      <td>799.400000</td>\n",
       "    </tr>\n",
       "    <tr>\n",
       "      <th>75%</th>\n",
       "      <td>794.100000</td>\n",
       "      <td>1021.550000</td>\n",
       "      <td>864.400000</td>\n",
       "    </tr>\n",
       "    <tr>\n",
       "      <th>max</th>\n",
       "      <td>993.000000</td>\n",
       "      <td>1160.500000</td>\n",
       "      <td>976.400000</td>\n",
       "    </tr>\n",
       "  </tbody>\n",
       "</table>\n",
       "</div>"
      ],
      "text/plain": [
       "       apenas_leite  apenas_formula       ambos\n",
       "count     17.000000       19.000000   23.000000\n",
       "mean     749.823529      959.215789  809.952174\n",
       "std      102.007062       89.159004   79.859546\n",
       "min      583.500000      796.300000  656.400000\n",
       "25%      690.800000      897.200000  762.600000\n",
       "50%      724.700000      952.500000  799.400000\n",
       "75%      794.100000     1021.550000  864.400000\n",
       "max      993.000000     1160.500000  976.400000"
      ]
     },
     "execution_count": 14,
     "metadata": {},
     "output_type": "execute_result"
    }
   ],
   "source": [
    "df_leite_formula.describe()"
   ]
  },
  {
   "cell_type": "code",
   "execution_count": 15,
   "metadata": {},
   "outputs": [
    {
     "data": {
      "text/plain": [
       "<Axes: ylabel='Count'>"
      ]
     },
     "execution_count": 15,
     "metadata": {},
     "output_type": "execute_result"
    },
    {
     "data": {
      "image/png": "[encoded data removed]",
      "text/plain": [
       "<Figure size 640x480 with 1 Axes>"
      ]
     },
     "metadata": {},
     "output_type": "display_data"
    }
   ],
   "source": [
    "sns.histplot(df_leite_formula, kde=True)"
   ]
  },
  {
   "cell_type": "code",
   "execution_count": 16,
   "metadata": {},
   "outputs": [
    {
     "data": {
      "text/plain": [
       "<Axes: >"
      ]
     },
     "execution_count": 16,
     "metadata": {},
     "output_type": "execute_result"
    },
    {
     "data": {
      "image/png": "[encoded data removed]",
      "text/plain": [
       "<Figure size 640x480 with 1 Axes>"
      ]
     },
     "metadata": {},
     "output_type": "display_data"
    }
   ],
   "source": [
    "sns.boxplot(df_leite_formula)"
   ]
  },
  {
   "cell_type": "code",
   "execution_count": 17,
   "metadata": {},
   "outputs": [
    {
     "name": "stdout",
     "output_type": "stream",
     "text": [
      "Teste de Shapiro-Wilk\n",
      "estatistica_sw=0.951\n",
      "apenas_leite segue uma distribuição normal (valor p: valor_p_sw=0.469)\n",
      "estatistica_sw=0.976\n",
      "apenas_formula segue uma distribuição normal (valor p: valor_p_sw=0.888)\n",
      "estatistica_sw=0.975\n",
      "ambos segue uma distribuição normal (valor p: valor_p_sw=0.797)\n",
      "\n",
      "Teste de Levene\n",
      "estatistica_levene=0.389\n",
      "Variâncias iguais (valor p: valor_p_lv=0.680)\n"
     ]
    }
   ],
   "source": [
    "analises_shapiro_levene(df_leite_formula)"
   ]
  },
  {
   "cell_type": "code",
   "execution_count": 18,
   "metadata": {},
   "outputs": [
    {
     "name": "stdout",
     "output_type": "stream",
     "text": [
      "Teste ANOVA one way\n",
      "estatistica_anova=26.701\n",
      "Rejeita a hipótese nula (valor p: valor_p_anova=0.000)\n"
     ]
    }
   ],
   "source": [
    "from meus_modulos.auxiliares import analise_f_oneway\n",
    "\n",
    "analise_f_oneway(df_leite_formula)"
   ]
  },
  {
   "cell_type": "code",
   "execution_count": 20,
   "metadata": {},
   "outputs": [
    {
     "data": {
      "text/plain": [
       "Index(['apenas_leite', 'apenas_formula', 'ambos'], dtype='object')"
      ]
     },
     "execution_count": 20,
     "metadata": {},
     "output_type": "execute_result"
    }
   ],
   "source": [
    "df_leite_formula.columns"
   ]
  },
  {
   "cell_type": "code",
   "execution_count": 19,
   "metadata": {},
   "outputs": [
    {
     "name": "stdout",
     "output_type": "stream",
     "text": [
      "Tukey's HSD Pairwise Group Comparisons (95.0% Confidence Interval)\n",
      "Comparison  Statistic  p-value  Lower CI  Upper CI\n",
      " (0 - 1)   -209.392     0.000  -281.434  -137.351\n",
      " (0 - 2)    -60.129     0.100  -129.149     8.891\n",
      " (1 - 0)    209.392     0.000   137.351   281.434\n",
      " (1 - 2)    149.264     0.000    82.365   216.162\n",
      " (2 - 0)     60.129     0.100    -8.891   129.149\n",
      " (2 - 1)   -149.264     0.000  -216.162   -82.365\n",
      "\n"
     ]
    }
   ],
   "source": [
    "from scipy.stats import tukey_hsd\n",
    "\n",
    "print(tukey_hsd(*[df_leite_formula[coluna].dropna() for coluna in df_leite_formula.columns]))"
   ]
  },
  {
   "cell_type": "markdown",
   "metadata": {},
   "source": [
    "# Exercício 3"
   ]
  },
  {
   "cell_type": "markdown",
   "metadata": {},
   "source": [
    "\n",
    "Um especialista em recursos humanos que trabalha em uma empresa de tecnologia está interessado no tempo de trabalho excessivo de diferentes equipes. Para investigar se há diferença entre o tempo extra da equipe de desenvolvimento de software e da equipe de teste, ela selecionou 17 funcionários aleatoriamente em cada uma das duas equipes e registrou seu tempo médio de trabalho extra semanal em termos de hora. Os dados estão abaixo.\n",
    "\n",
    "\n",
    "De acordo com essas informações, conduza o teste de hipótese para verificar se há diferença entre o tempo extra de trabalho das duas equipes usando um nível de significância de 0,05. Antes de fazer o teste de hipótese, verifique as suposições relacionadas."
   ]
  },
  {
   "cell_type": "code",
   "execution_count": 21,
   "metadata": {
    "metadata": {}
   },
   "outputs": [
    {
     "data": {
      "text/html": [
       "<div>\n",
       "<style scoped>\n",
       "    .dataframe tbody tr th:only-of-type {\n",
       "        vertical-align: middle;\n",
       "    }\n",
       "\n",
       "    .dataframe tbody tr th {\n",
       "        vertical-align: top;\n",
       "    }\n",
       "\n",
       "    .dataframe thead th {\n",
       "        text-align: right;\n",
       "    }\n",
       "</style>\n",
       "<table border=\"1\" class=\"dataframe\">\n",
       "  <thead>\n",
       "    <tr style=\"text-align: right;\">\n",
       "      <th></th>\n",
       "      <th>test_team</th>\n",
       "      <th>developer_team</th>\n",
       "    </tr>\n",
       "  </thead>\n",
       "  <tbody>\n",
       "    <tr>\n",
       "      <th>0</th>\n",
       "      <td>6.2</td>\n",
       "      <td>2.3</td>\n",
       "    </tr>\n",
       "    <tr>\n",
       "      <th>1</th>\n",
       "      <td>7.1</td>\n",
       "      <td>2.1</td>\n",
       "    </tr>\n",
       "    <tr>\n",
       "      <th>2</th>\n",
       "      <td>1.5</td>\n",
       "      <td>1.4</td>\n",
       "    </tr>\n",
       "    <tr>\n",
       "      <th>3</th>\n",
       "      <td>2.0</td>\n",
       "      <td>2.0</td>\n",
       "    </tr>\n",
       "    <tr>\n",
       "      <th>4</th>\n",
       "      <td>3.0</td>\n",
       "      <td>8.7</td>\n",
       "    </tr>\n",
       "    <tr>\n",
       "      <th>5</th>\n",
       "      <td>2.0</td>\n",
       "      <td>2.2</td>\n",
       "    </tr>\n",
       "    <tr>\n",
       "      <th>6</th>\n",
       "      <td>1.5</td>\n",
       "      <td>3.1</td>\n",
       "    </tr>\n",
       "    <tr>\n",
       "      <th>7</th>\n",
       "      <td>6.1</td>\n",
       "      <td>4.2</td>\n",
       "    </tr>\n",
       "    <tr>\n",
       "      <th>8</th>\n",
       "      <td>2.4</td>\n",
       "      <td>3.6</td>\n",
       "    </tr>\n",
       "    <tr>\n",
       "      <th>9</th>\n",
       "      <td>2.3</td>\n",
       "      <td>2.5</td>\n",
       "    </tr>\n",
       "    <tr>\n",
       "      <th>10</th>\n",
       "      <td>12.4</td>\n",
       "      <td>3.1</td>\n",
       "    </tr>\n",
       "    <tr>\n",
       "      <th>11</th>\n",
       "      <td>1.8</td>\n",
       "      <td>6.2</td>\n",
       "    </tr>\n",
       "    <tr>\n",
       "      <th>12</th>\n",
       "      <td>5.3</td>\n",
       "      <td>12.1</td>\n",
       "    </tr>\n",
       "    <tr>\n",
       "      <th>13</th>\n",
       "      <td>3.1</td>\n",
       "      <td>3.9</td>\n",
       "    </tr>\n",
       "    <tr>\n",
       "      <th>14</th>\n",
       "      <td>9.4</td>\n",
       "      <td>2.2</td>\n",
       "    </tr>\n",
       "    <tr>\n",
       "      <th>15</th>\n",
       "      <td>2.3</td>\n",
       "      <td>1.2</td>\n",
       "    </tr>\n",
       "    <tr>\n",
       "      <th>16</th>\n",
       "      <td>4.1</td>\n",
       "      <td>3.4</td>\n",
       "    </tr>\n",
       "  </tbody>\n",
       "</table>\n",
       "</div>"
      ],
      "text/plain": [
       "    test_team  developer_team\n",
       "0         6.2             2.3\n",
       "1         7.1             2.1\n",
       "2         1.5             1.4\n",
       "3         2.0             2.0\n",
       "4         3.0             8.7\n",
       "5         2.0             2.2\n",
       "6         1.5             3.1\n",
       "7         6.1             4.2\n",
       "8         2.4             3.6\n",
       "9         2.3             2.5\n",
       "10       12.4             3.1\n",
       "11        1.8             6.2\n",
       "12        5.3            12.1\n",
       "13        3.1             3.9\n",
       "14        9.4             2.2\n",
       "15        2.3             1.2\n",
       "16        4.1             3.4"
      ]
     },
     "execution_count": 21,
     "metadata": {},
     "output_type": "execute_result"
    }
   ],
   "source": [
    "import pandas as pd\n",
    "\n",
    "DADOS_TEMPOS_TIMES = f\"{PATH}tempos_times.csv\"\n",
    "\n",
    "df_tempos_times = pd.read_csv(DADOS_TEMPOS_TIMES)\n",
    "df_tempos_times"
   ]
  },
  {
   "cell_type": "code",
   "execution_count": 22,
   "metadata": {},
   "outputs": [
    {
     "name": "stdout",
     "output_type": "stream",
     "text": [
      "<class 'pandas.core.frame.DataFrame'>\n",
      "RangeIndex: 17 entries, 0 to 16\n",
      "Data columns (total 2 columns):\n",
      " #   Column          Non-Null Count  Dtype  \n",
      "---  ------          --------------  -----  \n",
      " 0   test_team       17 non-null     float64\n",
      " 1   developer_team  17 non-null     float64\n",
      "dtypes: float64(2)\n",
      "memory usage: 404.0 bytes\n"
     ]
    }
   ],
   "source": [
    "df_tempos_times.info()"
   ]
  },
  {
   "cell_type": "code",
   "execution_count": 23,
   "metadata": {},
   "outputs": [
    {
     "data": {
      "text/html": [
       "<div>\n",
       "<style scoped>\n",
       "    .dataframe tbody tr th:only-of-type {\n",
       "        vertical-align: middle;\n",
       "    }\n",
       "\n",
       "    .dataframe tbody tr th {\n",
       "        vertical-align: top;\n",
       "    }\n",
       "\n",
       "    .dataframe thead th {\n",
       "        text-align: right;\n",
       "    }\n",
       "</style>\n",
       "<table border=\"1\" class=\"dataframe\">\n",
       "  <thead>\n",
       "    <tr style=\"text-align: right;\">\n",
       "      <th></th>\n",
       "      <th>test_team</th>\n",
       "      <th>developer_team</th>\n",
       "    </tr>\n",
       "  </thead>\n",
       "  <tbody>\n",
       "    <tr>\n",
       "      <th>count</th>\n",
       "      <td>17.000000</td>\n",
       "      <td>17.000000</td>\n",
       "    </tr>\n",
       "    <tr>\n",
       "      <th>mean</th>\n",
       "      <td>4.264706</td>\n",
       "      <td>3.776471</td>\n",
       "    </tr>\n",
       "    <tr>\n",
       "      <th>std</th>\n",
       "      <td>3.108243</td>\n",
       "      <td>2.825228</td>\n",
       "    </tr>\n",
       "    <tr>\n",
       "      <th>min</th>\n",
       "      <td>1.500000</td>\n",
       "      <td>1.200000</td>\n",
       "    </tr>\n",
       "    <tr>\n",
       "      <th>25%</th>\n",
       "      <td>2.000000</td>\n",
       "      <td>2.200000</td>\n",
       "    </tr>\n",
       "    <tr>\n",
       "      <th>50%</th>\n",
       "      <td>3.000000</td>\n",
       "      <td>3.100000</td>\n",
       "    </tr>\n",
       "    <tr>\n",
       "      <th>75%</th>\n",
       "      <td>6.100000</td>\n",
       "      <td>3.900000</td>\n",
       "    </tr>\n",
       "    <tr>\n",
       "      <th>max</th>\n",
       "      <td>12.400000</td>\n",
       "      <td>12.100000</td>\n",
       "    </tr>\n",
       "  </tbody>\n",
       "</table>\n",
       "</div>"
      ],
      "text/plain": [
       "       test_team  developer_team\n",
       "count  17.000000       17.000000\n",
       "mean    4.264706        3.776471\n",
       "std     3.108243        2.825228\n",
       "min     1.500000        1.200000\n",
       "25%     2.000000        2.200000\n",
       "50%     3.000000        3.100000\n",
       "75%     6.100000        3.900000\n",
       "max    12.400000       12.100000"
      ]
     },
     "execution_count": 23,
     "metadata": {},
     "output_type": "execute_result"
    }
   ],
   "source": [
    "df_tempos_times.describe()"
   ]
  },
  {
   "cell_type": "code",
   "execution_count": 24,
   "metadata": {},
   "outputs": [
    {
     "data": {
      "text/plain": [
       "<Axes: ylabel='Count'>"
      ]
     },
     "execution_count": 24,
     "metadata": {},
     "output_type": "execute_result"
    },
    {
     "data": {
      "image/png": "[encoded data removed]",
      "text/plain": [
       "<Figure size 640x480 with 1 Axes>"
      ]
     },
     "metadata": {},
     "output_type": "display_data"
    }
   ],
   "source": [
    "sns.histplot(df_tempos_times, kde = True)"
   ]
  },
  {
   "cell_type": "code",
   "execution_count": 25,
   "metadata": {},
   "outputs": [
    {
     "data": {
      "text/plain": [
       "<Axes: >"
      ]
     },
     "execution_count": 25,
     "metadata": {},
     "output_type": "execute_result"
    },
    {
     "data": {
      "image/png": "[encoded data removed]",
      "text/plain": [
       "<Figure size 640x480 with 1 Axes>"
      ]
     },
     "metadata": {},
     "output_type": "display_data"
    }
   ],
   "source": [
    "sns.boxplot(df_tempos_times)"
   ]
  },
  {
   "cell_type": "code",
   "execution_count": 27,
   "metadata": {},
   "outputs": [
    {
     "name": "stdout",
     "output_type": "stream",
     "text": [
      "Teste de Shapiro-Wilk\n",
      "estatistica_sw=0.825\n",
      "test_team não segue uma distribuição normal (valor p: valor_p_sw=0.005)\n",
      "estatistica_sw=0.753\n",
      "developer_team não segue uma distribuição normal (valor p: valor_p_sw=0.000)\n",
      "\n",
      "Teste de Levene\n",
      "estatistica_levene=0.382\n",
      "Variâncias iguais (valor p: valor_p_lv=0.541)\n"
     ]
    }
   ],
   "source": [
    "analises_shapiro_levene(df_tempos_times, center='median')"
   ]
  },
  {
   "cell_type": "code",
   "execution_count": 28,
   "metadata": {},
   "outputs": [
    {
     "name": "stdout",
     "output_type": "stream",
     "text": [
      "Teste Mann-Whitney\n",
      "estatistica_mann=151.500\n",
      "Não rejeita a hipótese nula (valor p: valor_p_mann=0.823)\n"
     ]
    }
   ],
   "source": [
    "from meus_modulos.auxiliares import analise_mannwhitneyu\n",
    "\n",
    "analise_mannwhitneyu(df_tempos_times)"
   ]
  },
  {
   "cell_type": "markdown",
   "metadata": {},
   "source": [
    "# Exercício 4"
   ]
  },
  {
   "cell_type": "markdown",
   "metadata": {},
   "source": [
    "\n",
    "Uma empresa de comércio eletrônico anuncia regularmente no YouTube, Instagram e Facebook para suas campanhas. No entanto, o novo gerente estava curioso para saber se havia alguma diferença entre o número de clientes atraídos por essas plataformas. Portanto, ela começou a usar o Adjust, um aplicativo que permite descobrir de onde vêm seus usuários. Os números diários relatados pelo Adjust para cada plataforma estão abaixo.\n",
    "\n",
    "De acordo com essas informações, conduza o teste de hipótese para verificar se há diferença entre a aquisição média de clientes dessas três plataformas usando um nível de significância de 0,05. Se houver diferença significativa, realize uma análise adicional para descobrir o que causou a diferença. Antes de fazer o teste de hipótese, verifique as suposições relacionadas."
   ]
  },
  {
   "cell_type": "code",
   "execution_count": 29,
   "metadata": {
    "metadata": {}
   },
   "outputs": [
    {
     "data": {
      "text/html": [
       "<div>\n",
       "<style scoped>\n",
       "    .dataframe tbody tr th:only-of-type {\n",
       "        vertical-align: middle;\n",
       "    }\n",
       "\n",
       "    .dataframe tbody tr th {\n",
       "        vertical-align: top;\n",
       "    }\n",
       "\n",
       "    .dataframe thead th {\n",
       "        text-align: right;\n",
       "    }\n",
       "</style>\n",
       "<table border=\"1\" class=\"dataframe\">\n",
       "  <thead>\n",
       "    <tr style=\"text-align: right;\">\n",
       "      <th></th>\n",
       "      <th>youtube</th>\n",
       "      <th>instagram</th>\n",
       "      <th>facebook</th>\n",
       "    </tr>\n",
       "  </thead>\n",
       "  <tbody>\n",
       "    <tr>\n",
       "      <th>0</th>\n",
       "      <td>1913</td>\n",
       "      <td>2305</td>\n",
       "      <td>2133</td>\n",
       "    </tr>\n",
       "    <tr>\n",
       "      <th>1</th>\n",
       "      <td>1879</td>\n",
       "      <td>2355</td>\n",
       "      <td>2522</td>\n",
       "    </tr>\n",
       "    <tr>\n",
       "      <th>2</th>\n",
       "      <td>1939</td>\n",
       "      <td>2203</td>\n",
       "      <td>2124</td>\n",
       "    </tr>\n",
       "    <tr>\n",
       "      <th>3</th>\n",
       "      <td>2146</td>\n",
       "      <td>2231</td>\n",
       "      <td>2551</td>\n",
       "    </tr>\n",
       "    <tr>\n",
       "      <th>4</th>\n",
       "      <td>2040</td>\n",
       "      <td>2185</td>\n",
       "      <td>2293</td>\n",
       "    </tr>\n",
       "    <tr>\n",
       "      <th>5</th>\n",
       "      <td>2127</td>\n",
       "      <td>2420</td>\n",
       "      <td>2367</td>\n",
       "    </tr>\n",
       "    <tr>\n",
       "      <th>6</th>\n",
       "      <td>2122</td>\n",
       "      <td>2386</td>\n",
       "      <td>2460</td>\n",
       "    </tr>\n",
       "    <tr>\n",
       "      <th>7</th>\n",
       "      <td>2156</td>\n",
       "      <td>2410</td>\n",
       "      <td>2311</td>\n",
       "    </tr>\n",
       "    <tr>\n",
       "      <th>8</th>\n",
       "      <td>2036</td>\n",
       "      <td>2340</td>\n",
       "      <td>2178</td>\n",
       "    </tr>\n",
       "    <tr>\n",
       "      <th>9</th>\n",
       "      <td>1974</td>\n",
       "      <td>2349</td>\n",
       "      <td>2113</td>\n",
       "    </tr>\n",
       "    <tr>\n",
       "      <th>10</th>\n",
       "      <td>1956</td>\n",
       "      <td>2241</td>\n",
       "      <td>2048</td>\n",
       "    </tr>\n",
       "    <tr>\n",
       "      <th>11</th>\n",
       "      <td>2146</td>\n",
       "      <td>2396</td>\n",
       "      <td>2443</td>\n",
       "    </tr>\n",
       "    <tr>\n",
       "      <th>12</th>\n",
       "      <td>2151</td>\n",
       "      <td>2244</td>\n",
       "      <td>2265</td>\n",
       "    </tr>\n",
       "    <tr>\n",
       "      <th>13</th>\n",
       "      <td>1943</td>\n",
       "      <td>2267</td>\n",
       "      <td>2095</td>\n",
       "    </tr>\n",
       "    <tr>\n",
       "      <th>14</th>\n",
       "      <td>2125</td>\n",
       "      <td>2281</td>\n",
       "      <td>2528</td>\n",
       "    </tr>\n",
       "  </tbody>\n",
       "</table>\n",
       "</div>"
      ],
      "text/plain": [
       "    youtube  instagram  facebook\n",
       "0      1913       2305      2133\n",
       "1      1879       2355      2522\n",
       "2      1939       2203      2124\n",
       "3      2146       2231      2551\n",
       "4      2040       2185      2293\n",
       "5      2127       2420      2367\n",
       "6      2122       2386      2460\n",
       "7      2156       2410      2311\n",
       "8      2036       2340      2178\n",
       "9      1974       2349      2113\n",
       "10     1956       2241      2048\n",
       "11     2146       2396      2443\n",
       "12     2151       2244      2265\n",
       "13     1943       2267      2095\n",
       "14     2125       2281      2528"
      ]
     },
     "execution_count": 29,
     "metadata": {},
     "output_type": "execute_result"
    }
   ],
   "source": [
    "import pandas as pd\n",
    "\n",
    "DADOS_ANUNCIOS = f\"{PATH}anuncios_redes_sociais.csv\"\n",
    "\n",
    "df_anuncios = pd.read_csv(DADOS_ANUNCIOS)\n",
    "df_anuncios"
   ]
  },
  {
   "cell_type": "code",
   "execution_count": 30,
   "metadata": {},
   "outputs": [
    {
     "name": "stdout",
     "output_type": "stream",
     "text": [
      "<class 'pandas.core.frame.DataFrame'>\n",
      "RangeIndex: 15 entries, 0 to 14\n",
      "Data columns (total 3 columns):\n",
      " #   Column     Non-Null Count  Dtype\n",
      "---  ------     --------------  -----\n",
      " 0   youtube    15 non-null     int64\n",
      " 1   instagram  15 non-null     int64\n",
      " 2   facebook   15 non-null     int64\n",
      "dtypes: int64(3)\n",
      "memory usage: 492.0 bytes\n"
     ]
    }
   ],
   "source": [
    "df_anuncios.info()"
   ]
  },
  {
   "cell_type": "code",
   "execution_count": 31,
   "metadata": {},
   "outputs": [
    {
     "data": {
      "text/html": [
       "<div>\n",
       "<style scoped>\n",
       "    .dataframe tbody tr th:only-of-type {\n",
       "        vertical-align: middle;\n",
       "    }\n",
       "\n",
       "    .dataframe tbody tr th {\n",
       "        vertical-align: top;\n",
       "    }\n",
       "\n",
       "    .dataframe thead th {\n",
       "        text-align: right;\n",
       "    }\n",
       "</style>\n",
       "<table border=\"1\" class=\"dataframe\">\n",
       "  <thead>\n",
       "    <tr style=\"text-align: right;\">\n",
       "      <th></th>\n",
       "      <th>youtube</th>\n",
       "      <th>instagram</th>\n",
       "      <th>facebook</th>\n",
       "    </tr>\n",
       "  </thead>\n",
       "  <tbody>\n",
       "    <tr>\n",
       "      <th>count</th>\n",
       "      <td>15.000000</td>\n",
       "      <td>15.000000</td>\n",
       "      <td>15.000000</td>\n",
       "    </tr>\n",
       "    <tr>\n",
       "      <th>mean</th>\n",
       "      <td>2043.533333</td>\n",
       "      <td>2307.533333</td>\n",
       "      <td>2295.400000</td>\n",
       "    </tr>\n",
       "    <tr>\n",
       "      <th>std</th>\n",
       "      <td>100.948266</td>\n",
       "      <td>77.815594</td>\n",
       "      <td>175.281732</td>\n",
       "    </tr>\n",
       "    <tr>\n",
       "      <th>min</th>\n",
       "      <td>1879.000000</td>\n",
       "      <td>2185.000000</td>\n",
       "      <td>2048.000000</td>\n",
       "    </tr>\n",
       "    <tr>\n",
       "      <th>25%</th>\n",
       "      <td>1949.500000</td>\n",
       "      <td>2242.500000</td>\n",
       "      <td>2128.500000</td>\n",
       "    </tr>\n",
       "    <tr>\n",
       "      <th>50%</th>\n",
       "      <td>2040.000000</td>\n",
       "      <td>2305.000000</td>\n",
       "      <td>2293.000000</td>\n",
       "    </tr>\n",
       "    <tr>\n",
       "      <th>75%</th>\n",
       "      <td>2136.500000</td>\n",
       "      <td>2370.500000</td>\n",
       "      <td>2451.500000</td>\n",
       "    </tr>\n",
       "    <tr>\n",
       "      <th>max</th>\n",
       "      <td>2156.000000</td>\n",
       "      <td>2420.000000</td>\n",
       "      <td>2551.000000</td>\n",
       "    </tr>\n",
       "  </tbody>\n",
       "</table>\n",
       "</div>"
      ],
      "text/plain": [
       "           youtube    instagram     facebook\n",
       "count    15.000000    15.000000    15.000000\n",
       "mean   2043.533333  2307.533333  2295.400000\n",
       "std     100.948266    77.815594   175.281732\n",
       "min    1879.000000  2185.000000  2048.000000\n",
       "25%    1949.500000  2242.500000  2128.500000\n",
       "50%    2040.000000  2305.000000  2293.000000\n",
       "75%    2136.500000  2370.500000  2451.500000\n",
       "max    2156.000000  2420.000000  2551.000000"
      ]
     },
     "execution_count": 31,
     "metadata": {},
     "output_type": "execute_result"
    }
   ],
   "source": [
    "df_anuncios.describe()"
   ]
  },
  {
   "cell_type": "code",
   "execution_count": 32,
   "metadata": {},
   "outputs": [
    {
     "data": {
      "text/plain": [
       "<Axes: ylabel='Count'>"
      ]
     },
     "execution_count": 32,
     "metadata": {},
     "output_type": "execute_result"
    },
    {
     "data": {
      "image/png": "[encoded data removed]",
      "text/plain": [
       "<Figure size 640x480 with 1 Axes>"
      ]
     },
     "metadata": {},
     "output_type": "display_data"
    }
   ],
   "source": [
    "sns.histplot(df_anuncios, kde=True)"
   ]
  },
  {
   "cell_type": "code",
   "execution_count": 33,
   "metadata": {},
   "outputs": [
    {
     "data": {
      "text/plain": [
       "<Axes: >"
      ]
     },
     "execution_count": 33,
     "metadata": {},
     "output_type": "execute_result"
    },
    {
     "data": {
      "image/png": "[encoded data removed]",
      "text/plain": [
       "<Figure size 640x480 with 1 Axes>"
      ]
     },
     "metadata": {},
     "output_type": "display_data"
    }
   ],
   "source": [
    "sns.boxplot(df_anuncios)"
   ]
  },
  {
   "cell_type": "code",
   "execution_count": 37,
   "metadata": {},
   "outputs": [
    {
     "name": "stdout",
     "output_type": "stream",
     "text": [
      "Teste de Shapiro-Wilk\n",
      "estatistica_sw=0.865\n",
      "youtube não segue uma distribuição normal (valor p: valor_p_sw=0.029)\n",
      "estatistica_sw=0.943\n",
      "instagram segue uma distribuição normal (valor p: valor_p_sw=0.416)\n",
      "estatistica_sw=0.917\n",
      "facebook segue uma distribuição normal (valor p: valor_p_sw=0.172)\n",
      "\n",
      "Teste de Levene\n",
      "estatistica_levene=7.887\n",
      "Ao menos uma variância diferente (valor p: valor_p_lv=0.001)\n"
     ]
    }
   ],
   "source": [
    "analises_shapiro_levene(df_anuncios, center='median')"
   ]
  },
  {
   "cell_type": "code",
   "execution_count": 38,
   "metadata": {},
   "outputs": [
    {
     "name": "stdout",
     "output_type": "stream",
     "text": [
      "Teste Kruskal\n",
      "estatistica_kru=22.194\n",
      "Rejeita a hipótese nula (valor p: valor_p_kru=0.000)\n"
     ]
    }
   ],
   "source": [
    "from meus_modulos.auxiliares import analise_kruskal\n",
    "\n",
    "analise_kruskal(df_anuncios)"
   ]
  },
  {
   "cell_type": "markdown",
   "metadata": {},
   "source": [
    "# Exercício 5"
   ]
  },
  {
   "cell_type": "markdown",
   "metadata": {},
   "source": [
    "O Centro de Saúde de uma universidade diagnosticou dezoito estudantes com colesterol alto no semestre anterior. O pessoal de saúde informou a esses pacientes sobre os perigos do colesterol alto e prescreveu um programa de dieta. Um mês depois, os pacientes vieram para controle, e seu nível de colesterol foi reexaminado. Teste se há diferença nos níveis de colesterol dos pacientes.\n",
    "\n",
    "De acordo com essas informações, conduza o teste de hipótese para verificar se há uma diminuição nos níveis de colesterol dos pacientes após a dieta, usando um nível de significância de 0,05. Antes de fazer o teste de hipótese, verifique as suposições relacionadas. Comente sobre os resultados."
   ]
  },
  {
   "cell_type": "code",
   "execution_count": 39,
   "metadata": {
    "metadata": {}
   },
   "outputs": [
    {
     "data": {
      "text/html": [
       "<div>\n",
       "<style scoped>\n",
       "    .dataframe tbody tr th:only-of-type {\n",
       "        vertical-align: middle;\n",
       "    }\n",
       "\n",
       "    .dataframe tbody tr th {\n",
       "        vertical-align: top;\n",
       "    }\n",
       "\n",
       "    .dataframe thead th {\n",
       "        text-align: right;\n",
       "    }\n",
       "</style>\n",
       "<table border=\"1\" class=\"dataframe\">\n",
       "  <thead>\n",
       "    <tr style=\"text-align: right;\">\n",
       "      <th></th>\n",
       "      <th>antes_dieta</th>\n",
       "      <th>depois_dieta</th>\n",
       "    </tr>\n",
       "  </thead>\n",
       "  <tbody>\n",
       "    <tr>\n",
       "      <th>0</th>\n",
       "      <td>224</td>\n",
       "      <td>198</td>\n",
       "    </tr>\n",
       "    <tr>\n",
       "      <th>1</th>\n",
       "      <td>235</td>\n",
       "      <td>195</td>\n",
       "    </tr>\n",
       "    <tr>\n",
       "      <th>2</th>\n",
       "      <td>223</td>\n",
       "      <td>213</td>\n",
       "    </tr>\n",
       "    <tr>\n",
       "      <th>3</th>\n",
       "      <td>253</td>\n",
       "      <td>190</td>\n",
       "    </tr>\n",
       "    <tr>\n",
       "      <th>4</th>\n",
       "      <td>253</td>\n",
       "      <td>246</td>\n",
       "    </tr>\n",
       "    <tr>\n",
       "      <th>5</th>\n",
       "      <td>224</td>\n",
       "      <td>206</td>\n",
       "    </tr>\n",
       "    <tr>\n",
       "      <th>6</th>\n",
       "      <td>244</td>\n",
       "      <td>225</td>\n",
       "    </tr>\n",
       "    <tr>\n",
       "      <th>7</th>\n",
       "      <td>225</td>\n",
       "      <td>199</td>\n",
       "    </tr>\n",
       "    <tr>\n",
       "      <th>8</th>\n",
       "      <td>259</td>\n",
       "      <td>214</td>\n",
       "    </tr>\n",
       "    <tr>\n",
       "      <th>9</th>\n",
       "      <td>220</td>\n",
       "      <td>210</td>\n",
       "    </tr>\n",
       "    <tr>\n",
       "      <th>10</th>\n",
       "      <td>242</td>\n",
       "      <td>188</td>\n",
       "    </tr>\n",
       "    <tr>\n",
       "      <th>11</th>\n",
       "      <td>240</td>\n",
       "      <td>205</td>\n",
       "    </tr>\n",
       "    <tr>\n",
       "      <th>12</th>\n",
       "      <td>239</td>\n",
       "      <td>200</td>\n",
       "    </tr>\n",
       "    <tr>\n",
       "      <th>13</th>\n",
       "      <td>229</td>\n",
       "      <td>220</td>\n",
       "    </tr>\n",
       "    <tr>\n",
       "      <th>14</th>\n",
       "      <td>276</td>\n",
       "      <td>190</td>\n",
       "    </tr>\n",
       "    <tr>\n",
       "      <th>15</th>\n",
       "      <td>254</td>\n",
       "      <td>199</td>\n",
       "    </tr>\n",
       "    <tr>\n",
       "      <th>16</th>\n",
       "      <td>237</td>\n",
       "      <td>191</td>\n",
       "    </tr>\n",
       "    <tr>\n",
       "      <th>17</th>\n",
       "      <td>227</td>\n",
       "      <td>218</td>\n",
       "    </tr>\n",
       "  </tbody>\n",
       "</table>\n",
       "</div>"
      ],
      "text/plain": [
       "    antes_dieta  depois_dieta\n",
       "0           224           198\n",
       "1           235           195\n",
       "2           223           213\n",
       "3           253           190\n",
       "4           253           246\n",
       "5           224           206\n",
       "6           244           225\n",
       "7           225           199\n",
       "8           259           214\n",
       "9           220           210\n",
       "10          242           188\n",
       "11          240           205\n",
       "12          239           200\n",
       "13          229           220\n",
       "14          276           190\n",
       "15          254           199\n",
       "16          237           191\n",
       "17          227           218"
      ]
     },
     "execution_count": 39,
     "metadata": {},
     "output_type": "execute_result"
    }
   ],
   "source": [
    "import pandas as pd\n",
    "\n",
    "DADOS_COLESTEROL = f\"{PATH}dieta_colesterol.csv\"\n",
    "\n",
    "df_colesterol = pd.read_csv(DADOS_COLESTEROL)\n",
    "df_colesterol"
   ]
  },
  {
   "cell_type": "code",
   "execution_count": 40,
   "metadata": {},
   "outputs": [
    {
     "name": "stdout",
     "output_type": "stream",
     "text": [
      "<class 'pandas.core.frame.DataFrame'>\n",
      "RangeIndex: 18 entries, 0 to 17\n",
      "Data columns (total 2 columns):\n",
      " #   Column        Non-Null Count  Dtype\n",
      "---  ------        --------------  -----\n",
      " 0   antes_dieta   18 non-null     int64\n",
      " 1   depois_dieta  18 non-null     int64\n",
      "dtypes: int64(2)\n",
      "memory usage: 420.0 bytes\n"
     ]
    }
   ],
   "source": [
    "df_colesterol.info()"
   ]
  },
  {
   "cell_type": "code",
   "execution_count": 41,
   "metadata": {},
   "outputs": [
    {
     "data": {
      "text/html": [
       "<div>\n",
       "<style scoped>\n",
       "    .dataframe tbody tr th:only-of-type {\n",
       "        vertical-align: middle;\n",
       "    }\n",
       "\n",
       "    .dataframe tbody tr th {\n",
       "        vertical-align: top;\n",
       "    }\n",
       "\n",
       "    .dataframe thead th {\n",
       "        text-align: right;\n",
       "    }\n",
       "</style>\n",
       "<table border=\"1\" class=\"dataframe\">\n",
       "  <thead>\n",
       "    <tr style=\"text-align: right;\">\n",
       "      <th></th>\n",
       "      <th>antes_dieta</th>\n",
       "      <th>depois_dieta</th>\n",
       "    </tr>\n",
       "  </thead>\n",
       "  <tbody>\n",
       "    <tr>\n",
       "      <th>count</th>\n",
       "      <td>18.000000</td>\n",
       "      <td>18.000000</td>\n",
       "    </tr>\n",
       "    <tr>\n",
       "      <th>mean</th>\n",
       "      <td>239.111111</td>\n",
       "      <td>205.944444</td>\n",
       "    </tr>\n",
       "    <tr>\n",
       "      <th>std</th>\n",
       "      <td>15.238839</td>\n",
       "      <td>14.972415</td>\n",
       "    </tr>\n",
       "    <tr>\n",
       "      <th>min</th>\n",
       "      <td>220.000000</td>\n",
       "      <td>188.000000</td>\n",
       "    </tr>\n",
       "    <tr>\n",
       "      <th>25%</th>\n",
       "      <td>225.500000</td>\n",
       "      <td>195.750000</td>\n",
       "    </tr>\n",
       "    <tr>\n",
       "      <th>50%</th>\n",
       "      <td>238.000000</td>\n",
       "      <td>202.500000</td>\n",
       "    </tr>\n",
       "    <tr>\n",
       "      <th>75%</th>\n",
       "      <td>250.750000</td>\n",
       "      <td>213.750000</td>\n",
       "    </tr>\n",
       "    <tr>\n",
       "      <th>max</th>\n",
       "      <td>276.000000</td>\n",
       "      <td>246.000000</td>\n",
       "    </tr>\n",
       "  </tbody>\n",
       "</table>\n",
       "</div>"
      ],
      "text/plain": [
       "       antes_dieta  depois_dieta\n",
       "count    18.000000     18.000000\n",
       "mean    239.111111    205.944444\n",
       "std      15.238839     14.972415\n",
       "min     220.000000    188.000000\n",
       "25%     225.500000    195.750000\n",
       "50%     238.000000    202.500000\n",
       "75%     250.750000    213.750000\n",
       "max     276.000000    246.000000"
      ]
     },
     "execution_count": 41,
     "metadata": {},
     "output_type": "execute_result"
    }
   ],
   "source": [
    "df_colesterol.describe()"
   ]
  },
  {
   "cell_type": "code",
   "execution_count": 42,
   "metadata": {},
   "outputs": [
    {
     "data": {
      "text/plain": [
       "<Axes: ylabel='Count'>"
      ]
     },
     "execution_count": 42,
     "metadata": {},
     "output_type": "execute_result"
    },
    {
     "data": {
      "image/png": "[encoded data removed]",
      "text/plain": [
       "<Figure size 640x480 with 1 Axes>"
      ]
     },
     "metadata": {},
     "output_type": "display_data"
    }
   ],
   "source": [
    "sns.histplot(df_colesterol, kde=True)"
   ]
  },
  {
   "cell_type": "code",
   "execution_count": 43,
   "metadata": {},
   "outputs": [
    {
     "data": {
      "text/plain": [
       "<Axes: >"
      ]
     },
     "execution_count": 43,
     "metadata": {},
     "output_type": "execute_result"
    },
    {
     "data": {
      "image/png": "[encoded data removed]",
      "text/plain": [
       "<Figure size 640x480 with 1 Axes>"
      ]
     },
     "metadata": {},
     "output_type": "display_data"
    }
   ],
   "source": [
    "sns.boxplot(df_colesterol)"
   ]
  },
  {
   "cell_type": "code",
   "execution_count": 44,
   "metadata": {},
   "outputs": [
    {
     "name": "stdout",
     "output_type": "stream",
     "text": [
      "Teste de Shapiro-Wilk\n",
      "estatistica_sw=0.926\n",
      "antes_dieta segue uma distribuição normal (valor p: valor_p_sw=0.163)\n",
      "estatistica_sw=0.914\n",
      "depois_dieta segue uma distribuição normal (valor p: valor_p_sw=0.100)\n",
      "\n",
      "Teste de Levene\n",
      "estatistica_levene=0.019\n",
      "Variâncias iguais (valor p: valor_p_lv=0.892)\n"
     ]
    }
   ],
   "source": [
    "analises_shapiro_levene(df_colesterol)"
   ]
  },
  {
   "cell_type": "code",
   "execution_count": 46,
   "metadata": {},
   "outputs": [
    {
     "name": "stdout",
     "output_type": "stream",
     "text": [
      "estatistica_ttest=6.315\n",
      "Rejeita a hipótese nula (valor p: valor_p_ttest=0.000)\n"
     ]
    }
   ],
   "source": [
    "from meus_modulos.auxiliares import analise_ttest_rel\n",
    "\n",
    "analise_ttest_rel(df_colesterol, alternativa='greater')"
   ]
  },
  {
   "cell_type": "markdown",
   "metadata": {},
   "source": [
    "# Exercício 6"
   ]
  },
  {
   "cell_type": "markdown",
   "metadata": {},
   "source": [
    "\n",
    "Uma gestora de um fundo de investimentos queria investir em uma startup que fornece compressão de dados sem perda de qualidade, mas existem dois concorrentes: PiedPiper e EndFrame. Inicialmente, ela acreditava que o desempenho do EndFrame poderia ser melhor, mas ainda queria testá-lo antes do investimento. Em seguida, ela deu os mesmos arquivos para cada empresa comprimir e registrou suas pontuações de desempenho. Os dados estão abaixo.\n",
    "\n",
    "De acordo com essas informações, conduza o teste de hipótese relacionado usando um nível de significância de 0,05. Antes de fazer o teste de hipótese, verifique as suposições relacionadas. Comente sobre os resultados."
   ]
  },
  {
   "cell_type": "code",
   "execution_count": 47,
   "metadata": {
    "metadata": {}
   },
   "outputs": [
    {
     "data": {
      "text/html": [
       "<div>\n",
       "<style scoped>\n",
       "    .dataframe tbody tr th:only-of-type {\n",
       "        vertical-align: middle;\n",
       "    }\n",
       "\n",
       "    .dataframe tbody tr th {\n",
       "        vertical-align: top;\n",
       "    }\n",
       "\n",
       "    .dataframe thead th {\n",
       "        text-align: right;\n",
       "    }\n",
       "</style>\n",
       "<table border=\"1\" class=\"dataframe\">\n",
       "  <thead>\n",
       "    <tr style=\"text-align: right;\">\n",
       "      <th></th>\n",
       "      <th>piedpiper</th>\n",
       "      <th>endframe</th>\n",
       "    </tr>\n",
       "  </thead>\n",
       "  <tbody>\n",
       "    <tr>\n",
       "      <th>0</th>\n",
       "      <td>4.57</td>\n",
       "      <td>4.27</td>\n",
       "    </tr>\n",
       "    <tr>\n",
       "      <th>1</th>\n",
       "      <td>4.55</td>\n",
       "      <td>3.93</td>\n",
       "    </tr>\n",
       "    <tr>\n",
       "      <th>2</th>\n",
       "      <td>5.47</td>\n",
       "      <td>4.01</td>\n",
       "    </tr>\n",
       "    <tr>\n",
       "      <th>3</th>\n",
       "      <td>4.67</td>\n",
       "      <td>4.07</td>\n",
       "    </tr>\n",
       "    <tr>\n",
       "      <th>4</th>\n",
       "      <td>5.41</td>\n",
       "      <td>3.87</td>\n",
       "    </tr>\n",
       "    <tr>\n",
       "      <th>5</th>\n",
       "      <td>5.55</td>\n",
       "      <td>4.00</td>\n",
       "    </tr>\n",
       "    <tr>\n",
       "      <th>6</th>\n",
       "      <td>5.53</td>\n",
       "      <td>4.00</td>\n",
       "    </tr>\n",
       "    <tr>\n",
       "      <th>7</th>\n",
       "      <td>5.63</td>\n",
       "      <td>3.72</td>\n",
       "    </tr>\n",
       "    <tr>\n",
       "      <th>8</th>\n",
       "      <td>3.86</td>\n",
       "      <td>4.16</td>\n",
       "    </tr>\n",
       "    <tr>\n",
       "      <th>9</th>\n",
       "      <td>3.97</td>\n",
       "      <td>4.10</td>\n",
       "    </tr>\n",
       "    <tr>\n",
       "      <th>10</th>\n",
       "      <td>5.44</td>\n",
       "      <td>3.90</td>\n",
       "    </tr>\n",
       "    <tr>\n",
       "      <th>11</th>\n",
       "      <td>3.93</td>\n",
       "      <td>3.97</td>\n",
       "    </tr>\n",
       "    <tr>\n",
       "      <th>12</th>\n",
       "      <td>5.31</td>\n",
       "      <td>4.08</td>\n",
       "    </tr>\n",
       "    <tr>\n",
       "      <th>13</th>\n",
       "      <td>5.17</td>\n",
       "      <td>3.96</td>\n",
       "    </tr>\n",
       "    <tr>\n",
       "      <th>14</th>\n",
       "      <td>4.39</td>\n",
       "      <td>3.96</td>\n",
       "    </tr>\n",
       "    <tr>\n",
       "      <th>15</th>\n",
       "      <td>4.28</td>\n",
       "      <td>3.77</td>\n",
       "    </tr>\n",
       "    <tr>\n",
       "      <th>16</th>\n",
       "      <td>5.25</td>\n",
       "      <td>4.09</td>\n",
       "    </tr>\n",
       "  </tbody>\n",
       "</table>\n",
       "</div>"
      ],
      "text/plain": [
       "    piedpiper  endframe\n",
       "0        4.57      4.27\n",
       "1        4.55      3.93\n",
       "2        5.47      4.01\n",
       "3        4.67      4.07\n",
       "4        5.41      3.87\n",
       "5        5.55      4.00\n",
       "6        5.53      4.00\n",
       "7        5.63      3.72\n",
       "8        3.86      4.16\n",
       "9        3.97      4.10\n",
       "10       5.44      3.90\n",
       "11       3.93      3.97\n",
       "12       5.31      4.08\n",
       "13       5.17      3.96\n",
       "14       4.39      3.96\n",
       "15       4.28      3.77\n",
       "16       5.25      4.09"
      ]
     },
     "execution_count": 47,
     "metadata": {},
     "output_type": "execute_result"
    }
   ],
   "source": [
    "import pandas as pd\n",
    "\n",
    "DADOS_COMPRESSAO = f\"{PATH}tempos_compressao.csv\"\n",
    "\n",
    "df_tempos_compressao = pd.read_csv(DADOS_COMPRESSAO)\n",
    "df_tempos_compressao"
   ]
  },
  {
   "cell_type": "code",
   "execution_count": 48,
   "metadata": {},
   "outputs": [
    {
     "name": "stdout",
     "output_type": "stream",
     "text": [
      "<class 'pandas.core.frame.DataFrame'>\n",
      "RangeIndex: 17 entries, 0 to 16\n",
      "Data columns (total 2 columns):\n",
      " #   Column     Non-Null Count  Dtype  \n",
      "---  ------     --------------  -----  \n",
      " 0   piedpiper  17 non-null     float64\n",
      " 1   endframe   17 non-null     float64\n",
      "dtypes: float64(2)\n",
      "memory usage: 404.0 bytes\n"
     ]
    }
   ],
   "source": [
    "df_tempos_compressao.info()"
   ]
  },
  {
   "cell_type": "code",
   "execution_count": 49,
   "metadata": {},
   "outputs": [
    {
     "data": {
      "text/html": [
       "<div>\n",
       "<style scoped>\n",
       "    .dataframe tbody tr th:only-of-type {\n",
       "        vertical-align: middle;\n",
       "    }\n",
       "\n",
       "    .dataframe tbody tr th {\n",
       "        vertical-align: top;\n",
       "    }\n",
       "\n",
       "    .dataframe thead th {\n",
       "        text-align: right;\n",
       "    }\n",
       "</style>\n",
       "<table border=\"1\" class=\"dataframe\">\n",
       "  <thead>\n",
       "    <tr style=\"text-align: right;\">\n",
       "      <th></th>\n",
       "      <th>piedpiper</th>\n",
       "      <th>endframe</th>\n",
       "    </tr>\n",
       "  </thead>\n",
       "  <tbody>\n",
       "    <tr>\n",
       "      <th>count</th>\n",
       "      <td>17.000000</td>\n",
       "      <td>17.000000</td>\n",
       "    </tr>\n",
       "    <tr>\n",
       "      <th>mean</th>\n",
       "      <td>4.881176</td>\n",
       "      <td>3.991765</td>\n",
       "    </tr>\n",
       "    <tr>\n",
       "      <th>std</th>\n",
       "      <td>0.632583</td>\n",
       "      <td>0.135565</td>\n",
       "    </tr>\n",
       "    <tr>\n",
       "      <th>min</th>\n",
       "      <td>3.860000</td>\n",
       "      <td>3.720000</td>\n",
       "    </tr>\n",
       "    <tr>\n",
       "      <th>25%</th>\n",
       "      <td>4.390000</td>\n",
       "      <td>3.930000</td>\n",
       "    </tr>\n",
       "    <tr>\n",
       "      <th>50%</th>\n",
       "      <td>5.170000</td>\n",
       "      <td>4.000000</td>\n",
       "    </tr>\n",
       "    <tr>\n",
       "      <th>75%</th>\n",
       "      <td>5.440000</td>\n",
       "      <td>4.080000</td>\n",
       "    </tr>\n",
       "    <tr>\n",
       "      <th>max</th>\n",
       "      <td>5.630000</td>\n",
       "      <td>4.270000</td>\n",
       "    </tr>\n",
       "  </tbody>\n",
       "</table>\n",
       "</div>"
      ],
      "text/plain": [
       "       piedpiper   endframe\n",
       "count  17.000000  17.000000\n",
       "mean    4.881176   3.991765\n",
       "std     0.632583   0.135565\n",
       "min     3.860000   3.720000\n",
       "25%     4.390000   3.930000\n",
       "50%     5.170000   4.000000\n",
       "75%     5.440000   4.080000\n",
       "max     5.630000   4.270000"
      ]
     },
     "execution_count": 49,
     "metadata": {},
     "output_type": "execute_result"
    }
   ],
   "source": [
    "df_tempos_compressao.describe()"
   ]
  },
  {
   "cell_type": "code",
   "execution_count": 50,
   "metadata": {},
   "outputs": [
    {
     "data": {
      "text/plain": [
       "<Axes: ylabel='Count'>"
      ]
     },
     "execution_count": 50,
     "metadata": {},
     "output_type": "execute_result"
    },
    {
     "data": {
      "image/png": "[encoded data removed]",
      "text/plain": [
       "<Figure size 640x480 with 1 Axes>"
      ]
     },
     "metadata": {},
     "output_type": "display_data"
    }
   ],
   "source": [
    "sns.histplot(df_tempos_compressao, kde=True)"
   ]
  },
  {
   "cell_type": "code",
   "execution_count": 51,
   "metadata": {},
   "outputs": [
    {
     "data": {
      "text/plain": [
       "<Axes: >"
      ]
     },
     "execution_count": 51,
     "metadata": {},
     "output_type": "execute_result"
    },
    {
     "data": {
      "image/png": "[encoded data removed]",
      "text/plain": [
       "<Figure size 640x480 with 1 Axes>"
      ]
     },
     "metadata": {},
     "output_type": "display_data"
    }
   ],
   "source": [
    "sns.boxplot(df_tempos_compressao)"
   ]
  },
  {
   "cell_type": "code",
   "execution_count": 53,
   "metadata": {},
   "outputs": [
    {
     "name": "stdout",
     "output_type": "stream",
     "text": [
      "Teste de Shapiro-Wilk\n",
      "estatistica_sw=0.879\n",
      "piedpiper não segue uma distribuição normal (valor p: valor_p_sw=0.030)\n",
      "estatistica_sw=0.980\n",
      "endframe segue uma distribuição normal (valor p: valor_p_sw=0.959)\n",
      "\n",
      "Teste de Levene\n",
      "estatistica_levene=19.907\n",
      "Ao menos uma variância diferente (valor p: valor_p_lv=0.000)\n"
     ]
    }
   ],
   "source": [
    "analises_shapiro_levene(df_tempos_compressao, center='median')"
   ]
  },
  {
   "cell_type": "code",
   "execution_count": 54,
   "metadata": {},
   "outputs": [
    {
     "name": "stdout",
     "output_type": "stream",
     "text": [
      "Teste Wilcoxon\n",
      "estatistica_wil=147.000\n",
      "Rejeita a hipótese nula (valor p: valor_p_wil=0.000)\n"
     ]
    }
   ],
   "source": [
    "from meus_modulos.auxiliares import analise_wilcoxon\n",
    "\n",
    "analise_wilcoxon(df_tempos_compressao, alternativa='greater')"
   ]
  },
  {
   "cell_type": "markdown",
   "metadata": {},
   "source": [
    "# Exercício 7"
   ]
  },
  {
   "cell_type": "markdown",
   "metadata": {},
   "source": [
    "Uma pesquisadora estava curiosa para saber se há diferença entre a metodologia que ela desenvolveu para detectar a concentração de uma droga em amostras de sangue, C, e os métodos de linha de base A e B em termos de desempenho. Portanto, ela decidiu projetar diferentes experimentos e registrou a precisão alcançada por cada método. A tabela abaixo mostra a precisão alcançada nos conjuntos de teste por cada método. Observe que os mesmos conjuntos de treinamento e teste foram usados para cada método.\n",
    "\n",
    "De acordo com essas informações, conduza o teste de hipótese para verificar se há diferença entre o desempenho dos métodos usando um nível de significância de 0,05. Se houver diferença significativa, realize uma análise adicional para descobrir o que causou a diferença. Antes de fazer o teste de hipótese, verifique as suposições relacionadas. Comente sobre os resultados."
   ]
  },
  {
   "cell_type": "code",
   "execution_count": 55,
   "metadata": {
    "metadata": {}
   },
   "outputs": [
    {
     "data": {
      "text/html": [
       "<div>\n",
       "<style scoped>\n",
       "    .dataframe tbody tr th:only-of-type {\n",
       "        vertical-align: middle;\n",
       "    }\n",
       "\n",
       "    .dataframe tbody tr th {\n",
       "        vertical-align: top;\n",
       "    }\n",
       "\n",
       "    .dataframe thead th {\n",
       "        text-align: right;\n",
       "    }\n",
       "</style>\n",
       "<table border=\"1\" class=\"dataframe\">\n",
       "  <thead>\n",
       "    <tr style=\"text-align: right;\">\n",
       "      <th></th>\n",
       "      <th>metodo_A</th>\n",
       "      <th>metodo_B</th>\n",
       "      <th>metodo_C</th>\n",
       "    </tr>\n",
       "  </thead>\n",
       "  <tbody>\n",
       "    <tr>\n",
       "      <th>0</th>\n",
       "      <td>89.8</td>\n",
       "      <td>90.0</td>\n",
       "      <td>91.5</td>\n",
       "    </tr>\n",
       "    <tr>\n",
       "      <th>1</th>\n",
       "      <td>89.9</td>\n",
       "      <td>90.1</td>\n",
       "      <td>90.7</td>\n",
       "    </tr>\n",
       "    <tr>\n",
       "      <th>2</th>\n",
       "      <td>88.6</td>\n",
       "      <td>88.8</td>\n",
       "      <td>90.3</td>\n",
       "    </tr>\n",
       "    <tr>\n",
       "      <th>3</th>\n",
       "      <td>88.7</td>\n",
       "      <td>88.9</td>\n",
       "      <td>90.4</td>\n",
       "    </tr>\n",
       "    <tr>\n",
       "      <th>4</th>\n",
       "      <td>89.6</td>\n",
       "      <td>89.9</td>\n",
       "      <td>90.2</td>\n",
       "    </tr>\n",
       "    <tr>\n",
       "      <th>5</th>\n",
       "      <td>89.7</td>\n",
       "      <td>90.0</td>\n",
       "      <td>90.3</td>\n",
       "    </tr>\n",
       "    <tr>\n",
       "      <th>6</th>\n",
       "      <td>89.2</td>\n",
       "      <td>89.0</td>\n",
       "      <td>90.2</td>\n",
       "    </tr>\n",
       "    <tr>\n",
       "      <th>7</th>\n",
       "      <td>89.3</td>\n",
       "      <td>89.2</td>\n",
       "      <td>90.3</td>\n",
       "    </tr>\n",
       "  </tbody>\n",
       "</table>\n",
       "</div>"
      ],
      "text/plain": [
       "   metodo_A  metodo_B  metodo_C\n",
       "0      89.8      90.0      91.5\n",
       "1      89.9      90.1      90.7\n",
       "2      88.6      88.8      90.3\n",
       "3      88.7      88.9      90.4\n",
       "4      89.6      89.9      90.2\n",
       "5      89.7      90.0      90.3\n",
       "6      89.2      89.0      90.2\n",
       "7      89.3      89.2      90.3"
      ]
     },
     "execution_count": 55,
     "metadata": {},
     "output_type": "execute_result"
    }
   ],
   "source": [
    "import pandas as pd\n",
    "\n",
    "DADOS_METODOS = f\"{PATH}metodos_deteccao_sangue.csv\"\n",
    "\n",
    "df_metodos = pd.read_csv(DADOS_METODOS)\n",
    "df_metodos"
   ]
  },
  {
   "cell_type": "code",
   "execution_count": 56,
   "metadata": {},
   "outputs": [
    {
     "name": "stdout",
     "output_type": "stream",
     "text": [
      "<class 'pandas.core.frame.DataFrame'>\n",
      "RangeIndex: 8 entries, 0 to 7\n",
      "Data columns (total 3 columns):\n",
      " #   Column    Non-Null Count  Dtype  \n",
      "---  ------    --------------  -----  \n",
      " 0   metodo_A  8 non-null      float64\n",
      " 1   metodo_B  8 non-null      float64\n",
      " 2   metodo_C  8 non-null      float64\n",
      "dtypes: float64(3)\n",
      "memory usage: 324.0 bytes\n"
     ]
    }
   ],
   "source": [
    "df_metodos.info()"
   ]
  },
  {
   "cell_type": "code",
   "execution_count": 57,
   "metadata": {},
   "outputs": [
    {
     "data": {
      "text/html": [
       "<div>\n",
       "<style scoped>\n",
       "    .dataframe tbody tr th:only-of-type {\n",
       "        vertical-align: middle;\n",
       "    }\n",
       "\n",
       "    .dataframe tbody tr th {\n",
       "        vertical-align: top;\n",
       "    }\n",
       "\n",
       "    .dataframe thead th {\n",
       "        text-align: right;\n",
       "    }\n",
       "</style>\n",
       "<table border=\"1\" class=\"dataframe\">\n",
       "  <thead>\n",
       "    <tr style=\"text-align: right;\">\n",
       "      <th></th>\n",
       "      <th>metodo_A</th>\n",
       "      <th>metodo_B</th>\n",
       "      <th>metodo_C</th>\n",
       "    </tr>\n",
       "  </thead>\n",
       "  <tbody>\n",
       "    <tr>\n",
       "      <th>count</th>\n",
       "      <td>8.000000</td>\n",
       "      <td>8.000000</td>\n",
       "      <td>8.000000</td>\n",
       "    </tr>\n",
       "    <tr>\n",
       "      <th>mean</th>\n",
       "      <td>89.350000</td>\n",
       "      <td>89.487500</td>\n",
       "      <td>90.487500</td>\n",
       "    </tr>\n",
       "    <tr>\n",
       "      <th>std</th>\n",
       "      <td>0.492805</td>\n",
       "      <td>0.561726</td>\n",
       "      <td>0.438952</td>\n",
       "    </tr>\n",
       "    <tr>\n",
       "      <th>min</th>\n",
       "      <td>88.600000</td>\n",
       "      <td>88.800000</td>\n",
       "      <td>90.200000</td>\n",
       "    </tr>\n",
       "    <tr>\n",
       "      <th>25%</th>\n",
       "      <td>89.075000</td>\n",
       "      <td>88.975000</td>\n",
       "      <td>90.275000</td>\n",
       "    </tr>\n",
       "    <tr>\n",
       "      <th>50%</th>\n",
       "      <td>89.450000</td>\n",
       "      <td>89.550000</td>\n",
       "      <td>90.300000</td>\n",
       "    </tr>\n",
       "    <tr>\n",
       "      <th>75%</th>\n",
       "      <td>89.725000</td>\n",
       "      <td>90.000000</td>\n",
       "      <td>90.475000</td>\n",
       "    </tr>\n",
       "    <tr>\n",
       "      <th>max</th>\n",
       "      <td>89.900000</td>\n",
       "      <td>90.100000</td>\n",
       "      <td>91.500000</td>\n",
       "    </tr>\n",
       "  </tbody>\n",
       "</table>\n",
       "</div>"
      ],
      "text/plain": [
       "        metodo_A   metodo_B   metodo_C\n",
       "count   8.000000   8.000000   8.000000\n",
       "mean   89.350000  89.487500  90.487500\n",
       "std     0.492805   0.561726   0.438952\n",
       "min    88.600000  88.800000  90.200000\n",
       "25%    89.075000  88.975000  90.275000\n",
       "50%    89.450000  89.550000  90.300000\n",
       "75%    89.725000  90.000000  90.475000\n",
       "max    89.900000  90.100000  91.500000"
      ]
     },
     "execution_count": 57,
     "metadata": {},
     "output_type": "execute_result"
    }
   ],
   "source": [
    "df_metodos.describe()"
   ]
  },
  {
   "cell_type": "code",
   "execution_count": 58,
   "metadata": {},
   "outputs": [
    {
     "data": {
      "text/plain": [
       "<Axes: ylabel='Count'>"
      ]
     },
     "execution_count": 58,
     "metadata": {},
     "output_type": "execute_result"
    },
    {
     "data": {
      "image/png": "[encoded data removed]",
      "text/plain": [
       "<Figure size 640x480 with 1 Axes>"
      ]
     },
     "metadata": {},
     "output_type": "display_data"
    }
   ],
   "source": [
    "sns.histplot(df_metodos, kde=True)"
   ]
  },
  {
   "cell_type": "code",
   "execution_count": 59,
   "metadata": {},
   "outputs": [
    {
     "data": {
      "text/plain": [
       "<Axes: >"
      ]
     },
     "execution_count": 59,
     "metadata": {},
     "output_type": "execute_result"
    },
    {
     "data": {
      "image/png": "[encoded data removed]",
      "text/plain": [
       "<Figure size 640x480 with 1 Axes>"
      ]
     },
     "metadata": {},
     "output_type": "display_data"
    }
   ],
   "source": [
    "sns.boxplot(df_metodos)"
   ]
  },
  {
   "cell_type": "code",
   "execution_count": 61,
   "metadata": {},
   "outputs": [
    {
     "name": "stdout",
     "output_type": "stream",
     "text": [
      "Teste de Shapiro-Wilk\n",
      "estatistica_sw=0.903\n",
      "metodo_A segue uma distribuição normal (valor p: valor_p_sw=0.308)\n",
      "estatistica_sw=0.824\n",
      "metodo_B segue uma distribuição normal (valor p: valor_p_sw=0.052)\n",
      "estatistica_sw=0.686\n",
      "metodo_C não segue uma distribuição normal (valor p: valor_p_sw=0.002)\n",
      "\n",
      "Teste de Levene\n",
      "estatistica_levene=1.767\n",
      "Variâncias iguais (valor p: valor_p_lv=0.195)\n"
     ]
    }
   ],
   "source": [
    "analises_shapiro_levene(df_metodos, center='median')"
   ]
  },
  {
   "cell_type": "code",
   "execution_count": 62,
   "metadata": {},
   "outputs": [
    {
     "name": "stdout",
     "output_type": "stream",
     "text": [
      "Teste Friedman\n",
      "estatistica_friedman=13.000\n",
      "Rejeita a hipótese nula (valor p: valor_p_friedman=0.002)\n"
     ]
    }
   ],
   "source": [
    "from meus_modulos.auxiliares import analise_friedman\n",
    "\n",
    "analise_friedman(df_metodos)"
   ]
  },
  {
   "cell_type": "markdown",
   "metadata": {},
   "source": [
    "# Exercício 8"
   ]
  },
  {
   "cell_type": "markdown",
   "metadata": {},
   "source": [
    "Um analista de uma empresa de investimentos financeiros está curioso sobre a relação entre gênero e apetite por risco. Uma amostra aleatória foi retirada do banco de dados com 660 clientes. Os clientes da amostra foram classificados de acordo com seu gênero e seu apetite por risco. O resultado é dado na tabela a seguir.\n",
    "\n",
    "Gênero/Risco |\tMuito Baixo \t| Baixo |\tMédio | \tAlto | \tMuito Alto | \tTotal\n",
    "--- | --- | --- | --- | --- | --- | ---\n",
    "Feminino |  53 \t| 23 | 30 |\t36 |\t88 |\t230\n",
    "Masculino \t| 71 \t| 48 |\t51 \t| 57 \t| 203 \t| 430\n",
    "Total \t| 124 \t| 71 | \t81 |\t93 |\t291 |\t660\n",
    "\n",
    "Teste a hipótese de que o apetite por risco dos clientes nesta empresa é independente de seu gênero. Use **α = 0,01**.\n"
   ]
  },
  {
   "cell_type": "code",
   "execution_count": 63,
   "metadata": {
    "metadata": {}
   },
   "outputs": [
    {
     "data": {
      "text/html": [
       "<div>\n",
       "<style scoped>\n",
       "    .dataframe tbody tr th:only-of-type {\n",
       "        vertical-align: middle;\n",
       "    }\n",
       "\n",
       "    .dataframe tbody tr th {\n",
       "        vertical-align: top;\n",
       "    }\n",
       "\n",
       "    .dataframe thead th {\n",
       "        text-align: right;\n",
       "    }\n",
       "</style>\n",
       "<table border=\"1\" class=\"dataframe\">\n",
       "  <thead>\n",
       "    <tr style=\"text-align: right;\">\n",
       "      <th></th>\n",
       "      <th>muito_baixo</th>\n",
       "      <th>baixo</th>\n",
       "      <th>medio</th>\n",
       "      <th>alto</th>\n",
       "      <th>muito_alto</th>\n",
       "    </tr>\n",
       "  </thead>\n",
       "  <tbody>\n",
       "    <tr>\n",
       "      <th>feminino</th>\n",
       "      <td>53</td>\n",
       "      <td>23</td>\n",
       "      <td>30</td>\n",
       "      <td>36</td>\n",
       "      <td>88</td>\n",
       "    </tr>\n",
       "    <tr>\n",
       "      <th>masculino</th>\n",
       "      <td>71</td>\n",
       "      <td>48</td>\n",
       "      <td>51</td>\n",
       "      <td>57</td>\n",
       "      <td>203</td>\n",
       "    </tr>\n",
       "  </tbody>\n",
       "</table>\n",
       "</div>"
      ],
      "text/plain": [
       "           muito_baixo  baixo  medio  alto  muito_alto\n",
       "feminino            53     23     30    36          88\n",
       "masculino           71     48     51    57         203"
      ]
     },
     "execution_count": 63,
     "metadata": {},
     "output_type": "execute_result"
    }
   ],
   "source": [
    "import pandas as pd\n",
    "\n",
    "DADOS_GENEROS_RISCO = f\"{PATH}risco_genero.csv\"\n",
    "\n",
    "df_risco = pd.read_csv(DADOS_GENEROS_RISCO, index_col=0)\n",
    "df_risco"
   ]
  },
  {
   "cell_type": "code",
   "execution_count": 65,
   "metadata": {},
   "outputs": [
    {
     "data": {
      "text/plain": [
       "Chi2ContingencyResult(statistic=7.094218206100441, pvalue=0.13099220858734012, dof=4, expected_freq=array([[ 43.21212121,  24.74242424,  28.22727273,  32.40909091,\n",
       "        101.40909091],\n",
       "       [ 80.78787879,  46.25757576,  52.77272727,  60.59090909,\n",
       "        189.59090909]]))"
      ]
     },
     "execution_count": 65,
     "metadata": {},
     "output_type": "execute_result"
    }
   ],
   "source": [
    "from scipy.stats import chi2_contingency\n",
    "\n",
    "chi2_contingency(df_risco)"
   ]
  }
 ],
 "metadata": {
  "kernelspec": {
   "display_name": "Python 3",
   "language": "python",
   "name": "python3"
  },
  "language_info": {
   "codemirror_mode": {
    "name": "ipython",
    "version": 3
   },
   "file_extension": ".py",
   "mimetype": "text/x-python",
   "name": "python",
   "nbconvert_exporter": "python",
   "pygments_lexer": "ipython3",
   "version": "3.12.2"
  }
 },
 "nbformat": 4,
 "nbformat_minor": 4
}
