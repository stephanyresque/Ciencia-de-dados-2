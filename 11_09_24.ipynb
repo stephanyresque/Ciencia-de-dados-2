{
  "nbformat": 4,
  "nbformat_minor": 0,
  "metadata": {
    "colab": {
      "provenance": [],
      "authorship_tag": "ABX9TyNtCgR3jlVH2KM9fFkh37kl",
      "include_colab_link": true
    },
    "kernelspec": {
      "name": "python3",
      "display_name": "Python 3"
    },
    "language_info": {
      "name": "python"
    }
  },
  "cells": [
    {
      "cell_type": "markdown",
      "metadata": {
        "id": "view-in-github",
        "colab_type": "text"
      },
      "source": [
        "<a href=\"https://colab.research.google.com/github/stephanyresque/Ciencia-de-dados-2/blob/main/11_09_24.ipynb\" target=\"_parent\"><img src=\"https://colab.research.google.com/assets/colab-badge.svg\" alt=\"Open In Colab\"/></a>"
      ]
    },
    {
      "cell_type": "code",
      "source": [
        "#função enumerate() ->enumerar itens de uma sequência iterável\n",
        "#enumerate(iterável, start=0)"
      ],
      "metadata": {
        "id": "J0qHGl8s7Nom"
      },
      "execution_count": 1,
      "outputs": []
    },
    {
      "cell_type": "code",
      "source": [
        "tarefas = ['limpar', 'estudar', 'exercitar']\n",
        "\n",
        "for i in range(len(tarefas)):\n",
        "    print(i, tarefas[i])"
      ],
      "metadata": {
        "colab": {
          "base_uri": "https://localhost:8080/"
        },
        "id": "rR4D5Kys7ifn",
        "outputId": "98059f7b-f6f7-4543-8c64-fcb86982c30d"
      },
      "execution_count": 2,
      "outputs": [
        {
          "output_type": "stream",
          "name": "stdout",
          "text": [
            "0 limpar\n",
            "1 estudar\n",
            "2 exercitar\n"
          ]
        }
      ]
    },
    {
      "cell_type": "code",
      "source": [
        "for i, tarefa in enumerate(tarefas):\n",
        "  print(i, tarefa)"
      ],
      "metadata": {
        "colab": {
          "base_uri": "https://localhost:8080/"
        },
        "id": "KgW0hXZp7vLk",
        "outputId": "200f8d29-8228-4bfa-8b2c-5276d55c8098"
      },
      "execution_count": 4,
      "outputs": [
        {
          "output_type": "stream",
          "name": "stdout",
          "text": [
            "0 limpar\n",
            "1 estudar\n",
            "2 exercitar\n"
          ]
        }
      ]
    },
    {
      "cell_type": "code",
      "source": [
        "for i, tarefa in enumerate(tarefas, start=1):\n",
        "  print(i, tarefa)"
      ],
      "metadata": {
        "colab": {
          "base_uri": "https://localhost:8080/"
        },
        "id": "UI1OVsHW74WU",
        "outputId": "cf8f76f8-245d-457b-c780-209a687c30ce"
      },
      "execution_count": 5,
      "outputs": [
        {
          "output_type": "stream",
          "name": "stdout",
          "text": [
            "1 limpar\n",
            "2 estudar\n",
            "3 exercitar\n"
          ]
        }
      ]
    },
    {
      "cell_type": "code",
      "source": [
        "palavra = 'python'\n",
        "\n",
        "for i, letra in enumerate(palavra):\n",
        "  print(i, letra)"
      ],
      "metadata": {
        "colab": {
          "base_uri": "https://localhost:8080/"
        },
        "id": "bnwqsQYk78Ml",
        "outputId": "e3138083-95dc-4675-c982-dd5ad02dd28c"
      },
      "execution_count": 6,
      "outputs": [
        {
          "output_type": "stream",
          "name": "stdout",
          "text": [
            "0 p\n",
            "1 y\n",
            "2 t\n",
            "3 h\n",
            "4 o\n",
            "5 n\n"
          ]
        }
      ]
    },
    {
      "cell_type": "code",
      "source": [
        "list(enumerate(palavra))"
      ],
      "metadata": {
        "colab": {
          "base_uri": "https://localhost:8080/"
        },
        "id": "aHsFfInv8dDL",
        "outputId": "39480ee0-bf2f-44d7-c27b-6336dbbdaefe"
      },
      "execution_count": 7,
      "outputs": [
        {
          "output_type": "execute_result",
          "data": {
            "text/plain": [
              "[(0, 'p'), (1, 'y'), (2, 't'), (3, 'h'), (4, 'o'), (5, 'n')]"
            ]
          },
          "metadata": {},
          "execution_count": 7
        }
      ]
    },
    {
      "cell_type": "code",
      "source": [
        "for tupla in enumerate(palavra):\n",
        "  print(tupla)"
      ],
      "metadata": {
        "colab": {
          "base_uri": "https://localhost:8080/"
        },
        "id": "akkQnYWP8hLV",
        "outputId": "4ebd90bc-c621-4269-9407-dda406f01dfc"
      },
      "execution_count": 8,
      "outputs": [
        {
          "output_type": "stream",
          "name": "stdout",
          "text": [
            "(0, 'p')\n",
            "(1, 'y')\n",
            "(2, 't')\n",
            "(3, 'h')\n",
            "(4, 'o')\n",
            "(5, 'n')\n"
          ]
        }
      ]
    },
    {
      "cell_type": "code",
      "source": [
        "grid_largada = ['Alonso', 'Jp', 'Alckin', 'Hamilton']\n",
        "\n",
        "for posicao, piloto in enumerate(grid_largada, start=1):\n",
        "  print(f'{posicao}º lugar: {piloto}')"
      ],
      "metadata": {
        "colab": {
          "base_uri": "https://localhost:8080/"
        },
        "id": "RMc75sFM8NBN",
        "outputId": "97dd89b6-89a3-4240-cb6f-6c83bf80c31d"
      },
      "execution_count": 9,
      "outputs": [
        {
          "output_type": "stream",
          "name": "stdout",
          "text": [
            "1º lugar: Alonso\n",
            "2º lugar: Jp\n",
            "3º lugar: Alckin\n",
            "4º lugar: Hamilton\n"
          ]
        }
      ]
    },
    {
      "cell_type": "code",
      "source": [
        "#função zip() -> para combinar sequências de dados\n",
        "#zip(iterável1, iterável2, iterável3, ...)\n",
        "#retorna tuplas, e podemos \"zipar\" listas, tuplas...\n",
        "\n"
      ],
      "metadata": {
        "id": "QeDLWUp787Iu"
      },
      "execution_count": 10,
      "outputs": []
    },
    {
      "cell_type": "code",
      "source": [
        "nomes = ['Ana', 'Júlia', 'Stephany', 'Nathália']\n",
        "notas = [10, 5, 9, 10]\n",
        "\n",
        "for i in range(len(nomes)):\n",
        "  print(nomes[i], notas[i])"
      ],
      "metadata": {
        "colab": {
          "base_uri": "https://localhost:8080/"
        },
        "id": "Tll-cWoE9f5f",
        "outputId": "450b4fee-19f3-496d-e00f-894c435454f0"
      },
      "execution_count": 11,
      "outputs": [
        {
          "output_type": "stream",
          "name": "stdout",
          "text": [
            "Ana 10\n",
            "Júlia 5\n",
            "Stephany 9\n",
            "Nathália 10\n"
          ]
        }
      ]
    },
    {
      "cell_type": "code",
      "source": [
        "for nome, nota in zip(nomes,notas):\n",
        "  print(nome, nota)"
      ],
      "metadata": {
        "colab": {
          "base_uri": "https://localhost:8080/"
        },
        "id": "fLmY6fSM9v_r",
        "outputId": "ab7c9b86-03fb-481e-cec1-d591b3064070"
      },
      "execution_count": 12,
      "outputs": [
        {
          "output_type": "stream",
          "name": "stdout",
          "text": [
            "Ana 10\n",
            "Júlia 5\n",
            "Stephany 9\n",
            "Nathália 10\n"
          ]
        }
      ]
    },
    {
      "cell_type": "code",
      "source": [
        "zip(nomes,notas)"
      ],
      "metadata": {
        "colab": {
          "base_uri": "https://localhost:8080/"
        },
        "id": "VuSnOKhi96Vu",
        "outputId": "737bc5a4-27db-403d-a032-06a5c646bb8a"
      },
      "execution_count": 13,
      "outputs": [
        {
          "output_type": "execute_result",
          "data": {
            "text/plain": [
              "<zip at 0x7dcc37cd9740>"
            ]
          },
          "metadata": {},
          "execution_count": 13
        }
      ]
    },
    {
      "cell_type": "code",
      "source": [
        "vendas_diarias = [1000, 34556, 12314]\n",
        "\n",
        "dias = ['Segunda', 'Quarta', 'Sexta']"
      ],
      "metadata": {
        "id": "hsw_o-wl-Djc"
      },
      "execution_count": 14,
      "outputs": []
    },
    {
      "cell_type": "code",
      "source": [
        "for venda, dia in zip(vendas_diarias, dias):\n",
        "  print(f'{dia}: R${venda:.2f}')"
      ],
      "metadata": {
        "colab": {
          "base_uri": "https://localhost:8080/"
        },
        "id": "0npy2hv_-SSb",
        "outputId": "bb4117bc-0fa8-457d-b902-1c3ef0bfdde9"
      },
      "execution_count": 17,
      "outputs": [
        {
          "output_type": "stream",
          "name": "stdout",
          "text": [
            "Segunda: R$1000.00\n",
            "Quarta: R$34556.00\n",
            "Sexta: R$12314.00\n"
          ]
        }
      ]
    },
    {
      "cell_type": "code",
      "source": [
        "for tupla in zip(vendas_diarias, dias):\n",
        "  print(tupla)"
      ],
      "metadata": {
        "colab": {
          "base_uri": "https://localhost:8080/"
        },
        "id": "I-DbzIz_-n5E",
        "outputId": "99965aed-3659-4f2e-f82a-243f12c844ba"
      },
      "execution_count": 16,
      "outputs": [
        {
          "output_type": "stream",
          "name": "stdout",
          "text": [
            "(1000, 'Segunda')\n",
            "(34556, 'Quarta')\n",
            "(12314, 'Sexta')\n"
          ]
        }
      ]
    },
    {
      "cell_type": "code",
      "source": [
        "for venda, dia in zip(vendas_diarias, dias):\n",
        "  if venda > 3000:\n",
        "    print(f'{dia}: R${venda:.2f}')"
      ],
      "metadata": {
        "colab": {
          "base_uri": "https://localhost:8080/"
        },
        "id": "JafT3Jpw_PnN",
        "outputId": "fc06f4ec-def3-40bc-cdf1-47d6754f685a"
      },
      "execution_count": 18,
      "outputs": [
        {
          "output_type": "stream",
          "name": "stdout",
          "text": [
            "Quarta: R$34556.00\n",
            "Sexta: R$12314.00\n"
          ]
        }
      ]
    },
    {
      "cell_type": "code",
      "source": [
        "#comprehencions -> uma forma consisa de escrever loops\n",
        "#list comprehencions - criar novas listas\n",
        "#dictionary comprehencions - criar novos dicionários"
      ],
      "metadata": {
        "id": "5mg8kXOG_iQm"
      },
      "execution_count": 20,
      "outputs": []
    },
    {
      "cell_type": "code",
      "source": [
        "#[expressão for item in iterável if condição]\n",
        "\n",
        "vendas_diarias = [1000, 3455, 1231, 5000, 3500]\n",
        "\n",
        "bonificacao = 0.1\n",
        "\n",
        "bonus_diario = []\n",
        "\n",
        "for venda in vendas_diarias:\n",
        "  bonus_diario.append(venda * bonificacao)\n",
        "\n",
        "print(bonus_diario)"
      ],
      "metadata": {
        "colab": {
          "base_uri": "https://localhost:8080/"
        },
        "id": "UGL5p2-D_tU-",
        "outputId": "223634d3-f147-44ba-fe6d-eb8ad91daa9d"
      },
      "execution_count": 23,
      "outputs": [
        {
          "output_type": "stream",
          "name": "stdout",
          "text": [
            "[100.0, 345.5, 123.10000000000001, 500.0, 350.0]\n"
          ]
        }
      ]
    },
    {
      "cell_type": "code",
      "source": [
        "bonus_diario_comprehension = [venda * bonificacao for venda in vendas_diarias]\n",
        "bonus_diario_comprehension"
      ],
      "metadata": {
        "colab": {
          "base_uri": "https://localhost:8080/"
        },
        "id": "mdoHobbLAoBL",
        "outputId": "289db6f7-7f27-48f4-a5c0-56662fae004d"
      },
      "execution_count": 24,
      "outputs": [
        {
          "output_type": "execute_result",
          "data": {
            "text/plain": [
              "[100.0, 345.5, 123.10000000000001, 500.0, 350.0]"
            ]
          },
          "metadata": {},
          "execution_count": 24
        }
      ]
    },
    {
      "cell_type": "code",
      "source": [
        "bonus_diario_comprehension = [venda * bonificacao for venda in vendas_diarias if venda >= 3000]\n",
        "bonus_diario_comprehension"
      ],
      "metadata": {
        "colab": {
          "base_uri": "https://localhost:8080/"
        },
        "id": "t7gDjfUwA2Vg",
        "outputId": "61e58715-5f3e-40b0-9e07-434d65b679e9"
      },
      "execution_count": 25,
      "outputs": [
        {
          "output_type": "execute_result",
          "data": {
            "text/plain": [
              "[345.5, 500.0, 350.0]"
            ]
          },
          "metadata": {},
          "execution_count": 25
        }
      ]
    },
    {
      "cell_type": "code",
      "source": [
        "#{chave: valor for item in itrável if condição}\n",
        "\n",
        "vendas_por_produto = {\n",
        "    'iphone': 15,\n",
        "    'samsung': 12,\n",
        "    'motorola': 13,\n",
        "    'xiomi': 10,\n",
        "}\n",
        "\n",
        "precos = {\n",
        "    'iphone': 500,\n",
        "    'samsung': 400,\n",
        "    'motorola': 300,\n",
        "    'xiomi': 200,\n",
        "}"
      ],
      "metadata": {
        "id": "MUMllMjiBrCh"
      },
      "execution_count": 27,
      "outputs": []
    },
    {
      "cell_type": "code",
      "source": [
        "total_vendas = {}\n",
        "\n",
        "for produto in vendas_por_produto:\n",
        "  total_vendas[produto] = vendas_por_produto[produto] * precos[produto]\n",
        "\n",
        "total_vendas"
      ],
      "metadata": {
        "colab": {
          "base_uri": "https://localhost:8080/"
        },
        "id": "JaqGgYEcCU04",
        "outputId": "60c9bb6d-6108-4ad8-cb15-3eeb30030b68"
      },
      "execution_count": 28,
      "outputs": [
        {
          "output_type": "execute_result",
          "data": {
            "text/plain": [
              "{'iphone': 7500, 'samsung': 4800, 'motorola': 3900, 'xiomi': 2000}"
            ]
          },
          "metadata": {},
          "execution_count": 28
        }
      ]
    },
    {
      "cell_type": "code",
      "source": [
        "total_vendas = {\n",
        "    produto: vendas_por_produto[produto] * precos[produto] for produto in vendas_por_produto\n",
        "    }\n",
        "total_vendas"
      ],
      "metadata": {
        "colab": {
          "base_uri": "https://localhost:8080/"
        },
        "id": "JbmW_S1nDGVF",
        "outputId": "e6307c43-461b-4564-d55e-92fc73d12492"
      },
      "execution_count": 29,
      "outputs": [
        {
          "output_type": "execute_result",
          "data": {
            "text/plain": [
              "{'iphone': 7500, 'samsung': 4800, 'motorola': 3900, 'xiomi': 2000}"
            ]
          },
          "metadata": {},
          "execution_count": 29
        }
      ]
    },
    {
      "cell_type": "code",
      "source": [
        "meta = 3500\n",
        "total_vendas = {\n",
        "    produto: vendas_por_produto[produto] * precos[produto] for produto in vendas_por_produto if vendas_por_produto[produto] * precos[produto] > meta\n",
        "    }\n",
        "total_vendas"
      ],
      "metadata": {
        "colab": {
          "base_uri": "https://localhost:8080/"
        },
        "id": "IJLzx37WDluu",
        "outputId": "62f0d891-f9e6-41e8-cc07-f6cb37a55c64"
      },
      "execution_count": 31,
      "outputs": [
        {
          "output_type": "execute_result",
          "data": {
            "text/plain": [
              "{'iphone': 7500, 'samsung': 4800, 'motorola': 3900}"
            ]
          },
          "metadata": {},
          "execution_count": 31
        }
      ]
    }
  ]
}